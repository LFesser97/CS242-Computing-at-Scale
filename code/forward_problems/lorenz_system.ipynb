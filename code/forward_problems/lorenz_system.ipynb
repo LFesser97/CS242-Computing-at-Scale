{
 "cells": [
  {
   "cell_type": "code",
   "execution_count": 1,
   "id": "2c314520",
   "metadata": {
    "id": "2c314520"
   },
   "outputs": [],
   "source": [
    "import numpy as np\n",
    "import matplotlib.pyplot as plt\n",
    "import os\n",
    "import pickle\n",
    "import sys\n",
    "import time\n",
    "import torch\n",
    "\n",
    "from scipy.integrate import solve_ivp\n",
    "\n",
    "PROJECT_ROOT = os.path.abspath(\n",
    "    os.path.join(os.getcwd(), os.pardir)\n",
    ")\n",
    "sys.path.append(PROJECT_ROOT)\n",
    "\n",
    "import plot\n",
    "import sample_points\n",
    "from tcpinn import TcPINN\n",
    "\n",
    "np.random.seed(1)"
   ]
  },
  {
   "cell_type": "markdown",
   "id": "35979de5",
   "metadata": {},
   "source": [
    "## Overview\n",
    "\n",
    "This jupyter notebook implements the plain time-consistent physics-informed neural network (tcPINN) idea for the Lorenz system."
   ]
  },
  {
   "cell_type": "markdown",
   "id": "0a1809c5",
   "metadata": {
    "id": "0a1809c5"
   },
   "source": [
    "The system reads\n",
    "\n",
    "\\begin{align*}\n",
    "    \\frac{d}{dt} \\begin{pmatrix} x \\\\ y \\\\ z \\end{pmatrix} = \\begin{pmatrix} \n",
    "    \\sigma (y-x) \\\\ x(\\rho -z) - y \\\\ xy - \\beta z\\end{pmatrix}.\n",
    "\\end{align*}\n",
    "\n",
    "We set $\\sigma = 10, \\beta = \\frac{8}{3}$ and $\\rho = 28$, which is a choice of parameters known to exhibit chaotic behavior.\n",
    "\n",
    "We normalize the attractor of the ODE system by shifting $x, y, z$ by $c_x, c_y$ and $c_z$ respectively and scaling all three components by $\\lambda$. The normalized Lorenz system reads\n",
    "\n",
    "\\begin{align*}\n",
    "    \\frac{d}{dt} \\begin{pmatrix} x \\\\ y \\\\ z \\end{pmatrix} = \n",
    "    \\begin{pmatrix} \n",
    "    \\sigma \\big((y + \\frac{c_y}{\\lambda}) - (x + \\frac{c_x}{\\lambda})\\big) \\\\\n",
    "    \\lambda (x + \\frac{c_x}{\\lambda}) (\\frac{\\rho}{\\lambda} - (z + \\frac{c_z}{\\lambda})) - (y + \\frac{c_y}{\\lambda}) \\\\\n",
    "    \\lambda (x + \\frac{c_x}{\\lambda})(y + \\frac{c_y}{\\lambda}) - \\beta (z + \\frac{c_z}{\\lambda}) \n",
    "    \\end{pmatrix}.\n",
    "\\end{align*}"
   ]
  },
  {
   "cell_type": "code",
   "execution_count": 2,
   "id": "fba91416",
   "metadata": {},
   "outputs": [],
   "source": [
    "sigma = 10.\n",
    "beta = 8 / 3\n",
    "rho = 28.\n",
    "\n",
    "# Note: With this normalization, the attractor is centered around the origin\n",
    "shift_x = - 0.013895\n",
    "shift_y = - 0.013791\n",
    "shift_z = 23.584181\n",
    "\n",
    "scaling = 8.533635"
   ]
  },
  {
   "cell_type": "code",
   "execution_count": 3,
   "id": "300b459c",
   "metadata": {
    "id": "300b459c"
   },
   "outputs": [],
   "source": [
    "class LorenzSystem(TcPINN):\n",
    "    \"\"\"\n",
    "    A tcPINN implementation of the normalized Lorenz system.\n",
    "    \"\"\"\n",
    "    def __init__(\n",
    "        self, layers, T, X_pinn=None, X_semigroup=None, X_smooth=None, X_data=None, data=None,\n",
    "        w_pinn=1., w_semigroup=1., w_smooth=1., w_data=1.\n",
    "    ):\n",
    "        super().__init__(\n",
    "            layers, T, X_pinn, X_semigroup, X_smooth, X_data, data,\n",
    "            w_pinn, w_semigroup, w_smooth, w_data\n",
    "        )\n",
    "    \n",
    "    \n",
    "    def _loss_pinn(self):\n",
    "        \"\"\"\n",
    "        The PINN loss for the normalized Lorenz system.\n",
    "        \"\"\"\n",
    "        y = self.net_y(self.t_pinn, self.y_pinn)\n",
    "        deriv = self.net_derivative(self.t_pinn, self.y_pinn)\n",
    "        \n",
    "        loss1 = torch.mean(\n",
    "            (deriv[0] - sigma * ((y[:,1:2] + shift_y / scaling) - (y[:,0:1] + shift_x / scaling))) ** 2\n",
    "        )\n",
    "        loss2 = torch.mean(\n",
    "            (deriv[1] - scaling * (y[:,0:1] + shift_x / scaling) * (rho / scaling - (y[:,2:3] + shift_z / scaling)) + (y[:,1:2] + shift_y / scaling)) ** 2\n",
    "        )\n",
    "        loss3 = torch.mean(\n",
    "            (deriv[2] - scaling * (y[:,0:1] + shift_x / scaling) * (y[:,1:2] + shift_y / scaling) + beta * (y[:,2:3] + shift_z / scaling)) ** 2\n",
    "        )        \n",
    "        loss = self.w_pinn * (loss1 + loss2 + loss3)\n",
    "        \n",
    "        return loss"
   ]
  },
  {
   "cell_type": "markdown",
   "id": "68934f41",
   "metadata": {
    "id": "68934f41"
   },
   "source": [
    "### Setup Training Data"
   ]
  },
  {
   "cell_type": "code",
   "execution_count": 4,
   "id": "b5ae371e",
   "metadata": {
    "id": "b5ae371e"
   },
   "outputs": [],
   "source": [
    "ode_dimension = 3\n",
    "layers = [ode_dimension + 1] + 4 * [128] + [ode_dimension]\n",
    "T = .1\n",
    "\n",
    "# training samples\n",
    "n_pinn = 10\n",
    "t_pinn = np.random.uniform(0, T, (n_pinn, 1))\n",
    "y_pinn = np.random.uniform(-1, 1 , (n_pinn, ode_dimension))\n",
    "X_pinn = np.hstack([t_pinn, y_pinn])\n",
    "\n",
    "n_semigroup = 10\n",
    "st_semigroup = sample_points.uniform_triangle_2d(n_semigroup, T)\n",
    "y_semigroup = np.random.uniform(-1, 1 , (n_semigroup, ode_dimension))\n",
    "X_semigroup = np.hstack([st_semigroup, y_semigroup])\n",
    "\n",
    "n_smooth = 10\n",
    "t_smooth = np.random.uniform(0, T, (n_smooth, 1))\n",
    "y_smooth = np.random.uniform(-1, 1 , (n_smooth, ode_dimension))\n",
    "X_smooth = np.hstack([t_smooth, y_smooth])"
   ]
  },
  {
   "cell_type": "code",
   "execution_count": 5,
   "id": "e928c48b",
   "metadata": {},
   "outputs": [],
   "source": [
    "#ax = plot.plot_scatter_3d(y_pinn, s=1)\n",
    "#plt.show()"
   ]
  },
  {
   "cell_type": "code",
   "execution_count": 6,
   "id": "5e50f9b7",
   "metadata": {
    "id": "5e50f9b7"
   },
   "outputs": [],
   "source": [
    "model = LorenzSystem(layers, T, X_pinn=X_pinn, X_semigroup=X_semigroup, X_smooth=X_smooth)"
   ]
  },
  {
   "cell_type": "code",
   "execution_count": 7,
   "id": "eeb83529",
   "metadata": {
    "colab": {
     "base_uri": "https://localhost:8080/",
     "height": 1000
    },
    "id": "eeb83529",
    "outputId": "6f402ad4-ec52-4952-e62f-8047096de27f",
    "scrolled": false
   },
   "outputs": [
    {
     "name": "stdout",
     "output_type": "stream",
     "text": [
      "CPU times: user 26.3 s, sys: 45.8 ms, total: 26.3 s\n",
      "Wall time: 3.94 s\n"
     ]
    }
   ],
   "source": [
    "%%time\n",
    "model.train()"
   ]
  },
  {
   "cell_type": "code",
   "execution_count": 8,
   "id": "zaYQX3QDouAl",
   "metadata": {
    "id": "zaYQX3QDouAl"
   },
   "outputs": [],
   "source": [
    "path = os.getcwd()\n",
    "\n",
    "with open(f\"{path}/model_lorenz.pkl\", \"wb\") as handle:\n",
    "    pickle.dump(model, handle, protocol=pickle.HIGHEST_PROTOCOL)\n",
    "\n",
    "with open(f\"{path}/model_lorenz.pkl\", \"rb\") as f:\n",
    "    model = pickle.load(f)"
   ]
  },
  {
   "cell_type": "markdown",
   "id": "3dd52a59",
   "metadata": {
    "id": "3dd52a59"
   },
   "source": [
    "## Predict and Plot the Solution"
   ]
  },
  {
   "cell_type": "code",
   "execution_count": 9,
   "id": "94f19d7d",
   "metadata": {},
   "outputs": [],
   "source": [
    "def rhs_lorenz_system(t, r, shift_x, shift_y, shift_z, scaling):\n",
    "    \"\"\"\n",
    "    Rhs of the normalized Lorenz system\n",
    "    \"\"\"\n",
    "    x, y, z = r\n",
    "    \n",
    "    fx = sigma * ((y + shift_y / scaling) - (x + shift_x / scaling))\n",
    "    fy = scaling * (x + shift_x / scaling) * (rho / scaling - (z + shift_z / scaling)) - (y + shift_y / scaling)\n",
    "    fz = scaling * (x + shift_x / scaling) * (y + shift_y / scaling) - beta * (z + shift_z / scaling)\n",
    "    \n",
    "    return np.array([fx, fy, fz])\n",
    "\n",
    "\n",
    "def get_solution(max_t, delta_t, init_val):\n",
    "\n",
    "    times = np.linspace(0, max_t, int(max_t / delta_t) + 1)\n",
    "    sol = solve_ivp(\n",
    "        rhs_lorenz_system, [0, float(max_t)], init_val, t_eval=times,\n",
    "        rtol=1e-10, atol=1e-10, args=(shift_x, shift_y, shift_z, scaling)\n",
    "    )\n",
    "    return sol.y.T"
   ]
  },
  {
   "cell_type": "code",
   "execution_count": 10,
   "id": "f2f012bb",
   "metadata": {
    "id": "f2f012bb"
   },
   "outputs": [],
   "source": [
    "# Note that max_t in training is .1\n",
    "init_val = np.random.uniform(-1, 1 , 3)\n",
    "\n",
    "max_t = 10.\n",
    "delta_t = 0.01\n",
    "\n",
    "true_solution = get_solution(max_t, delta_t, init_val)\n",
    "tc_solution = model.predict_tc(max_t, delta_t, init_val)"
   ]
  },
  {
   "cell_type": "code",
   "execution_count": 12,
   "id": "21cf58fc",
   "metadata": {
    "colab": {
     "base_uri": "https://localhost:8080/",
     "height": 676
    },
    "id": "21cf58fc",
    "outputId": "4de0c3b8-7193-4346-acbf-097daf24e50c"
   },
   "outputs": [],
   "source": [
    "ax = plot.plot_solution_3d(true_solution, label=\"truth\")\n",
    "ax = plot.plot_solution_3d(tc_solution, ax=ax, label=\"tcPINN\")\n",
    "\n",
    "plt.legend()\n",
    "plt.show()\n",
    "plt.close()"
   ]
  }
 ],
 "metadata": {
  "colab": {
   "provenance": []
  },
  "kernelspec": {
   "display_name": "Python 3",
   "language": "python",
   "name": "python3"
  },
  "language_info": {
   "codemirror_mode": {
    "name": "ipython",
    "version": 3
   },
   "file_extension": ".py",
   "mimetype": "text/x-python",
   "name": "python",
   "nbconvert_exporter": "python",
   "pygments_lexer": "ipython3",
   "version": "3.9.5"
  }
 },
 "nbformat": 4,
 "nbformat_minor": 5
}
