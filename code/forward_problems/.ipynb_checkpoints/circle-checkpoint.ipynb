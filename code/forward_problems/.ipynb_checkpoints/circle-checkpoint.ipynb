{
 "cells": [
  {
   "cell_type": "code",
   "execution_count": 2,
   "id": "2c314520",
   "metadata": {},
   "outputs": [],
   "source": [
    "import numpy as np\n",
    "import matplotlib\n",
    "import matplotlib.pyplot as plt\n",
    "import os\n",
    "import pickle\n",
    "import sys\n",
    "import time\n",
    "import torch\n",
    "\n",
    "PROJECT_ROOT = os.path.abspath(\n",
    "    os.path.join(os.getcwd(), os.pardir)\n",
    ")\n",
    "sys.path.append(PROJECT_ROOT)\n",
    "\n",
    "import sample_points\n",
    "from tcpinn import TcPINN\n",
    "from plot import plot_solution\n",
    "\n",
    "np.random.seed(1)"
   ]
  },
  {
   "cell_type": "markdown",
   "id": "6cc3ced6",
   "metadata": {},
   "source": [
    "## Introduction\n",
    "\n",
    "This jupyter notebook provides an application of our time-consistent physics-informed neural network (tcPINN) framework for a simple ordinary differential equation (ODE) of size two. The code is structured as follows:\n",
    "\n",
    "1) An example of how to generate the training data points and train a tcPINN.\n",
    "\n",
    "2) A visualization of the predicted time-consistent ODE solution beyond the maximum time in the training dataset.\n",
    "\n",
    "3) An evaluation of the tcPINN measuring the average Euclidean distance of points on predicted trajectories to the (a priori known) true solutions."
   ]
  },
  {
   "cell_type": "markdown",
   "id": "dab6d595",
   "metadata": {},
   "source": [
    "We consider the linear ODE\n",
    "\n",
    "\\begin{align*}\n",
    "    \\frac{d}{dt} \\begin{pmatrix} y_1 \\\\ y_2 \\end{pmatrix}(t) = \\begin{pmatrix} -y_2 \\\\ y_1 \\end{pmatrix} (t).\n",
    "\\end{align*}\n",
    "\n",
    "For a given initial state $y_0 = (y_0^1, y_0^2) \\in \\mathbb{R}^2$, the solution $(y(t))_{t\\geq0}$ flows in counter clockwise circles and is given by\n",
    "\n",
    "\\begin{align*}\n",
    "    y(t) = \\begin{pmatrix} y_0^1 \\cos(t) - y_0^2 \\sin(t) \\\\ y_0^2 \\cos(t) + y_0^1 \\sin(t) \\end{pmatrix}.\n",
    "\\end{align*}"
   ]
  },
  {
   "cell_type": "code",
   "execution_count": 3,
   "id": "74e11fc3",
   "metadata": {},
   "outputs": [],
   "source": [
    "def solution_circle_ode(t, y0):\n",
    "    \n",
    "    y1t = y0[0] * np.cos(t) - y0[1] * np.sin(t)\n",
    "    y2t = y0[1] * np.cos(t) + y0[0] * np.sin(t)\n",
    "\n",
    "    return np.array([y1t, y2t])\n",
    "\n",
    "\n",
    "def get_solution(max_t, delta_t, y0):\n",
    "\n",
    "    times = np.linspace(0, max_t, int(max_t / delta_t) + 1)\n",
    "    y = np.array([\n",
    "        solution_circle_ode(t, y0) for t in times\n",
    "    ])\n",
    "    \n",
    "    return y"
   ]
  },
  {
   "cell_type": "code",
   "execution_count": 4,
   "id": "300b459c",
   "metadata": {},
   "outputs": [],
   "source": [
    "class CircleODE(TcPINN):\n",
    "    \"\"\"\n",
    "    A tcPINN implementation of the linear circle ODE.\n",
    "    \"\"\"\n",
    "    def __init__(\n",
    "        self, layers, T, X_pinn=None, X_semigroup=None, X_smooth=None, X_data=None, data=None,\n",
    "        w_pinn=1., w_semigroup=1., w_smooth=1., w_data=1.\n",
    "    ):\n",
    "        super().__init__(\n",
    "            layers, T, X_pinn, X_semigroup, X_smooth, X_data, data,\n",
    "            w_pinn, w_semigroup, w_smooth, w_data\n",
    "        )\n",
    "    \n",
    "    \n",
    "    def _loss_pinn(self):\n",
    "        \"\"\"\n",
    "        The ODE-specific standard PINN loss.\n",
    "        \"\"\"\n",
    "        y = self.net_y(self.t_pinn, self.y_pinn)\n",
    "        deriv = self.net_derivative(self.t_pinn, self.y_pinn)\n",
    "        \n",
    "        loss1 = torch.mean((deriv[0] + y[:, 1:2]) ** 2)\n",
    "        loss2 = torch.mean((deriv[1] - y[:, 0:1]) ** 2)\n",
    "        loss = self.w_pinn * (loss1 + loss2)\n",
    "        \n",
    "        return loss"
   ]
  },
  {
   "cell_type": "markdown",
   "id": "68934f41",
   "metadata": {},
   "source": [
    "### Training Example"
   ]
  },
  {
   "cell_type": "code",
   "execution_count": 5,
   "id": "b5ae371e",
   "metadata": {},
   "outputs": [],
   "source": [
    "layers = [3, 32, 32, 2]\n",
    "\n",
    "T = 1\n",
    "radius = 3\n",
    "\n",
    "# training samples\n",
    "n_pinn = 100\n",
    "t_pinn = np.random.uniform(0, T, size=(n_pinn, 1))\n",
    "y_pinn = sample_points.uniform_circle_2d(n_samples=n_pinn, radius=radius)\n",
    "X_pinn = np.hstack([t_pinn, y_pinn])\n",
    "\n",
    "n_semigroup = 100\n",
    "st_semigroup = sample_points.uniform_triangle_2d(n_samples=n_semigroup, side_length=T)\n",
    "y_semigroup = sample_points.uniform_circle_2d(n_samples=n_semigroup, radius=radius)\n",
    "X_semigroup = np.hstack([st_semigroup, y_semigroup])\n",
    "\n",
    "n_smooth = 100\n",
    "t_smooth = np.random.uniform(0, T, size=(n_smooth, 1))\n",
    "y_smooth = sample_points.uniform_circle_2d(n_samples=n_smooth, radius=radius)\n",
    "X_smooth = np.hstack([t_smooth, y_smooth])"
   ]
  },
  {
   "cell_type": "code",
   "execution_count": 6,
   "id": "5e50f9b7",
   "metadata": {},
   "outputs": [],
   "source": [
    "# don't use any data during training\n",
    "model = CircleODE(layers=layers, T=T, X_pinn=X_pinn, X_semigroup=X_semigroup, X_smooth=X_smooth)"
   ]
  },
  {
   "cell_type": "code",
   "execution_count": 7,
   "id": "eeb83529",
   "metadata": {
    "scrolled": true
   },
   "outputs": [
    {
     "name": "stdout",
     "output_type": "stream",
     "text": [
      "CPU times: user 11 s, sys: 13.4 ms, total: 11 s\n",
      "Wall time: 1.64 s\n"
     ]
    }
   ],
   "source": [
    "%%time\n",
    "model.train()"
   ]
  },
  {
   "cell_type": "code",
   "execution_count": null,
   "id": "97961f4f",
   "metadata": {},
   "outputs": [],
   "source": [
    "path = os.getcwd()\n",
    "\n",
    "with open(f\"{path}/model_circle.pkl\", \"wb\") as handle:\n",
    "    pickle.dump(model, handle, protocol=pickle.HIGHEST_PROTOCOL)\n",
    "\n",
    "with open(f\"{path}/model_circle.pkl\", \"rb\") as f:\n",
    "    model = pickle.load(f)"
   ]
  },
  {
   "cell_type": "markdown",
   "id": "3dd52a59",
   "metadata": {},
   "source": [
    "## Predict and Plot a Trajectory"
   ]
  },
  {
   "cell_type": "code",
   "execution_count": 8,
   "id": "f2f012bb",
   "metadata": {},
   "outputs": [],
   "source": [
    "# Note that max_t is equal to 1 during training\n",
    "y0 = sample_points.uniform_circle_2d(n_samples=1, radius=radius)[0]\n",
    "max_t = 50\n",
    "delta_t = 0.1\n",
    "times = np.linspace(0, max_t, int(max_t / delta_t) + 1)\n",
    "\n",
    "tc_solution = model.predict_tc(max_t, delta_t, y0)\n",
    "true_solution = get_solution(max_t, delta_t, y0)"
   ]
  },
  {
   "cell_type": "code",
   "execution_count": 12,
   "id": "21cf58fc",
   "metadata": {},
   "outputs": [],
   "source": [
    "ax = plot_solution(\n",
    "    times, true_solution,\n",
    "    component_kwargs=[{'color': \"black\", 'label': \"True\"}, {'color': \"black\"}]\n",
    ")\n",
    "ax = plot_solution(\n",
    "    times, tc_solution, ax=ax,\n",
    "    component_kwargs=[\n",
    "        {'color': \"orange\", 'linestyle': \"dashed\", 'label': \"tcPINN\"},\n",
    "        {'color': \"orange\", 'linestyle': \"dashed\"}\n",
    "    ]\n",
    ")\n",
    "\n",
    "plt.legend()\n",
    "plt.show()"
   ]
  },
  {
   "cell_type": "markdown",
   "id": "c45781df",
   "metadata": {},
   "source": [
    "## Evaluate the tcPINN"
   ]
  },
  {
   "cell_type": "code",
   "execution_count": 83,
   "id": "5eaa9f2a",
   "metadata": {},
   "outputs": [],
   "source": [
    "def evaluate(model, n_evaluate, max_t, delta_t, radius):\n",
    "    \n",
    "    times = np.linspace(0, max_t, int(max_t / delta_t) + 1)\n",
    "    errors_standard = np.empty((n_evaluate, len(times)), dtype=float)\n",
    "    errors_tc = np.empty((n_evaluate, len(times)), dtype=float)\n",
    "    y0s = sample_points.uniform_circle_2d(n_evaluate, radius)\n",
    "        \n",
    "    for i, y0 in enumerate(y0s):\n",
    "        \n",
    "        true_solution = get_solution(max_t, delta_t, y0)\n",
    "        standard_solution = model.predict_standard(max_t, delta_t, y0)\n",
    "        tc_solution = model.predict_tc(max_t, delta_t, y0)\n",
    "        errors_standard[i] = np.sqrt(np.sum((standard_solution - true_solution) ** 2, axis=1))\n",
    "        errors_tc[i] = np.sqrt(np.sum((tc_solution - true_solution) ** 2, axis=1))\n",
    "    \n",
    "    return errors_standard, errors_tc"
   ]
  },
  {
   "cell_type": "code",
   "execution_count": 89,
   "id": "4c102e0a",
   "metadata": {},
   "outputs": [],
   "source": [
    "n_evaluate = 100\n",
    "max_t = 3.\n",
    "delta_t = 0.1\n",
    "times = np.linspace(0, max_t, int(max_t / delta_t) + 1)\n",
    "\n",
    "errors_standard, errors_tc = evaluate(model, n_evaluate, max_t, delta_t, radius)"
   ]
  },
  {
   "cell_type": "code",
   "execution_count": 90,
   "id": "6344d907",
   "metadata": {},
   "outputs": [
    {
     "data": {
      "image/png": "[encoded data removed]",
      "text/plain": [
       "<Figure size 600x600 with 1 Axes>"
      ]
     },
     "metadata": {},
     "output_type": "display_data"
    }
   ],
   "source": [
    "fig, ax = plt.subplots(figsize=(6,6))\n",
    "ax.spines[['top', 'right']].set_visible(False)\n",
    "\n",
    "ax.errorbar(\n",
    "    times, np.mean(errors_standard, axis=0), np.std(errors_standard, axis=0),\n",
    "    marker=\".\", label=\"standard\", color=\"#03468F\"\n",
    ")\n",
    "ax.errorbar(\n",
    "    times, np.mean(errors_tc, axis=0), np.std(errors_tc, axis=0),\n",
    "    marker=\".\", label=\"tcPINN\", color=\"#A51C30\"\n",
    ")\n",
    "ax.set(xlabel=\"time\", ylabel=\"mean error\", title=\"Error over time\")\n",
    "\n",
    "plt.legend()\n",
    "plt.show()"
   ]
  }
 ],
 "metadata": {
  "kernelspec": {
   "display_name": "Python 3",
   "language": "python",
   "name": "python3"
  },
  "language_info": {
   "codemirror_mode": {
    "name": "ipython",
    "version": 3
   },
   "file_extension": ".py",
   "mimetype": "text/x-python",
   "name": "python",
   "nbconvert_exporter": "python",
   "pygments_lexer": "ipython3",
   "version": "3.9.5"
  }
 },
 "nbformat": 4,
 "nbformat_minor": 5
}
