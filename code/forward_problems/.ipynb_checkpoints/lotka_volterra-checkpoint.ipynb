{
 "cells": [
  {
   "cell_type": "code",
   "execution_count": 1,
   "id": "2c314520",
   "metadata": {
    "id": "2c314520"
   },
   "outputs": [],
   "source": [
    "import numpy as np\n",
    "import matplotlib.pyplot as plt\n",
    "import os\n",
    "import pickle\n",
    "import sys\n",
    "import time\n",
    "import torch\n",
    "\n",
    "from scipy.integrate import solve_ivp\n",
    "\n",
    "PROJECT_ROOT = os.path.abspath(\n",
    "    os.path.join(os.getcwd(), os.pardir)\n",
    ")\n",
    "sys.path.append(PROJECT_ROOT)\n",
    "\n",
    "import sample_points\n",
    "from tcpinn import TcPINN\n",
    "from plot import plot_solution\n",
    "\n",
    "np.random.seed(1)"
   ]
  },
  {
   "cell_type": "markdown",
   "id": "dab6d595",
   "metadata": {
    "id": "dab6d595"
   },
   "source": [
    "In this example, we solve a Lotka-Volterra Equation of the general form\n",
    "\n",
    "\\begin{align*}\n",
    "    \\frac{dr}{dt} = \\alpha r - \\beta rp \\\\\n",
    "    \\frac{dp}{dt} = \\delta rp - \\gamma p\n",
    "\\end{align*}\n",
    "\n",
    "where $r$ is the number of prey, $p$ is the number of some predator, and $\\alpha, \\beta, \\gamma, \\delta > 0$ describe the interactions of the two species."
   ]
  },
  {
   "cell_type": "code",
   "execution_count": 2,
   "id": "16c5e3d4",
   "metadata": {},
   "outputs": [],
   "source": [
    "alpha = 1.\n",
    "beta = 1.\n",
    "gamma = 1.\n",
    "delta = 1."
   ]
  },
  {
   "cell_type": "code",
   "execution_count": 3,
   "id": "300b459c",
   "metadata": {
    "id": "300b459c"
   },
   "outputs": [],
   "source": [
    "class LotkaVolterra(TcPINN):\n",
    "    \"\"\"\n",
    "    A tcPINN implementation of the Lotka-Volterra equations.\n",
    "    \"\"\"\n",
    "    def __init__(\n",
    "        self, layers, T, X_pinn=None, X_semigroup=None, X_smooth=None, X_data=None, data=None,\n",
    "        w_pinn=1., w_semigroup=1., w_smooth=1., w_data=1.\n",
    "    ):\n",
    "        super().__init__(\n",
    "            layers, T, X_pinn, X_semigroup, X_smooth, X_data, data,\n",
    "            w_pinn, w_semigroup, w_smooth, w_data\n",
    "        )\n",
    "\n",
    "    \n",
    "    def _loss_pinn(self):\n",
    "        \"\"\"\n",
    "        Lotka-Volterra equations:\n",
    "            dr/dt = alpha * r - beta * r * p\n",
    "            dp/dt = delta * r * p - gamma * p\n",
    "        \"\"\"\n",
    "        y = self.net_y(self.t_pinn, self.y_pinn)\n",
    "        deriv = self.net_derivative(self.t_pinn, self.y_pinn)\n",
    "\n",
    "        loss1 = torch.mean(\n",
    "            (deriv[0] - alpha * y[:, 0:1] + beta * y[:, 0:1] * y[:, 1:2]) ** 2\n",
    "        )\n",
    "        loss2 = torch.mean(\n",
    "            (deriv[1] - delta * y[:, 0:1] * y[:, 1:2] + gamma * y[:, 1:2]) ** 2\n",
    "        )\n",
    "        loss = self.w_pinn * (loss1 + loss2)\n",
    "\n",
    "        return loss"
   ]
  },
  {
   "cell_type": "markdown",
   "id": "68934f41",
   "metadata": {
    "id": "68934f41"
   },
   "source": [
    "### Setup data example"
   ]
  },
  {
   "cell_type": "code",
   "execution_count": 4,
   "id": "b5ae371e",
   "metadata": {
    "id": "b5ae371e"
   },
   "outputs": [],
   "source": [
    "ode_dimension = 2\n",
    "layers = [ode_dimension + 1] + 6 * [64] + [ode_dimension]\n",
    "\n",
    "T = 1\n",
    "max_y0 = 5\n",
    "\n",
    "# training samples\n",
    "n_pinn = 10\n",
    "t_pinn = np.random.uniform(0, T, (n_pinn, 1))\n",
    "y_pinn = np.random.uniform(0, max_y0, (n_pinn, ode_dimension))\n",
    "X_pinn = np.hstack([t_pinn, y_pinn])\n",
    "\n",
    "n_semigroup = 10\n",
    "st_semigroup = sample_points.uniform_triangle_2d(n_semigroup, T)\n",
    "y_semigroup = np.random.uniform(0, max_y0, (n_semigroup, ode_dimension))\n",
    "X_semigroup = np.hstack([st_semigroup, y_semigroup])\n",
    "\n",
    "n_smooth = 10\n",
    "t_smooth = np.random.uniform(0, T, (n_smooth, 1))\n",
    "y_smooth = np.random.uniform(0, max_y0, (n_smooth, ode_dimension))\n",
    "X_smooth = np.hstack([t_smooth, y_smooth])"
   ]
  },
  {
   "cell_type": "code",
   "execution_count": 5,
   "id": "5e50f9b7",
   "metadata": {
    "id": "5e50f9b7"
   },
   "outputs": [],
   "source": [
    "model = LotkaVolterra(layers, T, X_pinn=X_pinn, X_semigroup=X_semigroup, X_smooth=X_smooth)"
   ]
  },
  {
   "cell_type": "code",
   "execution_count": 6,
   "id": "eeb83529",
   "metadata": {
    "id": "eeb83529",
    "outputId": "fdf521bc-245f-4d27-dd55-e6211b5557b3",
    "scrolled": false
   },
   "outputs": [
    {
     "name": "stdout",
     "output_type": "stream",
     "text": [
      "CPU times: user 1.54 s, sys: 1.23 ms, total: 1.54 s\n",
      "Wall time: 234 ms\n"
     ]
    }
   ],
   "source": [
    "%%time               \n",
    "model.train()"
   ]
  },
  {
   "cell_type": "code",
   "execution_count": 7,
   "id": "e8c15b1a",
   "metadata": {},
   "outputs": [],
   "source": [
    "path = os.getcwd()\n",
    "\n",
    "with open(f\"{path}/model_lotka_volterra.pkl\", \"wb\") as handle:\n",
    "    pickle.dump(model, handle, protocol=pickle.HIGHEST_PROTOCOL)\n",
    "\n",
    "with open(f\"{path}/model_lotka_volterra.pkl\", \"rb\") as f:\n",
    "    model = pickle.load(f)"
   ]
  },
  {
   "cell_type": "markdown",
   "id": "3dd52a59",
   "metadata": {
    "id": "3dd52a59"
   },
   "source": [
    "## Predict and Plot the Solution"
   ]
  },
  {
   "cell_type": "code",
   "execution_count": 9,
   "id": "74e11fc3",
   "metadata": {
    "id": "74e11fc3"
   },
   "outputs": [],
   "source": [
    "def rhs_lotka_volterra(t, y, alpha, beta, gamma, delta):\n",
    "    \n",
    "    r, p = y\n",
    "    dr_t = alpha * r - beta * r * p\n",
    "    dp_t = delta * r * p - gamma * p\n",
    "    \n",
    "    return dr_t, dp_t\n",
    "\n",
    "\n",
    "def get_solution(max_t, delta_t, y0):\n",
    "    \n",
    "    times = np.linspace(0, max_t, int(max_t / delta_t) + 1)\n",
    "    sol = solve_ivp(\n",
    "        rhs_lotka_volterra, [0, float(max_t)], y0, t_eval=times,\n",
    "        rtol=1e-10, atol=1e-10, args=(alpha, beta, gamma, delta)\n",
    "    )\n",
    "    return sol.y.T"
   ]
  },
  {
   "cell_type": "code",
   "execution_count": 13,
   "id": "21cf58fc",
   "metadata": {
    "colab": {
     "base_uri": "https://localhost:8080/",
     "height": 264
    },
    "id": "21cf58fc",
    "outputId": "936ad7fd-6584-4c92-a85e-e4f057e1ca22"
   },
   "outputs": [],
   "source": [
    "y0 = np.array([0.15, 1])\n",
    "max_t = 40\n",
    "delta_t = 0.05\n",
    "times = np.linspace(0, max_t, int(max_t / delta_t) + 1)\n",
    "\n",
    "true_solution = get_solution(max_t, delta_t, y0)\n",
    "tc_solution = model.predict_tc(max_t, delta_t, y0)\n",
    "\n",
    "ax = plot_solution(\n",
    "    times, true_solution, \n",
    "    component_kwargs=[{'color': \"black\", 'label': \"truth\"}, {'color': \"black\"}]\n",
    ")\n",
    "ax = plot_solution(\n",
    "    times, tc_solution, ax=ax,\n",
    "    component_kwargs=[{'color': \"blue\", 'label': \"tcPINN\"}, {'color': \"blue\"}]\n",
    ")\n",
    "plt.legend()\n",
    "plt.show()\n",
    "plt.close()"
   ]
  }
 ],
 "metadata": {
  "colab": {
   "provenance": []
  },
  "kernelspec": {
   "display_name": "Python 3",
   "language": "python",
   "name": "python3"
  },
  "language_info": {
   "codemirror_mode": {
    "name": "ipython",
    "version": 3
   },
   "file_extension": ".py",
   "mimetype": "text/x-python",
   "name": "python",
   "nbconvert_exporter": "python",
   "pygments_lexer": "ipython3",
   "version": "3.9.5"
  },
  "vscode": {
   "interpreter": {
    "hash": "5beae9835b3277c3a4a8c87413b972e297eaccb765a3f62b691c35696bfb6223"
   }
  }
 },
 "nbformat": 4,
 "nbformat_minor": 5
}
