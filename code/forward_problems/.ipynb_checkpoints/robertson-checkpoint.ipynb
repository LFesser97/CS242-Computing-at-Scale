{
 "cells": [
  {
   "cell_type": "code",
   "execution_count": 1,
   "id": "2c314520",
   "metadata": {
    "executionInfo": {
     "elapsed": 2554,
     "status": "ok",
     "timestamp": 1682557952853,
     "user": {
      "displayName": "Benedikt Geiger",
      "userId": "17925887631246406508"
     },
     "user_tz": 240
    },
    "id": "2c314520"
   },
   "outputs": [],
   "source": [
    "import numpy as np\n",
    "import matplotlib\n",
    "import matplotlib.pyplot as plt\n",
    "import os\n",
    "import pickle\n",
    "import sys\n",
    "import time\n",
    "import torch\n",
    "\n",
    "from scipy.integrate import solve_ivp\n",
    "\n",
    "PROJECT_ROOT = os.path.abspath(\n",
    "    os.path.join(os.getcwd(), os.pardir)\n",
    ")\n",
    "sys.path.append(PROJECT_ROOT)\n",
    "\n",
    "import sample_points\n",
    "from tcpinn import TcPINN\n",
    "from plot import plot_solution\n",
    "\n",
    "np.random.seed(1)"
   ]
  },
  {
   "cell_type": "code",
   "execution_count": 2,
   "id": "n1HJj5xanZHa",
   "metadata": {
    "executionInfo": {
     "elapsed": 17,
     "status": "ok",
     "timestamp": 1682557952854,
     "user": {
      "displayName": "Benedikt Geiger",
      "userId": "17925887631246406508"
     },
     "user_tz": 240
    },
    "id": "n1HJj5xanZHa"
   },
   "outputs": [],
   "source": [
    "k1 = 0.04\n",
    "k2 = 3 * 10**7\n",
    "k3 = 10**4\n",
    "\n",
    "# Solve Robertson equation under the QSSA assumption\n",
    "def y_qssa(x, z):\n",
    "\n",
    "    nominator = - k3 * z + (k3**2 * z**2 + 4 * k1 * k2 * x)**(0.5)\n",
    "    denominator = 2 * k2\n",
    "    y = nominator / denominator\n",
    "\n",
    "    return y"
   ]
  },
  {
   "cell_type": "code",
   "execution_count": 3,
   "id": "300b459c",
   "metadata": {
    "executionInfo": {
     "elapsed": 13,
     "status": "ok",
     "timestamp": 1682557952858,
     "user": {
      "displayName": "Benedikt Geiger",
      "userId": "17925887631246406508"
     },
     "user_tz": 240
    },
    "id": "300b459c"
   },
   "outputs": [],
   "source": [
    "class Robertson(TcPINN):\n",
    "    \"\"\"\n",
    "    A tcPINN implementation of the Robertson equation\n",
    "    under a quasi stead-state assumption (QSSA).\n",
    "    \"\"\"\n",
    "    def __init__(\n",
    "        self, layers, T, X_pinn=None, X_semigroup=None, X_smooth=None, X_data=None, data=None,\n",
    "        w_pinn=1., w_semigroup=1., w_smooth=1., w_data=1.\n",
    "    ):\n",
    "        super().__init__(\n",
    "            layers, T, X_pinn, X_semigroup, X_smooth, X_data, data,\n",
    "            w_pinn, w_semigroup, w_smooth, w_data\n",
    "        )\n",
    "    \n",
    "    \n",
    "    def _loss_pinn(self):\n",
    "        \"\"\"\n",
    "        Reduced chemical reaction of Robertson:\n",
    "            dx/dt = - k1 * x + k3 * y * z\n",
    "            dz/dt = k2 * y**2\n",
    "        \"\"\"\n",
    "        y = self.net_y(self.t_pinn, self.y_pinn)\n",
    "        y_q = y_qssa(y[:, 0:1], y[:, 1:2])\n",
    "        deriv = self.net_derivative(self.t_pinn, self.y_pinn)\n",
    "\n",
    "        loss1 = torch.mean((deriv[0] + k1 * y[:,0:1] - k3 * y_q * y[:,1:2]) ** 2)\n",
    "        loss2 = torch.mean((deriv[1] - k2 * y_q**2) ** 2)\n",
    "        loss = self.w_pinn * (loss1 + loss2)\n",
    "\n",
    "        return loss"
   ]
  },
  {
   "cell_type": "markdown",
   "id": "68934f41",
   "metadata": {
    "id": "68934f41"
   },
   "source": [
    "### Setup Training Data"
   ]
  },
  {
   "cell_type": "code",
   "execution_count": 4,
   "id": "b5ae371e",
   "metadata": {
    "executionInfo": {
     "elapsed": 4,
     "status": "ok",
     "timestamp": 1682557967509,
     "user": {
      "displayName": "Benedikt Geiger",
      "userId": "17925887631246406508"
     },
     "user_tz": 240
    },
    "id": "b5ae371e"
   },
   "outputs": [],
   "source": [
    "layers = [3] + 2 * [128] + [2]\n",
    "T = 5\n",
    "max_y0 = 1\n",
    "min_y0 = 0.1\n",
    "\n",
    "# training samples\n",
    "n_pinn = 10\n",
    "t_pinn = np.random.uniform(0, T, (n_pinn, 1))\n",
    "y_pinn = np.random.uniform(min_y0, max_y0, (n_pinn, 2))\n",
    "X_pinn = np.hstack([t_pinn, y_pinn])\n",
    "\n",
    "n_semigroup = 10\n",
    "st_semigroup = sample_points.uniform_triangle_2d(n_semigroup, T)\n",
    "y_semigroup = np.random.uniform(min_y0, max_y0, (n_semigroup, 2))\n",
    "X_semigroup = np.hstack([st_semigroup, y_semigroup])\n",
    "\n",
    "n_smooth = 10\n",
    "t_smooth = np.random.uniform(0, T, (n_smooth, 1))\n",
    "y_smooth = np.random.uniform(min_y0, max_y0, (n_smooth, 2))\n",
    "X_smooth = np.hstack([t_smooth, y_smooth])"
   ]
  },
  {
   "cell_type": "code",
   "execution_count": 5,
   "id": "5e50f9b7",
   "metadata": {
    "executionInfo": {
     "elapsed": 3,
     "status": "ok",
     "timestamp": 1682557968275,
     "user": {
      "displayName": "Benedikt Geiger",
      "userId": "17925887631246406508"
     },
     "user_tz": 240
    },
    "id": "5e50f9b7"
   },
   "outputs": [],
   "source": [
    "model = Robertson(layers, T, X_pinn=X_pinn, X_semigroup=X_semigroup, X_smooth=X_smooth)"
   ]
  },
  {
   "cell_type": "code",
   "execution_count": 6,
   "id": "eeb83529",
   "metadata": {
    "colab": {
     "base_uri": "https://localhost:8080/"
    },
    "executionInfo": {
     "elapsed": 28761,
     "status": "ok",
     "timestamp": 1682557997552,
     "user": {
      "displayName": "Benedikt Geiger",
      "userId": "17925887631246406508"
     },
     "user_tz": 240
    },
    "id": "eeb83529",
    "outputId": "101e7bba-7afd-4842-aae8-c9e7306864eb",
    "scrolled": false
   },
   "outputs": [
    {
     "name": "stdout",
     "output_type": "stream",
     "text": [
      "CPU times: user 7.53 s, sys: 0 ns, total: 7.53 s\n",
      "Wall time: 1.1 s\n"
     ]
    }
   ],
   "source": [
    "%%time\n",
    "model.train()"
   ]
  },
  {
   "cell_type": "code",
   "execution_count": 7,
   "id": "zaYQX3QDouAl",
   "metadata": {
    "executionInfo": {
     "elapsed": 218,
     "status": "ok",
     "timestamp": 1682558000892,
     "user": {
      "displayName": "Benedikt Geiger",
      "userId": "17925887631246406508"
     },
     "user_tz": 240
    },
    "id": "zaYQX3QDouAl"
   },
   "outputs": [],
   "source": [
    "path = os.getcwd()\n",
    "\n",
    "with open(f\"{path}/model_robertson.pkl\", \"wb\") as handle:\n",
    "    pickle.dump(model, handle, protocol=pickle.HIGHEST_PROTOCOL)\n",
    "\n",
    "with open(f\"{path}/model_robertson.pkl\", \"rb\") as f:\n",
    "    model = pickle.load(f)"
   ]
  },
  {
   "cell_type": "markdown",
   "id": "3dd52a59",
   "metadata": {
    "id": "3dd52a59"
   },
   "source": [
    "## Predict and Plot the Solution"
   ]
  },
  {
   "cell_type": "code",
   "execution_count": 8,
   "id": "35SQxC6v1JrW",
   "metadata": {
    "executionInfo": {
     "elapsed": 265,
     "status": "ok",
     "timestamp": 1682558003432,
     "user": {
      "displayName": "Benedikt Geiger",
      "userId": "17925887631246406508"
     },
     "user_tz": 240
    },
    "id": "35SQxC6v1JrW"
   },
   "outputs": [],
   "source": [
    "def rhs_robertson(t, v):\n",
    "    \"\"\"\n",
    "    dx/dt = -k1 * x + k3 * y * z\n",
    "    dy/dt = k1 * x - k2 * y**2 - k3 * y * z\n",
    "    dz/dt = k2 * y**2\n",
    "    \"\"\"\n",
    "    x, y, z = v\n",
    "    dx_dt = - k1 * x + k3 * y * z\n",
    "    dy_dt = k1 * x - k2 * y**2 - k3 * y * z\n",
    "    dz_dt = k2 * y**2\n",
    "\n",
    "    return dx_dt, dy_dt, dz_dt\n",
    "\n",
    "\n",
    "def get_solution(max_t, delta_t, y0):\n",
    "    \n",
    "    times = np.linspace(0, max_t, int(max_t / delta_t) + 1)\n",
    "    sol = solve_ivp(\n",
    "        rhs_robertson, [0, float(max_t)], y0, t_eval=times,\n",
    "        rtol=1e-10, atol=1e-10\n",
    "    )\n",
    "    return sol.y.T\n",
    "\n",
    "\n",
    "def rhs_robertson_qssa(t, v):\n",
    "    \"\"\"\n",
    "    dx/dt = - k1 * x + k3 * y * z\n",
    "    dz/dt = k2 * y**2\n",
    "    \"\"\"\n",
    "    x, z = v\n",
    "    y = y_qssa(x, z)\n",
    "    dx_dt = - k1 * x + k3 * y * z\n",
    "    dz_dt = k2 * y**2\n",
    "    \n",
    "    return dx_dt, dz_dt\n",
    "\n",
    "\n",
    "def get_solution_qssa(max_t, delta_t, y0):\n",
    "\n",
    "    times = np.linspace(0, max_t, int(max_t / delta_t) + 1)\n",
    "    sol = solve_ivp(\n",
    "        rhs_robertson_qssa, (0, max_t), y0, t_eval=times,\n",
    "        rtol=1e-10, atol=1e-10\n",
    "    )\n",
    "    x_true, z_true = sol.y\n",
    "    y_true = y_qssa(x_true, z_true)\n",
    "    sol = np.stack((x_true, y_true, z_true), axis=1)\n",
    "\n",
    "    return sol"
   ]
  },
  {
   "cell_type": "code",
   "execution_count": 9,
   "id": "yfZ8wnEZ1PFW",
   "metadata": {
    "colab": {
     "base_uri": "https://localhost:8080/",
     "height": 410
    },
    "executionInfo": {
     "elapsed": 565,
     "status": "ok",
     "timestamp": 1682558006146,
     "user": {
      "displayName": "Benedikt Geiger",
      "userId": "17925887631246406508"
     },
     "user_tz": 240
    },
    "id": "yfZ8wnEZ1PFW",
    "outputId": "4c491c97-cde8-4fdb-a2dc-def5208d5191"
   },
   "outputs": [
    {
     "data": {
      "image/png": "[encoded data removed]",
      "text/plain": [
       "<Figure size 1000x400 with 2 Axes>"
      ]
     },
     "metadata": {},
     "output_type": "display_data"
    }
   ],
   "source": [
    "x_0 = 1\n",
    "z_0 = 0\n",
    "yfac = 4\n",
    "\n",
    "max_t = 10\n",
    "delta_t = 1\n",
    "times = np.linspace(0, max_t, int(max_t / delta_t) + 1)\n",
    "\n",
    "sol = get_solution(max_t, delta_t, [x_0, y_qssa(x_0, z_0), z_0])\n",
    "sol[:, 1] *= 10**yfac\n",
    "sol_qssa = get_solution_qssa(max_t, delta_t, [x_0, z_0])\n",
    "sol_qssa[:, 1] *= 10**yfac\n",
    "\n",
    "fig, axes = plt.subplots(1, 2, figsize=(10, 4))\n",
    "\n",
    "component_kwargs = [{'label': \"[X]\"}, {'label': fr\"$10^{yfac} \\times$ [Y]\"}, {'label': \"[Z]\"}]\n",
    "axes[0] = plot_solution(times, sol, ax=axes[0], component_kwargs=component_kwargs)\n",
    "axes[0].set_ylabel(\"concentration\")\n",
    "axes[0].set_title(\"True solution\")\n",
    "axes[1] = plot_solution(times, sol_qssa, ax=axes[1], component_kwargs=component_kwargs)\n",
    "axes[1].set_title(\"QSSA solution\")\n",
    "axes[1].legend()\n",
    "plt.show()\n",
    "plt.close()"
   ]
  },
  {
   "cell_type": "code",
   "execution_count": 10,
   "id": "f2f012bb",
   "metadata": {
    "executionInfo": {
     "elapsed": 163,
     "status": "ok",
     "timestamp": 1682558021656,
     "user": {
      "displayName": "Benedikt Geiger",
      "userId": "17925887631246406508"
     },
     "user_tz": 240
    },
    "id": "f2f012bb"
   },
   "outputs": [
    {
     "name": "stderr",
     "output_type": "stream",
     "text": [
      "/tmp/ipykernel_319151/1965700520.py:8: RuntimeWarning: invalid value encountered in sqrt\n",
      "  nominator = - k3 * z + (k3**2 * z**2 + 4 * k1 * k2 * x)**(0.5)\n"
     ]
    }
   ],
   "source": [
    "# Note that max_t in training is .1\n",
    "y0 = [1, 0]\n",
    "max_t = 50\n",
    "delta_t = 0.01\n",
    "times = np.linspace(0, max_t, int(max_t / delta_t) + 1)\n",
    "\n",
    "tc_solution_xz = model.predict_tc(max_t, delta_t, y0)\n",
    "tc_solution_y = y_qssa(tc_solution_xz[:, 0], tc_solution_xz[:, 1])\n",
    "tc_solution = np.stack((tc_solution_xz[:, 0], tc_solution_y, tc_solution_xz[:, 1]), axis=1)\n",
    "tc_solution[:, 1] *= 10**yfac\n",
    "\n",
    "true_solution = get_solution_qssa(max_t, delta_t, y0)\n",
    "true_solution[:, 1] *= 10**yfac"
   ]
  },
  {
   "cell_type": "code",
   "execution_count": 12,
   "id": "94Kvn2Lf2Y9Q",
   "metadata": {
    "colab": {
     "base_uri": "https://localhost:8080/",
     "height": 388
    },
    "executionInfo": {
     "elapsed": 208,
     "status": "ok",
     "timestamp": 1682558022240,
     "user": {
      "displayName": "Benedikt Geiger",
      "userId": "17925887631246406508"
     },
     "user_tz": 240
    },
    "id": "94Kvn2Lf2Y9Q",
    "outputId": "12f289c7-72d3-48ed-c32a-320c3c421795"
   },
   "outputs": [],
   "source": [
    "ax = plot_solution(\n",
    "    times, true_solution,\n",
    "    component_kwargs=[\n",
    "        {'color': \"black\", 'label': \"truth\"},\n",
    "        {'color': \"black\"},\n",
    "        {'color': \"black\"}\n",
    "    ]\n",
    ")\n",
    "ax = plot_solution(\n",
    "    times, tc_solution, ax=ax,\n",
    "    component_kwargs=[\n",
    "        {'linestyle': \"dashed\", 'label': \"[X]\"},\n",
    "        {'linestyle': \"dashed\", 'label': fr\"$10^{yfac} \\times$ [Y]\"},\n",
    "        {'linestyle': \"dashed\", 'label': \"[Z]\"}\n",
    "    ]\n",
    ")\n",
    "plt.legend()\n",
    "plt.show()\n",
    "plt.close()"
   ]
  }
 ],
 "metadata": {
  "accelerator": "GPU",
  "colab": {
   "provenance": []
  },
  "gpuClass": "standard",
  "kernelspec": {
   "display_name": "Python 3",
   "language": "python",
   "name": "python3"
  },
  "language_info": {
   "codemirror_mode": {
    "name": "ipython",
    "version": 3
   },
   "file_extension": ".py",
   "mimetype": "text/x-python",
   "name": "python",
   "nbconvert_exporter": "python",
   "pygments_lexer": "ipython3",
   "version": "3.9.5"
  }
 },
 "nbformat": 4,
 "nbformat_minor": 5
}
