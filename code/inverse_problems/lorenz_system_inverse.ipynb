{
 "cells": [
  {
   "cell_type": "code",
   "execution_count": 1,
   "id": "2c314520",
   "metadata": {
    "executionInfo": {
     "elapsed": 264,
     "status": "ok",
     "timestamp": 1682866445131,
     "user": {
      "displayName": "Benedikt Geiger",
      "userId": "05006796576804071096"
     },
     "user_tz": 240
    },
    "id": "2c314520"
   },
   "outputs": [],
   "source": [
    "import numpy as np\n",
    "import matplotlib.pyplot as plt\n",
    "import os\n",
    "import pickle\n",
    "import sys\n",
    "import time\n",
    "import torch\n",
    "\n",
    "from scipy.integrate import solve_ivp\n",
    "\n",
    "PROJECT_ROOT = os.path.abspath(\n",
    "    os.path.join(os.getcwd(), os.pardir)\n",
    ")\n",
    "sys.path.append(PROJECT_ROOT)\n",
    "\n",
    "import sample_points\n",
    "from tcpinn import MLP, TcPINN\n",
    "from plot import plot_solution_3d\n",
    "\n",
    "np.random.seed(1)"
   ]
  },
  {
   "cell_type": "code",
   "execution_count": 2,
   "id": "135abf6b",
   "metadata": {
    "colab": {
     "base_uri": "https://localhost:8080/"
    },
    "executionInfo": {
     "elapsed": 137,
     "status": "ok",
     "timestamp": 1682867300207,
     "user": {
      "displayName": "Benedikt Geiger",
      "userId": "05006796576804071096"
     },
     "user_tz": 240
    },
    "id": "135abf6b",
    "outputId": "7ebed1a9-439b-429b-f8d7-b37e17b8ba7f"
   },
   "outputs": [],
   "source": [
    "if torch.cuda.is_available():\n",
    "    device = torch.device(\"cuda\")\n",
    "\n",
    "else:\n",
    "    device = torch.device(\"cpu\")"
   ]
  },
  {
   "cell_type": "code",
   "execution_count": 3,
   "id": "bvbwQQQ4N0JD",
   "metadata": {
    "executionInfo": {
     "elapsed": 227,
     "status": "ok",
     "timestamp": 1682880605265,
     "user": {
      "displayName": "Benedikt Geiger",
      "userId": "05006796576804071096"
     },
     "user_tz": 240
    },
    "id": "bvbwQQQ4N0JD"
   },
   "outputs": [],
   "source": [
    "class LorenzSystemInverse(TcPINN):\n",
    "    \"\"\"\n",
    "    A tcPINN implementation for a Lorenz System inverse problem.\n",
    "    \"\"\"\n",
    "    def __init__(\n",
    "        self, layers, T, X_pinn=None, X_semigroup=None, X_smooth=None, \n",
    "        X_data=None, data=None, w_pinn=1., w_semigroup=1., w_smooth=1., w_data=1.\n",
    "    ):\n",
    "        \"\"\"\n",
    "        For inverse problems, one has to attach the trainable\n",
    "        ODE parameters to the multilayer perceptron (MLP). The least confusing\n",
    "        way to do this with the current implementation is to re-initialize \n",
    "        the MLP and the optimizer.\n",
    "        \"\"\"\n",
    "        super().__init__(\n",
    "            layers, T, X_pinn, X_semigroup, X_smooth, X_data, data,\n",
    "            w_pinn, w_semigroup, w_smooth, w_data\n",
    "        )\n",
    "        self.is_inverse = True\n",
    "        mlp = MLP(layers)\n",
    "        self.mlp = self._init_ode_parameters(mlp).to(device)\n",
    "        self.optimizer = torch.optim.LBFGS(\n",
    "            self.mlp.parameters(), lr=1., max_iter=50000, max_eval=50000, \n",
    "            history_size=10, tolerance_grad=1e-5, tolerance_change=np.finfo(float).eps,\n",
    "            line_search_fn=\"strong_wolfe\"\n",
    "        )\n",
    "        self.scheduler = torch.optim.lr_scheduler.ReduceLROnPlateau(\n",
    "            self.optimizer, mode=\"min\", min_lr=1e-4, verbose=True\n",
    "        )     \n",
    "    \n",
    "    \n",
    "    def _init_ode_parameters(self, mlp):\n",
    "\n",
    "        mlp.sigma = torch.nn.Parameter(10 * torch.rand(1, requires_grad=True)[0])\n",
    "        mlp.beta = torch.nn.Parameter(10 * torch.rand(1, requires_grad=True)[0])\n",
    "        mlp.rho = torch.nn.Parameter(10 * torch.rand(1, requires_grad=True)[0])\n",
    "        self.history[\"sigma\"] = []\n",
    "        self.history[\"beta\"] = []\n",
    "        self.history[\"rho\"] = []\n",
    "\n",
    "        return mlp\n",
    "    \n",
    "    \n",
    "    def _loss_pinn(self):\n",
    "        \"\"\"\n",
    "        The ODE-specific standard PINN loss.\n",
    "        \"\"\"\n",
    "        y = self.net_y(self.t_pinn, self.y_pinn)\n",
    "        deriv = self.net_derivative(self.t_pinn, self.y_pinn)\n",
    "        \n",
    "        loss1 = torch.mean(\n",
    "            (deriv[0] - self.mlp.sigma * (y[:,1:2] - y[:,0:1])) ** 2\n",
    "        )\n",
    "        loss2 = torch.mean(\n",
    "            (deriv[1] - y[:,0:1] * (self.mlp.rho - y[:,2:3]) + y[:,1:2]) ** 2\n",
    "        )\n",
    "        loss3 = torch.mean(\n",
    "            (deriv[2] - y[:,0:1] * y[:,1:2] + self.mlp.beta * y[:,2:3]) ** 2\n",
    "        )        \n",
    "        loss = self.w_pinn * (loss1 + loss2 + loss3)\n",
    "\n",
    "        return loss"
   ]
  },
  {
   "cell_type": "markdown",
   "id": "68934f41",
   "metadata": {
    "id": "68934f41"
   },
   "source": [
    "### Setup Training Data"
   ]
  },
  {
   "cell_type": "code",
   "execution_count": 4,
   "id": "fqPO1sUdQa5h",
   "metadata": {
    "executionInfo": {
     "elapsed": 4,
     "status": "ok",
     "timestamp": 1682880605486,
     "user": {
      "displayName": "Benedikt Geiger",
      "userId": "05006796576804071096"
     },
     "user_tz": 240
    },
    "id": "fqPO1sUdQa5h"
   },
   "outputs": [],
   "source": [
    "def rhs_lorenz_system(t, r, sigma, beta, rho):\n",
    "    \"\"\"\n",
    "    Rhs of the Lorenz system\n",
    "    \"\"\"\n",
    "    x, y, z = r\n",
    "    \n",
    "    fx = sigma * (y - x)\n",
    "    fy = x * (rho - z) - y\n",
    "    fz = x * y - beta * z\n",
    "    \n",
    "    return np.array([fx, fy, fz])\n",
    "\n",
    "\n",
    "def get_solution(max_t, delta_t, init_val, sigma, beta, rho):\n",
    "\n",
    "    times = np.linspace(0, max_t, int(max_t / delta_t) + 1)\n",
    "    sol = solve_ivp(\n",
    "        rhs_lorenz_system, [0, float(max_t)], init_val, t_eval=times,\n",
    "        args=(sigma, beta, rho), rtol=1e-10, atol=1e-10\n",
    "    )\n",
    "    return sol.y.T\n",
    "\n",
    "\n",
    "def sample_data(t_data, y_data, sigma, beta, rho):\n",
    "    \n",
    "    data = np.zeros((len(y_data), ode_dimension))\n",
    "\n",
    "    for i, (t, init_val) in enumerate(zip(t_data, y_data)):\n",
    "\n",
    "        data[i] = get_solution(\n",
    "            max_t=t[0], delta_t=t[0], init_val=init_val,\n",
    "            sigma=sigma, beta=beta, rho=rho\n",
    "        )[-1]\n",
    "    \n",
    "    return data"
   ]
  },
  {
   "cell_type": "code",
   "execution_count": 5,
   "id": "bc630e56",
   "metadata": {},
   "outputs": [],
   "source": [
    "# This example was used in:\n",
    "# \"DeepXDE: A deep learning library for solving differential equations\", Lu et al.\n",
    "# Note: With these parameters, all trajectories converge to either (4.9, 4.9, 9) or (-4.9, -4.9, 9)\n",
    "\n",
    "sigma = 15.\n",
    "beta = 8 / 3\n",
    "rho = 10."
   ]
  },
  {
   "cell_type": "code",
   "execution_count": 6,
   "id": "b5ae371e",
   "metadata": {
    "executionInfo": {
     "elapsed": 698,
     "status": "ok",
     "timestamp": 1682881541254,
     "user": {
      "displayName": "Benedikt Geiger",
      "userId": "05006796576804071096"
     },
     "user_tz": 240
    },
    "id": "b5ae371e"
   },
   "outputs": [],
   "source": [
    "ode_dimension = 3\n",
    "layers = [ode_dimension + 1] + 4 * [128] + [ode_dimension]\n",
    "\n",
    "T = 1\n",
    "max_y0 = 2\n",
    "\n",
    "n_pinn = 10\n",
    "t_pinn = np.random.uniform(0, T, (n_pinn, 1))\n",
    "y_pinn = np.random.uniform(-max_y0, max_y0 , (n_pinn, ode_dimension))\n",
    "X_pinn = np.hstack([t_pinn, y_pinn])\n",
    "\n",
    "n_semigroup = 10\n",
    "st_semigroup = sample_points.uniform_triangle_2d(n_semigroup, T)\n",
    "y_semigroup = np.random.uniform(-max_y0, max_y0, (n_semigroup, ode_dimension))\n",
    "X_semigroup = np.hstack([st_semigroup, y_semigroup])\n",
    "\n",
    "n_smooth = 10\n",
    "t_smooth = np.random.uniform(0, T, (n_smooth, 1))\n",
    "y_smooth = np.random.uniform(-max_y0, max_y0, (n_smooth, ode_dimension))\n",
    "X_smooth = np.hstack([t_smooth, y_smooth])\n",
    "\n",
    "n_data = 10\n",
    "t_data = np.random.uniform(0, T, (n_data, 1))\n",
    "y_data = np.random.uniform(-max_y0, max_y0, (n_data, ode_dimension))\n",
    "X_data = np.hstack([t_data, y_data])\n",
    "data = sample_data(t_data, y_data, sigma, beta, rho)"
   ]
  },
  {
   "cell_type": "code",
   "execution_count": 7,
   "id": "5e50f9b7",
   "metadata": {
    "executionInfo": {
     "elapsed": 7,
     "status": "ok",
     "timestamp": 1682881541256,
     "user": {
      "displayName": "Benedikt Geiger",
      "userId": "05006796576804071096"
     },
     "user_tz": 240
    },
    "id": "5e50f9b7"
   },
   "outputs": [],
   "source": [
    "model = LorenzSystemInverse(\n",
    "    layers, T, X_pinn=X_pinn, X_semigroup=X_semigroup, X_smooth=X_smooth,\n",
    "    X_data=X_data, data=data, w_data=10000\n",
    ")"
   ]
  },
  {
   "cell_type": "code",
   "execution_count": 8,
   "id": "eeb83529",
   "metadata": {
    "id": "eeb83529",
    "scrolled": true
   },
   "outputs": [
    {
     "name": "stdout",
     "output_type": "stream",
     "text": [
      "CPU times: user 27.7 s, sys: 63.1 ms, total: 27.8 s\n",
      "Wall time: 4.09 s\n"
     ]
    }
   ],
   "source": [
    "%%time\n",
    "model.train()"
   ]
  },
  {
   "cell_type": "code",
   "execution_count": 9,
   "id": "a835b0e6",
   "metadata": {
    "colab": {
     "base_uri": "https://localhost:8080/"
    },
    "executionInfo": {
     "elapsed": 853,
     "status": "ok",
     "timestamp": 1682874075521,
     "user": {
      "displayName": "Benedikt Geiger",
      "userId": "05006796576804071096"
     },
     "user_tz": 240
    },
    "id": "a835b0e6",
    "outputId": "1ec43d56-b97b-4d92-9b22-7945277b8cf0"
   },
   "outputs": [],
   "source": [
    "path = os.getcwd()\n",
    "\n",
    "with open(f\"{path}/model_lorenz_inverse.pkl\", \"wb\") as handle:\n",
    "    pickle.dump(model, handle, protocol=pickle.HIGHEST_PROTOCOL)\n",
    "\n",
    "with open(f\"{path}/model_lorenz_inverse.pkl\", \"rb\") as f:\n",
    "    model = pickle.load(f)"
   ]
  },
  {
   "cell_type": "code",
   "execution_count": null,
   "id": "i9gDui7rLSXX",
   "metadata": {
    "colab": {
     "base_uri": "https://localhost:8080/",
     "height": 449
    },
    "executionInfo": {
     "elapsed": 220,
     "status": "ok",
     "timestamp": 1682867143587,
     "user": {
      "displayName": "Benedikt Geiger",
      "userId": "05006796576804071096"
     },
     "user_tz": 240
    },
    "id": "i9gDui7rLSXX",
    "outputId": "fb04f9ed-30ef-4201-ca57-93a99f66fa66"
   },
   "outputs": [],
   "source": [
    "# plot inverse problem convergence\n",
    "n_iterations = model.iter\n",
    "sigma_true = np.full(n_iterations, sigma)\n",
    "beta_true = np.full(n_iterations, beta)\n",
    "rho_true = np.full(n_iterations, rho)\n",
    "\n",
    "_, ax = plt.subplots(figsize=(10, 4))\n",
    "ax.plot(np.arange(n_iterations), model.history[\"sigma\"], color=\"green\", label=\"sigma\")\n",
    "ax.plot(np.arange(n_iterations), model.history[\"beta\"], color=\"blue\", label=\"beta\")\n",
    "ax.plot(np.arange(n_iterations), model.history[\"rho\"], color=\"orange\", label=\"rho\")\n",
    "ax.plot(np.arange(n_iterations), sigma_true, color=\"black\", linestyle=\"dashed\")\n",
    "ax.plot(np.arange(n_iterations), beta_true, color=\"black\", linestyle=\"dashed\")\n",
    "ax.plot(np.arange(n_iterations), rho_true, color=\"black\", linestyle=\"dashed\")\n",
    "ax.spines[[\"top\", \"right\"]].set_visible(False)\n",
    "ax.set_xlabel(\"Iterations\")\n",
    "\n",
    "plt.legend()\n",
    "plt.show()"
   ]
  },
  {
   "cell_type": "markdown",
   "id": "3dd52a59",
   "metadata": {
    "id": "3dd52a59"
   },
   "source": [
    "## Predict and Plot the Solution"
   ]
  },
  {
   "cell_type": "code",
   "execution_count": 11,
   "id": "f2f012bb",
   "metadata": {
    "id": "f2f012bb"
   },
   "outputs": [],
   "source": [
    "# Note that max_t in training is 1\n",
    "y0 = np.array([-1.25, -0.6, -0.4])# np.random.uniform(-max_y0, max_y0, 3)\n",
    "max_t = 10\n",
    "delta_t = 0.01\n",
    "\n",
    "tc_solution = model.predict_tc(max_t, delta_t, y0)\n",
    "true_solution = get_solution(max_t, delta_t, y0, sigma, beta, rho)"
   ]
  },
  {
   "cell_type": "code",
   "execution_count": null,
   "id": "21cf58fc",
   "metadata": {
    "colab": {
     "base_uri": "https://localhost:8080/",
     "height": 203
    },
    "executionInfo": {
     "elapsed": 9,
     "status": "error",
     "timestamp": 1682867143960,
     "user": {
      "displayName": "Benedikt Geiger",
      "userId": "05006796576804071096"
     },
     "user_tz": 240
    },
    "id": "21cf58fc",
    "outputId": "c2261ef9-115f-4a8d-e0e4-0f4a2a456b26"
   },
   "outputs": [],
   "source": [
    "ax = plot_solution_3d(true_solution, color=\"black\", label=\"truth\")\n",
    "ax = plot_solution_3d(tc_solution, ax=ax, color=\"orange\", linestyle=\"dashed\", label=\"tcPINN\")\n",
    "\n",
    "plt.legend()\n",
    "plt.show()"
   ]
  }
 ],
 "metadata": {
  "accelerator": "GPU",
  "colab": {
   "provenance": []
  },
  "gpuClass": "standard",
  "kernelspec": {
   "display_name": "Python 3",
   "language": "python",
   "name": "python3"
  },
  "language_info": {
   "codemirror_mode": {
    "name": "ipython",
    "version": 3
   },
   "file_extension": ".py",
   "mimetype": "text/x-python",
   "name": "python",
   "nbconvert_exporter": "python",
   "pygments_lexer": "ipython3",
   "version": "3.9.5"
  },
  "vscode": {
   "interpreter": {
    "hash": "5beae9835b3277c3a4a8c87413b972e297eaccb765a3f62b691c35696bfb6223"
   }
  }
 },
 "nbformat": 4,
 "nbformat_minor": 5
}
