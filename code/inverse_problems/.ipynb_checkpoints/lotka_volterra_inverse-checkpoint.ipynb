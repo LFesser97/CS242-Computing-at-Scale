{
 "cells": [
  {
   "cell_type": "code",
   "execution_count": 1,
   "id": "2c314520",
   "metadata": {
    "executionInfo": {
     "elapsed": 1767,
     "status": "ok",
     "timestamp": 1682832945719,
     "user": {
      "displayName": "Benedikt Geiger",
      "userId": "17925887631246406508"
     },
     "user_tz": 240
    },
    "id": "2c314520"
   },
   "outputs": [],
   "source": [
    "import numpy as np\n",
    "import matplotlib.pyplot as plt\n",
    "import os\n",
    "import pickle\n",
    "import sys\n",
    "import time\n",
    "import torch\n",
    "\n",
    "from scipy.integrate import solve_ivp\n",
    "\n",
    "PROJECT_ROOT = os.path.abspath(\n",
    "    os.path.join(os.getcwd(), os.pardir)\n",
    ")\n",
    "sys.path.append(PROJECT_ROOT)\n",
    "\n",
    "import sample_points\n",
    "from tcpinn import MLP, TcPINN\n",
    "from plot import plot_solution\n",
    "\n",
    "np.random.seed(1)"
   ]
  },
  {
   "cell_type": "code",
   "execution_count": 2,
   "id": "BvZ3j-yv_eSh",
   "metadata": {
    "executionInfo": {
     "elapsed": 4,
     "status": "ok",
     "timestamp": 1682832946513,
     "user": {
      "displayName": "Benedikt Geiger",
      "userId": "17925887631246406508"
     },
     "user_tz": 240
    },
    "id": "BvZ3j-yv_eSh"
   },
   "outputs": [],
   "source": [
    "alpha = 1.5\n",
    "beta = 1.75\n",
    "gamma = 0.5\n",
    "delta = 0.75"
   ]
  },
  {
   "cell_type": "code",
   "execution_count": 3,
   "id": "b874f308",
   "metadata": {},
   "outputs": [],
   "source": [
    "if torch.cuda.is_available():\n",
    "    device = torch.device(\"cuda\")\n",
    "\n",
    "else:\n",
    "    device = torch.device(\"cpu\")"
   ]
  },
  {
   "cell_type": "code",
   "execution_count": 21,
   "id": "bvbwQQQ4N0JD",
   "metadata": {
    "executionInfo": {
     "elapsed": 4,
     "status": "ok",
     "timestamp": 1682833797391,
     "user": {
      "displayName": "Benedikt Geiger",
      "userId": "17925887631246406508"
     },
     "user_tz": 240
    },
    "id": "bvbwQQQ4N0JD"
   },
   "outputs": [],
   "source": [
    "class LotkaVolterraInverse(TcPINN):\n",
    "    \"\"\"\n",
    "    A tcPINN implementation for a Lotka-Volterra inverse problem.\n",
    "    \"\"\"\n",
    "    def __init__(\n",
    "        self, layers, T, X_pinn=None, X_semigroup=None, X_smooth=None, X_data=None, data=None,\n",
    "        w_pinn=1., w_semigroup=1., w_smooth=1., w_data=1.\n",
    "    ):\n",
    "        \"\"\"\n",
    "        For inverse problems, one has to attach the trainable\n",
    "        ODE parameters to the multilayer perceptron (MLP). The least confusing\n",
    "        way to do this with the current implementation is to re-initialize \n",
    "        the MLP and the optimizer.\n",
    "        \"\"\"\n",
    "        super().__init__(\n",
    "            layers, T, X_pinn, X_semigroup, X_smooth, X_data, data,\n",
    "            w_pinn, w_semigroup, w_smooth, w_data\n",
    "        )\n",
    "        self.is_inverse = True\n",
    "        mlp = MLP(layers)\n",
    "        self.mlp = self._init_ode_parameters(mlp).to(device)\n",
    "        self.optimizer = torch.optim.LBFGS(\n",
    "            self.mlp.parameters(), lr=1., max_iter=50000, max_eval=50000, \n",
    "            history_size=10, tolerance_grad=1e-5, tolerance_change=np.finfo(float).eps,\n",
    "            line_search_fn=\"strong_wolfe\"\n",
    "        )\n",
    "        self.scheduler = torch.optim.lr_scheduler.ReduceLROnPlateau(\n",
    "            self.optimizer, mode=\"min\", min_lr=1e-4, verbose=True\n",
    "        )\n",
    "    \n",
    "    \n",
    "    def _init_ode_parameters(self, mlp):\n",
    "\n",
    "        mlp.alpha = torch.nn.Parameter(3 * torch.rand(1, requires_grad=True)[0])\n",
    "        mlp.beta = torch.nn.Parameter(3 * torch.rand(1, requires_grad=True)[0])\n",
    "        mlp.gamma = torch.nn.Parameter(3 * torch.rand(1, requires_grad=True)[0])\n",
    "        mlp.delta = torch.nn.Parameter(3 * torch.rand(1, requires_grad=True)[0])\n",
    "        self.history[\"alpha\"] = []\n",
    "        self.history[\"beta\"] = []\n",
    "        self.history[\"gamma\"] = []\n",
    "        self.history[\"delta\"] = []\n",
    "        \n",
    "        return mlp\n",
    "    \n",
    "    \n",
    "    def _loss_pinn(self):\n",
    "        \"\"\"\n",
    "        The ODE-specific standard PINN loss.\n",
    "        \"\"\"\n",
    "        y = self.net_y(self.t_pinn, self.y_pinn)\n",
    "        deriv = self.net_derivative(self.t_pinn, self.y_pinn)\n",
    "        \n",
    "        loss1 = torch.mean(\n",
    "            (deriv[0] - self.mlp.alpha * y[:, 0:1] + self.mlp.beta * (y[:, 0:1] * y[:, 1:2])) ** 2\n",
    "        )\n",
    "        loss2 = torch.mean(\n",
    "            (deriv[1] - self.mlp.delta * (y[:, 0:1] * y[:, 1:2]) + self.mlp.gamma * y[:, 1:2]) ** 2\n",
    "        )\n",
    "        loss = self.w_pinn * (loss1 + loss2)\n",
    "\n",
    "        return loss"
   ]
  },
  {
   "cell_type": "markdown",
   "id": "68934f41",
   "metadata": {
    "id": "68934f41"
   },
   "source": [
    "### Setup Training Data"
   ]
  },
  {
   "cell_type": "code",
   "execution_count": 22,
   "id": "74e11fc3",
   "metadata": {
    "executionInfo": {
     "elapsed": 1527,
     "status": "ok",
     "timestamp": 1682832949219,
     "user": {
      "displayName": "Benedikt Geiger",
      "userId": "17925887631246406508"
     },
     "user_tz": 240
    },
    "id": "74e11fc3"
   },
   "outputs": [],
   "source": [
    "def rhs_lotka_volterra(t, r, alpha, beta, gamma, delta):\n",
    "\n",
    "    x, y = r\n",
    "    dx_t = alpha * x - beta * x * y\n",
    "    dy_t = delta * x * y - gamma * y\n",
    "\n",
    "    return dx_t, dy_t\n",
    "\n",
    "\n",
    "def get_solution(max_t, delta_t, init_val, alpha, beta, gamma, delta):\n",
    "    \n",
    "    times = np.linspace(0, max_t, int(max_t / delta_t) + 1)\n",
    "    sol = solve_ivp(\n",
    "        rhs_lotka_volterra, [0, float(max_t)], init_val, t_eval=times,\n",
    "        args=(alpha, beta, gamma, delta), rtol=1e-10, atol=1e-10\n",
    "    )\n",
    "\n",
    "    return sol.y.T\n",
    "\n",
    "\n",
    "def sample_data(t_data, y_data, alpha, beta, gamma, delta):\n",
    "    \n",
    "    data = np.zeros((len(y_data), 2))\n",
    "\n",
    "    for i, (t, init_val) in enumerate(zip(t_data, y_data)):\n",
    "\n",
    "        data[i] = get_solution(\n",
    "            max_t=t[0], delta_t=t[0], init_val=init_val,\n",
    "            alpha=alpha, beta=beta, gamma=gamma, delta=delta\n",
    "        )[-1]\n",
    "    \n",
    "    return data"
   ]
  },
  {
   "cell_type": "code",
   "execution_count": 23,
   "id": "b5ae371e",
   "metadata": {
    "executionInfo": {
     "elapsed": 43237,
     "status": "ok",
     "timestamp": 1682833841955,
     "user": {
      "displayName": "Benedikt Geiger",
      "userId": "17925887631246406508"
     },
     "user_tz": 240
    },
    "id": "b5ae371e"
   },
   "outputs": [],
   "source": [
    "layers = [3] + 3 * [128] + [2]\n",
    "T = 1\n",
    "max_y0 = 5\n",
    "\n",
    "n_pinn = 10\n",
    "t_pinn = np.random.uniform(0, T, (n_pinn, 1))\n",
    "y_pinn = np.random.uniform(0, max_y0 , (n_pinn, 2))\n",
    "X_pinn = np.hstack([t_pinn, y_pinn])\n",
    "\n",
    "n_semigroup = 10\n",
    "st_semigroup = sample_points.uniform_triangle_2d(n_semigroup, T)\n",
    "y_semigroup = np.random.uniform(0, max_y0, (n_semigroup, 2))\n",
    "X_semigroup = np.hstack([st_semigroup, y_semigroup])\n",
    "\n",
    "n_smooth = 10\n",
    "t_smooth = np.random.uniform(0, T, (n_smooth, 1))\n",
    "y_smooth = np.random.uniform(0, max_y0, (n_smooth, 2))\n",
    "X_smooth = np.hstack([t_smooth, y_smooth])\n",
    "\n",
    "n_data = 10\n",
    "t_data = np.random.uniform(0, T, (n_data, 1))\n",
    "y_data = np.random.uniform(0, max_y0, (n_data, 2))\n",
    "X_data = np.hstack([t_data, y_data])\n",
    "data = sample_data(t_data, y_data, alpha, beta, gamma, delta)"
   ]
  },
  {
   "cell_type": "code",
   "execution_count": 24,
   "id": "5e50f9b7",
   "metadata": {
    "executionInfo": {
     "elapsed": 39,
     "status": "ok",
     "timestamp": 1682833841959,
     "user": {
      "displayName": "Benedikt Geiger",
      "userId": "17925887631246406508"
     },
     "user_tz": 240
    },
    "id": "5e50f9b7"
   },
   "outputs": [],
   "source": [
    "model = LotkaVolterraInverse(layers, T, X_pinn=X_pinn, X_semigroup=X_semigroup, X_smooth=X_smooth, X_data=X_data, data=data)"
   ]
  },
  {
   "cell_type": "code",
   "execution_count": 25,
   "id": "eeb83529",
   "metadata": {
    "colab": {
     "base_uri": "https://localhost:8080/"
    },
    "executionInfo": {
     "elapsed": 341310,
     "status": "ok",
     "timestamp": 1682834183235,
     "user": {
      "displayName": "Benedikt Geiger",
      "userId": "17925887631246406508"
     },
     "user_tz": 240
    },
    "id": "eeb83529",
    "outputId": "f20470eb-7275-43d8-fb16-484683a46c89",
    "scrolled": false
   },
   "outputs": [
    {
     "name": "stdout",
     "output_type": "stream",
     "text": [
      "CPU times: user 14.2 s, sys: 31.1 ms, total: 14.2 s\n",
      "Wall time: 2.08 s\n"
     ]
    }
   ],
   "source": [
    "%%time\n",
    "model.train()"
   ]
  },
  {
   "cell_type": "code",
   "execution_count": 26,
   "id": "a835b0e6",
   "metadata": {
    "colab": {
     "base_uri": "https://localhost:8080/"
    },
    "executionInfo": {
     "elapsed": 3322,
     "status": "ok",
     "timestamp": 1682834186545,
     "user": {
      "displayName": "Benedikt Geiger",
      "userId": "17925887631246406508"
     },
     "user_tz": 240
    },
    "id": "a835b0e6",
    "outputId": "65d1c2d9-2796-43d5-d32b-f8ecbba8c3e9"
   },
   "outputs": [],
   "source": [
    "path = os.getcwd()\n",
    "\n",
    "with open(f\"{path}/model_lotka_volterra_inverse.pkl\", \"wb\") as handle:\n",
    "    pickle.dump(model, handle, protocol=pickle.HIGHEST_PROTOCOL)\n",
    "\n",
    "with open(f\"{path}/model_lotka_volterra_inverse.pkl\", \"rb\") as f:\n",
    "    model = pickle.load(f)"
   ]
  },
  {
   "cell_type": "code",
   "execution_count": null,
   "id": "i9gDui7rLSXX",
   "metadata": {
    "colab": {
     "base_uri": "https://localhost:8080/",
     "height": 449
    },
    "executionInfo": {
     "elapsed": 37,
     "status": "ok",
     "timestamp": 1682834186548,
     "user": {
      "displayName": "Benedikt Geiger",
      "userId": "17925887631246406508"
     },
     "user_tz": 240
    },
    "id": "i9gDui7rLSXX",
    "outputId": "82e22dd7-c038-4be4-b191-5336e46a60ef",
    "scrolled": true
   },
   "outputs": [],
   "source": [
    "# plot inverse problem convergence\n",
    "n_iterations = model.iter\n",
    "alpha_true = np.full(n_iterations, alpha)\n",
    "beta_true = np.full(n_iterations, beta)\n",
    "gamma_true = np.full(n_iterations, gamma)\n",
    "delta_true = np.full(n_iterations, delta)\n",
    "\n",
    "_, ax = plt.subplots(figsize=(10, 4))\n",
    "ax.plot(np.arange(n_iterations), model.history[\"alpha\"], color=\"green\", label=\"alpha\")\n",
    "ax.plot(np.arange(n_iterations), model.history[\"beta\"], color=\"blue\", label=\"beta\")\n",
    "ax.plot(np.arange(n_iterations), model.history[\"gamma\"], color=\"red\", label='gamma')\n",
    "ax.plot(np.arange(n_iterations), model.history[\"delta\"], color=\"orange\", label=\"delta\")\n",
    "ax.plot(np.arange(n_iterations), alpha_true, color=\"black\", linestyle=\"dashed\")\n",
    "ax.plot(np.arange(n_iterations), beta_true, color=\"black\", linestyle=\"dashed\")\n",
    "ax.plot(np.arange(n_iterations), gamma_true, color=\"black\", linestyle=\"dashed\")\n",
    "ax.plot(np.arange(n_iterations), delta_true, color=\"black\", linestyle=\"dashed\")\n",
    "ax.spines[[\"top\", \"right\"]].set_visible(False)\n",
    "ax.set_xlabel(\"Iterations\")\n",
    "\n",
    "plt.legend()\n",
    "plt.show()"
   ]
  },
  {
   "cell_type": "markdown",
   "id": "3dd52a59",
   "metadata": {
    "id": "3dd52a59"
   },
   "source": [
    "## Predict and Plot the Solution"
   ]
  },
  {
   "cell_type": "code",
   "execution_count": 29,
   "id": "f2f012bb",
   "metadata": {
    "executionInfo": {
     "elapsed": 2841,
     "status": "ok",
     "timestamp": 1682834391364,
     "user": {
      "displayName": "Benedikt Geiger",
      "userId": "17925887631246406508"
     },
     "user_tz": 240
    },
    "id": "f2f012bb"
   },
   "outputs": [],
   "source": [
    "y0 = np.array([0.1, 1.0]) #np.random.uniform(0, max_y0 , 2)\n",
    "max_t = 100\n",
    "delta_t = 0.05\n",
    "times = np.linspace(0, max_t, int(max_t / delta_t) + 1)\n",
    "\n",
    "tc_solution = model.predict_tc(max_t, delta_t, y0)\n",
    "true_solution = get_solution(max_t, delta_t, y0, alpha, beta, gamma, delta)"
   ]
  },
  {
   "cell_type": "code",
   "execution_count": null,
   "id": "21cf58fc",
   "metadata": {
    "colab": {
     "base_uri": "https://localhost:8080/",
     "height": 542
    },
    "executionInfo": {
     "elapsed": 17,
     "status": "ok",
     "timestamp": 1682834391367,
     "user": {
      "displayName": "Benedikt Geiger",
      "userId": "17925887631246406508"
     },
     "user_tz": 240
    },
    "id": "21cf58fc",
    "outputId": "f66fecc1-302d-4015-f7d2-2ed81f821a6d"
   },
   "outputs": [],
   "source": [
    "ax = plot_solution(times, true_solution, ax=None)\n",
    "ax = plot_solution(\n",
    "    times, tc_solution, ax=ax,\n",
    "    component_kwargs=[{'color': \"red\", 'linestyle': \"dashed\"}, {'color': \"orange\", 'linestyle': \"dashed\"}]\n",
    ")"
   ]
  }
 ],
 "metadata": {
  "accelerator": "GPU",
  "colab": {
   "provenance": []
  },
  "gpuClass": "standard",
  "kernelspec": {
   "display_name": "Python 3",
   "language": "python",
   "name": "python3"
  },
  "language_info": {
   "codemirror_mode": {
    "name": "ipython",
    "version": 3
   },
   "file_extension": ".py",
   "mimetype": "text/x-python",
   "name": "python",
   "nbconvert_exporter": "python",
   "pygments_lexer": "ipython3",
   "version": "3.9.5"
  },
  "vscode": {
   "interpreter": {
    "hash": "5beae9835b3277c3a4a8c87413b972e297eaccb765a3f62b691c35696bfb6223"
   }
  }
 },
 "nbformat": 4,
 "nbformat_minor": 5
}
