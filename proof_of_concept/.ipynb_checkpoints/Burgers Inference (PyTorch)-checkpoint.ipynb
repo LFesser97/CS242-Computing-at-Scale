{
 "cells": [
  {
   "cell_type": "markdown",
   "metadata": {},
   "source": [
    "# Attribute\n",
    "\n",
    "**Original Work**: *Maziar Raissi, Paris Perdikaris, and George Em Karniadakis*\n",
    "\n",
    "**Github Repo** : https://github.com/maziarraissi/PINNs\n",
    "\n",
    "**Link:** https://github.com/maziarraissi/PINNs/tree/master/appendix/continuous_time_identification%20(Burgers)\n",
    "\n",
    "@article{raissi2017physicsI,\n",
    "  title={Physics Informed Deep Learning (Part I): Data-driven Solutions of Nonlinear Partial Differential Equations},\n",
    "  author={Raissi, Maziar and Perdikaris, Paris and Karniadakis, George Em},\n",
    "  journal={arXiv preprint arXiv:1711.10561},\n",
    "  year={2017}\n",
    "}\n",
    "\n",
    "@article{raissi2017physicsII,\n",
    "  title={Physics Informed Deep Learning (Part II): Data-driven Discovery of Nonlinear Partial Differential Equations},\n",
    "  author={Raissi, Maziar and Perdikaris, Paris and Karniadakis, George Em},\n",
    "  journal={arXiv preprint arXiv:1711.10566},\n",
    "  year={2017}\n",
    "}"
   ]
  },
  {
   "cell_type": "markdown",
   "metadata": {},
   "source": [
    "## Libraries and Dependencies"
   ]
  },
  {
   "cell_type": "code",
   "execution_count": 1,
   "metadata": {},
   "outputs": [
    {
     "name": "stderr",
     "output_type": "stream",
     "text": [
      "/home/benedikt/miniconda3/lib/python3.9/_collections_abc.py:940: MatplotlibDeprecationWarning: Support for setting the 'text.latex.preamble' or 'pgf.preamble' rcParam to a list of strings is deprecated since 3.3 and will be removed two minor releases later; set it to a single string instead.\n",
      "  self[key] = other[key]\n"
     ]
    }
   ],
   "source": [
    "import sys\n",
    "sys.path.insert(0, '../Utilities/')\n",
    "\n",
    "import torch\n",
    "from collections import OrderedDict\n",
    "\n",
    "from pyDOE import lhs\n",
    "import numpy as np\n",
    "import matplotlib.pyplot as plt\n",
    "import scipy.io\n",
    "from scipy.interpolate import griddata\n",
    "from plotting import newfig, savefig\n",
    "from mpl_toolkits.axes_grid1 import make_axes_locatable\n",
    "import matplotlib.gridspec as gridspec\n",
    "import time\n",
    "\n",
    "np.random.seed(1234)"
   ]
  },
  {
   "cell_type": "code",
   "execution_count": 2,
   "metadata": {},
   "outputs": [],
   "source": [
    "# CUDA support \n",
    "if torch.cuda.is_available():\n",
    "    device = torch.device('cuda')\n",
    "else:\n",
    "    device = torch.device('cpu')"
   ]
  },
  {
   "cell_type": "markdown",
   "metadata": {},
   "source": [
    "## Physics-informed Neural Networks"
   ]
  },
  {
   "cell_type": "code",
   "execution_count": 3,
   "metadata": {},
   "outputs": [],
   "source": [
    "# the deep neural network\n",
    "class DNN(torch.nn.Module):\n",
    "    def __init__(self, layers):\n",
    "        super(DNN, self).__init__()\n",
    "        \n",
    "        # parameters\n",
    "        self.depth = len(layers) - 1\n",
    "        \n",
    "        # set up layer order dict\n",
    "        self.activation = torch.nn.Tanh\n",
    "        \n",
    "        layer_list = list()\n",
    "        for i in range(self.depth - 1): \n",
    "            layer_list.append(\n",
    "                ('layer_%d' % i, torch.nn.Linear(layers[i], layers[i+1]))\n",
    "            )\n",
    "            layer_list.append(('activation_%d' % i, self.activation()))\n",
    "            \n",
    "        layer_list.append(\n",
    "            ('layer_%d' % (self.depth - 1), torch.nn.Linear(layers[-2], layers[-1]))\n",
    "        )\n",
    "        layerDict = OrderedDict(layer_list)\n",
    "        \n",
    "        # deploy layers\n",
    "        self.layers = torch.nn.Sequential(layerDict)\n",
    "        \n",
    "    def forward(self, x):\n",
    "        out = self.layers(x)\n",
    "        return out"
   ]
  },
  {
   "cell_type": "code",
   "execution_count": 4,
   "metadata": {},
   "outputs": [],
   "source": [
    "# the physics-guided neural network\n",
    "class PhysicsInformedNN():\n",
    "    def __init__(self, X_u, u, X_f, layers, lb, ub, nu):\n",
    "        \n",
    "        # boundary conditions\n",
    "        self.lb = torch.tensor(lb).float().to(device)\n",
    "        self.ub = torch.tensor(ub).float().to(device)\n",
    "        \n",
    "        # data\n",
    "        self.x_u = torch.tensor(X_u[:, 0:1], requires_grad=True).float().to(device)\n",
    "        self.t_u = torch.tensor(X_u[:, 1:2], requires_grad=True).float().to(device)\n",
    "        self.x_f = torch.tensor(X_f[:, 0:1], requires_grad=True).float().to(device)\n",
    "        self.t_f = torch.tensor(X_f[:, 1:2], requires_grad=True).float().to(device)\n",
    "        self.u = torch.tensor(u).float().to(device)\n",
    "        \n",
    "        self.layers = layers\n",
    "        self.nu = nu\n",
    "        \n",
    "        # deep neural networks\n",
    "        self.dnn = DNN(layers).to(device)\n",
    "        \n",
    "        # optimizers: using the same settings\n",
    "        self.optimizer = torch.optim.LBFGS(\n",
    "            self.dnn.parameters(), \n",
    "            lr=1.0, \n",
    "            max_iter=50000, \n",
    "            max_eval=50000, \n",
    "            history_size=50,\n",
    "            tolerance_grad=1e-5, \n",
    "            tolerance_change=1.0 * np.finfo(float).eps,\n",
    "            line_search_fn=\"strong_wolfe\"       # can be \"strong_wolfe\"\n",
    "        )\n",
    "\n",
    "        self.iter = 0\n",
    "        \n",
    "    def net_u(self, x, t):  \n",
    "        u = self.dnn(torch.cat([x, t], dim=1))\n",
    "        return u\n",
    "    \n",
    "    def net_f(self, x, t):\n",
    "        \"\"\" The pytorch autograd version of calculating residual \"\"\"\n",
    "        u = self.net_u(x, t)\n",
    "        \n",
    "        u_t = torch.autograd.grad(\n",
    "            u, t, \n",
    "            grad_outputs=torch.ones_like(u),\n",
    "            retain_graph=True,\n",
    "            create_graph=True\n",
    "        )[0]\n",
    "        u_x = torch.autograd.grad(\n",
    "            u, x, \n",
    "            grad_outputs=torch.ones_like(u),\n",
    "            retain_graph=True,\n",
    "            create_graph=True\n",
    "        )[0]\n",
    "        u_xx = torch.autograd.grad(\n",
    "            u_x, x, \n",
    "            grad_outputs=torch.ones_like(u_x),\n",
    "            retain_graph=True,\n",
    "            create_graph=True\n",
    "        )[0]\n",
    "        \n",
    "        f = u_t + u * u_x - self.nu * u_xx\n",
    "        return f\n",
    "    \n",
    "    def loss_func(self):\n",
    "        self.optimizer.zero_grad()\n",
    "        \n",
    "        u_pred = self.net_u(self.x_u, self.t_u)\n",
    "        f_pred = self.net_f(self.x_f, self.t_f)\n",
    "        loss_u = torch.mean((self.u - u_pred) ** 2)\n",
    "        loss_f = torch.mean(f_pred ** 2)\n",
    "        \n",
    "        loss = loss_u + loss_f\n",
    "        \n",
    "        loss.backward()\n",
    "        self.iter += 1\n",
    "        if self.iter % 100 == 0:\n",
    "            print(\n",
    "                'Iter %d, Loss: %.5e, Loss_u: %.5e, Loss_f: %.5e' % (self.iter, loss.item(), loss_u.item(), loss_f.item())\n",
    "            )\n",
    "        return loss\n",
    "    \n",
    "    def train(self):\n",
    "        self.dnn.train()\n",
    "                \n",
    "        # Backward and optimize\n",
    "        self.optimizer.step(self.loss_func)\n",
    "\n",
    "            \n",
    "    def predict(self, X):\n",
    "        x = torch.tensor(X[:, 0:1], requires_grad=True).float().to(device)\n",
    "        t = torch.tensor(X[:, 1:2], requires_grad=True).float().to(device)\n",
    "\n",
    "        self.dnn.eval()\n",
    "        u = self.net_u(x, t)\n",
    "        f = self.net_f(x, t)\n",
    "        u = u.detach().cpu().numpy()\n",
    "        f = f.detach().cpu().numpy()\n",
    "        return u, f"
   ]
  },
  {
   "cell_type": "markdown",
   "metadata": {},
   "source": [
    "## Configurations"
   ]
  },
  {
   "cell_type": "code",
   "execution_count": 60,
   "metadata": {},
   "outputs": [
    {
     "data": {
      "text/plain": [
       "array([[0.67791345, 0.62971738],\n",
       "       [0.0631818 , 0.53379558],\n",
       "       [0.86724381, 0.74927648],\n",
       "       [0.39938683, 0.26630256],\n",
       "       [0.59942324, 0.32293785],\n",
       "       [0.14701663, 0.92652922],\n",
       "       [0.2375478 , 0.85402901],\n",
       "       [0.71094448, 0.16186216],\n",
       "       [0.93953002, 0.02541729],\n",
       "       [0.41337047, 0.4696024 ]])"
      ]
     },
     "execution_count": 60,
     "metadata": {},
     "output_type": "execute_result"
    }
   ],
   "source": [
    "lhs(2, 10)"
   ]
  },
  {
   "cell_type": "code",
   "execution_count": 44,
   "metadata": {},
   "outputs": [],
   "source": [
    "nu = 0.01/np.pi\n",
    "noise = 0.0        \n",
    "\n",
    "N_u = 100\n",
    "N_f = 10000\n",
    "layers = [2, 20, 20, 20, 20, 20, 20, 20, 20, 1]\n",
    "\n",
    "data = scipy.io.loadmat('data/burgers_shock.mat')\n",
    "\n",
    "t = data['t'].flatten()[:,None]\n",
    "x = data['x'].flatten()[:,None]\n",
    "Exact = np.real(data['usol']).T\n",
    "\n",
    "# repeat x len(t) = 100 times in one dimension\n",
    "# repeat t len(x) = 256 times\n",
    "# the resulting matrices have shape 100 x 256\n",
    "X, T = np.meshgrid(x,t)\n",
    "\n",
    "X_star = np.hstack((X.flatten()[:,None], T.flatten()[:,None]))\n",
    "u_star = Exact.flatten()[:,None]              \n",
    "\n",
    "# Domain bounds\n",
    "lb = X_star.min(0)\n",
    "ub = X_star.max(0)    \n",
    "\n",
    "# t=0 boundary; (x, t) points\n",
    "xx1 = np.hstack((X[0:1,:].T, T[0:1,:].T))\n",
    "uu1 = Exact[0:1,:].T\n",
    "\n",
    "# x=-1 boundary; (x, t) points\n",
    "xx2 = np.hstack((X[:,0:1], T[:,0:1]))\n",
    "uu2 = Exact[:,0:1]\n",
    "\n",
    "# x=1 boundary; (x, t) points\n",
    "xx3 = np.hstack((X[:,-1:], T[:,-1:]))\n",
    "uu3 = Exact[:,-1:]\n",
    "\n",
    "X_u_train = np.vstack([xx1, xx2, xx3])\n",
    "X_f_train = lb + (ub-lb)*lhs(2, N_f)\n",
    "X_f_train = np.vstack((X_f_train, X_u_train))\n",
    "u_train = np.vstack([uu1, uu2, uu3])\n",
    "\n",
    "idx = np.random.choice(X_u_train.shape[0], N_u, replace=False)\n",
    "X_u_train = X_u_train[idx, :]\n",
    "u_train = u_train[idx,:]"
   ]
  },
  {
   "cell_type": "markdown",
   "metadata": {},
   "source": [
    "## Training"
   ]
  },
  {
   "cell_type": "code",
   "execution_count": 6,
   "metadata": {},
   "outputs": [],
   "source": [
    "model = PhysicsInformedNN(X_u_train, u_train, X_f_train, layers, lb, ub, nu)"
   ]
  },
  {
   "cell_type": "code",
   "execution_count": 7,
   "metadata": {},
   "outputs": [
    {
     "name": "stdout",
     "output_type": "stream",
     "text": [
      "Iter 100, Loss: 8.41583e-02, Loss_u: 5.77683e-02, Loss_f: 2.63900e-02\n",
      "Iter 200, Loss: 6.63130e-02, Loss_u: 4.45536e-02, Loss_f: 2.17593e-02\n",
      "Iter 300, Loss: 5.31063e-02, Loss_u: 3.63758e-02, Loss_f: 1.67305e-02\n",
      "Iter 400, Loss: 4.27307e-02, Loss_u: 3.04948e-02, Loss_f: 1.22359e-02\n",
      "Iter 500, Loss: 4.00570e-02, Loss_u: 2.83113e-02, Loss_f: 1.17456e-02\n",
      "Iter 600, Loss: 3.45439e-02, Loss_u: 2.11854e-02, Loss_f: 1.33585e-02\n",
      "Iter 700, Loss: 2.67324e-02, Loss_u: 1.76695e-02, Loss_f: 9.06296e-03\n",
      "Iter 800, Loss: 2.06554e-02, Loss_u: 1.28432e-02, Loss_f: 7.81223e-03\n",
      "Iter 900, Loss: 1.55370e-02, Loss_u: 8.01965e-03, Loss_f: 7.51730e-03\n",
      "Iter 1000, Loss: 1.06841e-02, Loss_u: 5.09823e-03, Loss_f: 5.58583e-03\n",
      "Iter 1100, Loss: 6.83148e-03, Loss_u: 2.62679e-03, Loss_f: 4.20469e-03\n",
      "Iter 1200, Loss: 5.19379e-03, Loss_u: 2.51368e-03, Loss_f: 2.68010e-03\n",
      "Iter 1300, Loss: 4.46591e-03, Loss_u: 2.34186e-03, Loss_f: 2.12405e-03\n",
      "Iter 1400, Loss: 3.92779e-03, Loss_u: 2.09039e-03, Loss_f: 1.83741e-03\n",
      "Iter 1500, Loss: 3.38943e-03, Loss_u: 1.48904e-03, Loss_f: 1.90039e-03\n",
      "Iter 1600, Loss: 2.48473e-03, Loss_u: 1.28496e-03, Loss_f: 1.19977e-03\n",
      "Iter 1700, Loss: 2.19056e-03, Loss_u: 9.89546e-04, Loss_f: 1.20102e-03\n",
      "Iter 1800, Loss: 2.03831e-03, Loss_u: 8.39052e-04, Loss_f: 1.19926e-03\n",
      "Iter 1900, Loss: 1.58622e-03, Loss_u: 7.45578e-04, Loss_f: 8.40645e-04\n",
      "Iter 2000, Loss: 1.35709e-03, Loss_u: 5.13766e-04, Loss_f: 8.43327e-04\n",
      "Iter 2100, Loss: 1.00911e-03, Loss_u: 3.56510e-04, Loss_f: 6.52602e-04\n",
      "Iter 2200, Loss: 8.22229e-04, Loss_u: 2.89012e-04, Loss_f: 5.33217e-04\n",
      "Iter 2300, Loss: 6.63961e-04, Loss_u: 2.44073e-04, Loss_f: 4.19888e-04\n",
      "Iter 2400, Loss: 5.62701e-04, Loss_u: 2.21357e-04, Loss_f: 3.41345e-04\n",
      "Iter 2500, Loss: 4.72757e-04, Loss_u: 1.70892e-04, Loss_f: 3.01865e-04\n",
      "Iter 2600, Loss: 3.84906e-04, Loss_u: 1.24945e-04, Loss_f: 2.59961e-04\n",
      "Iter 2700, Loss: 3.49235e-04, Loss_u: 1.12796e-04, Loss_f: 2.36439e-04\n",
      "Iter 2800, Loss: 3.05256e-04, Loss_u: 1.09890e-04, Loss_f: 1.95367e-04\n",
      "Iter 2900, Loss: 2.73167e-04, Loss_u: 9.69117e-05, Loss_f: 1.76255e-04\n",
      "Iter 3000, Loss: 2.43076e-04, Loss_u: 9.35366e-05, Loss_f: 1.49540e-04\n",
      "Iter 3100, Loss: 2.13705e-04, Loss_u: 7.34226e-05, Loss_f: 1.40282e-04\n",
      "Iter 3200, Loss: 1.92713e-04, Loss_u: 6.36999e-05, Loss_f: 1.29013e-04\n",
      "Iter 3300, Loss: 1.76570e-04, Loss_u: 6.09828e-05, Loss_f: 1.15588e-04\n",
      "Iter 3400, Loss: 1.63313e-04, Loss_u: 5.24344e-05, Loss_f: 1.10879e-04\n",
      "Iter 3500, Loss: 1.50806e-04, Loss_u: 4.86401e-05, Loss_f: 1.02166e-04\n",
      "Iter 3600, Loss: 1.35879e-04, Loss_u: 3.31115e-05, Loss_f: 1.02768e-04\n",
      "Iter 3700, Loss: 1.28492e-04, Loss_u: 2.93351e-05, Loss_f: 9.91573e-05\n",
      "Iter 3800, Loss: 1.17842e-04, Loss_u: 2.66695e-05, Loss_f: 9.11728e-05\n",
      "Iter 3900, Loss: 1.09447e-04, Loss_u: 2.56515e-05, Loss_f: 8.37951e-05\n",
      "Iter 4000, Loss: 1.01027e-04, Loss_u: 1.96788e-05, Loss_f: 8.13481e-05\n",
      "Iter 4100, Loss: 9.07755e-05, Loss_u: 1.42033e-05, Loss_f: 7.65722e-05\n",
      "Iter 4200, Loss: 8.41691e-05, Loss_u: 1.38507e-05, Loss_f: 7.03183e-05\n",
      "Iter 4300, Loss: 7.56967e-05, Loss_u: 1.19185e-05, Loss_f: 6.37782e-05\n",
      "Iter 4400, Loss: 7.03962e-05, Loss_u: 9.47003e-06, Loss_f: 6.09262e-05\n",
      "Iter 4500, Loss: 6.52861e-05, Loss_u: 8.91922e-06, Loss_f: 5.63669e-05\n",
      "Iter 4600, Loss: 6.18976e-05, Loss_u: 7.68655e-06, Loss_f: 5.42111e-05\n",
      "Iter 4700, Loss: 5.73492e-05, Loss_u: 5.24744e-06, Loss_f: 5.21017e-05\n",
      "Iter 4800, Loss: 5.29297e-05, Loss_u: 4.70951e-06, Loss_f: 4.82201e-05\n",
      "Iter 4900, Loss: 4.88001e-05, Loss_u: 3.90098e-06, Loss_f: 4.48991e-05\n",
      "Iter 5000, Loss: 4.56715e-05, Loss_u: 3.86503e-06, Loss_f: 4.18064e-05\n",
      "Iter 5100, Loss: 4.15930e-05, Loss_u: 3.85143e-06, Loss_f: 3.77415e-05\n",
      "Iter 5200, Loss: 3.97291e-05, Loss_u: 3.93096e-06, Loss_f: 3.57981e-05\n",
      "Iter 5300, Loss: 3.75274e-05, Loss_u: 3.60533e-06, Loss_f: 3.39220e-05\n",
      "Iter 5400, Loss: 3.59354e-05, Loss_u: 3.13140e-06, Loss_f: 3.28040e-05\n",
      "Iter 5500, Loss: 3.37255e-05, Loss_u: 3.18988e-06, Loss_f: 3.05356e-05\n",
      "Iter 5600, Loss: 3.17850e-05, Loss_u: 3.12215e-06, Loss_f: 2.86628e-05\n",
      "Iter 5700, Loss: 2.96399e-05, Loss_u: 3.25722e-06, Loss_f: 2.63827e-05\n",
      "Iter 5800, Loss: 2.80827e-05, Loss_u: 3.09015e-06, Loss_f: 2.49926e-05\n",
      "Iter 5900, Loss: 2.63752e-05, Loss_u: 3.17580e-06, Loss_f: 2.31994e-05\n",
      "CPU times: user 52min 51s, sys: 21.5 s, total: 53min 13s\n",
      "Wall time: 6min 47s\n"
     ]
    }
   ],
   "source": [
    "%%time\n",
    "               \n",
    "model.train()"
   ]
  },
  {
   "cell_type": "code",
   "execution_count": 8,
   "metadata": {},
   "outputs": [
    {
     "name": "stdout",
     "output_type": "stream",
     "text": [
      "Error u: 8.014801e-03\n"
     ]
    }
   ],
   "source": [
    "u_pred, f_pred = model.predict(X_star)\n",
    "\n",
    "error_u = np.linalg.norm(u_star-u_pred,2)/np.linalg.norm(u_star,2)\n",
    "print('Error u: %e' % (error_u))                     \n",
    "\n",
    "# griddata inerpolates the function\n",
    "U_pred = griddata(X_star, u_pred.flatten(), (X, T), method='cubic')\n",
    "Error = np.abs(Exact - U_pred)"
   ]
  },
  {
   "cell_type": "markdown",
   "metadata": {},
   "source": [
    "## Visualizations"
   ]
  },
  {
   "cell_type": "code",
   "execution_count": 9,
   "metadata": {},
   "outputs": [
    {
     "data": {
      "image/png": "[encoded data removed]",
      "text/plain": [
       "<Figure size 648x360 with 2 Axes>"
      ]
     },
     "metadata": {
      "needs_background": "light"
     },
     "output_type": "display_data"
    }
   ],
   "source": [
    "\n",
    "\"\"\" The aesthetic setting has changed. \"\"\"\n",
    "\n",
    "####### Row 0: u(t,x) ##################    \n",
    "\n",
    "fig = plt.figure(figsize=(9, 5))\n",
    "ax = fig.add_subplot(111)\n",
    "\n",
    "h = ax.imshow(U_pred.T, interpolation='nearest', cmap='rainbow', \n",
    "              extent=[t.min(), t.max(), x.min(), x.max()], \n",
    "              origin='lower', aspect='auto')\n",
    "divider = make_axes_locatable(ax)\n",
    "cax = divider.append_axes(\"right\", size=\"5%\", pad=0.10)\n",
    "cbar = fig.colorbar(h, cax=cax)\n",
    "cbar.ax.tick_params(labelsize=15) \n",
    "\n",
    "ax.plot(\n",
    "    X_u_train[:,1], \n",
    "    X_u_train[:,0], \n",
    "    'kx', label = 'Data (%d points)' % (u_train.shape[0]), \n",
    "    markersize = 4,  # marker size doubled\n",
    "    clip_on = False,\n",
    "    alpha=1.0\n",
    ")\n",
    "\n",
    "line = np.linspace(x.min(), x.max(), 2)[:,None]\n",
    "ax.plot(t[25]*np.ones((2,1)), line, 'w-', linewidth = 1)\n",
    "ax.plot(t[50]*np.ones((2,1)), line, 'w-', linewidth = 1)\n",
    "ax.plot(t[75]*np.ones((2,1)), line, 'w-', linewidth = 1)\n",
    "\n",
    "ax.set_xlabel('$t$', size=20)\n",
    "ax.set_ylabel('$x$', size=20)\n",
    "ax.legend(\n",
    "    loc='upper center', \n",
    "    bbox_to_anchor=(0.9, -0.05), \n",
    "    ncol=5, \n",
    "    frameon=False, \n",
    "    prop={'size': 15}\n",
    ")\n",
    "ax.set_title('$u(t,x)$', fontsize = 20) # font size doubled\n",
    "ax.tick_params(labelsize=15)\n",
    "\n",
    "plt.show()"
   ]
  },
  {
   "cell_type": "code",
   "execution_count": 10,
   "metadata": {},
   "outputs": [
    {
     "data": {
      "image/png": "[encoded data removed]",
      "text/plain": [
       "<Figure size 1008x720 with 3 Axes>"
      ]
     },
     "metadata": {
      "needs_background": "light"
     },
     "output_type": "display_data"
    }
   ],
   "source": [
    "####### Row 1: u(t,x) slices ################## \n",
    "\n",
    "\"\"\" The aesthetic setting has changed. \"\"\"\n",
    "\n",
    "fig = plt.figure(figsize=(14, 10))\n",
    "ax = fig.add_subplot(111)\n",
    "\n",
    "gs1 = gridspec.GridSpec(1, 3)\n",
    "gs1.update(top=1-1.0/3.0-0.1, bottom=1.0-2.0/3.0, left=0.1, right=0.9, wspace=0.5)\n",
    "\n",
    "ax = plt.subplot(gs1[0, 0])\n",
    "ax.plot(x,Exact[25,:], 'b-', linewidth = 2, label = 'Exact')       \n",
    "ax.plot(x,U_pred[25,:], 'r--', linewidth = 2, label = 'Prediction')\n",
    "ax.set_xlabel('$x$')\n",
    "ax.set_ylabel('$u(t,x)$')    \n",
    "ax.set_title('$t = 0.25$', fontsize = 15)\n",
    "ax.axis('square')\n",
    "ax.set_xlim([-1.1,1.1])\n",
    "ax.set_ylim([-1.1,1.1])\n",
    "\n",
    "for item in ([ax.title, ax.xaxis.label, ax.yaxis.label] +\n",
    "             ax.get_xticklabels() + ax.get_yticklabels()):\n",
    "    item.set_fontsize(15)\n",
    "\n",
    "ax = plt.subplot(gs1[0, 1])\n",
    "ax.plot(x,Exact[50,:], 'b-', linewidth = 2, label = 'Exact')       \n",
    "ax.plot(x,U_pred[50,:], 'r--', linewidth = 2, label = 'Prediction')\n",
    "ax.set_xlabel('$x$')\n",
    "ax.set_ylabel('$u(t,x)$')\n",
    "ax.axis('square')\n",
    "ax.set_xlim([-1.1,1.1])\n",
    "ax.set_ylim([-1.1,1.1])\n",
    "ax.set_title('$t = 0.50$', fontsize = 15)\n",
    "ax.legend(\n",
    "    loc='upper center', \n",
    "    bbox_to_anchor=(0.5, -0.15), \n",
    "    ncol=5, \n",
    "    frameon=False, \n",
    "    prop={'size': 15}\n",
    ")\n",
    "\n",
    "for item in ([ax.title, ax.xaxis.label, ax.yaxis.label] +\n",
    "             ax.get_xticklabels() + ax.get_yticklabels()):\n",
    "    item.set_fontsize(15)\n",
    "\n",
    "ax = plt.subplot(gs1[0, 2])\n",
    "ax.plot(x,Exact[75,:], 'b-', linewidth = 2, label = 'Exact')       \n",
    "ax.plot(x,U_pred[75,:], 'r--', linewidth = 2, label = 'Prediction')\n",
    "ax.set_xlabel('$x$')\n",
    "ax.set_ylabel('$u(t,x)$')\n",
    "ax.axis('square')\n",
    "ax.set_xlim([-1.1,1.1])\n",
    "ax.set_ylim([-1.1,1.1])    \n",
    "ax.set_title('$t = 0.75$', fontsize = 15)\n",
    "\n",
    "for item in ([ax.title, ax.xaxis.label, ax.yaxis.label] +\n",
    "             ax.get_xticklabels() + ax.get_yticklabels()):\n",
    "    item.set_fontsize(15)\n",
    "\n",
    "plt.show()"
   ]
  }
 ],
 "metadata": {
  "kernelspec": {
   "display_name": "Python 3",
   "language": "python",
   "name": "python3"
  },
  "language_info": {
   "codemirror_mode": {
    "name": "ipython",
    "version": 3
   },
   "file_extension": ".py",
   "mimetype": "text/x-python",
   "name": "python",
   "nbconvert_exporter": "python",
   "pygments_lexer": "ipython3",
   "version": "3.9.5"
  }
 },
 "nbformat": 4,
 "nbformat_minor": 4
}
