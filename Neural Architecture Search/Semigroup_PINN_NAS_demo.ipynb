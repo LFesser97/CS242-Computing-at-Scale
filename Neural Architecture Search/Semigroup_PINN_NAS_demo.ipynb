{
  "cells": [
    {
      "cell_type": "code",
      "execution_count": null,
      "metadata": {
        "id": "2c314520"
      },
      "outputs": [],
      "source": [
        "import torch\n",
        "from collections import OrderedDict\n",
        "\n",
        "import numpy as np\n",
        "import matplotlib\n",
        "import matplotlib.pyplot as plt\n",
        "matplotlib.rcParams['pgf.texsystem'] = 'pdflatex'\n",
        "matplotlib.rcParams.update({'font.family': 'serif', 'font.size': 10})\n",
        "matplotlib.rcParams['text.usetex'] = True\n",
        "from matplotlib.lines import Line2D\n",
        "\n",
        "from scipy.interpolate import griddata\n",
        "import time\n",
        "\n",
        "np.random.seed(1234)"
      ],
      "id": "2c314520"
    },
    {
      "cell_type": "code",
      "execution_count": null,
      "metadata": {
        "id": "THVI4fSP7uAY"
      },
      "outputs": [],
      "source": [
        "import matplotlib as mpl\n",
        "mpl.rcParams.update(mpl.rcParamsDefault)"
      ],
      "id": "THVI4fSP7uAY"
    },
    {
      "cell_type": "markdown",
      "metadata": {
        "id": "dab6d595"
      },
      "source": [
        "As a proof of concept of divide and conquer phyiscs informed neural networks, we consider the ODE\n",
        "\n",
        "\\begin{align*}\n",
        "    \\frac{d}{dt} \\begin{pmatrix} y_1 \\\\ y_2 \\end{pmatrix}(t) = \\begin{pmatrix} -y_2 \\\\ y_1 \\end{pmatrix} (t).\n",
        "\\end{align*}\n",
        "\n",
        "For a given initial state $y_0 = (y_0^1, y_0^2) \\in \\mathbb{R}^2$, the solution $(y(t))_{t\\geq0}$ flows in counter clockwise circles and is given by\n",
        "\n",
        "\\begin{align*}\n",
        "    y(t) = \\begin{pmatrix} y_0^1 \\cos(t) - y_0^2 \\sin(t) \\\\ y_0^2 \\cos(t) + y_0^1 \\sin(t) \\end{pmatrix}.\n",
        "\\end{align*}"
      ],
      "id": "dab6d595"
    },
    {
      "cell_type": "code",
      "execution_count": null,
      "metadata": {
        "id": "74e11fc3"
      },
      "outputs": [],
      "source": [
        "def vector_field(y):\n",
        "    \n",
        "    return torch.tensor([-y[1], y[0]])\n",
        "\n",
        "\n",
        "def solution_simple_ODE(t, y0):\n",
        "    \n",
        "    y1t = y0[0] * np.cos(t) - y0[1] * np.sin(t)\n",
        "    y2t = y0[1] * np.cos(t) + y0[0] * np.sin(t)\n",
        "\n",
        "    return np.array([y1t, y2t])"
      ],
      "id": "74e11fc3"
    },
    {
      "cell_type": "code",
      "execution_count": null,
      "metadata": {
        "id": "135abf6b"
      },
      "outputs": [],
      "source": [
        "# CUDA support \n",
        "if torch.cuda.is_available():\n",
        "    device = torch.device('cuda')\n",
        "else:\n",
        "    device = torch.device('cpu')"
      ],
      "id": "135abf6b"
    },
    {
      "cell_type": "code",
      "execution_count": null,
      "metadata": {
        "id": "92eed791"
      },
      "outputs": [],
      "source": [
        "# the deep neural network\n",
        "\n",
        "class DNN(torch.nn.Module):\n",
        "    \n",
        "    def __init__(self, layers):\n",
        "        \n",
        "        super().__init__()\n",
        "        \n",
        "        # parameters\n",
        "        self.depth = len(layers) - 1\n",
        "        \n",
        "        # set up layer order dict\n",
        "        self.activation = torch.nn.Tanh\n",
        "        \n",
        "        layer_list = list()\n",
        "        for i in range(self.depth - 1): \n",
        "            layer_list.append(\n",
        "                ('layer_%d' % i, torch.nn.Linear(layers[i], layers[i+1]))\n",
        "            )\n",
        "            layer_list.append(('activation_%d' % i, self.activation()))\n",
        "            \n",
        "        layer_list.append(\n",
        "            ('layer_%d' % (self.depth - 1), torch.nn.Linear(layers[-2], layers[-1]))\n",
        "        )\n",
        "        layerDict = OrderedDict(layer_list)\n",
        "        \n",
        "        # deploy layers\n",
        "        self.layers = torch.nn.Sequential(layerDict)\n",
        "    \n",
        "    \n",
        "    def forward(self, x):\n",
        "        \n",
        "        # x = (t, y0)\n",
        "        return self.layers(x)\n"
      ],
      "id": "92eed791"
    },
    {
      "cell_type": "code",
      "execution_count": null,
      "metadata": {
        "id": "pTMdcMMNF4JA"
      },
      "outputs": [],
      "source": [
        "class PINN_baseline():\n",
        "\n",
        "    def __init__(self, X_pinn, X_semigroup, X_smooth, T,nas_model,layers,nas_search = True):\n",
        "\n",
        "        # neural network architecture\n",
        "        self.layers = layers\n",
        "        self.dnn = DNN(layers).to(device)\n",
        "        \n",
        "        #self.dnn = nas_model.to(device)\n",
        "        # semigroup PINN step time\n",
        "        self.T = torch.tensor(T).float().to(device)\n",
        "\n",
        "        # training data\n",
        "        self.t_pinn = torch.tensor(X_pinn[:, :1], requires_grad=True).float().to(device)\n",
        "        self.y_pinn = torch.tensor(X_pinn[:, 1:], requires_grad=True).float().to(device)\n",
        "        \n",
        "        self.s_semigroup = torch.tensor(X_semigroup[:, :1], requires_grad=True).float().to(device)\n",
        "        self.t_semigroup = torch.tensor(X_semigroup[:, 1:2], requires_grad=True).float().to(device)\n",
        "        self.y_semigroup = torch.tensor(X_semigroup[:, 2:], requires_grad=True).float().to(device)\n",
        "        \n",
        "        self.t_smooth = torch.tensor(X_smooth[:, :1], requires_grad=True).float().to(device)\n",
        "        self.y_smooth = torch.tensor(X_smooth[:, 1:], requires_grad=True).float().to(device)\n",
        "        \n",
        "        # optimization\n",
        "        #low fidelity evaluation for NAS search\n",
        "        if nas_search:\n",
        "          self.optimizer = torch.optim.LBFGS(\n",
        "              self.dnn.parameters(), lr=1.0, max_iter=100, max_eval=100, \n",
        "              history_size=50, tolerance_grad=1e-5, tolerance_change=np.finfo(float).eps, \n",
        "              line_search_fn=\"strong_wolfe\"\n",
        "          )\n",
        "        #Train after picking the best architecture\n",
        "        else:\n",
        "          self.optimizer = torch.optim.LBFGS(\n",
        "              self.dnn.parameters(), lr=1.0, max_iter=2000, max_eval=2000, \n",
        "              history_size=50, tolerance_grad=1e-5, tolerance_change=np.finfo(float).eps, \n",
        "              line_search_fn=\"strong_wolfe\"\n",
        "          )\n",
        "\n",
        "        self.iter = 0\n",
        "    \n",
        "    \n",
        "    def net_y(self, t, y0):\n",
        "        \n",
        "        # The M(t, y0) = y0 + t N(t, y0) scheme seems to drastically increase the accuracy\n",
        "        # This works perfectly fine with automatic differentiation\n",
        "        y = y0 + t * self.dnn(torch.cat([t, y0], dim=1))\n",
        "        \n",
        "        return y\n",
        "    \n",
        "    \n",
        "    def net_derivative(self, t, y0):\n",
        "        \"\"\"\n",
        "        Pytorch automatic differentiation to compute the derivative of the neural network\n",
        "        \"\"\"\n",
        "        y = self.net_y(t, y0)\n",
        "        \n",
        "        # vectors for the autograd vector Jacobian product \n",
        "        # to compute the derivatives w.r.t. every output dimension\n",
        "        vectors = [torch.zeros_like(y) for i in range(2)]\n",
        "        \n",
        "        for i, vec in enumerate(vectors):\n",
        "            \n",
        "            vec[:,i] = 1.\n",
        "        \n",
        "        # list of derivative tensors\n",
        "        # the first entry is a tensor with \\partial_t PINN(t, y0) for all (t, y0) in the batch,\n",
        "        # each input (t, y0) corresponds to one row in each tensor\n",
        "        derivatives = [\n",
        "            torch.autograd.grad(\n",
        "                y, t, \n",
        "                grad_outputs=vec,\n",
        "                retain_graph=True,\n",
        "                create_graph=True\n",
        "            )[0]\n",
        "            for vec in vectors\n",
        "        ]\n",
        "        \n",
        "        return derivatives\n",
        "    \n",
        "    \n",
        "    def loss_function(self):\n",
        "        \n",
        "        self.optimizer.zero_grad()\n",
        "        \n",
        "        y_pred = self.net_y(self.t_pinn, self.y_pinn)\n",
        "        deriv_pred = self.net_derivative(self.t_pinn, self.y_pinn)\n",
        "        \n",
        "        # This is specific to the ODE\n",
        "        loss_pinn1 = torch.mean((deriv_pred[0] + y_pred[:,1:2]) ** 2)\n",
        "        loss_pinn2 = torch.mean((deriv_pred[1] - y_pred[:,0:1]) ** 2)\n",
        "        loss_pinn = loss_pinn1 + loss_pinn2\n",
        "        \n",
        "        # The general semigroup loss for autonomous ODEs\n",
        "        y_pred_tps = self.net_y(self.s_semigroup + self.t_semigroup, self.y_semigroup)\n",
        "        y_pred_s = self.net_y(self.s_semigroup, self.y_semigroup)\n",
        "        y_pred_restart = self.net_y(self.t_semigroup, y_pred_s)\n",
        "        loss_semigroup = torch.mean((y_pred_tps - y_pred_restart) ** 2)\n",
        "        \n",
        "        # The smoothness loss\n",
        "        y_pred_smooth = self.net_y(self.t_smooth, self.y_smooth)\n",
        "        deriv_pred_below = self.net_derivative(self.t_smooth, self.y_smooth)\n",
        "        deriv_pred_above = self.net_derivative(torch.zeros_like(self.t_smooth, requires_grad=True), y_pred_smooth)\n",
        "        \n",
        "        loss_smooth = .0\n",
        "        \n",
        "        for t1, t2 in zip(deriv_pred_below, deriv_pred_above):\n",
        "            \n",
        "            loss_smooth += torch.mean((t1 - t2) ** 2)\n",
        "        \n",
        "        loss = loss_pinn + loss_smooth + loss_semigroup\n",
        "        \n",
        "        loss.backward()\n",
        "        self.iter += 1\n",
        "        \n",
        "        if self.iter % 100 == 0:\n",
        "            print(\n",
        "                f\"Iter {self.iter}, Loss: {loss.item():.5f}, Loss_pinn: {loss_pinn.item():.5f} \" \\\n",
        "                f\"Loss_smooth: {loss_smooth.item():.5f}, Loss_semigroup: {loss_semigroup.item():.5f}\"\n",
        "            )\n",
        "        \n",
        "        return loss\n",
        "    \n",
        "    def get_final_loss(self):\n",
        "        self.optimizer.zero_grad()\n",
        "        y_pred = self.net_y(self.t_pinn, self.y_pinn)\n",
        "        deriv_pred = self.net_derivative(self.t_pinn, self.y_pinn)\n",
        "        \n",
        "        # This is specific to the ODE\n",
        "        loss_pinn1 = torch.mean((deriv_pred[0] + y_pred[:,1:2]) ** 2)\n",
        "        loss_pinn2 = torch.mean((deriv_pred[1] - y_pred[:,0:1]) ** 2)\n",
        "        loss_pinn = loss_pinn1 + loss_pinn2\n",
        "        \n",
        "        # The general semigroup loss for autonomous ODEs\n",
        "        y_pred_tps = self.net_y(self.s_semigroup + self.t_semigroup, self.y_semigroup)\n",
        "        y_pred_s = self.net_y(self.s_semigroup, self.y_semigroup)\n",
        "        y_pred_restart = self.net_y(self.t_semigroup, y_pred_s)\n",
        "        loss_semigroup = torch.mean((y_pred_tps - y_pred_restart) ** 2)\n",
        "        \n",
        "        # The smoothness loss\n",
        "        y_pred_smooth = self.net_y(self.t_smooth, self.y_smooth)\n",
        "        deriv_pred_below = self.net_derivative(self.t_smooth, self.y_smooth)\n",
        "        deriv_pred_above = self.net_derivative(torch.zeros_like(self.t_smooth, requires_grad=True), y_pred_smooth)\n",
        "        \n",
        "        loss_smooth = .0\n",
        "        \n",
        "        for t1, t2 in zip(deriv_pred_below, deriv_pred_above):\n",
        "            \n",
        "            loss_smooth += torch.mean((t1 - t2) ** 2)\n",
        "        \n",
        "        loss_final = loss_pinn + loss_smooth + loss_semigroup\n",
        "        return loss_final\n",
        "\n",
        "    def train(self):\n",
        "        \n",
        "        self.dnn.train()\n",
        "        self.optimizer.step(self.loss_function)\n",
        "        running_loss = self.get_final_loss()\n",
        "        return running_loss.item()\n",
        "        #self.dnn.train()\n",
        "        #self.loss_function()\n",
        "        #self.optimizer.step()\n",
        "    \n",
        "    def predict(self, t, y0):\n",
        "        \n",
        "        t = torch.tensor(t, requires_grad=True).float().to(device)\n",
        "        y0 = torch.tensor(y0, requires_grad=True).float().to(device)\n",
        "        \n",
        "        self.dnn.eval()\n",
        "        y = self.net_y(t, y0)\n",
        "        y = y.detach().cpu().numpy()\n",
        "        \n",
        "        return y"
      ],
      "id": "pTMdcMMNF4JA"
    },
    {
      "cell_type": "code",
      "execution_count": null,
      "metadata": {
        "id": "300b459c"
      },
      "outputs": [],
      "source": [
        "# PINN: physics-informed neural network\n",
        "class PINN():\n",
        "\n",
        "    def __init__(self, X_pinn, X_semigroup, X_smooth, T,nas_model,nas_search = True):\n",
        "\n",
        "        # neural network architecture\n",
        "        #self.layers = layers\n",
        "        #self.dnn = DNN(layers).to(device)\n",
        "        \n",
        "        self.dnn = nas_model.to(device)\n",
        "        # semigroup PINN step time\n",
        "        self.T = torch.tensor(T).float().to(device)\n",
        "\n",
        "        # training data\n",
        "        self.t_pinn = torch.tensor(X_pinn[:, :1], requires_grad=True).float().to(device)\n",
        "        self.y_pinn = torch.tensor(X_pinn[:, 1:], requires_grad=True).float().to(device)\n",
        "        \n",
        "        self.s_semigroup = torch.tensor(X_semigroup[:, :1], requires_grad=True).float().to(device)\n",
        "        self.t_semigroup = torch.tensor(X_semigroup[:, 1:2], requires_grad=True).float().to(device)\n",
        "        self.y_semigroup = torch.tensor(X_semigroup[:, 2:], requires_grad=True).float().to(device)\n",
        "        \n",
        "        self.t_smooth = torch.tensor(X_smooth[:, :1], requires_grad=True).float().to(device)\n",
        "        self.y_smooth = torch.tensor(X_smooth[:, 1:], requires_grad=True).float().to(device)\n",
        "        \n",
        "        # optimization\n",
        "        #low fidelity evaluation for NAS search\n",
        "        if nas_search:\n",
        "          self.optimizer = torch.optim.LBFGS(\n",
        "              self.dnn.parameters(), lr=1.0, max_iter=100, max_eval=100, \n",
        "              history_size=50, tolerance_grad=1e-5, tolerance_change=np.finfo(float).eps, \n",
        "              line_search_fn=\"strong_wolfe\"\n",
        "          )\n",
        "        #Train after picking the best architecture\n",
        "        else:\n",
        "          self.optimizer = torch.optim.LBFGS(\n",
        "              self.dnn.parameters(), lr=1.0, max_iter=2000, max_eval=2000, \n",
        "              history_size=50, tolerance_grad=1e-5, tolerance_change=np.finfo(float).eps, \n",
        "              line_search_fn=\"strong_wolfe\"\n",
        "          )\n",
        "\n",
        "        self.iter = 0\n",
        "    \n",
        "    \n",
        "    def net_y(self, t, y0):\n",
        "        \n",
        "        # The M(t, y0) = y0 + t N(t, y0) scheme seems to drastically increase the accuracy\n",
        "        # This works perfectly fine with automatic differentiation\n",
        "        y = y0 + t * self.dnn(torch.cat([t, y0], dim=1))\n",
        "        \n",
        "        return y\n",
        "    \n",
        "    \n",
        "    def net_derivative(self, t, y0):\n",
        "        \"\"\"\n",
        "        Pytorch automatic differentiation to compute the derivative of the neural network\n",
        "        \"\"\"\n",
        "        y = self.net_y(t, y0)\n",
        "        \n",
        "        # vectors for the autograd vector Jacobian product \n",
        "        # to compute the derivatives w.r.t. every output dimension\n",
        "        vectors = [torch.zeros_like(y) for i in range(2)]\n",
        "        \n",
        "        for i, vec in enumerate(vectors):\n",
        "            \n",
        "            vec[:,i] = 1.\n",
        "        \n",
        "        # list of derivative tensors\n",
        "        # the first entry is a tensor with \\partial_t PINN(t, y0) for all (t, y0) in the batch,\n",
        "        # each input (t, y0) corresponds to one row in each tensor\n",
        "        derivatives = [\n",
        "            torch.autograd.grad(\n",
        "                y, t, \n",
        "                grad_outputs=vec,\n",
        "                retain_graph=True,\n",
        "                create_graph=True\n",
        "            )[0]\n",
        "            for vec in vectors\n",
        "        ]\n",
        "        \n",
        "        return derivatives\n",
        "    \n",
        "    \n",
        "    def loss_function(self):\n",
        "        \n",
        "        self.optimizer.zero_grad()\n",
        "        \n",
        "        y_pred = self.net_y(self.t_pinn, self.y_pinn)\n",
        "        deriv_pred = self.net_derivative(self.t_pinn, self.y_pinn)\n",
        "        \n",
        "        # This is specific to the ODE\n",
        "        loss_pinn1 = torch.mean((deriv_pred[0] + y_pred[:,1:2]) ** 2)\n",
        "        loss_pinn2 = torch.mean((deriv_pred[1] - y_pred[:,0:1]) ** 2)\n",
        "        loss_pinn = loss_pinn1 + loss_pinn2\n",
        "        \n",
        "        # The general semigroup loss for autonomous ODEs\n",
        "        y_pred_tps = self.net_y(self.s_semigroup + self.t_semigroup, self.y_semigroup)\n",
        "        y_pred_s = self.net_y(self.s_semigroup, self.y_semigroup)\n",
        "        y_pred_restart = self.net_y(self.t_semigroup, y_pred_s)\n",
        "        loss_semigroup = torch.mean((y_pred_tps - y_pred_restart) ** 2)\n",
        "        \n",
        "        # The smoothness loss\n",
        "        y_pred_smooth = self.net_y(self.t_smooth, self.y_smooth)\n",
        "        deriv_pred_below = self.net_derivative(self.t_smooth, self.y_smooth)\n",
        "        deriv_pred_above = self.net_derivative(torch.zeros_like(self.t_smooth, requires_grad=True), y_pred_smooth)\n",
        "        \n",
        "        loss_smooth = .0\n",
        "        \n",
        "        for t1, t2 in zip(deriv_pred_below, deriv_pred_above):\n",
        "            \n",
        "            loss_smooth += torch.mean((t1 - t2) ** 2)\n",
        "        \n",
        "        loss = loss_pinn + loss_smooth + loss_semigroup\n",
        "        \n",
        "        loss.backward()\n",
        "        self.iter += 1\n",
        "        \n",
        "        if self.iter % 100 == 0:\n",
        "            print(\n",
        "                f\"Iter {self.iter}, Loss: {loss.item():.5f}, Loss_pinn: {loss_pinn.item():.5f} \" \\\n",
        "                f\"Loss_smooth: {loss_smooth.item():.5f}, Loss_semigroup: {loss_semigroup.item():.5f}\"\n",
        "            )\n",
        "        \n",
        "        return loss\n",
        "    \n",
        "    def get_final_loss(self):\n",
        "        self.optimizer.zero_grad()\n",
        "        y_pred = self.net_y(self.t_pinn, self.y_pinn)\n",
        "        deriv_pred = self.net_derivative(self.t_pinn, self.y_pinn)\n",
        "        \n",
        "        # This is specific to the ODE\n",
        "        loss_pinn1 = torch.mean((deriv_pred[0] + y_pred[:,1:2]) ** 2)\n",
        "        loss_pinn2 = torch.mean((deriv_pred[1] - y_pred[:,0:1]) ** 2)\n",
        "        loss_pinn = loss_pinn1 + loss_pinn2\n",
        "        \n",
        "        # The general semigroup loss for autonomous ODEs\n",
        "        y_pred_tps = self.net_y(self.s_semigroup + self.t_semigroup, self.y_semigroup)\n",
        "        y_pred_s = self.net_y(self.s_semigroup, self.y_semigroup)\n",
        "        y_pred_restart = self.net_y(self.t_semigroup, y_pred_s)\n",
        "        loss_semigroup = torch.mean((y_pred_tps - y_pred_restart) ** 2)\n",
        "        \n",
        "        # The smoothness loss\n",
        "        y_pred_smooth = self.net_y(self.t_smooth, self.y_smooth)\n",
        "        deriv_pred_below = self.net_derivative(self.t_smooth, self.y_smooth)\n",
        "        deriv_pred_above = self.net_derivative(torch.zeros_like(self.t_smooth, requires_grad=True), y_pred_smooth)\n",
        "        \n",
        "        loss_smooth = .0\n",
        "        \n",
        "        for t1, t2 in zip(deriv_pred_below, deriv_pred_above):\n",
        "            \n",
        "            loss_smooth += torch.mean((t1 - t2) ** 2)\n",
        "        \n",
        "        loss_final = loss_pinn + loss_smooth + loss_semigroup\n",
        "        return loss_final\n",
        "\n",
        "    def train(self):\n",
        "        \n",
        "        self.dnn.train()\n",
        "        self.optimizer.step(self.loss_function)\n",
        "        running_loss = self.get_final_loss()\n",
        "        return running_loss.item()\n",
        "        #self.dnn.train()\n",
        "        #self.loss_function()\n",
        "        #self.optimizer.step()\n",
        "    \n",
        "    def predict(self, t, y0):\n",
        "        \n",
        "        t = torch.tensor(t, requires_grad=True).float().to(device)\n",
        "        y0 = torch.tensor(y0, requires_grad=True).float().to(device)\n",
        "        \n",
        "        self.dnn.eval()\n",
        "        y = self.net_y(t, y0)\n",
        "        y = y.detach().cpu().numpy()\n",
        "        \n",
        "        return y"
      ],
      "id": "300b459c"
    },
    {
      "cell_type": "markdown",
      "metadata": {
        "id": "68934f41"
      },
      "source": [
        "### Setup data example"
      ],
      "id": "68934f41"
    },
    {
      "cell_type": "code",
      "execution_count": null,
      "metadata": {
        "id": "b5ae371e"
      },
      "outputs": [],
      "source": [
        "layers = [3, 20, 20, 20, 20, 2]\n",
        "\n",
        "T = 1\n",
        "max_y0 = 5\n",
        "\n",
        "# standard PINN loss function training samples\n",
        "N_pinn = 10000\n",
        "N_semigroup = 10000\n",
        "N_smooth = 10000\n",
        "\n",
        "\n",
        "t_pinn = np.random.uniform(0, T, (N_pinn, 1))\n",
        "y_pinn = np.random.uniform(0, max_y0, (N_pinn, 2))\n",
        "X_pinn = np.hstack([t_pinn, y_pinn])\n",
        "\n",
        "\n",
        "r1 = np.random.uniform(0, 1, N_semigroup)\n",
        "r2 = np.random.uniform(0, 1, N_semigroup)\n",
        "s_semigroup, t_semigroup = np.sqrt(r1) * (1 - r2), r2 * np.sqrt(r1)\n",
        "s_semigroup, t_semigroup = T * s_semigroup[:, np.newaxis], T * t_semigroup[:, np.newaxis]\n",
        "y_semigroup = np.random.uniform(0, max_y0, (N_semigroup, 2))\n",
        "X_semigroup = np.hstack([s_semigroup, t_semigroup, y_semigroup])\n",
        "\n",
        "\n",
        "t_smooth = np.random.uniform(0, T, (N_smooth, 1))\n",
        "y_smooth = np.random.uniform(0, max_y0, (N_smooth, 2))\n",
        "X_smooth = np.hstack([t_smooth, y_smooth])"
      ],
      "id": "b5ae371e"
    },
    {
      "cell_type": "markdown",
      "metadata": {
        "id": "3dd52a59"
      },
      "source": [
        "## Predict and Plot the Solution"
      ],
      "id": "3dd52a59"
    },
    {
      "cell_type": "code",
      "execution_count": null,
      "metadata": {
        "id": "ff2236a2"
      },
      "outputs": [],
      "source": [
        "def generate_figure(figsize, xlim, ylim):\n",
        "    \n",
        "    fig, ax = plt.subplots(figsize=figsize)\n",
        "    #ax.spines[['top', 'right']].set_visible(False)\n",
        "    ax.set_xlim(xlim)\n",
        "    ax.set_ylim(ylim)\n",
        "    \n",
        "    return fig, ax\n",
        "\n",
        "\n",
        "def plot_ode_solution(ax, y, *args, **kwargs):\n",
        "    \n",
        "    ax.plot(y[:,0], y[:,1], '.-', *args, **kwargs)\n",
        "    \n",
        "    return ax"
      ],
      "id": "ff2236a2"
    },
    {
      "cell_type": "code",
      "execution_count": null,
      "metadata": {
        "id": "2f561ea4"
      },
      "outputs": [],
      "source": [
        "def predict_standard(model, y0, max_t_pred, delta_t):\n",
        "    \n",
        "    times = np.linspace(0, max_t_pred, int(max_t_pred / delta_t) + 1)\n",
        "    times = times[:,np.newaxis]\n",
        "    \n",
        "    y0 = np.array([y0 for _ in range(len(times))])\n",
        "    trajectory =  model.predict(times, y0)\n",
        "    \n",
        "    return trajectory\n",
        "\n",
        "\n",
        "def predict_dac(model, y0, max_t_pred, delta_t):\n",
        "    \"\"\"\n",
        "    detla_t should devide model.max_t to guarantee equidistant steps\n",
        "    \"\"\"\n",
        "    times = np.arange(0, model.T + delta_t, delta_t)[1:]\n",
        "    times = times[:,np.newaxis]\n",
        "    n_resets = int(np.ceil(max_t_pred / model.T))\n",
        "    \n",
        "    trajectory = np.array([y0])\n",
        "    \n",
        "    for _ in range(n_resets):\n",
        "        \n",
        "        y0 = trajectory[-1]\n",
        "        y0 = np.array([y0 for _ in range(len(times))])\n",
        "        segment =  model.predict(times, y0)\n",
        "        trajectory = np.vstack([trajectory, segment])\n",
        "    \n",
        "    return trajectory"
      ],
      "id": "2f561ea4"
    },
    {
      "cell_type": "markdown",
      "metadata": {
        "id": "S5NLezOKYCXg"
      },
      "source": [
        "#Semigroup PINN NAS"
      ],
      "id": "S5NLezOKYCXg"
    },
    {
      "cell_type": "code",
      "execution_count": null,
      "metadata": {
        "id": "CzdyYTRXaloS"
      },
      "outputs": [],
      "source": [
        "import torch\n",
        "from torch import nn\n",
        "from torch.utils.data import Dataset\n",
        "from torch.utils.data import DataLoader\n",
        "import random\n",
        "import tqdm\n",
        "from torch.autograd import Variable"
      ],
      "id": "CzdyYTRXaloS"
    },
    {
      "cell_type": "code",
      "execution_count": null,
      "metadata": {
        "id": "XWSly3qvYGbp"
      },
      "outputs": [],
      "source": [
        "#Class that defines the search space\n",
        "class MLPSearchSpace(object):\n",
        "  def __init__(self):\n",
        "    self.vocab = self.vocab_dict()\n",
        "  def vocab_dict(self):\n",
        "    #could be modified to contain cnn or more complicate structure\n",
        "    nodes = [8,16,32,64,128,256,512,1024]\n",
        "    act_funcs = ['relu','elu','tanh']\n",
        "\n",
        "    layer_params = []\n",
        "    layer_id = []\n",
        "\n",
        "    for i in range(len(nodes)):\n",
        "      for j in range(len(act_funcs)):\n",
        "        layer_params.append((nodes[i],act_funcs[j]))\n",
        "        layer_id.append(len(act_funcs)*i+j)\n",
        "    vocab = dict(zip(layer_id,layer_params))\n",
        "    return vocab\n",
        "  #randomly sample architecture from the search space. The default number of sampled \n",
        "  #architecture is 10\n",
        "  def random_sample_architecture(self,architecture_num = 10):\n",
        "    search_space_size = len(self.vocab)\n",
        "    architecture_space = []\n",
        "    for i in range(architecture_num):\n",
        "      layer_num = random.randint(3, 10)\n",
        "      sequence = [random.randint(0, search_space_size-1) for i in range(layer_num)]\n",
        "      architecture_space.append(sequence)\n",
        "    return architecture_space\n",
        "\n",
        "  #Encode architecture(list) into numerical sequence\n",
        "  def encode_sequence(self, sequence):\n",
        "    keys = list(self.vocab.keys())\n",
        "    values = list(self.vocab.values())\n",
        "    encoded_sequence = []\n",
        "    for value in sequence:\n",
        "      encoded_sequence.append(keys[values.index(value)])\n",
        "    return encoded_sequence\n",
        "  \n",
        "  #Decode numerical sequence into architecture(list)\n",
        "  def decode_sequence(self, sequence):\n",
        "    keys = list(self.vocab.keys())\n",
        "    values = list(self.vocab.values())\n",
        "    decoded_sequence = []\n",
        "    for key in sequence:\n",
        "      decoded_sequence.append(values[keys.index(key)])\n",
        "    return decoded_sequence"
      ],
      "id": "XWSly3qvYGbp"
    },
    {
      "cell_type": "code",
      "execution_count": null,
      "metadata": {
        "id": "U0bsNmD-YNbQ"
      },
      "outputs": [],
      "source": [
        "#class to generate model based on the given architecture\n",
        "class MLPGenerator(MLPSearchSpace):\n",
        "  def __init__(self):\n",
        "    super().__init__()\n",
        "    self.mlp_one_shot = True\n",
        "    self.mlp_optimizer = 'Adam'\n",
        "    self.mlp_lr = 1e-4\n",
        "    self.mlp_loss_func = 'mse'\n",
        "  \n",
        "  #create model based on the sequence. User can define the input size\n",
        "  def create_model(self,sequence,mlp_input_shape = 3):\n",
        "    layer_configs = self.decode_sequence(sequence)\n",
        "    #layer_configs = sequence\n",
        "    layers = nn.Sequential()\n",
        "    previous_layer_num = 0\n",
        "    for i,layer_conf in enumerate(layer_configs):\n",
        "      if i == 0:\n",
        "        layers.append(nn.Linear(mlp_input_shape,layer_conf[0]))\n",
        "        if layer_configs[i][1] == 'relu':\n",
        "          layers.append(nn.ReLU())\n",
        "        elif layer_configs[i][1] == 'elu':\n",
        "          layers.append(nn.ELU())\n",
        "        else:\n",
        "          layers.append(nn.Tanh())\n",
        "        previous_layer_num = layer_conf[0]\n",
        "      else:\n",
        "        layers.append(nn.Linear(previous_layer_num,layer_conf[0]))\n",
        "        previous_layer_num = layer_conf[0]\n",
        "        if layer_configs[i][1] == 'relu':\n",
        "          layers.append(nn.ReLU())\n",
        "        elif layer_configs[i][1] == 'elu':\n",
        "          layers.append(nn.ELU())\n",
        "        else:\n",
        "          layers.append(nn.Tanh())\n",
        "    layers.append(nn.Linear(previous_layer_num,2))\n",
        "    return nn.Sequential(*layers)\n",
        "\n",
        "  #Train the PINN model\n",
        "  def train_PINN(self,model,X_pinn = X_pinn, X_semigroup = X_semigroup, \n",
        "                 X_smooth = X_smooth,T = T):\n",
        "    pinn_model = PINN(X_pinn, X_semigroup, X_smooth, T, model)\n",
        "    early_loss = pinn_model.train()\n",
        "    return early_loss\n",
        "\n",
        "  #low-fidelity training for one genertaed_sequence\n",
        "  def train_model(self,model,train_dataloader):\n",
        "    #decoded_sequence = self.decode_sequence(encoded_sequence)\n",
        "    #model = self.create_model(encoded_sequence,3)\n",
        "    #one shot training -- with only one epoch\n",
        "    loss_function = nn.MSELoss()\n",
        "    optimizer = torch.optim.Adam(model.parameters(), lr=1e-4)\n",
        "    model.train()\n",
        "    running_loss = 0.0\n",
        "    for i, data in enumerate(train_dataloader, 0):\n",
        "      # Get and prepare inputs\n",
        "      inputs, targets = data\n",
        "      inputs, targets = inputs.float(), targets.float()\n",
        "      optimizer.zero_grad()\n",
        "      outputs = model(inputs)\n",
        "      loss = loss_function(outputs, targets)\n",
        "      loss.backward()\n",
        "      optimizer.step()\n",
        "      running_loss += loss.item()\n",
        "    return running_loss\n",
        "\n",
        "\n",
        "  #low-fidelity training for all generate_sequence\n",
        "  #TODO: modify to adapt to semigroup PINN\n",
        "  def low_fidelity_evaluation(self,train_dataloader,sample_space):\n",
        "    if not sample_space:\n",
        "      search_space = self.random_sample_architecture()\n",
        "    else:\n",
        "      search_space = sample_space\n",
        "    model_train_log = {}\n",
        "    model_eval_log = {}\n",
        "    architecture_history = {}\n",
        "    for i,encoded_sequence in enumerate(search_space):\n",
        "      print(\"training architecture: \", i)\n",
        "      decoded_sequence = self.decode_sequence(encoded_sequence)\n",
        "      model = self.create_model(encoded_sequence,3)\n",
        "      #low fidelity training -- with only one epoch\n",
        "      loss_function = nn.MSELoss()\n",
        "      optimizer = torch.optim.Adam(model.parameters(), lr=1e-4)\n",
        "      model.train()\n",
        "      running_loss = 0.0\n",
        "      for i, data in enumerate(train_dataloader, 0):\n",
        "        # Get and prepare inputs\n",
        "        inputs, targets = data\n",
        "        inputs, targets = inputs.float(), targets.float()\n",
        "        optimizer.zero_grad()\n",
        "        outputs = model(inputs)\n",
        "        loss = loss_function(outputs, targets)\n",
        "        loss.backward()\n",
        "        optimizer.step()\n",
        "        running_loss += loss.item()\n",
        "        if i % 200 == 199:\n",
        "          print(f\"batch {i + 1}] loss: {running_loss / 200:.3f}\")\n",
        "          running_loss = 0.0\n",
        "\n",
        "      print(\"training loss: \",running_loss)\n",
        "      model_train_log[f'{decoded_sequence}'] = running_loss\n",
        "      architecture_history[f'{encoded_sequence}'] = running_loss\n",
        "    return model_train_log,architecture_history"
      ],
      "id": "U0bsNmD-YNbQ"
    },
    {
      "cell_type": "code",
      "execution_count": null,
      "metadata": {
        "id": "9sGiFGDGYSR_"
      },
      "outputs": [],
      "source": [
        "#Create the controller model based a on 1-layer LSTM\n",
        "class Controller_Model(nn.Module):\n",
        "  def __init__(self,input_size,hidden_size,num_class,num_layers = 1):\n",
        "    super().__init__()\n",
        "    self.lstm = nn.LSTM(input_size,hidden_size,num_layers)\n",
        "    self.sequence_generator = nn.Sequential(\n",
        "        nn.Linear(hidden_size,256),\n",
        "        nn.ReLU(),\n",
        "        nn.Linear(256,num_class),\n",
        "        nn.Softmax()\n",
        "    )\n",
        "  def forward(self,input):\n",
        "    output,_ = self.lstm(input)\n",
        "    generated_sequence = self.sequence_generator(output)\n",
        "    return generated_sequence\n",
        "\n",
        "#Class to define the controller\n",
        "class Controller(MLPSearchSpace):\n",
        "  def __init__(self,max_architecture_length):\n",
        "    super().__init__()\n",
        "    self.max_length = max_architecture_length\n",
        "    self.controller_classes = len(self.vocab)\n",
        "    self.sequence_data = []\n",
        "  #create the controller model\n",
        "  def control_model(self):\n",
        "    model = Controller_Model(self.max_length,10,num_class = self.controller_classes)\n",
        "    return model\n",
        "\n",
        "  #train the controller model\n",
        "  def train_control_model(self,model,x_data,y_data,loss_func,controller_training_epoch):\n",
        "    optimizer = torch.optim.Adam(model.parameters(), lr=1e-4)\n",
        "    model.train()\n",
        "    #print(\"Training Controller Model\")\n",
        "    for epoch in range(controller_training_epoch):\n",
        "      print(\"Training Controller Model in epoch: \",epoch)\n",
        "      optimizer.zero_grad()\n",
        "      outputs = model(x_data)\n",
        "      loss = loss_func(y_data,outputs)\n",
        "      loss.sum().backward()\n",
        "      optimizer.step()\n",
        "  #process for controller to generate architecture sequence by the given length\n",
        "  def sample_architrecture_sequences(self,model,number_of_samples,\n",
        "                                     by_prob = True):\n",
        "    samples = []\n",
        "    print(\"Generate Architecture Samples...\")\n",
        "    print('--------------------------------')\n",
        "\n",
        "    while len(samples) < number_of_samples:\n",
        "      seed = []\n",
        "      #number of layers we want in the architecture\n",
        "      while len(seed) < self.max_length:\n",
        "        seed_pad = np.pad(seed,pad_width=(0,self.max_length-len(seed)))\n",
        "        sequence = torch.Tensor(seed_pad)\n",
        "        sequence = sequence.reshape(1,len(sequence))\n",
        "        logit = model(sequence)\n",
        "        if by_prob == True:\n",
        "          #sample next architecture code by the probabilities returned by controller model\n",
        "          proba = logit.detach().numpy()[0]\n",
        "          next = np.random.choice(list(self.vocab.keys()),size=1,p=proba).item()\n",
        "        else:\n",
        "          next = torch.argmax(logit).detach().item()\n",
        "        seed.append(next)\n",
        "      #only record architecture that has not been generated before\n",
        "      if seed not in self.sequence_data:\n",
        "        samples.append(seed)\n",
        "        self.sequence_data.append(seed)\n",
        "    return samples"
      ],
      "id": "9sGiFGDGYSR_"
    },
    {
      "cell_type": "code",
      "execution_count": null,
      "metadata": {
        "id": "lWvooJJIYc9n"
      },
      "outputs": [],
      "source": [
        "#\n",
        "class MLPNAS(Controller):\n",
        "  def __init__(self,max_architecture_length):\n",
        "    super().__init__(max_architecture_length)\n",
        "    self.model_generator = MLPGenerator()\n",
        "    self.controller_model = self.control_model()\n",
        "    self.controller_sampling_epochs = 3\n",
        "    self.controller_loss_alpha = 0.9\n",
        "    self.samples_per_controller_epoch = 10\n",
        "    self.controller_training_epoch = 3\n",
        "    self.data = []\n",
        "  #record the architecture evaluation history\n",
        "  def append_model_metrics(self,sequence,history):\n",
        "    self.data.append([sequence,history])\n",
        "\n",
        "  #use REINFORCE to train controller\n",
        "  def prepare_controller_data(self,sequences):\n",
        "    def to_categorical(y, num_classes):\n",
        "      return np.eye(num_classes, dtype='uint8')[y]\n",
        "    x = torch.Tensor(sequences)[:,:-1].reshape(len(sequences),1,self.max_length-1)\n",
        "    padding = torch.zeros([len(sequences),1,1])\n",
        "    x_padded = torch.concat([x,padding],dim=2)\n",
        "    y = torch.Tensor(sequences)[:,-1].type(torch.int64)\n",
        "    y = to_categorical(y,self.controller_classes)\n",
        "\n",
        "    val_loss_target = [item[1] for item in self.data[-self.samples_per_controller_epoch:]]\n",
        "    return x_padded,y,val_loss_target\n",
        "\n",
        "  #Get the discounted reward for the REINFORCE algorithm\n",
        "  def get_discounted_reward(self,rewards):\n",
        "    discounted_r = np.zeros_like(rewards,dtype=np.float32)\n",
        "    for t in range(len(rewards)):\n",
        "      running_add = 0\n",
        "      exp = 0\n",
        "      for r in rewards[t:]:\n",
        "        running_add += self.controller_loss_alpha**exp*r\n",
        "        exp += 1\n",
        "      discounted_r[t] = running_add\n",
        "    discounted_r = (discounted_r - discounted_r.mean())/discounted_r.std()\n",
        "    return discounted_r\n",
        "\n",
        "  #compute the custom loss from the expected reward \n",
        "  def custom_loss(self,target,output):\n",
        "    reward = np.array([item[1] for item in self.data[-self.samples_per_controller_epoch:]]).reshape(self.samples_per_controller_epoch, 1)\n",
        "    discounted_reward = self.get_discounted_reward(reward)\n",
        "    output = torch.Tensor(output.detach().numpy())\n",
        "    loss = -torch.log(output)*discounted_reward[:,None]\n",
        "    loss = Variable(loss, requires_grad=True)\n",
        "    return loss\n",
        "\n",
        "  #Search architecture for the baseline model(using dataset and dataloader)\n",
        "  def search(self,input_size,train_dataloader,REINFORCE = False):\n",
        "    for controller_epoch in range(self.controller_sampling_epochs):\n",
        "      sequences = self.sample_architrecture_sequences(self.controller_model,number_of_samples=self.samples_per_controller_epoch)\n",
        "      print(\"Evaluating architectures in controller_sampling_epoch: \",controller_epoch)\n",
        "      for i,sequence in enumerate(sequences):\n",
        "        print(\"  training architecture: \",i)\n",
        "        #train and log architecture\n",
        "        decoded_sequence = self.model_generator.decode_sequence(sequence)\n",
        "        model = self.model_generator.create_model(sequence,mlp_input_shape = input_size)\n",
        "        history = self.model_generator.train_model(model,train_dataloader)\n",
        "        self.append_model_metrics(decoded_sequence,history)\n",
        "\n",
        "      if REINFORCE == True:\n",
        "        if controller_epoch != self.controller_sampling_epochs - 1:\n",
        "          print(\"Training Controller...\")\n",
        "          #train controller\n",
        "          x,y,val_acc_target = self.prepare_controller_data(sequences)\n",
        "          self.train_control_model(self.controller_model,x,y,self.custom_loss,self.controller_training_epoch)\n",
        "      \n",
        "    return self.data\n",
        "\n",
        "  #Search architecture for the PINN model(does not use dataloader)\n",
        "  def search_PINN(self,input_size,REINFORCE = False):\n",
        "    for controller_epoch in range(self.controller_sampling_epochs):\n",
        "      sequences = self.sample_architrecture_sequences(self.controller_model,number_of_samples=self.samples_per_controller_epoch)\n",
        "      print(\"Evaluating architectures in controller_sampling_epoch: \",controller_epoch)\n",
        "      for i,sequence in enumerate(sequences):\n",
        "        print(\"  training architecture: \",i)\n",
        "        #train and log architecture\n",
        "        decoded_sequence = self.model_generator.decode_sequence(sequence)\n",
        "        model = self.model_generator.create_model(sequence,mlp_input_shape = input_size)\n",
        "        history = self.model_generator.train_PINN(model)\n",
        "\n",
        "        self.append_model_metrics(decoded_sequence,history)\n",
        "\n",
        "      if REINFORCE == True:\n",
        "        if controller_epoch != self.controller_sampling_epochs - 1:\n",
        "          print(\"Training Controller...\")\n",
        "          #train controller\n",
        "          x,y,val_acc_target = self.prepare_controller_data(sequences)\n",
        "          self.train_control_model(self.controller_model,x,y,self.custom_loss,self.controller_training_epoch)\n",
        "      \n",
        "    return self.data"
      ],
      "id": "lWvooJJIYc9n"
    },
    {
      "cell_type": "code",
      "source": [
        "#another round of search\n",
        "nas_pinn = MLPNAS(2)\n",
        "pinn_history_2_layers = nas_pinn.search_PINN(3,True)"
      ],
      "metadata": {
        "colab": {
          "base_uri": "https://localhost:8080/"
        },
        "id": "TQ82SfoRQzuk",
        "outputId": "ef3a8575-f575-4f4c-80d9-5f5ef9fd5b8d"
      },
      "id": "TQ82SfoRQzuk",
      "execution_count": null,
      "outputs": [
        {
          "metadata": {
            "tags": null
          },
          "name": "stdout",
          "output_type": "stream",
          "text": [
            "Generate Architecture Samples...\n",
            "--------------------------------\n",
            "Evaluating architectures in controller_sampling_epoch:  0\n",
            "  training architecture:  0\n"
          ]
        },
        {
          "metadata": {
            "tags": null
          },
          "name": "stderr",
          "output_type": "stream",
          "text": [
            "/usr/local/lib/python3.8/dist-packages/torch/nn/modules/container.py:139: UserWarning: Implicit dimension choice for softmax has been deprecated. Change the call to include dim=X as an argument.\n",
            "  input = module(input)\n"
          ]
        },
        {
          "metadata": {
            "tags": null
          },
          "name": "stdout",
          "output_type": "stream",
          "text": [
            "Iter 100, Loss: 0.07161, Loss_pinn: 0.04177 Loss_smooth: 0.02898, Loss_semigroup: 0.00085\n",
            "  training architecture:  1\n",
            "Iter 100, Loss: 0.00986, Loss_pinn: 0.00609 Loss_smooth: 0.00348, Loss_semigroup: 0.00029\n",
            "  training architecture:  2\n",
            "Iter 100, Loss: 0.17774, Loss_pinn: 0.12727 Loss_smooth: 0.04913, Loss_semigroup: 0.00134\n",
            "  training architecture:  3\n",
            "Iter 100, Loss: 0.00242, Loss_pinn: 0.00152 Loss_smooth: 0.00087, Loss_semigroup: 0.00004\n",
            "  training architecture:  4\n",
            "Iter 100, Loss: 0.19543, Loss_pinn: 0.12448 Loss_smooth: 0.06926, Loss_semigroup: 0.00170\n",
            "  training architecture:  5\n",
            "  training architecture:  6\n",
            "Iter 100, Loss: 0.00286, Loss_pinn: 0.00171 Loss_smooth: 0.00109, Loss_semigroup: 0.00005\n",
            "  training architecture:  7\n",
            "Iter 100, Loss: 0.00659, Loss_pinn: 0.00366 Loss_smooth: 0.00282, Loss_semigroup: 0.00011\n",
            "  training architecture:  8\n",
            "Iter 100, Loss: 0.00405, Loss_pinn: 0.00243 Loss_smooth: 0.00150, Loss_semigroup: 0.00012\n",
            "  training architecture:  9\n",
            "Iter 100, Loss: 0.08383, Loss_pinn: 0.05523 Loss_smooth: 0.02776, Loss_semigroup: 0.00084\n",
            "Training Controller...\n",
            "Training Controller Model in epoch:  0\n",
            "Training Controller Model in epoch:  1\n",
            "Training Controller Model in epoch:  2\n",
            "Generate Architecture Samples...\n",
            "--------------------------------\n",
            "Evaluating architectures in controller_sampling_epoch:  1\n",
            "  training architecture:  0\n",
            "Iter 100, Loss: 0.14266, Loss_pinn: 0.09770 Loss_smooth: 0.04360, Loss_semigroup: 0.00136\n",
            "  training architecture:  1\n",
            "Iter 100, Loss: 0.01536, Loss_pinn: 0.00870 Loss_smooth: 0.00650, Loss_semigroup: 0.00015\n",
            "  training architecture:  2\n",
            "Iter 100, Loss: 0.11033, Loss_pinn: 0.06919 Loss_smooth: 0.04030, Loss_semigroup: 0.00084\n",
            "  training architecture:  3\n",
            "Iter 100, Loss: 0.04701, Loss_pinn: 0.03579 Loss_smooth: 0.01073, Loss_semigroup: 0.00049\n",
            "  training architecture:  4\n",
            "  training architecture:  5\n",
            "Iter 100, Loss: 0.00938, Loss_pinn: 0.00536 Loss_smooth: 0.00389, Loss_semigroup: 0.00013\n",
            "  training architecture:  6\n",
            "Iter 100, Loss: 0.00419, Loss_pinn: 0.00237 Loss_smooth: 0.00173, Loss_semigroup: 0.00008\n",
            "  training architecture:  7\n",
            "Iter 100, Loss: 0.02151, Loss_pinn: 0.01290 Loss_smooth: 0.00839, Loss_semigroup: 0.00021\n",
            "  training architecture:  8\n",
            "Iter 100, Loss: 0.02710, Loss_pinn: 0.01438 Loss_smooth: 0.01217, Loss_semigroup: 0.00056\n",
            "  training architecture:  9\n",
            "Iter 100, Loss: 0.01516, Loss_pinn: 0.00855 Loss_smooth: 0.00630, Loss_semigroup: 0.00032\n",
            "Training Controller...\n",
            "Training Controller Model in epoch:  0\n",
            "Training Controller Model in epoch:  1\n",
            "Training Controller Model in epoch:  2\n",
            "Generate Architecture Samples...\n",
            "--------------------------------\n",
            "Evaluating architectures in controller_sampling_epoch:  2\n",
            "  training architecture:  0\n",
            "Iter 100, Loss: 0.14541, Loss_pinn: 0.08906 Loss_smooth: 0.05542, Loss_semigroup: 0.00093\n",
            "  training architecture:  1\n",
            "Iter 100, Loss: 0.00258, Loss_pinn: 0.00155 Loss_smooth: 0.00096, Loss_semigroup: 0.00007\n",
            "  training architecture:  2\n",
            "Iter 100, Loss: 0.31001, Loss_pinn: 0.24635 Loss_smooth: 0.06236, Loss_semigroup: 0.00130\n",
            "  training architecture:  3\n",
            "Iter 100, Loss: 0.35646, Loss_pinn: 0.24919 Loss_smooth: 0.10456, Loss_semigroup: 0.00272\n",
            "  training architecture:  4\n"
          ]
        }
      ]
    },
    {
      "cell_type": "code",
      "source": [
        "pinn_history_2_layers "
      ],
      "metadata": {
        "colab": {
          "base_uri": "https://localhost:8080/"
        },
        "id": "6EVKFguEQ6F2",
        "outputId": "2c1d93f4-5813-4606-ba5e-e7de43c327fe"
      },
      "id": "6EVKFguEQ6F2",
      "execution_count": null,
      "outputs": [
        {
          "output_type": "execute_result",
          "data": {
            "text/plain": [
              "[[[(8, 'relu'), (512, 'elu')], 0.07160905748605728],\n",
              " [[(512, 'tanh'), (16, 'tanh')], 0.009856331162154675],\n",
              " [[(256, 'elu'), (16, 'relu')], 0.17773902416229248],\n",
              " [[(64, 'tanh'), (128, 'tanh')], 0.00242012576200068],\n",
              " [[(8, 'relu'), (32, 'elu')], 0.19543218612670898],\n",
              " [[(1024, 'relu'), (16, 'relu')], 0.13288898766040802],\n",
              " [[(64, 'tanh'), (128, 'elu')], 0.002858016174286604],\n",
              " [[(32, 'tanh'), (256, 'elu')], 0.0065909321419894695],\n",
              " [[(256, 'tanh'), (64, 'elu')], 0.004052767995744944],\n",
              " [[(64, 'relu'), (32, 'tanh')], 0.08382664620876312],\n",
              " [[(64, 'relu'), (128, 'relu')], 0.12793953716754913],\n",
              " [[(32, 'elu'), (16, 'elu')], 0.015359743498265743],\n",
              " [[(16, 'tanh'), (32, 'relu')], 0.11030852794647217],\n",
              " [[(8, 'tanh'), (128, 'elu')], 0.04701198637485504],\n",
              " [[(64, 'relu'), (1024, 'tanh')], 0.15234291553497314],\n",
              " [[(32, 'elu'), (512, 'elu')], 0.009384973905980587],\n",
              " [[(32, 'elu'), (1024, 'tanh')], 0.00419070478528738],\n",
              " [[(256, 'elu'), (256, 'elu')], 0.021506603807210922],\n",
              " [[(512, 'tanh'), (32, 'relu')], 0.026967709884047508],\n",
              " [[(512, 'tanh'), (1024, 'relu')], 0.01456712931394577],\n",
              " [[(1024, 'relu'), (64, 'relu')], 0.14541371166706085],\n",
              " [[(64, 'tanh'), (16, 'tanh')], 0.0025819255970418453],\n",
              " [[(64, 'tanh'), (8, 'relu')], 0.3099966049194336],\n",
              " [[(8, 'relu'), (256, 'elu')], 0.35595524311065674],\n",
              " [[(256, 'tanh'), (1024, 'tanh')], 0.007607129402458668],\n",
              " [[(32, 'elu'), (128, 'relu')], 0.029606930911540985],\n",
              " [[(128, 'elu'), (1024, 'relu')], 0.02434912696480751],\n",
              " [[(128, 'tanh'), (64, 'elu')], 0.0031213711481541395],\n",
              " [[(64, 'relu'), (16, 'elu')], 0.04979733005166054],\n",
              " [[(512, 'elu'), (256, 'relu')], 0.052649274468421936]]"
            ]
          },
          "metadata": {},
          "execution_count": 31
        }
      ]
    },
    {
      "cell_type": "code",
      "source": [
        "nas_pinn_3 = MLPNAS(3)\n",
        "pinn_history_3_layers = nas_pinn_3.search_PINN(3,True)"
      ],
      "metadata": {
        "colab": {
          "base_uri": "https://localhost:8080/"
        },
        "id": "RELnAdnoQ7XW",
        "outputId": "071c7c64-c5fb-4a13-922f-9dd6fad07236"
      },
      "id": "RELnAdnoQ7XW",
      "execution_count": null,
      "outputs": [
        {
          "output_type": "stream",
          "name": "stdout",
          "text": [
            "Generate Architecture Samples...\n",
            "--------------------------------\n",
            "Evaluating architectures in controller_sampling_epoch:  0\n",
            "  training architecture:  0\n",
            "Iter 100, Loss: 0.00892, Loss_pinn: 0.00585 Loss_smooth: 0.00300, Loss_semigroup: 0.00006\n",
            "  training architecture:  1\n",
            "Iter 100, Loss: 0.01028, Loss_pinn: 0.00524 Loss_smooth: 0.00488, Loss_semigroup: 0.00016\n",
            "  training architecture:  2\n",
            "Iter 100, Loss: 0.03411, Loss_pinn: 0.02075 Loss_smooth: 0.01294, Loss_semigroup: 0.00043\n",
            "  training architecture:  3\n",
            "Iter 100, Loss: 0.04062, Loss_pinn: 0.02227 Loss_smooth: 0.01796, Loss_semigroup: 0.00039\n",
            "  training architecture:  4\n",
            "Iter 100, Loss: 0.02250, Loss_pinn: 0.01127 Loss_smooth: 0.01088, Loss_semigroup: 0.00035\n",
            "  training architecture:  5\n",
            "Iter 100, Loss: 0.23764, Loss_pinn: 0.18580 Loss_smooth: 0.05084, Loss_semigroup: 0.00099\n",
            "  training architecture:  6\n",
            "Iter 100, Loss: 0.00324, Loss_pinn: 0.00176 Loss_smooth: 0.00141, Loss_semigroup: 0.00007\n",
            "  training architecture:  7\n",
            "  training architecture:  8\n",
            "Iter 100, Loss: 0.00965, Loss_pinn: 0.00528 Loss_smooth: 0.00414, Loss_semigroup: 0.00024\n",
            "  training architecture:  9\n",
            "Iter 100, Loss: 0.01370, Loss_pinn: 0.00686 Loss_smooth: 0.00663, Loss_semigroup: 0.00021\n",
            "Training Controller...\n",
            "Training Controller Model in epoch:  0\n",
            "Training Controller Model in epoch:  1\n",
            "Training Controller Model in epoch:  2\n",
            "Generate Architecture Samples...\n",
            "--------------------------------\n",
            "Evaluating architectures in controller_sampling_epoch:  1\n",
            "  training architecture:  0\n",
            "Iter 100, Loss: 0.00660, Loss_pinn: 0.00398 Loss_smooth: 0.00249, Loss_semigroup: 0.00013\n",
            "  training architecture:  1\n",
            "Iter 100, Loss: 0.00724, Loss_pinn: 0.00380 Loss_smooth: 0.00334, Loss_semigroup: 0.00010\n",
            "  training architecture:  2\n",
            "  training architecture:  3\n",
            "Iter 100, Loss: 0.01230, Loss_pinn: 0.00644 Loss_smooth: 0.00572, Loss_semigroup: 0.00013\n",
            "  training architecture:  4\n",
            "Iter 100, Loss: 0.00312, Loss_pinn: 0.00190 Loss_smooth: 0.00116, Loss_semigroup: 0.00007\n",
            "  training architecture:  5\n",
            "Iter 100, Loss: 0.01403, Loss_pinn: 0.00759 Loss_smooth: 0.00625, Loss_semigroup: 0.00019\n",
            "  training architecture:  6\n",
            "Iter 100, Loss: 0.07168, Loss_pinn: 0.04511 Loss_smooth: 0.02601, Loss_semigroup: 0.00057\n",
            "  training architecture:  7\n",
            "Iter 100, Loss: 0.00881, Loss_pinn: 0.00465 Loss_smooth: 0.00405, Loss_semigroup: 0.00012\n",
            "  training architecture:  8\n",
            "Iter 100, Loss: 0.05936, Loss_pinn: 0.03772 Loss_smooth: 0.02119, Loss_semigroup: 0.00045\n",
            "  training architecture:  9\n",
            "Training Controller...\n",
            "Training Controller Model in epoch:  0\n",
            "Training Controller Model in epoch:  1\n",
            "Training Controller Model in epoch:  2\n",
            "Generate Architecture Samples...\n",
            "--------------------------------\n",
            "Evaluating architectures in controller_sampling_epoch:  2\n",
            "  training architecture:  0\n",
            "Iter 100, Loss: 0.00378, Loss_pinn: 0.00189 Loss_smooth: 0.00180, Loss_semigroup: 0.00009\n",
            "  training architecture:  1\n",
            "Iter 100, Loss: 0.03759, Loss_pinn: 0.02425 Loss_smooth: 0.01304, Loss_semigroup: 0.00031\n",
            "  training architecture:  2\n",
            "Iter 100, Loss: 0.02105, Loss_pinn: 0.01008 Loss_smooth: 0.01073, Loss_semigroup: 0.00024\n",
            "  training architecture:  3\n",
            "Iter 100, Loss: 0.15003, Loss_pinn: 0.09735 Loss_smooth: 0.05166, Loss_semigroup: 0.00101\n",
            "  training architecture:  4\n",
            "Iter 100, Loss: 0.01570, Loss_pinn: 0.00854 Loss_smooth: 0.00703, Loss_semigroup: 0.00013\n",
            "  training architecture:  5\n",
            "Iter 100, Loss: 0.00613, Loss_pinn: 0.00301 Loss_smooth: 0.00303, Loss_semigroup: 0.00009\n",
            "  training architecture:  6\n",
            "Iter 100, Loss: 0.12287, Loss_pinn: 0.08226 Loss_smooth: 0.03955, Loss_semigroup: 0.00106\n",
            "  training architecture:  7\n",
            "Iter 100, Loss: 0.01125, Loss_pinn: 0.00673 Loss_smooth: 0.00442, Loss_semigroup: 0.00010\n",
            "  training architecture:  8\n",
            "Iter 100, Loss: 0.02336, Loss_pinn: 0.01377 Loss_smooth: 0.00929, Loss_semigroup: 0.00029\n",
            "  training architecture:  9\n",
            "Iter 100, Loss: 0.00463, Loss_pinn: 0.00290 Loss_smooth: 0.00168, Loss_semigroup: 0.00005\n"
          ]
        }
      ]
    },
    {
      "cell_type": "code",
      "source": [
        "pinn_history_3_layers"
      ],
      "metadata": {
        "colab": {
          "base_uri": "https://localhost:8080/"
        },
        "id": "FgOqy55nQ-Ej",
        "outputId": "9de9b61a-9150-46ed-ccd3-1543b0d1dff3"
      },
      "id": "FgOqy55nQ-Ej",
      "execution_count": null,
      "outputs": [
        {
          "output_type": "execute_result",
          "data": {
            "text/plain": [
              "[[[(512, 'elu'), (32, 'elu'), (16, 'elu')], 0.008917197585105896],\n",
              " [[(8, 'elu'), (32, 'elu'), (32, 'elu')], 0.010278171859681606],\n",
              " [[(128, 'tanh'), (512, 'tanh'), (32, 'relu')], 0.03409557417035103],\n",
              " [[(128, 'relu'), (16, 'tanh'), (128, 'relu')], 0.0387520007789135],\n",
              " [[(8, 'tanh'), (64, 'elu'), (64, 'elu')], 0.02250119298696518],\n",
              " [[(128, 'relu'), (8, 'relu'), (64, 'tanh')], 0.23675936460494995],\n",
              " [[(64, 'elu'), (256, 'tanh'), (64, 'elu')], 0.0032359000761061907],\n",
              " [[(512, 'elu'), (256, 'elu'), (128, 'relu')], 0.07082962244749069],\n",
              " [[(128, 'tanh'), (1024, 'elu'), (1024, 'relu')], 0.009652051143348217],\n",
              " [[(256, 'relu'), (512, 'tanh'), (32, 'tanh')], 0.013695807196199894],\n",
              " [[(1024, 'relu'), (128, 'elu'), (32, 'tanh')], 0.006599404849112034],\n",
              " [[(64, 'elu'), (32, 'tanh'), (256, 'elu')], 0.007239629980176687],\n",
              " [[(256, 'relu'), (512, 'relu'), (16, 'relu')], 0.14026834070682526],\n",
              " [[(32, 'tanh'), (32, 'tanh'), (256, 'relu')], 0.011117757298052311],\n",
              " [[(128, 'tanh'), (128, 'tanh'), (64, 'tanh')], 0.003119924571365118],\n",
              " [[(16, 'tanh'), (64, 'elu'), (16, 'elu')], 0.01402980461716652],\n",
              " [[(256, 'relu'), (128, 'relu'), (8, 'elu')], 0.07168182730674744],\n",
              " [[(256, 'relu'), (64, 'elu'), (64, 'tanh')], 0.008813955821096897],\n",
              " [[(128, 'relu'), (128, 'elu'), (128, 'relu')], 0.05930276960134506],\n",
              " [[(32, 'relu'), (8, 'elu'), (16, 'relu')], 0.3114194869995117],\n",
              " [[(64, 'tanh'), (512, 'tanh'), (512, 'elu')], 0.003783651627600193],\n",
              " [[(64, 'elu'), (256, 'relu'), (128, 'tanh')], 0.037589795887470245],\n",
              " [[(512, 'tanh'), (32, 'elu'), (512, 'relu')], 0.02104756236076355],\n",
              " [[(512, 'relu'), (32, 'elu'), (64, 'relu')], 0.08844313770532608],\n",
              " [[(64, 'elu'), (32, 'tanh'), (256, 'relu')], 0.015702636912465096],\n",
              " [[(16, 'elu'), (512, 'tanh'), (128, 'elu')], 0.006128355395048857],\n",
              " [[(32, 'relu'), (256, 'elu'), (128, 'relu')], 0.12284848093986511],\n",
              " [[(8, 'elu'), (512, 'tanh'), (16, 'tanh')], 0.011252528056502342],\n",
              " [[(256, 'tanh'), (8, 'tanh'), (64, 'relu')], 0.02335524559020996],\n",
              " [[(1024, 'elu'), (128, 'elu'), (16, 'elu')], 0.0046282242983579636]]"
            ]
          },
          "metadata": {},
          "execution_count": 34
        }
      ]
    },
    {
      "cell_type": "code",
      "source": [
        "encoded_sequence = nas_pinn.encode_sequence([(64, 'tanh'), (128, 'tanh')])\n",
        "nas_model_2_layer = nas_pinn.model_generator.create_model(encoded_sequence)\n",
        "nas_model_2_layer"
      ],
      "metadata": {
        "colab": {
          "base_uri": "https://localhost:8080/"
        },
        "id": "eT2ke5O8M7G3",
        "outputId": "b3c5f79b-8429-4a3d-b54f-e69f5be55e3b"
      },
      "id": "eT2ke5O8M7G3",
      "execution_count": null,
      "outputs": [
        {
          "output_type": "execute_result",
          "data": {
            "text/plain": [
              "Sequential(\n",
              "  (0): Linear(in_features=3, out_features=64, bias=True)\n",
              "  (1): Tanh()\n",
              "  (2): Linear(in_features=64, out_features=128, bias=True)\n",
              "  (3): Tanh()\n",
              "  (4): Linear(in_features=128, out_features=2, bias=True)\n",
              ")"
            ]
          },
          "metadata": {},
          "execution_count": 35
        }
      ]
    },
    {
      "cell_type": "code",
      "source": [
        "encoded_sequence = nas_pinn_3.encode_sequence([(128, 'tanh'), (128, 'tanh'), (64, 'tanh')])\n",
        "nas_model_3_layer = nas_pinn_3.model_generator.create_model(encoded_sequence)\n",
        "nas_model_3_layer"
      ],
      "metadata": {
        "colab": {
          "base_uri": "https://localhost:8080/"
        },
        "id": "U19FyRx-NkYC",
        "outputId": "7e7da8fa-d3e1-47d4-fa07-609b0ec488b6"
      },
      "id": "U19FyRx-NkYC",
      "execution_count": null,
      "outputs": [
        {
          "output_type": "execute_result",
          "data": {
            "text/plain": [
              "Sequential(\n",
              "  (0): Linear(in_features=3, out_features=128, bias=True)\n",
              "  (1): Tanh()\n",
              "  (2): Linear(in_features=128, out_features=128, bias=True)\n",
              "  (3): Tanh()\n",
              "  (4): Linear(in_features=128, out_features=64, bias=True)\n",
              "  (5): Tanh()\n",
              "  (6): Linear(in_features=64, out_features=2, bias=True)\n",
              ")"
            ]
          },
          "metadata": {},
          "execution_count": 36
        }
      ]
    },
    {
      "cell_type": "markdown",
      "metadata": {
        "id": "CnJPR3g3APMG"
      },
      "source": [
        "#NAS ablation studies"
      ],
      "id": "CnJPR3g3APMG"
    },
    {
      "cell_type": "code",
      "execution_count": null,
      "metadata": {
        "colab": {
          "base_uri": "https://localhost:8080/"
        },
        "id": "NEBvH8Rri9xk",
        "outputId": "f173243c-9e7a-4761-a15e-0274154c7462"
      },
      "outputs": [
        {
          "output_type": "execute_result",
          "data": {
            "text/plain": [
              "Sequential(\n",
              "  (0): Linear(in_features=3, out_features=256, bias=True)\n",
              "  (1): Tanh()\n",
              "  (2): Linear(in_features=256, out_features=64, bias=True)\n",
              "  (3): Tanh()\n",
              "  (4): Linear(in_features=64, out_features=2, bias=True)\n",
              ")"
            ]
          },
          "metadata": {},
          "execution_count": 21
        }
      ],
      "source": [
        "#[(256, 'tanh'), (64, 'elu')] - best 2 layer architecture\n",
        "encoded_sequence = nas_pinn.encode_sequence([(256, 'tanh'), (64, 'elu')])\n",
        "nas_model_2_layer = nas_pinn.model_generator.create_model(encoded_sequence)\n",
        "nas_model_2_layer"
      ],
      "id": "NEBvH8Rri9xk"
    },
    {
      "cell_type": "code",
      "execution_count": null,
      "metadata": {
        "colab": {
          "base_uri": "https://localhost:8080/"
        },
        "id": "v-K6ZRlGDD_q",
        "outputId": "5ff41746-1313-44fe-9064-5766c6d16729"
      },
      "outputs": [
        {
          "output_type": "execute_result",
          "data": {
            "text/plain": [
              "Sequential(\n",
              "  (0): Linear(in_features=3, out_features=128, bias=True)\n",
              "  (1): Tanh()\n",
              "  (2): Linear(in_features=128, out_features=512, bias=True)\n",
              "  (3): Tanh()\n",
              "  (4): Linear(in_features=512, out_features=64, bias=True)\n",
              "  (5): Tanh()\n",
              "  (6): Linear(in_features=64, out_features=2, bias=True)\n",
              ")"
            ]
          },
          "metadata": {},
          "execution_count": 22
        }
      ],
      "source": [
        "#[(128, 'tanh'), (512, 'elu'), (64, 'relu')]\n",
        "encoded_sequence = nas_pinn_3.encode_sequence([(128, 'tanh'), (512, 'elu'), (64, 'relu')])\n",
        "nas_model_3_layer = nas_pinn_3.model_generator.create_model(encoded_sequence)\n",
        "nas_model_3_layer"
      ],
      "id": "v-K6ZRlGDD_q"
    },
    {
      "cell_type": "code",
      "execution_count": null,
      "metadata": {
        "id": "mZ0QC8lrD-V0"
      },
      "outputs": [],
      "source": [
        "nas_2_layer_pinn = PINN(X_pinn, X_semigroup, \n",
        "                 X_smooth,T,nas_model_2_layer,True)\n",
        "nas_3_layer_pinn = PINN(X_pinn, X_semigroup, \n",
        "                 X_smooth,T,nas_model_3_layer,True)\n"
      ],
      "id": "mZ0QC8lrD-V0"
    },
    {
      "cell_type": "code",
      "execution_count": null,
      "metadata": {
        "colab": {
          "base_uri": "https://localhost:8080/"
        },
        "id": "-rXT-6QoEIJO",
        "outputId": "4c0b138d-35e0-4bf1-f5d9-b7cc395c185a"
      },
      "outputs": [
        {
          "data": {
            "text/plain": [
              "DNN(\n",
              "  (layers): Sequential(\n",
              "    (layer_0): Linear(in_features=3, out_features=20, bias=True)\n",
              "    (activation_0): Tanh()\n",
              "    (layer_1): Linear(in_features=20, out_features=20, bias=True)\n",
              "    (activation_1): Tanh()\n",
              "    (layer_2): Linear(in_features=20, out_features=20, bias=True)\n",
              "    (activation_2): Tanh()\n",
              "    (layer_3): Linear(in_features=20, out_features=20, bias=True)\n",
              "    (activation_3): Tanh()\n",
              "    (layer_4): Linear(in_features=20, out_features=2, bias=True)\n",
              "  )\n",
              ")"
            ]
          },
          "execution_count": 88,
          "metadata": {},
          "output_type": "execute_result"
        }
      ],
      "source": [
        "layers = [3, 20, 20, 20, 20, 2]\n",
        "pinn_baseline = PINN_baseline(X_pinn, X_semigroup, \n",
        "                 X_smooth,T,nas_model_2_layer,layers,True)\n",
        "pinn_baseline.dnn"
      ],
      "id": "-rXT-6QoEIJO"
    },
    {
      "cell_type": "code",
      "execution_count": null,
      "metadata": {
        "colab": {
          "base_uri": "https://localhost:8080/"
        },
        "id": "QUPGlhrRGTXS",
        "outputId": "4793f92e-f7ca-48ad-9554-8d7873489d7a"
      },
      "outputs": [
        {
          "name": "stdout",
          "output_type": "stream",
          "text": [
            "Iter 100, Loss: 0.00028, Loss_pinn: 0.00013 Loss_smooth: 0.00013, Loss_semigroup: 0.00002\n"
          ]
        },
        {
          "data": {
            "text/plain": [
              "0.0002820134977810085"
            ]
          },
          "execution_count": 89,
          "metadata": {},
          "output_type": "execute_result"
        }
      ],
      "source": [
        "nas_2_layer_pinn.train()"
      ],
      "id": "QUPGlhrRGTXS"
    },
    {
      "cell_type": "code",
      "execution_count": null,
      "metadata": {
        "colab": {
          "base_uri": "https://localhost:8080/"
        },
        "id": "nrNL0PGaI4bC",
        "outputId": "4a575806-5200-45fd-d939-098bd66ef976"
      },
      "outputs": [
        {
          "name": "stdout",
          "output_type": "stream",
          "text": [
            "Iter 100, Loss: 0.00031, Loss_pinn: 0.00014 Loss_smooth: 0.00014, Loss_semigroup: 0.00003\n"
          ]
        },
        {
          "data": {
            "text/plain": [
              "0.0003092642000410706"
            ]
          },
          "execution_count": 90,
          "metadata": {},
          "output_type": "execute_result"
        }
      ],
      "source": [
        "nas_3_layer_pinn.train()"
      ],
      "id": "nrNL0PGaI4bC"
    },
    {
      "cell_type": "code",
      "execution_count": null,
      "metadata": {
        "colab": {
          "base_uri": "https://localhost:8080/"
        },
        "id": "sxyoYWpxI6Gb",
        "outputId": "6f75a5cb-9dfb-4fad-e36b-ca85d33a84f0"
      },
      "outputs": [
        {
          "name": "stdout",
          "output_type": "stream",
          "text": [
            "Iter 100, Loss: 0.01198, Loss_pinn: 0.00785 Loss_smooth: 0.00391, Loss_semigroup: 0.00022\n"
          ]
        },
        {
          "data": {
            "text/plain": [
              "0.011977862566709518"
            ]
          },
          "execution_count": 91,
          "metadata": {},
          "output_type": "execute_result"
        }
      ],
      "source": [
        "pinn_baseline.train()"
      ],
      "id": "sxyoYWpxI6Gb"
    },
    {
      "cell_type": "code",
      "execution_count": null,
      "metadata": {
        "colab": {
          "base_uri": "https://localhost:8080/",
          "height": 676
        },
        "id": "S2KZZeLxI8C0",
        "outputId": "d72d79d8-6b00-468e-c75c-9c1d2441db9d"
      },
      "outputs": [
        {
          "data": {
            "image/png": "[encoded data removed]",
            "text/plain": [
              "<Figure size 800x800 with 1 Axes>"
            ]
          },
          "metadata": {},
          "output_type": "display_data"
        }
      ],
      "source": [
        "y0 = [4., 0.]\n",
        "max_t_pred = 7.\n",
        "delta_t = 0.05\n",
        "\n",
        "#validation_dac = predict_dac(model, y0, max_t_pred, delta_t)\n",
        "validation_baseline_standard = predict_standard(pinn_baseline, y0, max_t_pred, delta_t)\n",
        "validation_nas_2_standard = predict_standard(nas_2_layer_pinn, y0, max_t_pred, delta_t)\n",
        "validation_nas_3_standard = predict_standard(nas_3_layer_pinn, y0, max_t_pred, delta_t)\n",
        "\n",
        "true_solution = np.array([\n",
        "    solution_simple_ODE(t, y0) \n",
        "    for t in np.linspace(0, max_t_pred, int(max_t_pred / delta_t) + 1)\n",
        "])\n",
        "fig, ax = generate_figure(figsize=(8,8), xlim=[-7, 7], ylim=[-7, 7])\n",
        "\n",
        "ax = plot_ode_solution(ax, validation_baseline_standard, label=\"baseline standard approach\")\n",
        "ax = plot_ode_solution(ax, validation_nas_2_standard, label=\"nas 2 standard approach\")\n",
        "ax = plot_ode_solution(ax, validation_nas_3_standard, label=\"nas 3 standard approach\")\n",
        "ax = plot_ode_solution(ax, true_solution, label=\"true solution\")\n",
        "\n",
        "plt.legend()\n",
        "plt.savefig(\"proof_of_concept.pdf\", bbox_inches=\"tight\")\n",
        "plt.show()"
      ],
      "id": "S2KZZeLxI8C0"
    },
    {
      "cell_type": "code",
      "execution_count": null,
      "metadata": {
        "colab": {
          "base_uri": "https://localhost:8080/",
          "height": 676
        },
        "id": "Xg0oGqEtK7Ya",
        "outputId": "f794c80e-9f3e-4d5d-c139-77c40bfe4dec"
      },
      "outputs": [
        {
          "data": {
            "image/png": "[encoded data removed]",
            "text/plain": [
              "<Figure size 800x800 with 1 Axes>"
            ]
          },
          "metadata": {},
          "output_type": "display_data"
        }
      ],
      "source": [
        "y0 = [4., 0.]\n",
        "max_t_pred = 7.\n",
        "delta_t = 0.05\n",
        "\n",
        "#validation_dac = predict_dac(model, y0, max_t_pred, delta_t)\n",
        "validation_baseline_dac = predict_dac(pinn_baseline, y0, max_t_pred, delta_t)\n",
        "validation_nas_2_dac = predict_dac(nas_2_layer_pinn, y0, max_t_pred, delta_t)\n",
        "validation_nas_3_dac = predict_dac(nas_3_layer_pinn, y0, max_t_pred, delta_t)\n",
        "\n",
        "true_solution = np.array([\n",
        "    solution_simple_ODE(t, y0) \n",
        "    for t in np.linspace(0, max_t_pred, int(max_t_pred / delta_t) + 1)\n",
        "])\n",
        "fig, ax = generate_figure(figsize=(8,8), xlim=[-7, 7], ylim=[-7, 7])\n",
        "\n",
        "ax = plot_ode_solution(ax, validation_baseline_dac, label=\"baseline dac approach\")\n",
        "ax = plot_ode_solution(ax, validation_nas_2_dac, label=\"nas 2 dac approach\")\n",
        "ax = plot_ode_solution(ax, validation_nas_3_dac, label=\"nas 3 dac approach\")\n",
        "ax = plot_ode_solution(ax, true_solution, label=\"true solution\")\n",
        "\n",
        "plt.legend()\n",
        "plt.savefig(\"proof_of_concept.pdf\", bbox_inches=\"tight\")\n",
        "plt.show()"
      ],
      "id": "Xg0oGqEtK7Ya"
    },
    {
      "cell_type": "code",
      "execution_count": null,
      "metadata": {
        "colab": {
          "background_save": true
        },
        "id": "b6ZQ3Vt3Rzqc",
        "outputId": "1a19bb4d-1d7a-4754-a410-a6ce664db1ee"
      },
      "outputs": [
        {
          "data": {
            "image/png": "[encoded data removed]",
            "text/plain": [
              "<Figure size 800x800 with 1 Axes>"
            ]
          },
          "metadata": {},
          "output_type": "display_data"
        }
      ],
      "source": [
        "y0 = [4., 0.]\n",
        "max_t_pred = 7.\n",
        "delta_t = 0.05\n",
        "\n",
        "#validation_dac = predict_dac(model, y0, max_t_pred, delta_t)\n",
        "validation_baseline_standard = predict_standard(pinn_baseline, y0, max_t_pred, delta_t)\n",
        "validation_nas_2_standard = predict_standard(nas_2_layer_pinn, y0, max_t_pred, delta_t)\n",
        "validation_nas_3_standard = predict_standard(nas_3_layer_pinn, y0, max_t_pred, delta_t)\n",
        "\n",
        "true_solution = np.array([\n",
        "    solution_simple_ODE(t, y0) \n",
        "    for t in np.linspace(0, max_t_pred, int(max_t_pred / delta_t) + 1)\n",
        "])\n",
        "fig, ax = generate_figure(figsize=(8,8), xlim=[-7, 7], ylim=[-7, 7])\n",
        "\n",
        "ax = plot_ode_solution(ax, validation_baseline_standard, label=\"baseline standard approach\")\n",
        "ax = plot_ode_solution(ax, validation_nas_2_standard, label=\"nas 2 standard approach\")\n",
        "ax = plot_ode_solution(ax, validation_nas_3_standard, label=\"nas 3 standard approach\")\n",
        "ax = plot_ode_solution(ax, true_solution, label=\"true solution\")\n",
        "\n",
        "plt.legend()\n",
        "plt.savefig(\"proof_of_concept.pdf\", bbox_inches=\"tight\")\n",
        "plt.show()"
      ],
      "id": "b6ZQ3Vt3Rzqc"
    },
    {
      "cell_type": "code",
      "execution_count": null,
      "metadata": {
        "id": "AS8RM7ZoR5yB"
      },
      "outputs": [],
      "source": [
        "nas_2_layer_pinn = PINN(X_pinn, X_semigroup, \n",
        "                 X_smooth,T,nas_model_2_layer,False)\n",
        "nas_3_layer_pinn = PINN(X_pinn, X_semigroup, \n",
        "                 X_smooth,T,nas_model_3_layer,False)\n",
        "layers = [3, 20, 20, 20, 20, 2]\n",
        "pinn_baseline = PINN_baseline(X_pinn, X_semigroup, \n",
        "                 X_smooth,T,nas_model_2_layer,layers,False)"
      ],
      "id": "AS8RM7ZoR5yB"
    },
    {
      "cell_type": "code",
      "execution_count": null,
      "metadata": {
        "id": "PwcQbIqcAmlR"
      },
      "outputs": [],
      "source": [
        "nas_3_layer_pinn.train()"
      ],
      "id": "PwcQbIqcAmlR"
    },
    {
      "cell_type": "code",
      "execution_count": null,
      "metadata": {
        "id": "5Ni10Ss8AojC"
      },
      "outputs": [],
      "source": [
        "pinn_baseline.train()"
      ],
      "id": "5Ni10Ss8AojC"
    },
    {
      "cell_type": "code",
      "execution_count": null,
      "metadata": {
        "id": "QioiTVhPAslG"
      },
      "outputs": [],
      "source": [
        "y0 = [4., 0.]\n",
        "max_t_pred = 7.\n",
        "delta_t = 0.05\n",
        "\n",
        "#validation_dac = predict_dac(model, y0, max_t_pred, delta_t)\n",
        "validation_baseline_standard = predict_standard(pinn_baseline, y0, max_t_pred, delta_t)\n",
        "validation_nas_2_standard = predict_standard(nas_2_layer_pinn, y0, max_t_pred, delta_t)\n",
        "validation_nas_3_standard = predict_standard(nas_3_layer_pinn, y0, max_t_pred, delta_t)\n",
        "\n",
        "true_solution = np.array([\n",
        "    solution_simple_ODE(t, y0) \n",
        "    for t in np.linspace(0, max_t_pred, int(max_t_pred / delta_t) + 1)\n",
        "])\n",
        "fig, ax = generate_figure(figsize=(8,8), xlim=[-7, 7], ylim=[-7, 7])\n",
        "\n",
        "ax = plot_ode_solution(ax, validation_baseline_standard, label=\"baseline standard approach\")\n",
        "ax = plot_ode_solution(ax, validation_nas_2_standard, label=\"nas 2 standard approach\")\n",
        "ax = plot_ode_solution(ax, validation_nas_3_standard, label=\"nas 3 standard approach\")\n",
        "ax = plot_ode_solution(ax, true_solution, label=\"true solution\")\n",
        "\n",
        "plt.legend()\n",
        "plt.savefig(\"proof_of_concept.pdf\", bbox_inches=\"tight\")\n",
        "plt.show()"
      ],
      "id": "QioiTVhPAslG"
    },
    {
      "cell_type": "code",
      "execution_count": null,
      "metadata": {
        "id": "jH5a4P_cAtJA"
      },
      "outputs": [],
      "source": [
        "y0 = [4., 0.]\n",
        "max_t_pred = 7.\n",
        "delta_t = 0.05\n",
        "\n",
        "#validation_dac = predict_dac(model, y0, max_t_pred, delta_t)\n",
        "validation_baseline_dac = predict_dac(pinn_baseline, y0, max_t_pred, delta_t)\n",
        "validation_nas_2_dac = predict_dac(nas_2_layer_pinn, y0, max_t_pred, delta_t)\n",
        "validation_nas_3_dac = predict_dac(nas_3_layer_pinn, y0, max_t_pred, delta_t)\n",
        "\n",
        "true_solution = np.array([\n",
        "    solution_simple_ODE(t, y0) \n",
        "    for t in np.linspace(0, max_t_pred, int(max_t_pred / delta_t) + 1)\n",
        "])\n",
        "fig, ax = generate_figure(figsize=(8,8), xlim=[-7, 7], ylim=[-7, 7])\n",
        "\n",
        "ax = plot_ode_solution(ax, validation_baseline_dac, label=\"baseline dac approach\")\n",
        "ax = plot_ode_solution(ax, validation_nas_2_dac, label=\"nas 2 dac approach\")\n",
        "ax = plot_ode_solution(ax, validation_nas_3_dac, label=\"nas 3 dac approach\")\n",
        "ax = plot_ode_solution(ax, true_solution, label=\"true solution\")\n",
        "\n",
        "plt.legend()\n",
        "plt.savefig(\"proof_of_concept.pdf\", bbox_inches=\"tight\")\n",
        "plt.show()"
      ],
      "id": "jH5a4P_cAtJA"
    },
    {
      "cell_type": "code",
      "source": [
        "def evaluate_euclidean_distance(baseline,nas_model_1,\n",
        "                                nas_model_2):\n",
        "  N_evaluate = 1000\n",
        "  y0s = np.random.uniform(0, max_y0, (N_evaluate,2))\n",
        "  max_t_pred = 7.\n",
        "  delta_t = 0.01\n",
        "  baseline_standard_distances = []\n",
        "  baseline_dac_distances = []\n",
        "  nas_1_standard_distances = []\n",
        "  nas_1_dac_distances = []\n",
        "  nas_2_standard_distances = []\n",
        "  nas_2_dac_distances = []\n",
        "  standard_solutions = []\n",
        "  dac_solutions = []\n",
        "  models = [baseline,nas_model_1,nas_model_2]\n",
        "  for i,model in enumerate(models):\n",
        "    #baseline\n",
        "    for y0 in y0s:\n",
        "      standard_solution = predict_standard(model, y0, max_t_pred, delta_t)\n",
        "      standard_solutions.append(standard_solution)\n",
        "      true_solution = np.array([\n",
        "        solution_simple_ODE(t, y0) \n",
        "        for t in np.linspace(0, max_t_pred, int(max_t_pred / delta_t) + 1)\n",
        "      ])\n",
        "    if i == 0:\n",
        "      baseline_standard_distances.append(np.sqrt(np.sum((standard_solution - true_solution) ** 2, axis=1)))\n",
        "    elif i == 1:\n",
        "      nas_1_standard_distances.append(np.sqrt(np.sum((standard_solution - true_solution) ** 2, axis=1)))\n",
        "    else:\n",
        "      nas_2_standard_distances.append(np.sqrt(np.sum((standard_solution - true_solution) ** 2, axis=1)))\n",
        "    #dac\n",
        "    for y0 in y0s:\n",
        "      dac_solution = predict_dac(model, y0, max_t_pred, delta_t)\n",
        "      dac_solutions.append(dac_solution)\n",
        "      true_solution = np.array([\n",
        "        solution_simple_ODE(t, y0) \n",
        "        for t in np.linspace(0, max_t_pred, int(max_t_pred / delta_t) + 1)\n",
        "      ])\n",
        "    if i == 0:\n",
        "      baseline_dac_distances.append(np.sqrt(np.sum((dac_solution - true_solution) ** 2, axis=1)))\n",
        "    elif i == 1:\n",
        "      nas_1_dac_distances.append(np.sqrt(np.sum((dac_solution - true_solution) ** 2, axis=1)))\n",
        "    else:\n",
        "      nas_2_dac_distances.append(np.sqrt(np.sum((dac_solution - true_solution) ** 2, axis=1)))\n",
        "  #compute\n",
        "  baseline_standard_avg_distance, baseline_standard_std_distance = np.mean(baseline_standard_distances),np.std(baseline_standard_distances)\n",
        "  print('baseline standard average distance: ', baseline_standard_avg_distance, 'baseline standard std distance: ', baseline_standard_std_distance)\n",
        "  baseline_dac_avg_distance, baseline_dac_std_distance = np.mean(baseline_dac_distances),np.std(baseline_dac_distances)\n",
        "  print('baseline dac average distance: ', baseline_dac_avg_distance, 'baseline dac std distance: ', baseline_dac_std_distance)\n",
        "  nas_1_standard_avg_distance, nas_1_standard_std_distance = np.mean(nas_1_standard_distances),np.std(nas_1_standard_distances)\n",
        "  print('nas 2 layers standard average distance: ', nas_1_standard_avg_distance, 'nas 2 layers standard std distance: ', nas_1_standard_std_distance )\n",
        "  nas_1_dac_avg_distance, nas_1_dac_std_distance = np.mean(nas_1_dac_distances),np.std(nas_1_dac_distances)\n",
        "  print('nas 2 layers dac average distance: ', nas_1_dac_avg_distance, 'nas 2 layers dac std distance: ', nas_1_dac_std_distance )\n",
        "  nas_2_standard_avg_distance, nas_2_standard_std_distance = np.mean(nas_2_standard_distances),np.std(nas_2_standard_distances)\n",
        "  print('nas 3 layers standard average distance: ', nas_2_standard_avg_distance, 'nas 3 layers standard std distance: ', nas_2_standard_std_distance )\n",
        "  nas_2_dac_avg_distance, nas_2_dac_std_distance = np.mean(nas_2_dac_distances),np.std(nas_2_dac_distances)\n",
        "  print('nas 3 layers dac average distance: ', nas_2_dac_avg_distance, 'nas 3 layers dac std distance: ', nas_2_dac_std_distance )"
      ],
      "metadata": {
        "id": "-S3SJkYVvdvp"
      },
      "id": "-S3SJkYVvdvp",
      "execution_count": null,
      "outputs": []
    },
    {
      "cell_type": "code",
      "source": [
        "evaluate_euclidean_distance()"
      ],
      "metadata": {
        "colab": {
          "base_uri": "https://localhost:8080/"
        },
        "id": "-XyN_fya2Gjn",
        "outputId": "63adeb74-3c7d-4d54-dae5-a431e562b2e8"
      },
      "id": "-XyN_fya2Gjn",
      "execution_count": null,
      "outputs": [
        {
          "output_type": "stream",
          "name": "stdout",
          "text": [
            "baseline standard average distance:  2.446637989188117 baseline standard std distance:  3.0920831222021326\n",
            "baseline dac average distance:  0.6569662922257008 baseline dac std distance:  0.9070838123303362\n",
            "nas 2 layers standard average distance:  1.2597409820546592 nas 2 layers standard std distance:  1.5179940673082037\n",
            "nas 2 layers dac average distance:  1.0736418213277887 nas 2 layers dac std distance:  1.6556949671128662\n",
            "nas 3 layers standard average distance:  1.2694360068980286 nas 3 layers standard std distance:  1.7365553060837449\n",
            "nas 3 layers dac average distance:  0.9621870457661464 nas 3 layers dac std distance:  1.618209901148994\n"
          ]
        }
      ]
    },
    {
      "cell_type": "code",
      "source": [
        "ablation_nums = 5\n",
        "for i in range(ablation_nums):\n",
        "  nas_2_layer_pinn = PINN(X_pinn, X_semigroup, \n",
        "                 X_smooth,T,nas_model_2_layer,False)\n",
        "  nas_3_layer_pinn = PINN(X_pinn, X_semigroup, \n",
        "                 X_smooth,T,nas_model_3_layer,False)\n",
        "  layers = [3, 20, 20, 20, 20, 2]\n",
        "  pinn_baseline = PINN_baseline(X_pinn, X_semigroup, \n",
        "                 X_smooth,T,nas_model_2_layer,layers,False)\n",
        "\n",
        "  nas_2_layer_pinn.train()\n",
        "  nas_3_layer_pinn.train()\n",
        "  pinn_baseline.train()\n",
        "  print(\"ablation experiment \", i)\n",
        "  evaluate_euclidean_distance()"
      ],
      "metadata": {
        "colab": {
          "base_uri": "https://localhost:8080/"
        },
        "id": "AHu1GGHf2JtK",
        "outputId": "59549af7-948a-4a6a-b6a8-3b5cbea06401"
      },
      "id": "AHu1GGHf2JtK",
      "execution_count": null,
      "outputs": [
        {
          "output_type": "stream",
          "name": "stdout",
          "text": [
            "Iter 100, Loss: 0.00170, Loss_pinn: 0.00084 Loss_smooth: 0.00077, Loss_semigroup: 0.00008\n",
            "Iter 200, Loss: 0.00028, Loss_pinn: 0.00014 Loss_smooth: 0.00011, Loss_semigroup: 0.00003\n",
            "Iter 300, Loss: 0.00012, Loss_pinn: 0.00006 Loss_smooth: 0.00005, Loss_semigroup: 0.00001\n",
            "Iter 400, Loss: 0.00007, Loss_pinn: 0.00003 Loss_smooth: 0.00003, Loss_semigroup: 0.00001\n",
            "Iter 500, Loss: 0.00004, Loss_pinn: 0.00002 Loss_smooth: 0.00002, Loss_semigroup: 0.00000\n",
            "Iter 600, Loss: 0.00002, Loss_pinn: 0.00001 Loss_smooth: 0.00001, Loss_semigroup: 0.00000\n",
            "Iter 700, Loss: 0.00002, Loss_pinn: 0.00001 Loss_smooth: 0.00001, Loss_semigroup: 0.00000\n",
            "Iter 800, Loss: 0.00001, Loss_pinn: 0.00001 Loss_smooth: 0.00001, Loss_semigroup: 0.00000\n",
            "Iter 900, Loss: 0.00001, Loss_pinn: 0.00000 Loss_smooth: 0.00000, Loss_semigroup: 0.00000\n",
            "Iter 1000, Loss: 0.00001, Loss_pinn: 0.00000 Loss_smooth: 0.00000, Loss_semigroup: 0.00000\n",
            "Iter 1100, Loss: 0.00001, Loss_pinn: 0.00000 Loss_smooth: 0.00000, Loss_semigroup: 0.00000\n",
            "Iter 1200, Loss: 0.00001, Loss_pinn: 0.00000 Loss_smooth: 0.00000, Loss_semigroup: 0.00000\n",
            "Iter 1300, Loss: 0.00000, Loss_pinn: 0.00000 Loss_smooth: 0.00000, Loss_semigroup: 0.00000\n",
            "Iter 1400, Loss: 0.00000, Loss_pinn: 0.00000 Loss_smooth: 0.00000, Loss_semigroup: 0.00000\n",
            "Iter 1500, Loss: 0.00000, Loss_pinn: 0.00000 Loss_smooth: 0.00000, Loss_semigroup: 0.00000\n",
            "Iter 1600, Loss: 0.00000, Loss_pinn: 0.00000 Loss_smooth: 0.00000, Loss_semigroup: 0.00000\n",
            "Iter 1700, Loss: 0.00000, Loss_pinn: 0.00000 Loss_smooth: 0.00000, Loss_semigroup: 0.00000\n",
            "Iter 1800, Loss: 0.00000, Loss_pinn: 0.00000 Loss_smooth: 0.00000, Loss_semigroup: 0.00000\n",
            "Iter 1900, Loss: 0.00000, Loss_pinn: 0.00000 Loss_smooth: 0.00000, Loss_semigroup: 0.00000\n",
            "Iter 2000, Loss: 0.00000, Loss_pinn: 0.00000 Loss_smooth: 0.00000, Loss_semigroup: 0.00000\n",
            "Iter 100, Loss: 0.00209, Loss_pinn: 0.00116 Loss_smooth: 0.00083, Loss_semigroup: 0.00010\n",
            "Iter 200, Loss: 0.00038, Loss_pinn: 0.00017 Loss_smooth: 0.00018, Loss_semigroup: 0.00003\n",
            "Iter 300, Loss: 0.00013, Loss_pinn: 0.00006 Loss_smooth: 0.00006, Loss_semigroup: 0.00001\n",
            "Iter 400, Loss: 0.00007, Loss_pinn: 0.00004 Loss_smooth: 0.00003, Loss_semigroup: 0.00000\n",
            "Iter 500, Loss: 0.00004, Loss_pinn: 0.00002 Loss_smooth: 0.00002, Loss_semigroup: 0.00000\n",
            "Iter 600, Loss: 0.00003, Loss_pinn: 0.00001 Loss_smooth: 0.00001, Loss_semigroup: 0.00000\n",
            "Iter 700, Loss: 0.00002, Loss_pinn: 0.00001 Loss_smooth: 0.00001, Loss_semigroup: 0.00000\n",
            "Iter 800, Loss: 0.00001, Loss_pinn: 0.00001 Loss_smooth: 0.00001, Loss_semigroup: 0.00000\n",
            "Iter 900, Loss: 0.00001, Loss_pinn: 0.00000 Loss_smooth: 0.00001, Loss_semigroup: 0.00000\n",
            "Iter 1000, Loss: 0.00001, Loss_pinn: 0.00000 Loss_smooth: 0.00000, Loss_semigroup: 0.00000\n",
            "Iter 1100, Loss: 0.00001, Loss_pinn: 0.00000 Loss_smooth: 0.00000, Loss_semigroup: 0.00000\n",
            "Iter 1200, Loss: 0.00001, Loss_pinn: 0.00000 Loss_smooth: 0.00000, Loss_semigroup: 0.00000\n",
            "Iter 1300, Loss: 0.00000, Loss_pinn: 0.00000 Loss_smooth: 0.00000, Loss_semigroup: 0.00000\n",
            "Iter 1400, Loss: 0.00000, Loss_pinn: 0.00000 Loss_smooth: 0.00000, Loss_semigroup: 0.00000\n",
            "Iter 1500, Loss: 0.00000, Loss_pinn: 0.00000 Loss_smooth: 0.00000, Loss_semigroup: 0.00000\n",
            "Iter 1600, Loss: 0.00000, Loss_pinn: 0.00000 Loss_smooth: 0.00000, Loss_semigroup: 0.00000\n",
            "Iter 1700, Loss: 0.00000, Loss_pinn: 0.00000 Loss_smooth: 0.00000, Loss_semigroup: 0.00000\n",
            "Iter 1800, Loss: 0.00000, Loss_pinn: 0.00000 Loss_smooth: 0.00000, Loss_semigroup: 0.00000\n",
            "Iter 1900, Loss: 0.00000, Loss_pinn: 0.00000 Loss_smooth: 0.00000, Loss_semigroup: 0.00000\n",
            "Iter 2000, Loss: 0.00000, Loss_pinn: 0.00000 Loss_smooth: 0.00000, Loss_semigroup: 0.00000\n",
            "Iter 100, Loss: 0.00972, Loss_pinn: 0.00471 Loss_smooth: 0.00483, Loss_semigroup: 0.00018\n",
            "Iter 200, Loss: 0.00132, Loss_pinn: 0.00077 Loss_smooth: 0.00053, Loss_semigroup: 0.00002\n",
            "Iter 300, Loss: 0.00049, Loss_pinn: 0.00027 Loss_smooth: 0.00022, Loss_semigroup: 0.00001\n",
            "Iter 400, Loss: 0.00024, Loss_pinn: 0.00011 Loss_smooth: 0.00011, Loss_semigroup: 0.00001\n",
            "Iter 500, Loss: 0.00014, Loss_pinn: 0.00007 Loss_smooth: 0.00006, Loss_semigroup: 0.00001\n",
            "Iter 600, Loss: 0.00009, Loss_pinn: 0.00005 Loss_smooth: 0.00004, Loss_semigroup: 0.00000\n",
            "Iter 700, Loss: 0.00006, Loss_pinn: 0.00003 Loss_smooth: 0.00003, Loss_semigroup: 0.00000\n",
            "Iter 800, Loss: 0.00005, Loss_pinn: 0.00003 Loss_smooth: 0.00002, Loss_semigroup: 0.00000\n",
            "Iter 900, Loss: 0.00004, Loss_pinn: 0.00002 Loss_smooth: 0.00002, Loss_semigroup: 0.00000\n",
            "Iter 1000, Loss: 0.00003, Loss_pinn: 0.00002 Loss_smooth: 0.00002, Loss_semigroup: 0.00000\n",
            "Iter 1100, Loss: 0.00003, Loss_pinn: 0.00002 Loss_smooth: 0.00001, Loss_semigroup: 0.00000\n",
            "Iter 1200, Loss: 0.00003, Loss_pinn: 0.00001 Loss_smooth: 0.00001, Loss_semigroup: 0.00000\n",
            "Iter 1300, Loss: 0.00002, Loss_pinn: 0.00001 Loss_smooth: 0.00001, Loss_semigroup: 0.00000\n",
            "Iter 1400, Loss: 0.00002, Loss_pinn: 0.00001 Loss_smooth: 0.00001, Loss_semigroup: 0.00000\n",
            "Iter 1500, Loss: 0.00002, Loss_pinn: 0.00001 Loss_smooth: 0.00001, Loss_semigroup: 0.00000\n",
            "Iter 1600, Loss: 0.00002, Loss_pinn: 0.00001 Loss_smooth: 0.00001, Loss_semigroup: 0.00000\n",
            "Iter 1700, Loss: 0.00001, Loss_pinn: 0.00001 Loss_smooth: 0.00001, Loss_semigroup: 0.00000\n",
            "Iter 1800, Loss: 0.00001, Loss_pinn: 0.00001 Loss_smooth: 0.00001, Loss_semigroup: 0.00000\n",
            "Iter 1900, Loss: 0.00001, Loss_pinn: 0.00001 Loss_smooth: 0.00001, Loss_semigroup: 0.00000\n",
            "Iter 2000, Loss: 0.00001, Loss_pinn: 0.00000 Loss_smooth: 0.00001, Loss_semigroup: 0.00000\n",
            "ablation experiment  0\n",
            "baseline standard average distance:  3.7908392592123095 baseline standard std distance:  1.4839528011417948\n",
            "baseline dac average distance:  3.8740955974268925 baseline dac std distance:  1.5044075661664966\n",
            "nas 2 layers standard average distance:  1.6599678380184453 nas 2 layers standard std distance:  2.0925218442160225\n",
            "nas 2 layers dac average distance:  1.7386556781850295 nas 2 layers dac std distance:  2.5570282494264642\n",
            "nas 3 layers standard average distance:  1.1261960983863588 nas 3 layers standard std distance:  1.4424864548019591\n",
            "nas 3 layers dac average distance:  0.9922840110767108 nas 3 layers dac std distance:  1.460826797483982\n",
            "Iter 100, Loss: 0.02959, Loss_pinn: 0.01718 Loss_smooth: 0.01206, Loss_semigroup: 0.00035\n",
            "Iter 200, Loss: 0.00356, Loss_pinn: 0.00185 Loss_smooth: 0.00162, Loss_semigroup: 0.00009\n",
            "Iter 300, Loss: 0.00092, Loss_pinn: 0.00059 Loss_smooth: 0.00031, Loss_semigroup: 0.00002\n",
            "Iter 400, Loss: 0.00037, Loss_pinn: 0.00021 Loss_smooth: 0.00015, Loss_semigroup: 0.00001\n",
            "Iter 500, Loss: 0.00025, Loss_pinn: 0.00013 Loss_smooth: 0.00011, Loss_semigroup: 0.00001\n",
            "Iter 600, Loss: 0.00017, Loss_pinn: 0.00009 Loss_smooth: 0.00008, Loss_semigroup: 0.00001\n",
            "Iter 700, Loss: 0.00012, Loss_pinn: 0.00006 Loss_smooth: 0.00006, Loss_semigroup: 0.00000\n",
            "Iter 800, Loss: 0.00010, Loss_pinn: 0.00005 Loss_smooth: 0.00005, Loss_semigroup: 0.00000\n",
            "Iter 900, Loss: 0.00008, Loss_pinn: 0.00004 Loss_smooth: 0.00003, Loss_semigroup: 0.00000\n",
            "Iter 1000, Loss: 0.00007, Loss_pinn: 0.00004 Loss_smooth: 0.00003, Loss_semigroup: 0.00000\n",
            "Iter 1100, Loss: 0.00005, Loss_pinn: 0.00003 Loss_smooth: 0.00002, Loss_semigroup: 0.00000\n",
            "Iter 1200, Loss: 0.00005, Loss_pinn: 0.00002 Loss_smooth: 0.00002, Loss_semigroup: 0.00000\n",
            "Iter 1300, Loss: 0.00004, Loss_pinn: 0.00002 Loss_smooth: 0.00002, Loss_semigroup: 0.00000\n",
            "Iter 1400, Loss: 0.00004, Loss_pinn: 0.00002 Loss_smooth: 0.00001, Loss_semigroup: 0.00000\n",
            "Iter 1500, Loss: 0.00003, Loss_pinn: 0.00002 Loss_smooth: 0.00001, Loss_semigroup: 0.00000\n",
            "Iter 1600, Loss: 0.00003, Loss_pinn: 0.00002 Loss_smooth: 0.00001, Loss_semigroup: 0.00000\n",
            "Iter 1700, Loss: 0.00003, Loss_pinn: 0.00001 Loss_smooth: 0.00001, Loss_semigroup: 0.00000\n",
            "Iter 1800, Loss: 0.00002, Loss_pinn: 0.00001 Loss_smooth: 0.00001, Loss_semigroup: 0.00000\n",
            "Iter 1900, Loss: 0.00002, Loss_pinn: 0.00001 Loss_smooth: 0.00001, Loss_semigroup: 0.00000\n",
            "Iter 2000, Loss: 0.00002, Loss_pinn: 0.00001 Loss_smooth: 0.00001, Loss_semigroup: 0.00000\n",
            "ablation experiment  1\n",
            "baseline standard average distance:  3.6318765093802408 baseline standard std distance:  1.4174574593366414\n",
            "baseline dac average distance:  3.690153241888409 baseline dac std distance:  1.429875274231091\n",
            "nas 2 layers standard average distance:  1.8745223598270702 nas 2 layers standard std distance:  2.367176755593494\n",
            "nas 2 layers dac average distance:  2.23636935456442 nas 2 layers dac std distance:  3.0626866573551896\n",
            "nas 3 layers standard average distance:  1.2292160916521735 nas 3 layers standard std distance:  1.5364305747582205\n",
            "nas 3 layers dac average distance:  1.3260870488059888 nas 3 layers dac std distance:  1.8325446074940264\n",
            "Iter 100, Loss: 0.00948, Loss_pinn: 0.00637 Loss_smooth: 0.00303, Loss_semigroup: 0.00008\n",
            "Iter 200, Loss: 0.00138, Loss_pinn: 0.00056 Loss_smooth: 0.00080, Loss_semigroup: 0.00003\n",
            "Iter 300, Loss: 0.00047, Loss_pinn: 0.00029 Loss_smooth: 0.00018, Loss_semigroup: 0.00001\n",
            "Iter 400, Loss: 0.00023, Loss_pinn: 0.00013 Loss_smooth: 0.00010, Loss_semigroup: 0.00000\n",
            "Iter 500, Loss: 0.00014, Loss_pinn: 0.00007 Loss_smooth: 0.00006, Loss_semigroup: 0.00000\n",
            "Iter 600, Loss: 0.00010, Loss_pinn: 0.00005 Loss_smooth: 0.00005, Loss_semigroup: 0.00000\n",
            "Iter 700, Loss: 0.00008, Loss_pinn: 0.00004 Loss_smooth: 0.00004, Loss_semigroup: 0.00000\n",
            "Iter 800, Loss: 0.00007, Loss_pinn: 0.00004 Loss_smooth: 0.00003, Loss_semigroup: 0.00000\n",
            "Iter 900, Loss: 0.00006, Loss_pinn: 0.00003 Loss_smooth: 0.00003, Loss_semigroup: 0.00000\n",
            "Iter 1000, Loss: 0.00005, Loss_pinn: 0.00002 Loss_smooth: 0.00002, Loss_semigroup: 0.00000\n",
            "Iter 1100, Loss: 0.00004, Loss_pinn: 0.00002 Loss_smooth: 0.00002, Loss_semigroup: 0.00000\n",
            "Iter 1200, Loss: 0.00003, Loss_pinn: 0.00002 Loss_smooth: 0.00001, Loss_semigroup: 0.00000\n",
            "Iter 1300, Loss: 0.00003, Loss_pinn: 0.00001 Loss_smooth: 0.00001, Loss_semigroup: 0.00000\n",
            "Iter 1400, Loss: 0.00002, Loss_pinn: 0.00001 Loss_smooth: 0.00001, Loss_semigroup: 0.00000\n",
            "Iter 1500, Loss: 0.00002, Loss_pinn: 0.00001 Loss_smooth: 0.00001, Loss_semigroup: 0.00000\n",
            "Iter 1600, Loss: 0.00002, Loss_pinn: 0.00001 Loss_smooth: 0.00001, Loss_semigroup: 0.00000\n",
            "Iter 1700, Loss: 0.00001, Loss_pinn: 0.00001 Loss_smooth: 0.00001, Loss_semigroup: 0.00000\n",
            "Iter 1800, Loss: 0.00001, Loss_pinn: 0.00001 Loss_smooth: 0.00001, Loss_semigroup: 0.00000\n",
            "Iter 1900, Loss: 0.00001, Loss_pinn: 0.00001 Loss_smooth: 0.00001, Loss_semigroup: 0.00000\n",
            "Iter 2000, Loss: 0.00001, Loss_pinn: 0.00001 Loss_smooth: 0.00000, Loss_semigroup: 0.00000\n",
            "ablation experiment  2\n",
            "baseline standard average distance:  6.587205615157747 baseline standard std distance:  2.5796684025880805\n",
            "baseline dac average distance:  6.659487701238749 baseline dac std distance:  2.6034958419385084\n",
            "nas 2 layers standard average distance:  2.9251501391350327 nas 2 layers standard std distance:  3.733423532093998\n",
            "nas 2 layers dac average distance:  1.6581089977650862 nas 2 layers dac std distance:  2.4636026648485068\n",
            "nas 3 layers standard average distance:  2.2354976878349397 nas 3 layers standard std distance:  2.925919185830932\n",
            "nas 3 layers dac average distance:  1.8711411840753545 nas 3 layers dac std distance:  2.8796720758366616\n",
            "Iter 100, Loss: 0.01832, Loss_pinn: 0.01149 Loss_smooth: 0.00661, Loss_semigroup: 0.00022\n",
            "Iter 200, Loss: 0.00237, Loss_pinn: 0.00128 Loss_smooth: 0.00104, Loss_semigroup: 0.00006\n",
            "Iter 300, Loss: 0.00091, Loss_pinn: 0.00049 Loss_smooth: 0.00040, Loss_semigroup: 0.00002\n",
            "Iter 400, Loss: 0.00054, Loss_pinn: 0.00032 Loss_smooth: 0.00020, Loss_semigroup: 0.00001\n",
            "Iter 500, Loss: 0.00035, Loss_pinn: 0.00021 Loss_smooth: 0.00013, Loss_semigroup: 0.00001\n",
            "Iter 600, Loss: 0.00025, Loss_pinn: 0.00015 Loss_smooth: 0.00009, Loss_semigroup: 0.00001\n",
            "Iter 700, Loss: 0.00016, Loss_pinn: 0.00009 Loss_smooth: 0.00006, Loss_semigroup: 0.00001\n",
            "Iter 800, Loss: 0.00013, Loss_pinn: 0.00008 Loss_smooth: 0.00004, Loss_semigroup: 0.00000\n",
            "Iter 900, Loss: 0.00011, Loss_pinn: 0.00007 Loss_smooth: 0.00004, Loss_semigroup: 0.00000\n",
            "Iter 1000, Loss: 0.00009, Loss_pinn: 0.00005 Loss_smooth: 0.00004, Loss_semigroup: 0.00000\n",
            "Iter 1100, Loss: 0.00007, Loss_pinn: 0.00004 Loss_smooth: 0.00003, Loss_semigroup: 0.00000\n",
            "Iter 1200, Loss: 0.00006, Loss_pinn: 0.00003 Loss_smooth: 0.00003, Loss_semigroup: 0.00000\n",
            "Iter 1300, Loss: 0.00005, Loss_pinn: 0.00002 Loss_smooth: 0.00003, Loss_semigroup: 0.00000\n",
            "Iter 1400, Loss: 0.00004, Loss_pinn: 0.00002 Loss_smooth: 0.00002, Loss_semigroup: 0.00000\n",
            "Iter 1500, Loss: 0.00004, Loss_pinn: 0.00002 Loss_smooth: 0.00002, Loss_semigroup: 0.00000\n",
            "Iter 1600, Loss: 0.00004, Loss_pinn: 0.00002 Loss_smooth: 0.00002, Loss_semigroup: 0.00000\n",
            "Iter 1700, Loss: 0.00003, Loss_pinn: 0.00002 Loss_smooth: 0.00002, Loss_semigroup: 0.00000\n",
            "Iter 1800, Loss: 0.00003, Loss_pinn: 0.00001 Loss_smooth: 0.00002, Loss_semigroup: 0.00000\n",
            "Iter 1900, Loss: 0.00003, Loss_pinn: 0.00001 Loss_smooth: 0.00001, Loss_semigroup: 0.00000\n",
            "Iter 2000, Loss: 0.00002, Loss_pinn: 0.00001 Loss_smooth: 0.00001, Loss_semigroup: 0.00000\n",
            "ablation experiment  3\n",
            "baseline standard average distance:  6.221702494190745 baseline standard std distance:  2.402917646850931\n",
            "baseline dac average distance:  6.237323708893956 baseline dac std distance:  2.404327786423549\n",
            "nas 2 layers standard average distance:  3.4716778336833456 nas 2 layers standard std distance:  4.226654217887063\n",
            "nas 2 layers dac average distance:  3.126891028088427 nas 2 layers dac std distance:  3.890144248294771\n",
            "nas 3 layers standard average distance:  2.3961438134880533 nas 3 layers standard std distance:  2.9644603256001965\n",
            "nas 3 layers dac average distance:  3.2416518583969816 nas 3 layers dac std distance:  4.2197975895048145\n",
            "Iter 100, Loss: 0.01105, Loss_pinn: 0.00618 Loss_smooth: 0.00476, Loss_semigroup: 0.00011\n",
            "Iter 200, Loss: 0.00134, Loss_pinn: 0.00078 Loss_smooth: 0.00054, Loss_semigroup: 0.00002\n",
            "Iter 300, Loss: 0.00045, Loss_pinn: 0.00026 Loss_smooth: 0.00018, Loss_semigroup: 0.00001\n",
            "Iter 400, Loss: 0.00022, Loss_pinn: 0.00012 Loss_smooth: 0.00009, Loss_semigroup: 0.00000\n",
            "Iter 500, Loss: 0.00013, Loss_pinn: 0.00007 Loss_smooth: 0.00006, Loss_semigroup: 0.00000\n",
            "Iter 600, Loss: 0.00010, Loss_pinn: 0.00005 Loss_smooth: 0.00004, Loss_semigroup: 0.00000\n",
            "Iter 700, Loss: 0.00007, Loss_pinn: 0.00004 Loss_smooth: 0.00003, Loss_semigroup: 0.00000\n",
            "Iter 800, Loss: 0.00006, Loss_pinn: 0.00003 Loss_smooth: 0.00002, Loss_semigroup: 0.00000\n",
            "Iter 900, Loss: 0.00005, Loss_pinn: 0.00003 Loss_smooth: 0.00002, Loss_semigroup: 0.00000\n",
            "Iter 1000, Loss: 0.00004, Loss_pinn: 0.00002 Loss_smooth: 0.00001, Loss_semigroup: 0.00000\n",
            "Iter 1100, Loss: 0.00003, Loss_pinn: 0.00002 Loss_smooth: 0.00001, Loss_semigroup: 0.00000\n",
            "Iter 1200, Loss: 0.00003, Loss_pinn: 0.00002 Loss_smooth: 0.00001, Loss_semigroup: 0.00000\n",
            "Iter 1300, Loss: 0.00002, Loss_pinn: 0.00001 Loss_smooth: 0.00001, Loss_semigroup: 0.00000\n",
            "Iter 1400, Loss: 0.00002, Loss_pinn: 0.00001 Loss_smooth: 0.00001, Loss_semigroup: 0.00000\n",
            "Iter 1500, Loss: 0.00002, Loss_pinn: 0.00001 Loss_smooth: 0.00001, Loss_semigroup: 0.00000\n",
            "Iter 1600, Loss: 0.00001, Loss_pinn: 0.00001 Loss_smooth: 0.00001, Loss_semigroup: 0.00000\n",
            "Iter 1700, Loss: 0.00001, Loss_pinn: 0.00001 Loss_smooth: 0.00001, Loss_semigroup: 0.00000\n",
            "Iter 1800, Loss: 0.00001, Loss_pinn: 0.00001 Loss_smooth: 0.00000, Loss_semigroup: 0.00000\n",
            "Iter 1900, Loss: 0.00001, Loss_pinn: 0.00001 Loss_smooth: 0.00000, Loss_semigroup: 0.00000\n",
            "Iter 2000, Loss: 0.00001, Loss_pinn: 0.00000 Loss_smooth: 0.00000, Loss_semigroup: 0.00000\n",
            "ablation experiment  4\n",
            "baseline standard average distance:  3.6232907593428814 baseline standard std distance:  1.452995195120721\n",
            "baseline dac average distance:  3.671101088346289 baseline dac std distance:  1.4678587232793834\n",
            "nas 2 layers standard average distance:  1.0121938187145492 nas 2 layers standard std distance:  1.228850730659333\n",
            "nas 2 layers dac average distance:  0.48843597865163835 nas 2 layers dac std distance:  0.8965868576654586\n",
            "nas 3 layers standard average distance:  1.5489173652039159 nas 3 layers standard std distance:  1.9730421882389284\n",
            "nas 3 layers dac average distance:  0.24897077554113098 nas 3 layers dac std distance:  0.4662487059855363\n"
          ]
        }
      ]
    }
  ],
  "metadata": {
    "colab": {
      "provenance": [],
      "toc_visible": true
    },
    "kernelspec": {
      "display_name": "Python 3",
      "language": "python",
      "name": "python3"
    },
    "language_info": {
      "codemirror_mode": {
        "name": "ipython",
        "version": 3
      },
      "file_extension": ".py",
      "mimetype": "text/x-python",
      "name": "python",
      "nbconvert_exporter": "python",
      "pygments_lexer": "ipython3",
      "version": "3.9.5"
    }
  },
  "nbformat": 4,
  "nbformat_minor": 5
}