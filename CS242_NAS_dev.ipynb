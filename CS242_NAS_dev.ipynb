{
  "cells": [
    {
      "cell_type": "code",
      "execution_count": null,
      "metadata": {
        "id": "65af7a77"
      },
      "outputs": [],
      "source": [
        "import numpy as np\n",
        "import os\n",
        "import pandas as pd\n",
        "import pickle\n",
        "\n",
        "import matplotlib.pyplot as plt\n",
        "from matplotlib.lines import Line2D\n",
        "\n",
        "import torch\n",
        "from torch import nn\n",
        "from torch.utils.data import Dataset\n",
        "from torch.utils.data import DataLoader"
      ],
      "id": "65af7a77"
    },
    {
      "cell_type": "code",
      "execution_count": null,
      "metadata": {
        "id": "0915997c"
      },
      "outputs": [],
      "source": [
        "dir = 'data'\n",
        "\n",
        "if not os.path.exists(dir):\n",
        "    os.makedirs(dir)"
      ],
      "id": "0915997c"
    },
    {
      "cell_type": "markdown",
      "metadata": {
        "id": "92041e88"
      },
      "source": [
        "As a proof of concept of divide and conquer phyiscs informed neural networks, we consider the ODE\n",
        "\n",
        "\\begin{align*}\n",
        "    \\frac{d}{dt} \\begin{pmatrix} y_1 \\\\ y_2 \\end{pmatrix}(t) = \\begin{pmatrix} -y_2 \\\\ y_1 \\end{pmatrix} (t).\n",
        "\\end{align*}\n",
        "\n",
        "For a given initial state $y_0 = (y_0^1, y_0^2) \\in \\mathbb{R}^2$, the solution $(y(t))_{t\\geq0}$ flows in counter clockwise circles and is given by\n",
        "\n",
        "\\begin{align*}\n",
        "    y(t) = \\begin{pmatrix} y_0^1 \\cos(t) - y_0^2 \\sin(t) \\\\ y_0^2 \\cos(t) + y_0^1 \\sin(t) \\end{pmatrix}.\n",
        "\\end{align*}"
      ],
      "id": "92041e88"
    },
    {
      "cell_type": "markdown",
      "metadata": {
        "id": "d00b95b7"
      },
      "source": [
        "## 1. Setting up the ODE"
      ],
      "id": "d00b95b7"
    },
    {
      "cell_type": "code",
      "execution_count": null,
      "metadata": {
        "id": "6b007b92"
      },
      "outputs": [],
      "source": [
        "# the true solution\n",
        "\n",
        "def solution_simple_ODE(t, y0):\n",
        "    \n",
        "    y1t = y0[0] * np.cos(t) - y0[1] * np.sin(t)\n",
        "    y2t = y0[1] * np.cos(t) + y0[0] * np.sin(t)\n",
        "\n",
        "    return np.array([y1t, y2t])"
      ],
      "id": "6b007b92"
    },
    {
      "cell_type": "markdown",
      "metadata": {
        "id": "572bd8e0"
      },
      "source": [
        "## 2. Plotting Functionality"
      ],
      "id": "572bd8e0"
    },
    {
      "cell_type": "code",
      "execution_count": null,
      "metadata": {
        "id": "d120a9f5"
      },
      "outputs": [],
      "source": [
        "def generate_figure(figsize, xlim, ylim):\n",
        "    \n",
        "    fig, ax = plt.subplots(figsize=figsize)\n",
        "    ax.set_xlim(xlim)\n",
        "    ax.set_ylim(ylim)\n",
        "    \n",
        "    return fig, ax\n",
        "\n",
        "\n",
        "def plot_ode_solution(ax, time_series, *args, **kwargs):\n",
        "    \n",
        "    y = np.stack(np.array(time_series), axis=1)\n",
        "    ax.plot(y[0], y[1], '.-', *args, **kwargs)\n",
        "    \n",
        "    return ax"
      ],
      "id": "d120a9f5"
    },
    {
      "cell_type": "markdown",
      "metadata": {
        "id": "92d6f9bd"
      },
      "source": [
        "## 3. Generate Training Datasets"
      ],
      "id": "92d6f9bd"
    },
    {
      "cell_type": "markdown",
      "metadata": {
        "id": "9f9c6a94"
      },
      "source": [
        "### 3.1 Training Dataset for the Standard Approach"
      ],
      "id": "9f9c6a94"
    },
    {
      "cell_type": "code",
      "execution_count": null,
      "metadata": {
        "id": "c8671f36"
      },
      "outputs": [],
      "source": [
        "def df_standard_approach(n_samples, delta_t, max_t, y0_max_abs, y_true, name):\n",
        "    \"\"\"\n",
        "    y0_max_abs \n",
        "        the maximum absolute value for sampled initial states\n",
        "    y_true\n",
        "        callable to compute the solution y(t; y0) for a given time t and initial state y0\n",
        "    \"\"\"\n",
        "    outfile = f\"data/{name}__max_t={int(max_t)}__delta_t={delta_t:.2f}.pkl\"\n",
        "    \n",
        "    rs = np.sqrt(np.random.uniform(0, y0_max_abs, n_samples))\n",
        "    angles = np.pi * np.random.uniform(0, 2, n_samples)\n",
        "\n",
        "    y0s = np.array([r * np.array([np.cos(a), np.sin(a)]) for r,a in zip(rs, angles)])\n",
        "    times = np.arange(0, max_t, delta_t)\n",
        "    \n",
        "    solutions = {\n",
        "        t: [y_true(t, y0) for y0 in y0s]\n",
        "        for i, t in enumerate(times)\n",
        "    }\n",
        "    \n",
        "    data = pd.DataFrame(solutions)\n",
        "    \n",
        "    with open(outfile, \"wb\") as handle:\n",
        "        pickle.dump(data, handle, protocol=pickle.HIGHEST_PROTOCOL)\n",
        "    \n",
        "    return outfile"
      ],
      "id": "c8671f36"
    },
    {
      "cell_type": "code",
      "execution_count": null,
      "metadata": {
        "colab": {
          "base_uri": "https://localhost:8080/",
          "height": 404
        },
        "id": "368a9d17",
        "outputId": "bad7f260-de02-43ef-83b5-49619a2d27d1"
      },
      "outputs": [
        {
          "name": "stdout",
          "output_type": "stream",
          "text": [
            "(2000, 120)\n"
          ]
        },
        {
          "data": {
            "text/html": [
              "\n",
              "  <div id=\"df-b56a96be-6386-435a-a34e-a6938f0f8a9c\">\n",
              "    <div class=\"colab-df-container\">\n",
              "      <div>\n",
              "<style scoped>\n",
              "    .dataframe tbody tr th:only-of-type {\n",
              "        vertical-align: middle;\n",
              "    }\n",
              "\n",
              "    .dataframe tbody tr th {\n",
              "        vertical-align: top;\n",
              "    }\n",
              "\n",
              "    .dataframe thead th {\n",
              "        text-align: right;\n",
              "    }\n",
              "</style>\n",
              "<table border=\"1\" class=\"dataframe\">\n",
              "  <thead>\n",
              "    <tr style=\"text-align: right;\">\n",
              "      <th></th>\n",
              "      <th>0.00</th>\n",
              "      <th>0.05</th>\n",
              "      <th>0.10</th>\n",
              "      <th>0.15</th>\n",
              "      <th>0.20</th>\n",
              "      <th>0.25</th>\n",
              "      <th>0.30</th>\n",
              "      <th>0.35</th>\n",
              "      <th>0.40</th>\n",
              "      <th>0.45</th>\n",
              "      <th>...</th>\n",
              "      <th>5.50</th>\n",
              "      <th>5.55</th>\n",
              "      <th>5.60</th>\n",
              "      <th>5.65</th>\n",
              "      <th>5.70</th>\n",
              "      <th>5.75</th>\n",
              "      <th>5.80</th>\n",
              "      <th>5.85</th>\n",
              "      <th>5.90</th>\n",
              "      <th>5.95</th>\n",
              "    </tr>\n",
              "  </thead>\n",
              "  <tbody>\n",
              "    <tr>\n",
              "      <th>0</th>\n",
              "      <td>[0.18902645109981006, 0.4240653096498703]</td>\n",
              "      <td>[0.1675957853646582, 0.43298272343343297]</td>\n",
              "      <td>[0.1457462174482924, 0.44081790590145536]</td>\n",
              "      <td>[0.12353235989146856, 0.44755127317825155]</td>\n",
              "      <td>[0.10100973576932551, 0.4531659953522995]</td>\n",
              "      <td>[0.07823463991261258, 0.4576480385422548]</td>\n",
              "      <td>[0.05526399819993094, 0.46098619997434553]</td>\n",
              "      <td>[0.03215522527268336, 0.46317213598347245]</td>\n",
              "      <td>[0.008966081028371709, 0.46420038286802606]</td>\n",
              "      <td>[-0.014245473749066123, 0.4640683705462956]</td>\n",
              "      <td>...</td>\n",
              "      <td>[0.43315250906945885, 0.16715648342395115]</td>\n",
              "      <td>[0.4242568390441178, 0.18859618391717986]</td>\n",
              "      <td>[0.4143007478698574, 0.2095644921696092]</td>\n",
              "      <td>[0.4033091205895807, 0.23000899833069216]</td>\n",
              "      <td>[0.3913094305471597, 0.24987860178231916]</td>\n",
              "      <td>[0.3783316707183829, 0.2691236388637505]</td>\n",
              "      <td>[0.364408278744135, 0.28769600700490455]</td>\n",
              "      <td>[0.34957405585318996, 0.30554928495773004]</td>\n",
              "      <td>[0.3338660798772609, 0.3226388488251527]</td>\n",
              "      <td>[0.3173236125757319, 0.3389219835975768]</td>\n",
              "    </tr>\n",
              "    <tr>\n",
              "      <th>1</th>\n",
              "      <td>[0.4491701671960303, -0.4936182969674527]</td>\n",
              "      <td>[0.4732794538679261, -0.4705522508143339]</td>\n",
              "      <td>[0.4962057883843269, -0.44631006909305415]</td>\n",
              "      <td>[0.5178918668487459, -0.42095234463283254]</td>\n",
              "      <td>[0.5382834853589133, -0.39454245853877196]</td>\n",
              "      <td>[0.5573296754883036, -0.3671464217721049]</td>\n",
              "      <td>[0.5749828316806571, -0.33883271015716765]</td>\n",
              "      <td>[0.5911988302390792, -0.3096720932275018]</td>\n",
              "      <td>[0.6059371396123023, -0.2797374573388758]</td>\n",
              "      <td>[0.6191609217024568, -0.24910362349135404]</td>\n",
              "      <td>...</td>\n",
              "      <td>[-0.029954292944740613, -0.6667200330979555]</td>\n",
              "      <td>[0.0034052555118486705, -0.6673838973445922]</td>\n",
              "      <td>[0.0367562926030805, -0.6663796494146823]</td>\n",
              "      <td>[0.07001545810511178, -0.6637097994050483]</td>\n",
              "      <td>[0.103099621425226, -0.6593810205502834]</td>\n",
              "      <td>[0.135926089385022, -0.6534041325431399]</td>\n",
              "      <td>[0.168412812910295, -0.6457940744909325]</td>\n",
              "      <td>[0.2004785921109891, -0.6365698675755505]</td>\n",
              "      <td>[0.23204327923863824, -0.6257545675104078]</td>\n",
              "      <td>[0.26302797901399444, -0.6133752069131682]</td>\n",
              "    </tr>\n",
              "    <tr>\n",
              "      <th>2</th>\n",
              "      <td>[-0.689694168197357, -0.5545051916445336]</td>\n",
              "      <td>[-0.6611185212453279, -0.588282546122674]</td>\n",
              "      <td>[-0.6308904222940555, -0.6205895006071352]</td>\n",
              "      <td>[-0.5990854258484283, -0.6513453045368427]</td>\n",
              "      <td>[-0.5657830278358387, -0.6804730844192852]</td>\n",
              "      <td>[-0.5310664669077643, -0.7079000359742113]</td>\n",
              "      <td>[-0.4950225163864899, -0.7335576061064136]</td>\n",
              "      <td>[-0.4577412673769922, -0.7573816642527662]</td>\n",
              "      <td>[-0.4193159035860958, -0.7793126626752327]</td>\n",
              "      <td>[-0.37984246841173525, -0.7992957852992001]</td>\n",
              "      <td>...</td>\n",
              "      <td>[-0.879991183949776, 0.09364597896790039]</td>\n",
              "      <td>[-0.8835717723494686, 0.04954771753980086]</td>\n",
              "      <td>[-0.884943891473571, 0.0053256126218051425]</td>\n",
              "      <td>[-0.8841041117388592, -0.03890980355421958]</td>\n",
              "      <td>[-0.8810545321573207, -0.08304796548519283]</td>\n",
              "      <td>[-0.8758027750897194, -0.1269785507529973]</td>\n",
              "      <td>[-0.8683619671936617, -0.17059175577307106]</td>\n",
              "      <td>[-0.8587507066137903, -0.2137785702461802]</td>\n",
              "      <td>[-0.8469930164961068, -0.2564310496274012]</td>\n",
              "      <td>[-0.8331182849426191, -0.29844258493126274]</td>\n",
              "    </tr>\n",
              "    <tr>\n",
              "      <th>3</th>\n",
              "      <td>[-0.48158647847828445, 0.5112015254418392]</td>\n",
              "      <td>[-0.5065340483543681, 0.4864933645230048]</td>\n",
              "      <td>[-0.5302155469073986, 0.46056922355370933]</td>\n",
              "      <td>[-0.5525717827240795, 0.43349389938534444]</td>\n",
              "      <td>[-0.5735468768577716, 0.40533506622777477]</td>\n",
              "      <td>[-0.5930884024967586, 0.3761631064990575]</td>\n",
              "      <td>[-0.6111475160039728, 0.3460509349060514]</td>\n",
              "      <td>[-0.6276790790006508, 0.31507381619562314]</td>\n",
              "      <td>[-0.6426417711887722, 0.2833091770319774]</td>\n",
              "      <td>[-0.6559981936302862, 0.25083641247031885]</td>\n",
              "      <td>...</td>\n",
              "      <td>[0.019387509687387616, 0.7020517504680833]</td>\n",
              "      <td>[-0.015724682924732558, 0.7021433402191429]</td>\n",
              "      <td>[-0.050797572018796866, 0.7004799372888374]</td>\n",
              "      <td>[-0.08574349363767819, 0.6970656993182092]</td>\n",
              "      <td>[-0.12047510117681365, 0.6919091601240838]</td>\n",
              "      <td>[-0.1549055837052269, 0.685023208368973]</td>\n",
              "      <td>[-0.1889488829476461, 0.6764250553461302]</td>\n",
              "      <td>[-0.2225199083853716, 0.666136191960281]</td>\n",
              "      <td>[-0.2555347499382618, 0.6541823350115535]</td>\n",
              "      <td>[-0.2879108876962315, 0.6405933629168714]</td>\n",
              "    </tr>\n",
              "    <tr>\n",
              "      <th>4</th>\n",
              "      <td>[-0.22609177853359905, 0.006431813356944437]</td>\n",
              "      <td>[-0.22613067937207723, -0.004876104004979384]</td>\n",
              "      <td>[-0.22560437127870647, -0.016171833646316636]</td>\n",
              "      <td>[-0.22451416974962418, -0.02742714212566625]</td>\n",
              "      <td>[-0.22286279972088718, -0.038613897033481184]</td>\n",
              "      <td>[-0.2206543887575504, -0.049704137308441254]</td>\n",
              "      <td>[-0.21789445673690394, -0.060670143125544536]</td>\n",
              "      <td>[-0.21458990205165465, -0.07148450518123371]</td>\n",
              "      <td>[-0.21074898436753683, -0.08212019320238041]</td>\n",
              "      <td>[-0.2063813039784495, -0.09255062350789103]</td>\n",
              "      <td>...</td>\n",
              "      <td>[-0.1556865059726486, 0.16407489875533374]</td>\n",
              "      <td>[-0.16369226551812763, 0.1560887656209997]</td>\n",
              "      <td>[-0.17128887964909506, 0.147712491862071]</td>\n",
              "      <td>[-0.17845736078646385, 0.1389670138006658]</td>\n",
              "      <td>[-0.18517979146066335, 0.1298741905773807]</td>\n",
              "      <td>[-0.19143936909598228, 0.12045674951482309]</td>\n",
              "      <td>[-0.1972204480082575, 0.11073822931114066]</td>\n",
              "      <td>[-0.20250857851093573, 0.10074292120553556]</td>\n",
              "      <td>[-0.2072905430317656, 0.09049580826281571]</td>\n",
              "      <td>[-0.21155438914984395, 0.08002250292874473]</td>\n",
              "    </tr>\n",
              "  </tbody>\n",
              "</table>\n",
              "<p>5 rows × 120 columns</p>\n",
              "</div>\n",
              "      <button class=\"colab-df-convert\" onclick=\"convertToInteractive('df-b56a96be-6386-435a-a34e-a6938f0f8a9c')\"\n",
              "              title=\"Convert this dataframe to an interactive table.\"\n",
              "              style=\"display:none;\">\n",
              "        \n",
              "  <svg xmlns=\"http://www.w3.org/2000/svg\" height=\"24px\"viewBox=\"0 0 24 24\"\n",
              "       width=\"24px\">\n",
              "    <path d=\"M0 0h24v24H0V0z\" fill=\"none\"/>\n",
              "    <path d=\"M18.56 5.44l.94 2.06.94-2.06 2.06-.94-2.06-.94-.94-2.06-.94 2.06-2.06.94zm-11 1L8.5 8.5l.94-2.06 2.06-.94-2.06-.94L8.5 2.5l-.94 2.06-2.06.94zm10 10l.94 2.06.94-2.06 2.06-.94-2.06-.94-.94-2.06-.94 2.06-2.06.94z\"/><path d=\"M17.41 7.96l-1.37-1.37c-.4-.4-.92-.59-1.43-.59-.52 0-1.04.2-1.43.59L10.3 9.45l-7.72 7.72c-.78.78-.78 2.05 0 2.83L4 21.41c.39.39.9.59 1.41.59.51 0 1.02-.2 1.41-.59l7.78-7.78 2.81-2.81c.8-.78.8-2.07 0-2.86zM5.41 20L4 18.59l7.72-7.72 1.47 1.35L5.41 20z\"/>\n",
              "  </svg>\n",
              "      </button>\n",
              "      \n",
              "  <style>\n",
              "    .colab-df-container {\n",
              "      display:flex;\n",
              "      flex-wrap:wrap;\n",
              "      gap: 12px;\n",
              "    }\n",
              "\n",
              "    .colab-df-convert {\n",
              "      background-color: #E8F0FE;\n",
              "      border: none;\n",
              "      border-radius: 50%;\n",
              "      cursor: pointer;\n",
              "      display: none;\n",
              "      fill: #1967D2;\n",
              "      height: 32px;\n",
              "      padding: 0 0 0 0;\n",
              "      width: 32px;\n",
              "    }\n",
              "\n",
              "    .colab-df-convert:hover {\n",
              "      background-color: #E2EBFA;\n",
              "      box-shadow: 0px 1px 2px rgba(60, 64, 67, 0.3), 0px 1px 3px 1px rgba(60, 64, 67, 0.15);\n",
              "      fill: #174EA6;\n",
              "    }\n",
              "\n",
              "    [theme=dark] .colab-df-convert {\n",
              "      background-color: #3B4455;\n",
              "      fill: #D2E3FC;\n",
              "    }\n",
              "\n",
              "    [theme=dark] .colab-df-convert:hover {\n",
              "      background-color: #434B5C;\n",
              "      box-shadow: 0px 1px 3px 1px rgba(0, 0, 0, 0.15);\n",
              "      filter: drop-shadow(0px 1px 2px rgba(0, 0, 0, 0.3));\n",
              "      fill: #FFFFFF;\n",
              "    }\n",
              "  </style>\n",
              "\n",
              "      <script>\n",
              "        const buttonEl =\n",
              "          document.querySelector('#df-b56a96be-6386-435a-a34e-a6938f0f8a9c button.colab-df-convert');\n",
              "        buttonEl.style.display =\n",
              "          google.colab.kernel.accessAllowed ? 'block' : 'none';\n",
              "\n",
              "        async function convertToInteractive(key) {\n",
              "          const element = document.querySelector('#df-b56a96be-6386-435a-a34e-a6938f0f8a9c');\n",
              "          const dataTable =\n",
              "            await google.colab.kernel.invokeFunction('convertToInteractive',\n",
              "                                                     [key], {});\n",
              "          if (!dataTable) return;\n",
              "\n",
              "          const docLinkHtml = 'Like what you see? Visit the ' +\n",
              "            '<a target=\"_blank\" href=https://colab.research.google.com/notebooks/data_table.ipynb>data table notebook</a>'\n",
              "            + ' to learn more about interactive tables.';\n",
              "          element.innerHTML = '';\n",
              "          dataTable['output_type'] = 'display_data';\n",
              "          await google.colab.output.renderOutput(dataTable, element);\n",
              "          const docLink = document.createElement('div');\n",
              "          docLink.innerHTML = docLinkHtml;\n",
              "          element.appendChild(docLink);\n",
              "        }\n",
              "      </script>\n",
              "    </div>\n",
              "  </div>\n",
              "  "
            ],
            "text/plain": [
              "                                           0.00  \\\n",
              "0     [0.18902645109981006, 0.4240653096498703]   \n",
              "1     [0.4491701671960303, -0.4936182969674527]   \n",
              "2     [-0.689694168197357, -0.5545051916445336]   \n",
              "3    [-0.48158647847828445, 0.5112015254418392]   \n",
              "4  [-0.22609177853359905, 0.006431813356944437]   \n",
              "\n",
              "                                            0.05  \\\n",
              "0      [0.1675957853646582, 0.43298272343343297]   \n",
              "1      [0.4732794538679261, -0.4705522508143339]   \n",
              "2      [-0.6611185212453279, -0.588282546122674]   \n",
              "3      [-0.5065340483543681, 0.4864933645230048]   \n",
              "4  [-0.22613067937207723, -0.004876104004979384]   \n",
              "\n",
              "                                            0.10  \\\n",
              "0      [0.1457462174482924, 0.44081790590145536]   \n",
              "1     [0.4962057883843269, -0.44631006909305415]   \n",
              "2     [-0.6308904222940555, -0.6205895006071352]   \n",
              "3     [-0.5302155469073986, 0.46056922355370933]   \n",
              "4  [-0.22560437127870647, -0.016171833646316636]   \n",
              "\n",
              "                                           0.15  \\\n",
              "0    [0.12353235989146856, 0.44755127317825155]   \n",
              "1    [0.5178918668487459, -0.42095234463283254]   \n",
              "2    [-0.5990854258484283, -0.6513453045368427]   \n",
              "3    [-0.5525717827240795, 0.43349389938534444]   \n",
              "4  [-0.22451416974962418, -0.02742714212566625]   \n",
              "\n",
              "                                            0.20  \\\n",
              "0      [0.10100973576932551, 0.4531659953522995]   \n",
              "1     [0.5382834853589133, -0.39454245853877196]   \n",
              "2     [-0.5657830278358387, -0.6804730844192852]   \n",
              "3     [-0.5735468768577716, 0.40533506622777477]   \n",
              "4  [-0.22286279972088718, -0.038613897033481184]   \n",
              "\n",
              "                                           0.25  \\\n",
              "0     [0.07823463991261258, 0.4576480385422548]   \n",
              "1     [0.5573296754883036, -0.3671464217721049]   \n",
              "2    [-0.5310664669077643, -0.7079000359742113]   \n",
              "3     [-0.5930884024967586, 0.3761631064990575]   \n",
              "4  [-0.2206543887575504, -0.049704137308441254]   \n",
              "\n",
              "                                            0.30  \\\n",
              "0     [0.05526399819993094, 0.46098619997434553]   \n",
              "1     [0.5749828316806571, -0.33883271015716765]   \n",
              "2     [-0.4950225163864899, -0.7335576061064136]   \n",
              "3      [-0.6111475160039728, 0.3460509349060514]   \n",
              "4  [-0.21789445673690394, -0.060670143125544536]   \n",
              "\n",
              "                                           0.35  \\\n",
              "0    [0.03215522527268336, 0.46317213598347245]   \n",
              "1     [0.5911988302390792, -0.3096720932275018]   \n",
              "2    [-0.4577412673769922, -0.7573816642527662]   \n",
              "3    [-0.6276790790006508, 0.31507381619562314]   \n",
              "4  [-0.21458990205165465, -0.07148450518123371]   \n",
              "\n",
              "                                           0.40  \\\n",
              "0   [0.008966081028371709, 0.46420038286802606]   \n",
              "1     [0.6059371396123023, -0.2797374573388758]   \n",
              "2    [-0.4193159035860958, -0.7793126626752327]   \n",
              "3     [-0.6426417711887722, 0.2833091770319774]   \n",
              "4  [-0.21074898436753683, -0.08212019320238041]   \n",
              "\n",
              "                                          0.45  ...  \\\n",
              "0  [-0.014245473749066123, 0.4640683705462956]  ...   \n",
              "1   [0.6191609217024568, -0.24910362349135404]  ...   \n",
              "2  [-0.37984246841173525, -0.7992957852992001]  ...   \n",
              "3   [-0.6559981936302862, 0.25083641247031885]  ...   \n",
              "4  [-0.2063813039784495, -0.09255062350789103]  ...   \n",
              "\n",
              "                                           5.50  \\\n",
              "0    [0.43315250906945885, 0.16715648342395115]   \n",
              "1  [-0.029954292944740613, -0.6667200330979555]   \n",
              "2     [-0.879991183949776, 0.09364597896790039]   \n",
              "3    [0.019387509687387616, 0.7020517504680833]   \n",
              "4    [-0.1556865059726486, 0.16407489875533374]   \n",
              "\n",
              "                                           5.55  \\\n",
              "0     [0.4242568390441178, 0.18859618391717986]   \n",
              "1  [0.0034052555118486705, -0.6673838973445922]   \n",
              "2    [-0.8835717723494686, 0.04954771753980086]   \n",
              "3   [-0.015724682924732558, 0.7021433402191429]   \n",
              "4    [-0.16369226551812763, 0.1560887656209997]   \n",
              "\n",
              "                                          5.60  \\\n",
              "0     [0.4143007478698574, 0.2095644921696092]   \n",
              "1    [0.0367562926030805, -0.6663796494146823]   \n",
              "2  [-0.884943891473571, 0.0053256126218051425]   \n",
              "3  [-0.050797572018796866, 0.7004799372888374]   \n",
              "4    [-0.17128887964909506, 0.147712491862071]   \n",
              "\n",
              "                                          5.65  \\\n",
              "0    [0.4033091205895807, 0.23000899833069216]   \n",
              "1   [0.07001545810511178, -0.6637097994050483]   \n",
              "2  [-0.8841041117388592, -0.03890980355421958]   \n",
              "3   [-0.08574349363767819, 0.6970656993182092]   \n",
              "4   [-0.17845736078646385, 0.1389670138006658]   \n",
              "\n",
              "                                          5.70  \\\n",
              "0    [0.3913094305471597, 0.24987860178231916]   \n",
              "1     [0.103099621425226, -0.6593810205502834]   \n",
              "2  [-0.8810545321573207, -0.08304796548519283]   \n",
              "3   [-0.12047510117681365, 0.6919091601240838]   \n",
              "4   [-0.18517979146066335, 0.1298741905773807]   \n",
              "\n",
              "                                          5.75  \\\n",
              "0     [0.3783316707183829, 0.2691236388637505]   \n",
              "1     [0.135926089385022, -0.6534041325431399]   \n",
              "2   [-0.8758027750897194, -0.1269785507529973]   \n",
              "3     [-0.1549055837052269, 0.685023208368973]   \n",
              "4  [-0.19143936909598228, 0.12045674951482309]   \n",
              "\n",
              "                                          5.80  \\\n",
              "0     [0.364408278744135, 0.28769600700490455]   \n",
              "1     [0.168412812910295, -0.6457940744909325]   \n",
              "2  [-0.8683619671936617, -0.17059175577307106]   \n",
              "3    [-0.1889488829476461, 0.6764250553461302]   \n",
              "4   [-0.1972204480082575, 0.11073822931114066]   \n",
              "\n",
              "                                          5.85  \\\n",
              "0   [0.34957405585318996, 0.30554928495773004]   \n",
              "1    [0.2004785921109891, -0.6365698675755505]   \n",
              "2   [-0.8587507066137903, -0.2137785702461802]   \n",
              "3     [-0.2225199083853716, 0.666136191960281]   \n",
              "4  [-0.20250857851093573, 0.10074292120553556]   \n",
              "\n",
              "                                         5.90  \\\n",
              "0    [0.3338660798772609, 0.3226388488251527]   \n",
              "1  [0.23204327923863824, -0.6257545675104078]   \n",
              "2  [-0.8469930164961068, -0.2564310496274012]   \n",
              "3   [-0.2555347499382618, 0.6541823350115535]   \n",
              "4  [-0.2072905430317656, 0.09049580826281571]   \n",
              "\n",
              "                                          5.95  \n",
              "0     [0.3173236125757319, 0.3389219835975768]  \n",
              "1   [0.26302797901399444, -0.6133752069131682]  \n",
              "2  [-0.8331182849426191, -0.29844258493126274]  \n",
              "3    [-0.2879108876962315, 0.6405933629168714]  \n",
              "4  [-0.21155438914984395, 0.08002250292874473]  \n",
              "\n",
              "[5 rows x 120 columns]"
            ]
          },
          "execution_count": 6,
          "metadata": {},
          "output_type": "execute_result"
        }
      ],
      "source": [
        "n_samples = 2000\n",
        "delta_t = 0.05\n",
        "max_t = 6\n",
        "y0_max_abs = 1\n",
        "y_true = solution_simple_ODE\n",
        "name = \"test\"\n",
        "\n",
        "file = df_standard_approach(\n",
        "    n_samples=n_samples, \n",
        "    delta_t=delta_t, max_t=max_t, y0_max_abs=y0_max_abs, \n",
        "    y_true=y_true, name=name\n",
        ")\n",
        "\n",
        "with open(file, \"rb\") as f:\n",
        "    data = pickle.load(f)\n",
        "\n",
        "print(data.shape)\n",
        "data.head()"
      ],
      "id": "368a9d17"
    },
    {
      "cell_type": "code",
      "execution_count": null,
      "metadata": {
        "colab": {
          "base_uri": "https://localhost:8080/",
          "height": 487
        },
        "id": "d20a7b88",
        "outputId": "cc9cbc6f-7af2-4dcd-ba82-7251a8b82661"
      },
      "outputs": [
        {
          "data": {
            "image/png": "[encoded data removed]",
            "text/plain": [
              "<Figure size 576x576 with 1 Axes>"
            ]
          },
          "metadata": {},
          "output_type": "display_data"
        }
      ],
      "source": [
        "fig, ax = generate_figure(figsize=(8,8), xlim=[-1, 1], ylim=[-1, 1])\n",
        "\n",
        "for index, row in data.iterrows():\n",
        "    \n",
        "    if index < 5:\n",
        "        ax = plot_ode_solution(ax, row, label=f\"solution {index}\")\n",
        "    else:\n",
        "        break\n",
        "\n",
        "plt.legend()\n",
        "plt.show()"
      ],
      "id": "d20a7b88"
    },
    {
      "cell_type": "code",
      "execution_count": null,
      "metadata": {
        "id": "3a5d5789"
      },
      "outputs": [],
      "source": [
        "def data_standard_approach(infile):\n",
        "    \n",
        "    with open(infile, \"rb\") as f:\n",
        "        data = pickle.load(f)\n",
        "    \n",
        "    times = data.columns.to_numpy()\n",
        "    times = np.around(times, decimals=5)\n",
        "    \n",
        "    y0s = data.iloc[:,0].to_numpy()\n",
        "    ty0s = [np.concatenate(([t], y0)) for y0 in y0s for t in times]\n",
        "    yty0s = list(data.to_numpy().flatten())\n",
        "    \n",
        "    standard_data = pd.DataFrame({\"input\": ty0s, \"output\": yty0s})\n",
        "    \n",
        "    name = infile.split(\"/\")[-1]\n",
        "    name, info = name.split(\"__\", 1)\n",
        "    outfile = f\"data/{name}_standard__{info}\"\n",
        "    \n",
        "    with open(outfile, \"wb\") as handle:\n",
        "        pickle.dump(standard_data, handle, protocol=pickle.HIGHEST_PROTOCOL)\n",
        "    \n",
        "    return outfile"
      ],
      "id": "3a5d5789"
    },
    {
      "cell_type": "code",
      "execution_count": null,
      "metadata": {
        "colab": {
          "base_uri": "https://localhost:8080/",
          "height": 224
        },
        "id": "aaa5a0d4",
        "outputId": "2317f20a-43a9-4106-81b5-8444d931e943"
      },
      "outputs": [
        {
          "name": "stdout",
          "output_type": "stream",
          "text": [
            "(240000, 2)\n"
          ]
        },
        {
          "data": {
            "text/html": [
              "\n",
              "  <div id=\"df-8a627ae1-d649-4aa5-ad27-017eaa9683ef\">\n",
              "    <div class=\"colab-df-container\">\n",
              "      <div>\n",
              "<style scoped>\n",
              "    .dataframe tbody tr th:only-of-type {\n",
              "        vertical-align: middle;\n",
              "    }\n",
              "\n",
              "    .dataframe tbody tr th {\n",
              "        vertical-align: top;\n",
              "    }\n",
              "\n",
              "    .dataframe thead th {\n",
              "        text-align: right;\n",
              "    }\n",
              "</style>\n",
              "<table border=\"1\" class=\"dataframe\">\n",
              "  <thead>\n",
              "    <tr style=\"text-align: right;\">\n",
              "      <th></th>\n",
              "      <th>input</th>\n",
              "      <th>output</th>\n",
              "    </tr>\n",
              "  </thead>\n",
              "  <tbody>\n",
              "    <tr>\n",
              "      <th>0</th>\n",
              "      <td>[0.0, 0.18902645109981006, 0.4240653096498703]</td>\n",
              "      <td>[0.18902645109981006, 0.4240653096498703]</td>\n",
              "    </tr>\n",
              "    <tr>\n",
              "      <th>1</th>\n",
              "      <td>[0.05, 0.18902645109981006, 0.4240653096498703]</td>\n",
              "      <td>[0.1675957853646582, 0.43298272343343297]</td>\n",
              "    </tr>\n",
              "    <tr>\n",
              "      <th>2</th>\n",
              "      <td>[0.1, 0.18902645109981006, 0.4240653096498703]</td>\n",
              "      <td>[0.1457462174482924, 0.44081790590145536]</td>\n",
              "    </tr>\n",
              "    <tr>\n",
              "      <th>3</th>\n",
              "      <td>[0.15, 0.18902645109981006, 0.4240653096498703]</td>\n",
              "      <td>[0.12353235989146856, 0.44755127317825155]</td>\n",
              "    </tr>\n",
              "    <tr>\n",
              "      <th>4</th>\n",
              "      <td>[0.2, 0.18902645109981006, 0.4240653096498703]</td>\n",
              "      <td>[0.10100973576932551, 0.4531659953522995]</td>\n",
              "    </tr>\n",
              "  </tbody>\n",
              "</table>\n",
              "</div>\n",
              "      <button class=\"colab-df-convert\" onclick=\"convertToInteractive('df-8a627ae1-d649-4aa5-ad27-017eaa9683ef')\"\n",
              "              title=\"Convert this dataframe to an interactive table.\"\n",
              "              style=\"display:none;\">\n",
              "        \n",
              "  <svg xmlns=\"http://www.w3.org/2000/svg\" height=\"24px\"viewBox=\"0 0 24 24\"\n",
              "       width=\"24px\">\n",
              "    <path d=\"M0 0h24v24H0V0z\" fill=\"none\"/>\n",
              "    <path d=\"M18.56 5.44l.94 2.06.94-2.06 2.06-.94-2.06-.94-.94-2.06-.94 2.06-2.06.94zm-11 1L8.5 8.5l.94-2.06 2.06-.94-2.06-.94L8.5 2.5l-.94 2.06-2.06.94zm10 10l.94 2.06.94-2.06 2.06-.94-2.06-.94-.94-2.06-.94 2.06-2.06.94z\"/><path d=\"M17.41 7.96l-1.37-1.37c-.4-.4-.92-.59-1.43-.59-.52 0-1.04.2-1.43.59L10.3 9.45l-7.72 7.72c-.78.78-.78 2.05 0 2.83L4 21.41c.39.39.9.59 1.41.59.51 0 1.02-.2 1.41-.59l7.78-7.78 2.81-2.81c.8-.78.8-2.07 0-2.86zM5.41 20L4 18.59l7.72-7.72 1.47 1.35L5.41 20z\"/>\n",
              "  </svg>\n",
              "      </button>\n",
              "      \n",
              "  <style>\n",
              "    .colab-df-container {\n",
              "      display:flex;\n",
              "      flex-wrap:wrap;\n",
              "      gap: 12px;\n",
              "    }\n",
              "\n",
              "    .colab-df-convert {\n",
              "      background-color: #E8F0FE;\n",
              "      border: none;\n",
              "      border-radius: 50%;\n",
              "      cursor: pointer;\n",
              "      display: none;\n",
              "      fill: #1967D2;\n",
              "      height: 32px;\n",
              "      padding: 0 0 0 0;\n",
              "      width: 32px;\n",
              "    }\n",
              "\n",
              "    .colab-df-convert:hover {\n",
              "      background-color: #E2EBFA;\n",
              "      box-shadow: 0px 1px 2px rgba(60, 64, 67, 0.3), 0px 1px 3px 1px rgba(60, 64, 67, 0.15);\n",
              "      fill: #174EA6;\n",
              "    }\n",
              "\n",
              "    [theme=dark] .colab-df-convert {\n",
              "      background-color: #3B4455;\n",
              "      fill: #D2E3FC;\n",
              "    }\n",
              "\n",
              "    [theme=dark] .colab-df-convert:hover {\n",
              "      background-color: #434B5C;\n",
              "      box-shadow: 0px 1px 3px 1px rgba(0, 0, 0, 0.15);\n",
              "      filter: drop-shadow(0px 1px 2px rgba(0, 0, 0, 0.3));\n",
              "      fill: #FFFFFF;\n",
              "    }\n",
              "  </style>\n",
              "\n",
              "      <script>\n",
              "        const buttonEl =\n",
              "          document.querySelector('#df-8a627ae1-d649-4aa5-ad27-017eaa9683ef button.colab-df-convert');\n",
              "        buttonEl.style.display =\n",
              "          google.colab.kernel.accessAllowed ? 'block' : 'none';\n",
              "\n",
              "        async function convertToInteractive(key) {\n",
              "          const element = document.querySelector('#df-8a627ae1-d649-4aa5-ad27-017eaa9683ef');\n",
              "          const dataTable =\n",
              "            await google.colab.kernel.invokeFunction('convertToInteractive',\n",
              "                                                     [key], {});\n",
              "          if (!dataTable) return;\n",
              "\n",
              "          const docLinkHtml = 'Like what you see? Visit the ' +\n",
              "            '<a target=\"_blank\" href=https://colab.research.google.com/notebooks/data_table.ipynb>data table notebook</a>'\n",
              "            + ' to learn more about interactive tables.';\n",
              "          element.innerHTML = '';\n",
              "          dataTable['output_type'] = 'display_data';\n",
              "          await google.colab.output.renderOutput(dataTable, element);\n",
              "          const docLink = document.createElement('div');\n",
              "          docLink.innerHTML = docLinkHtml;\n",
              "          element.appendChild(docLink);\n",
              "        }\n",
              "      </script>\n",
              "    </div>\n",
              "  </div>\n",
              "  "
            ],
            "text/plain": [
              "                                             input  \\\n",
              "0   [0.0, 0.18902645109981006, 0.4240653096498703]   \n",
              "1  [0.05, 0.18902645109981006, 0.4240653096498703]   \n",
              "2   [0.1, 0.18902645109981006, 0.4240653096498703]   \n",
              "3  [0.15, 0.18902645109981006, 0.4240653096498703]   \n",
              "4   [0.2, 0.18902645109981006, 0.4240653096498703]   \n",
              "\n",
              "                                       output  \n",
              "0   [0.18902645109981006, 0.4240653096498703]  \n",
              "1   [0.1675957853646582, 0.43298272343343297]  \n",
              "2   [0.1457462174482924, 0.44081790590145536]  \n",
              "3  [0.12353235989146856, 0.44755127317825155]  \n",
              "4   [0.10100973576932551, 0.4531659953522995]  "
            ]
          },
          "execution_count": 9,
          "metadata": {},
          "output_type": "execute_result"
        }
      ],
      "source": [
        "file_standard = data_standard_approach(file)\n",
        "\n",
        "with open(file_standard, \"rb\") as f:\n",
        "    standard_data = pickle.load(f)\n",
        "\n",
        "print(standard_data.shape)\n",
        "standard_data.head()"
      ],
      "id": "aaa5a0d4"
    },
    {
      "cell_type": "markdown",
      "metadata": {
        "id": "783f0a8c"
      },
      "source": [
        "### 3.2 Training Dataset for the Divide and Conquer Approach"
      ],
      "id": "783f0a8c"
    },
    {
      "cell_type": "code",
      "execution_count": null,
      "metadata": {
        "id": "eaeb161f"
      },
      "outputs": [],
      "source": [
        "def data_dac_approach(infile, t_star):\n",
        "    \n",
        "    with open(infile, \"rb\") as f:\n",
        "        data = pickle.load(f)\n",
        "    \n",
        "    times = data.columns.to_numpy()\n",
        "    times = np.around(times, decimals=5)\n",
        "    \n",
        "    try:\n",
        "        index_diff = np.where(times == t_star)[0][0]\n",
        "    except ValueError:\n",
        "        print(f\"The time difference {t_star} has to match a standard training data time step.\")\n",
        "        raise\n",
        "    \n",
        "    y0s = []\n",
        "    ytstars = []\n",
        "    \n",
        "    index = 0\n",
        "    \n",
        "    # Note: Iterating over columns is preferred for pandas dataframes\n",
        "    while index + index_diff < len(data.columns):\n",
        "        \n",
        "        y0s.extend(data.iloc[:, index])\n",
        "        ytstars.extend(data.iloc[:, index + index_diff])\n",
        "        \n",
        "        index += 1\n",
        "    \n",
        "    dac_data = pd.DataFrame({0: y0s, t_star: ytstars})\n",
        "    \n",
        "    name = infile.split(\"/\")[-1]\n",
        "    name = name.split(\"__\")[0]\n",
        "    outfile = f\"data/{name}_dac__t_star={t_star:.2f}.pkl\"\n",
        "    \n",
        "    with open(outfile, \"wb\") as handle:\n",
        "        pickle.dump(dac_data, handle, protocol=pickle.HIGHEST_PROTOCOL)\n",
        "    \n",
        "    return outfile"
      ],
      "id": "eaeb161f"
    },
    {
      "cell_type": "code",
      "execution_count": null,
      "metadata": {
        "colab": {
          "base_uri": "https://localhost:8080/",
          "height": 224
        },
        "id": "c4030ccd",
        "outputId": "018a72c5-50f0-4791-c138-aad7418a1952"
      },
      "outputs": [
        {
          "name": "stdout",
          "output_type": "stream",
          "text": [
            "(238000, 2)\n"
          ]
        },
        {
          "data": {
            "text/html": [
              "\n",
              "  <div id=\"df-16b8ae6f-3c9f-4f48-aa6d-10e7585e94a8\">\n",
              "    <div class=\"colab-df-container\">\n",
              "      <div>\n",
              "<style scoped>\n",
              "    .dataframe tbody tr th:only-of-type {\n",
              "        vertical-align: middle;\n",
              "    }\n",
              "\n",
              "    .dataframe tbody tr th {\n",
              "        vertical-align: top;\n",
              "    }\n",
              "\n",
              "    .dataframe thead th {\n",
              "        text-align: right;\n",
              "    }\n",
              "</style>\n",
              "<table border=\"1\" class=\"dataframe\">\n",
              "  <thead>\n",
              "    <tr style=\"text-align: right;\">\n",
              "      <th></th>\n",
              "      <th>0.00</th>\n",
              "      <th>0.05</th>\n",
              "    </tr>\n",
              "  </thead>\n",
              "  <tbody>\n",
              "    <tr>\n",
              "      <th>0</th>\n",
              "      <td>[0.18902645109981006, 0.4240653096498703]</td>\n",
              "      <td>[0.1675957853646582, 0.43298272343343297]</td>\n",
              "    </tr>\n",
              "    <tr>\n",
              "      <th>1</th>\n",
              "      <td>[0.4491701671960303, -0.4936182969674527]</td>\n",
              "      <td>[0.4732794538679261, -0.4705522508143339]</td>\n",
              "    </tr>\n",
              "    <tr>\n",
              "      <th>2</th>\n",
              "      <td>[-0.689694168197357, -0.5545051916445336]</td>\n",
              "      <td>[-0.6611185212453279, -0.588282546122674]</td>\n",
              "    </tr>\n",
              "    <tr>\n",
              "      <th>3</th>\n",
              "      <td>[-0.48158647847828445, 0.5112015254418392]</td>\n",
              "      <td>[-0.5065340483543681, 0.4864933645230048]</td>\n",
              "    </tr>\n",
              "    <tr>\n",
              "      <th>4</th>\n",
              "      <td>[-0.22609177853359905, 0.006431813356944437]</td>\n",
              "      <td>[-0.22613067937207723, -0.004876104004979384]</td>\n",
              "    </tr>\n",
              "  </tbody>\n",
              "</table>\n",
              "</div>\n",
              "      <button class=\"colab-df-convert\" onclick=\"convertToInteractive('df-16b8ae6f-3c9f-4f48-aa6d-10e7585e94a8')\"\n",
              "              title=\"Convert this dataframe to an interactive table.\"\n",
              "              style=\"display:none;\">\n",
              "        \n",
              "  <svg xmlns=\"http://www.w3.org/2000/svg\" height=\"24px\"viewBox=\"0 0 24 24\"\n",
              "       width=\"24px\">\n",
              "    <path d=\"M0 0h24v24H0V0z\" fill=\"none\"/>\n",
              "    <path d=\"M18.56 5.44l.94 2.06.94-2.06 2.06-.94-2.06-.94-.94-2.06-.94 2.06-2.06.94zm-11 1L8.5 8.5l.94-2.06 2.06-.94-2.06-.94L8.5 2.5l-.94 2.06-2.06.94zm10 10l.94 2.06.94-2.06 2.06-.94-2.06-.94-.94-2.06-.94 2.06-2.06.94z\"/><path d=\"M17.41 7.96l-1.37-1.37c-.4-.4-.92-.59-1.43-.59-.52 0-1.04.2-1.43.59L10.3 9.45l-7.72 7.72c-.78.78-.78 2.05 0 2.83L4 21.41c.39.39.9.59 1.41.59.51 0 1.02-.2 1.41-.59l7.78-7.78 2.81-2.81c.8-.78.8-2.07 0-2.86zM5.41 20L4 18.59l7.72-7.72 1.47 1.35L5.41 20z\"/>\n",
              "  </svg>\n",
              "      </button>\n",
              "      \n",
              "  <style>\n",
              "    .colab-df-container {\n",
              "      display:flex;\n",
              "      flex-wrap:wrap;\n",
              "      gap: 12px;\n",
              "    }\n",
              "\n",
              "    .colab-df-convert {\n",
              "      background-color: #E8F0FE;\n",
              "      border: none;\n",
              "      border-radius: 50%;\n",
              "      cursor: pointer;\n",
              "      display: none;\n",
              "      fill: #1967D2;\n",
              "      height: 32px;\n",
              "      padding: 0 0 0 0;\n",
              "      width: 32px;\n",
              "    }\n",
              "\n",
              "    .colab-df-convert:hover {\n",
              "      background-color: #E2EBFA;\n",
              "      box-shadow: 0px 1px 2px rgba(60, 64, 67, 0.3), 0px 1px 3px 1px rgba(60, 64, 67, 0.15);\n",
              "      fill: #174EA6;\n",
              "    }\n",
              "\n",
              "    [theme=dark] .colab-df-convert {\n",
              "      background-color: #3B4455;\n",
              "      fill: #D2E3FC;\n",
              "    }\n",
              "\n",
              "    [theme=dark] .colab-df-convert:hover {\n",
              "      background-color: #434B5C;\n",
              "      box-shadow: 0px 1px 3px 1px rgba(0, 0, 0, 0.15);\n",
              "      filter: drop-shadow(0px 1px 2px rgba(0, 0, 0, 0.3));\n",
              "      fill: #FFFFFF;\n",
              "    }\n",
              "  </style>\n",
              "\n",
              "      <script>\n",
              "        const buttonEl =\n",
              "          document.querySelector('#df-16b8ae6f-3c9f-4f48-aa6d-10e7585e94a8 button.colab-df-convert');\n",
              "        buttonEl.style.display =\n",
              "          google.colab.kernel.accessAllowed ? 'block' : 'none';\n",
              "\n",
              "        async function convertToInteractive(key) {\n",
              "          const element = document.querySelector('#df-16b8ae6f-3c9f-4f48-aa6d-10e7585e94a8');\n",
              "          const dataTable =\n",
              "            await google.colab.kernel.invokeFunction('convertToInteractive',\n",
              "                                                     [key], {});\n",
              "          if (!dataTable) return;\n",
              "\n",
              "          const docLinkHtml = 'Like what you see? Visit the ' +\n",
              "            '<a target=\"_blank\" href=https://colab.research.google.com/notebooks/data_table.ipynb>data table notebook</a>'\n",
              "            + ' to learn more about interactive tables.';\n",
              "          element.innerHTML = '';\n",
              "          dataTable['output_type'] = 'display_data';\n",
              "          await google.colab.output.renderOutput(dataTable, element);\n",
              "          const docLink = document.createElement('div');\n",
              "          docLink.innerHTML = docLinkHtml;\n",
              "          element.appendChild(docLink);\n",
              "        }\n",
              "      </script>\n",
              "    </div>\n",
              "  </div>\n",
              "  "
            ],
            "text/plain": [
              "                                           0.00  \\\n",
              "0     [0.18902645109981006, 0.4240653096498703]   \n",
              "1     [0.4491701671960303, -0.4936182969674527]   \n",
              "2     [-0.689694168197357, -0.5545051916445336]   \n",
              "3    [-0.48158647847828445, 0.5112015254418392]   \n",
              "4  [-0.22609177853359905, 0.006431813356944437]   \n",
              "\n",
              "                                            0.05  \n",
              "0      [0.1675957853646582, 0.43298272343343297]  \n",
              "1      [0.4732794538679261, -0.4705522508143339]  \n",
              "2      [-0.6611185212453279, -0.588282546122674]  \n",
              "3      [-0.5065340483543681, 0.4864933645230048]  \n",
              "4  [-0.22613067937207723, -0.004876104004979384]  "
            ]
          },
          "execution_count": 11,
          "metadata": {},
          "output_type": "execute_result"
        }
      ],
      "source": [
        "tstar = 0.05\n",
        "file_dac = data_dac_approach(file, tstar)\n",
        "\n",
        "with open(file_dac, \"rb\") as f:\n",
        "    dac_data = pickle.load(f)\n",
        "\n",
        "print(dac_data.shape)\n",
        "dac_data.head()"
      ],
      "id": "c4030ccd"
    },
    {
      "cell_type": "code",
      "execution_count": null,
      "metadata": {
        "colab": {
          "base_uri": "https://localhost:8080/",
          "height": 487
        },
        "id": "12162f6d",
        "outputId": "3fb3d675-3c00-4671-f1f3-3f7999dd9c54"
      },
      "outputs": [
        {
          "data": {
            "image/png": "[encoded data removed]",
            "text/plain": [
              "<Figure size 576x576 with 1 Axes>"
            ]
          },
          "metadata": {},
          "output_type": "display_data"
        }
      ],
      "source": [
        "fig, ax = generate_figure(figsize=(8,8), xlim=[-1, 1], ylim=[-1, 1])\n",
        "\n",
        "for index, row in dac_data.iterrows():\n",
        "    \n",
        "    if index < 100:\n",
        "        ax = plot_ode_solution(ax, row)\n",
        "    else:\n",
        "        break\n",
        "\n",
        "plt.show()"
      ],
      "id": "12162f6d"
    },
    {
      "cell_type": "markdown",
      "metadata": {
        "id": "7aed5eb2"
      },
      "source": [
        "## 4. Pytorch Datasets and Dataloaders"
      ],
      "id": "7aed5eb2"
    },
    {
      "cell_type": "code",
      "execution_count": null,
      "metadata": {
        "id": "ffa66af2"
      },
      "outputs": [],
      "source": [
        "class PINN_ODE_Dataset(Dataset):\n",
        "    \n",
        "    \n",
        "    def __init__(self, pkl_file):\n",
        "        \n",
        "        self.data = self.read_pkl(pkl_file)\n",
        "    \n",
        "    \n",
        "    def __len__(self):\n",
        "        \n",
        "        return len(self.data.index)\n",
        "    \n",
        "    \n",
        "    def __getitem__(self, idx):\n",
        "        \n",
        "        item, label = self.data.iloc[idx]\n",
        "        \n",
        "        return item, label\n",
        "    \n",
        "    \n",
        "    def read_pkl(self, pkl_file):\n",
        "        \n",
        "        with open(pkl_file, \"rb\") as f:\n",
        "            return pickle.load(f)"
      ],
      "id": "ffa66af2"
    },
    {
      "cell_type": "code",
      "execution_count": null,
      "metadata": {
        "id": "pn0cfJSEweaE"
      },
      "outputs": [],
      "source": [
        "training_data_standard = PINN_ODE_Dataset(file_standard)"
      ],
      "id": "pn0cfJSEweaE"
    },
    {
      "cell_type": "code",
      "execution_count": null,
      "metadata": {
        "id": "213a0873"
      },
      "outputs": [],
      "source": [
        "training_data_standard = PINN_ODE_Dataset(file_standard)\n",
        "train_dataloader_standard = DataLoader(training_data_standard, batch_size=64, shuffle=False)\n",
        "\n",
        "#training_data_dac = PINN_ODE_Dataset(file_dac)\n",
        "#train_dataloader_dac = DataLoader(training_data_dac, batch_size=64, shuffle=True)"
      ],
      "id": "213a0873"
    },
    {
      "cell_type": "code",
      "execution_count": null,
      "metadata": {
        "id": "Kpf6GIKm5T3L"
      },
      "outputs": [],
      "source": [
        "import random\n",
        "import tqdm\n",
        "from torch.autograd import Variable"
      ],
      "id": "Kpf6GIKm5T3L"
    },
    {
      "cell_type": "markdown",
      "metadata": {
        "id": "-Tc_TVSDLd2m"
      },
      "source": [
        "## NAS"
      ],
      "id": "-Tc_TVSDLd2m"
    },
    {
      "cell_type": "code",
      "execution_count": 150,
      "metadata": {
        "id": "8qLcbArtLb_3"
      },
      "outputs": [],
      "source": [
        "class MLPSearchSpace(object):\n",
        "  def __init__(self):\n",
        "      self.vocab = self.vocab_dict()\n",
        "  def vocab_dict(self):\n",
        "    #could be modified to contain cnn or more complicate structure\n",
        "    nodes = [8,16,32,64,128,256,512,1024]\n",
        "    act_funcs = ['relu','elu','tanh']\n",
        "\n",
        "    layer_params = []\n",
        "    layer_id = []\n",
        "\n",
        "    for i in range(len(nodes)):\n",
        "      for j in range(len(act_funcs)):\n",
        "        layer_params.append((nodes[i],act_funcs[j]))\n",
        "        layer_id.append(len(act_funcs)*i+j)\n",
        "    vocab = dict(zip(layer_id,layer_params))\n",
        "    #vocab[len(vocab)+1] = (('dropout'))\n",
        "\n",
        "    #vocab[len(vocab)+1] = (2,'relu')\n",
        "    return vocab\n",
        "\n",
        "  def random_sample_architecture(self,architecture_num = 10):\n",
        "    search_space_size = len(self.vocab)\n",
        "    architecture_space = []\n",
        "    for i in range(architecture_num):\n",
        "      layer_num = random.randint(3, 10)\n",
        "      sequence = [random.randint(0, search_space_size-1) for i in range(layer_num)]\n",
        "      architecture_space.append(sequence)\n",
        "    return architecture_space\n",
        "\n",
        "  def encode_sequence(self, sequence):\n",
        "    keys = list(self.vocab.keys())\n",
        "    values = list(self.vocab.values())\n",
        "    encoded_sequence = []\n",
        "    for value in sequence:\n",
        "      encoded_sequence.append(keys[values.index(value)])\n",
        "    return encoded_sequence\n",
        "\n",
        "  def decode_sequence(self, sequence):\n",
        "    keys = list(self.vocab.keys())\n",
        "    values = list(self.vocab.values())\n",
        "    decoded_sequence = []\n",
        "    for key in sequence:\n",
        "      decoded_sequence.append(values[keys.index(key)])\n",
        "    return decoded_sequence\n",
        "\n"
      ],
      "id": "8qLcbArtLb_3"
    },
    {
      "cell_type": "code",
      "execution_count": 122,
      "metadata": {
        "colab": {
          "base_uri": "https://localhost:8080/"
        },
        "id": "gKTkSKCZOjCS",
        "outputId": "62f1a6cf-7360-45b0-c710-15551aee9c1d"
      },
      "outputs": [
        {
          "output_type": "execute_result",
          "data": {
            "text/plain": [
              "{0: (8, 'relu'),\n",
              " 1: (8, 'elu'),\n",
              " 2: (8, 'tanh'),\n",
              " 3: (16, 'relu'),\n",
              " 4: (16, 'elu'),\n",
              " 5: (16, 'tanh'),\n",
              " 6: (32, 'relu'),\n",
              " 7: (32, 'elu'),\n",
              " 8: (32, 'tanh'),\n",
              " 9: (64, 'relu'),\n",
              " 10: (64, 'elu'),\n",
              " 11: (64, 'tanh'),\n",
              " 12: (128, 'relu'),\n",
              " 13: (128, 'elu'),\n",
              " 14: (128, 'tanh'),\n",
              " 15: (256, 'relu'),\n",
              " 16: (256, 'elu'),\n",
              " 17: (256, 'tanh'),\n",
              " 18: (512, 'relu'),\n",
              " 19: (512, 'elu'),\n",
              " 20: (512, 'tanh'),\n",
              " 21: (1024, 'relu'),\n",
              " 22: (1024, 'elu'),\n",
              " 23: (1024, 'tanh')}"
            ]
          },
          "metadata": {},
          "execution_count": 122
        }
      ],
      "source": [
        "mlpsearchspace = MLPSearchSpace()\n",
        "vocab = mlpsearchspace.vocab_dict()\n",
        "vocab"
      ],
      "id": "gKTkSKCZOjCS"
    },
    {
      "cell_type": "code",
      "execution_count": 123,
      "metadata": {
        "colab": {
          "base_uri": "https://localhost:8080/"
        },
        "id": "DNNRdcyU3QnN",
        "outputId": "222b879c-9c33-45a1-9b10-cab361d25ac6"
      },
      "outputs": [
        {
          "output_type": "execute_result",
          "data": {
            "text/plain": [
              "[(8, 'tanh'), (16, 'relu'), (16, 'elu')]"
            ]
          },
          "metadata": {},
          "execution_count": 123
        }
      ],
      "source": [
        "mlpsearchspace.decode_sequence([2,3,4])"
      ],
      "id": "DNNRdcyU3QnN"
    },
    {
      "cell_type": "code",
      "execution_count": 124,
      "metadata": {
        "colab": {
          "base_uri": "https://localhost:8080/"
        },
        "id": "TPJduI9b51HO",
        "outputId": "f68014f2-84da-4460-fb67-fe6475cd0973"
      },
      "outputs": [
        {
          "output_type": "execute_result",
          "data": {
            "text/plain": [
              "[[21, 23, 7, 19, 4, 15, 2, 8],\n",
              " [7, 14, 15, 2, 23],\n",
              " [15, 8, 21, 23, 1, 22, 5, 12, 9],\n",
              " [18, 14, 16, 8, 13, 7, 23, 1],\n",
              " [17, 23, 20, 3, 22, 16, 13, 23, 2, 8],\n",
              " [17, 18, 8, 15, 14, 12],\n",
              " [21, 8, 5],\n",
              " [19, 10, 20, 3, 2, 1, 22, 23, 19],\n",
              " [17, 7, 11, 1, 23, 21],\n",
              " [12, 20, 3, 19, 4, 13, 22, 17, 9, 4]]"
            ]
          },
          "metadata": {},
          "execution_count": 124
        }
      ],
      "source": [
        "mlpsearchspace.random_sample_architecture()"
      ],
      "id": "TPJduI9b51HO"
    },
    {
      "cell_type": "code",
      "execution_count": 151,
      "metadata": {
        "id": "tfw1qM4uNC4T"
      },
      "outputs": [],
      "source": [
        "class MLPGenerator(MLPSearchSpace):\n",
        "  def __init__(self):\n",
        "    super().__init__()\n",
        "    self.mlp_one_shot = True\n",
        "    self.mlp_optimizer = 'Adam'\n",
        "    self.mlp_lr = 1e-4\n",
        "    self.mlp_loss_func = 'mse'\n",
        "\n",
        "  def create_model(self,sequence,mlp_input_shape = 3):\n",
        "    layer_configs = self.decode_sequence(sequence)\n",
        "    #layer_configs = sequence\n",
        "    layers = nn.Sequential()\n",
        "    previous_layer_num = 0\n",
        "    for i,layer_conf in enumerate(layer_configs):\n",
        "      if i == 0:\n",
        "        layers.append(nn.Linear(mlp_input_shape,layer_conf[0]))\n",
        "        if layer_configs[i][1] == 'relu':\n",
        "          layers.append(nn.ReLU())\n",
        "        elif layer_configs[i][1] == 'elu':\n",
        "          layers.append(nn.ELU())\n",
        "        else:\n",
        "          layers.append(nn.Tanh())\n",
        "        previous_layer_num = layer_conf[0]\n",
        "      else:\n",
        "        layers.append(nn.Linear(previous_layer_num,layer_conf[0]))\n",
        "        previous_layer_num = layer_conf[0]\n",
        "        if layer_configs[1] == 'relu':\n",
        "          layers.append(nn.ReLU())\n",
        "        elif layer_configs[1] == 'elu':\n",
        "          layers.append(nn.ELU())\n",
        "        else:\n",
        "          layers.append(nn.Tanh())\n",
        "    layers.append(nn.Linear(previous_layer_num,2))\n",
        "    return nn.Sequential(*layers)\n",
        "\n",
        "  #low-fidelity training for one genertaed_sequence\n",
        "  def train_model(self,model,train_dataloader = train_dataloader_standard):\n",
        "    #decoded_sequence = self.decode_sequence(encoded_sequence)\n",
        "    #model = self.create_model(encoded_sequence,3)\n",
        "    #one shot training -- with only one epoch\n",
        "    loss_function = nn.MSELoss()\n",
        "    optimizer = torch.optim.Adam(model.parameters(), lr=1e-4)\n",
        "    model.train()\n",
        "    running_loss = 0.0\n",
        "    for i, data in enumerate(train_dataloader, 0):\n",
        "      # Get and prepare inputs\n",
        "      inputs, targets = data\n",
        "      inputs, targets = inputs.float(), targets.float()\n",
        "      optimizer.zero_grad()\n",
        "      outputs = model(inputs)\n",
        "      loss = loss_function(outputs, targets)\n",
        "      loss.backward()\n",
        "      optimizer.step()\n",
        "      running_loss += loss.item()\n",
        "    return running_loss\n",
        "\n",
        "  #low-fidelity training for all generate_sequence\n",
        "  def low_fidelity_evaluation(self,train_dataloader,sample_space):\n",
        "    if not sample_space:\n",
        "      search_space = self.random_sample_architecture()\n",
        "    else:\n",
        "      search_space = sample_space\n",
        "    model_train_log = {}\n",
        "    model_eval_log = {}\n",
        "    architecture_history = {}\n",
        "    for i,encoded_sequence in enumerate(search_space):\n",
        "      print(\"training architecture: \", i)\n",
        "      decoded_sequence = self.decode_sequence(encoded_sequence)\n",
        "      model = self.create_model(encoded_sequence,3)\n",
        "      #low fidelity training -- with only one epoch\n",
        "      loss_function = nn.MSELoss()\n",
        "      optimizer = torch.optim.Adam(model.parameters(), lr=1e-4)\n",
        "      model.train()\n",
        "      running_loss = 0.0\n",
        "      for i, data in enumerate(train_dataloader, 0):\n",
        "        # Get and prepare inputs\n",
        "        inputs, targets = data\n",
        "        inputs, targets = inputs.float(), targets.float()\n",
        "        optimizer.zero_grad()\n",
        "        outputs = model(inputs)\n",
        "        loss = loss_function(outputs, targets)\n",
        "        loss.backward()\n",
        "        optimizer.step()\n",
        "        running_loss += loss.item()\n",
        "        if i % 200 == 199:\n",
        "          print(f\"batch {i + 1}] loss: {running_loss / 200:.3f}\")\n",
        "          running_loss = 0.0\n",
        "\n",
        "      print(\"training loss: \",running_loss)\n",
        "      model_train_log[f'{decoded_sequence}'] = running_loss\n",
        "      architecture_history[f'{encoded_sequence}'] = running_loss\n",
        "    return model_train_log,architecture_history"
      ],
      "id": "tfw1qM4uNC4T"
    },
    {
      "cell_type": "code",
      "execution_count": 152,
      "metadata": {
        "id": "bTTnpUDgK3-y"
      },
      "outputs": [],
      "source": [
        "MAX_ARCHITECTURE_LENGTH = 5\n",
        "class Controller_Model(nn.Module):\n",
        "  def __init__(self,input_size,hidden_size,num_class,num_layers = 1):\n",
        "    super().__init__()\n",
        "    self.lstm = nn.LSTM(input_size,hidden_size,num_layers)\n",
        "    self.sequence_generator = nn.Sequential(\n",
        "        nn.Linear(hidden_size,256),\n",
        "        nn.ReLU(),\n",
        "        nn.Linear(256,num_class),\n",
        "        nn.Softmax()\n",
        "    )\n",
        "  def forward(self,input):\n",
        "    output,_ = self.lstm(input)\n",
        "    generated_sequence = self.sequence_generator(output)\n",
        "    return generated_sequence\n",
        "\n",
        "class Controller(MLPSearchSpace):\n",
        "  def __init__(self,max_architecture_length):\n",
        "    super().__init__()\n",
        "    self.max_length = max_architecture_length\n",
        "    self.controller_classes = len(self.vocab)\n",
        "    self.sequence_data = []\n",
        "\n",
        "  def control_model(self):#controller_input_shape, controller_batch_size):\n",
        "    #main_input = torch.Tensor()\n",
        "    #\n",
        "    model = Controller_Model(self.max_length,10,num_class = self.controller_classes)\n",
        "    return model\n",
        "  \n",
        "  def train_control_model(self,model,x_data,y_data,loss_func,controller_training_epoch):\n",
        "    optimizer = torch.optim.Adam(model.parameters(), lr=1e-4)\n",
        "    #loss_func = torch.nn.CrossEntropyLoss()\n",
        "    model.train()\n",
        "    #print(\"Training Controller Model\")\n",
        "    for epoch in range(controller_training_epoch):\n",
        "      print(\"Training Controller Model in epoch: \",epoch)\n",
        "      optimizer.zero_grad()\n",
        "      outputs = model(x_data)\n",
        "      loss = loss_func(y_data,outputs)\n",
        "      loss.sum().backward()\n",
        "      optimizer.step()\n",
        "\n",
        "  def sample_architrecture_sequences(self,model,number_of_samples,\n",
        "                                     by_prob = True):\n",
        "    samples = []\n",
        "    print(\"Generate Architecture Samples...\")\n",
        "    print('--------------------------------')\n",
        "\n",
        "    while len(samples) < number_of_samples:\n",
        "      seed = []\n",
        "      #number of layers we want in the architecture\n",
        "      while len(seed) < self.max_length:\n",
        "        seed_pad = np.pad(seed,pad_width=(0,self.max_length-len(seed)))\n",
        "        sequence = torch.Tensor(seed_pad)\n",
        "        sequence = sequence.reshape(1,len(sequence))\n",
        "        logit = model(sequence)\n",
        "        if by_prob == True:\n",
        "          #sample next architecture code by the probabilities returned by controller model\n",
        "          proba = logit.detach().numpy()[0]\n",
        "          next = np.random.choice(list(self.vocab.keys()),size=1,p=proba).item()\n",
        "        else:\n",
        "          next = torch.argmax(logit).detach().item()\n",
        "        seed.append(next)\n",
        "      if seed not in self.sequence_data:\n",
        "        samples.append(seed)\n",
        "        self.sequence_data.append(seed)\n",
        "    return samples"
      ],
      "id": "bTTnpUDgK3-y"
    },
    {
      "cell_type": "code",
      "execution_count": 153,
      "metadata": {
        "id": "8ToA9M4M6156"
      },
      "outputs": [],
      "source": [
        "class MLPNAS(Controller):\n",
        "  def __init__(self,max_architecture_length):\n",
        "    super().__init__(max_architecture_length)\n",
        "    self.model_generator = MLPGenerator()\n",
        "    self.controller_model = self.control_model()\n",
        "    self.controller_sampling_epochs = 3\n",
        "    self.controller_loss_alpha = 0.9\n",
        "    self.samples_per_controller_epoch = 10\n",
        "    self.controller_training_epoch = 3\n",
        "    self.data = []\n",
        "\n",
        "  def append_model_metrics(self,sequence,history):\n",
        "    self.data.append([sequence,history])\n",
        "\n",
        "  #use REINFORCE to train controller\n",
        "  def prepare_controller_data(self,sequences):\n",
        "    def to_categorical(y, num_classes):\n",
        "      return np.eye(num_classes, dtype='uint8')[y]\n",
        "    x = torch.Tensor(sequences)[:,:-1].reshape(len(sequences),1,self.max_length-1)\n",
        "    padding = torch.zeros([len(sequences),1,1])\n",
        "    x_padded = torch.concat([x,padding],dim=2)\n",
        "    y = torch.Tensor(sequences)[:,-1].type(torch.int64)\n",
        "    y = to_categorical(y,self.controller_classes)\n",
        "\n",
        "    val_loss_target = [item[1] for item in self.data[-self.samples_per_controller_epoch:]]\n",
        "    return x_padded,y,val_loss_target\n",
        "\n",
        "  def get_discounted_reward(self,rewards):\n",
        "    discounted_r = np.zeros_like(rewards,dtype=np.float32)\n",
        "    for t in range(len(rewards)):\n",
        "      running_add = 0\n",
        "      exp = 0\n",
        "      for r in rewards[t:]:\n",
        "        running_add += self.controller_loss_alpha**exp*r\n",
        "        exp += 1\n",
        "      discounted_r[t] = running_add\n",
        "    discounted_r = (discounted_r - discounted_r.mean())/discounted_r.std()\n",
        "    return discounted_r\n",
        "  #need to be modified to give unbiased gradient estimate\n",
        "  def custom_loss(self,target,output):\n",
        "    reward = np.array([item[1] for item in self.data[-self.samples_per_controller_epoch:]]).reshape(self.samples_per_controller_epoch, 1)\n",
        "    discounted_reward = self.get_discounted_reward(reward)\n",
        "    output = torch.Tensor(output.detach().numpy())\n",
        "    loss = -torch.log(output)*discounted_reward[:,None]\n",
        "    loss = Variable(loss, requires_grad=True)\n",
        "    return loss\n",
        "\n",
        "  #if REINFORCE = False, the sequence is generated by LSTM controller but the controller does not learn\n",
        "  def search(self,input_size,train_dataloader,REINFORCE = False):\n",
        "    for controller_epoch in range(self.controller_sampling_epochs):\n",
        "      sequences = self.sample_architrecture_sequences(self.controller_model,number_of_samples=self.samples_per_controller_epoch)\n",
        "      print(\"Evaluating architectures in controller_sampling_epoch: \",controller_epoch)\n",
        "      for i,sequence in enumerate(sequences):\n",
        "        print(\"  training architecture: \",i)\n",
        "        #train and log architecture\n",
        "        decoded_sequence = self.model_generator.decode_sequence(sequence)\n",
        "        model = self.model_generator.create_model(sequence,mlp_input_shape = input_size)\n",
        "        history = self.model_generator.train_model(model,train_dataloader)\n",
        "        self.append_model_metrics(decoded_sequence,history)\n",
        "\n",
        "      if REINFORCE == True:\n",
        "        if controller_epoch != self.controller_sampling_epochs - 1:\n",
        "          print(\"Training Controller...\")\n",
        "          #train controller\n",
        "          x,y,val_acc_target = self.prepare_controller_data(sequences)\n",
        "          self.train_control_model(self.controller_model,x,y,self.custom_loss,self.controller_training_epoch)\n",
        "      \n",
        "    return self.data"
      ],
      "id": "8ToA9M4M6156"
    },
    {
      "cell_type": "markdown",
      "metadata": {
        "id": "6mVAH54QB5Nu"
      },
      "source": [
        "#NAS experiments with standard appraoch"
      ],
      "id": "6mVAH54QB5Nu"
    },
    {
      "cell_type": "code",
      "execution_count": null,
      "metadata": {
        "colab": {
          "base_uri": "https://localhost:8080/"
        },
        "id": "yhSYgddB8pKl",
        "outputId": "1b01155e-f995-426d-b70c-6cc7b329cf12"
      },
      "outputs": [
        {
          "name": "stdout",
          "output_type": "stream",
          "text": [
            "Generate Architecture Samples...\n",
            "--------------------------------\n",
            "Evaluating architectures in controller_sampling_epoch:  0\n",
            "  training architecture:  0\n"
          ]
        },
        {
          "name": "stderr",
          "output_type": "stream",
          "text": [
            "/usr/local/lib/python3.7/dist-packages/torch/nn/modules/container.py:139: UserWarning: Implicit dimension choice for softmax has been deprecated. Change the call to include dim=X as an argument.\n",
            "  input = module(input)\n"
          ]
        },
        {
          "name": "stdout",
          "output_type": "stream",
          "text": [
            "  training architecture:  1\n",
            "  training architecture:  2\n",
            "  training architecture:  3\n",
            "  training architecture:  4\n",
            "  training architecture:  5\n",
            "  training architecture:  6\n",
            "  training architecture:  7\n",
            "  training architecture:  8\n",
            "  training architecture:  9\n",
            "Training Controller...\n",
            "Training Controller Model in epoch:  0\n",
            "Training Controller Model in epoch:  1\n",
            "Training Controller Model in epoch:  2\n",
            "Generate Architecture Samples...\n",
            "--------------------------------\n",
            "Evaluating architectures in controller_sampling_epoch:  1\n",
            "  training architecture:  0\n",
            "  training architecture:  1\n",
            "  training architecture:  2\n",
            "  training architecture:  3\n",
            "  training architecture:  4\n",
            "  training architecture:  5\n",
            "  training architecture:  6\n",
            "  training architecture:  7\n",
            "  training architecture:  8\n",
            "  training architecture:  9\n",
            "Training Controller...\n",
            "Training Controller Model in epoch:  0\n",
            "Training Controller Model in epoch:  1\n",
            "Training Controller Model in epoch:  2\n",
            "Generate Architecture Samples...\n",
            "--------------------------------\n",
            "Evaluating architectures in controller_sampling_epoch:  2\n",
            "  training architecture:  0\n",
            "  training architecture:  1\n",
            "  training architecture:  2\n",
            "  training architecture:  3\n",
            "  training architecture:  4\n",
            "  training architecture:  5\n",
            "  training architecture:  6\n",
            "  training architecture:  7\n",
            "  training architecture:  8\n",
            "  training architecture:  9\n"
          ]
        }
      ],
      "source": [
        "mlpnas_reinforce_3_layers = MLPNAS(max_architecture_length = 3)\n",
        "data_3_layers = mlpnas_reinforce_3_layers.search(REINFORCE=True)"
      ],
      "id": "yhSYgddB8pKl"
    },
    {
      "cell_type": "code",
      "execution_count": null,
      "metadata": {
        "colab": {
          "base_uri": "https://localhost:8080/"
        },
        "id": "bg-ieGrPtrJE",
        "outputId": "c49e7994-d2a0-4041-a2a7-13ca922f42c3"
      },
      "outputs": [
        {
          "data": {
            "text/plain": [
              "[[[(16, 'elu'), (1024, 'tanh'), (16, 'elu')], 528.6388290434843],\n",
              " [[(256, 'relu'), (1024, 'tanh'), (8, 'relu')], 210.46762483159546],\n",
              " [[(16, 'tanh'), (64, 'relu'), (8, 'relu')], 853.1816860754916],\n",
              " [[(16, 'elu'), (1024, 'tanh'), (64, 'relu')], 450.43206625955645],\n",
              " [[(8, 'elu'), (128, 'elu'), (64, 'tanh')], 749.9869199758978],\n",
              " [[(512, 'tanh'), (512, 'tanh'), (32, 'relu')], 217.98009970094427],\n",
              " [[(16, 'tanh'), (64, 'relu'), (128, 'tanh')], 705.4671777348849],\n",
              " [[(1024, 'tanh'), (128, 'elu'), (1024, 'tanh')], 180.66237260150956],\n",
              " [[(512, 'elu'), (64, 'relu'), (512, 'elu')], 249.23538866604213],\n",
              " [[(512, 'tanh'), (32, 'relu'), (128, 'tanh')], 367.4367097161594],\n",
              " [[(32, 'tanh'), (64, 'elu'), (64, 'relu')], 700.2548199284356],\n",
              " [[(1024, 'tanh'), (8, 'elu'), (512, 'relu')], 264.40249063714873],\n",
              " [[(256, 'relu'), (16, 'elu'), (1024, 'relu')], 282.1016974285885],\n",
              " [[(256, 'elu'), (512, 'elu'), (32, 'tanh')], 272.2006626101793],\n",
              " [[(128, 'relu'), (64, 'relu'), (128, 'elu')], 420.62485268953606],\n",
              " [[(32, 'tanh'), (8, 'elu'), (128, 'relu')], 741.5668434708496],\n",
              " [[(16, 'elu'), (8, 'relu'), (8, 'tanh')], 931.2420978252776],\n",
              " [[(8, 'elu'), (32, 'relu'), (256, 'relu')], 844.1547395904199],\n",
              " [[(8, 'elu'), (32, 'relu'), (256, 'tanh')], 811.9060732428916],\n",
              " [[(8, 'elu'), (512, 'tanh'), (256, 'tanh')], 596.5542220594361],\n",
              " [[(1024, 'elu'), (256, 'relu'), (32, 'elu')], 152.5402384798217],\n",
              " [[(128, 'relu'), (128, 'elu'), (256, 'elu')], 336.28378156595863],\n",
              " [[(256, 'elu'), (512, 'tanh'), (64, 'elu')], 250.87068860270665],\n",
              " [[(128, 'relu'), (8, 'tanh'), (8, 'elu')], 760.3171727991139],\n",
              " [[(128, 'relu'), (512, 'elu'), (128, 'tanh')], 262.20324160694145],\n",
              " [[(16, 'relu'), (512, 'tanh'), (8, 'tanh')], 722.0536245317198],\n",
              " [[(32, 'relu'), (128, 'relu'), (64, 'elu')], 645.8920277537545],\n",
              " [[(128, 'tanh'), (128, 'relu'), (8, 'relu')], 605.5134448334575],\n",
              " [[(128, 'elu'), (64, 'elu'), (1024, 'relu')], 430.7878593679634],\n",
              " [[(1024, 'relu'), (1024, 'relu'), (64, 'elu')], 125.29356205838849]]"
            ]
          },
          "execution_count": 43,
          "metadata": {},
          "output_type": "execute_result"
        }
      ],
      "source": [
        "data_3_layers"
      ],
      "id": "bg-ieGrPtrJE"
    },
    {
      "cell_type": "code",
      "execution_count": null,
      "metadata": {
        "colab": {
          "base_uri": "https://localhost:8080/"
        },
        "id": "_NfpkK10QoaR",
        "outputId": "40d89a2a-bf18-4489-d3ef-c8022b8d6d93"
      },
      "outputs": [
        {
          "data": {
            "text/plain": [
              "Sequential(\n",
              "  (0): Linear(in_features=3, out_features=1024, bias=True)\n",
              "  (1): ReLU()\n",
              "  (2): Linear(in_features=1024, out_features=1024, bias=True)\n",
              "  (3): Tanh()\n",
              "  (4): Linear(in_features=1024, out_features=64, bias=True)\n",
              "  (5): Tanh()\n",
              "  (6): Linear(in_features=64, out_features=2, bias=True)\n",
              ")"
            ]
          },
          "execution_count": 67,
          "metadata": {},
          "output_type": "execute_result"
        }
      ],
      "source": [
        "encoded_sequence = mlpnas_reinforce_3_layers.encode_sequence([(1024, 'relu'), (1024, 'relu'), (64, 'elu')])\n",
        "#[(1024, 'relu'), (1024, 'relu'), (64, 'elu')]\n",
        "mlpnas_best_model_3_layer = mlpnas_reinforce_3_layers.model_generator.create_model(encoded_sequence)\n",
        "mlpnas_best_model_3_layer"
      ],
      "id": "_NfpkK10QoaR"
    },
    {
      "cell_type": "code",
      "execution_count": null,
      "metadata": {
        "colab": {
          "base_uri": "https://localhost:8080/"
        },
        "id": "qou20JXmGgvc",
        "outputId": "45d9ac7a-0015-49cd-aed6-3fcc915cecdc"
      },
      "outputs": [
        {
          "name": "stdout",
          "output_type": "stream",
          "text": [
            "Generate Architecture Samples...\n",
            "--------------------------------\n",
            "Evaluating architectures in controller_sampling_epoch:  0\n",
            "  training architecture:  0\n",
            "  training architecture:  1\n",
            "  training architecture:  2\n",
            "  training architecture:  3\n",
            "  training architecture:  4\n",
            "  training architecture:  5\n",
            "  training architecture:  6\n",
            "  training architecture:  7\n",
            "  training architecture:  8\n",
            "  training architecture:  9\n",
            "Training Controller...\n",
            "Training Controller Model in epoch:  0\n",
            "Training Controller Model in epoch:  1\n",
            "Training Controller Model in epoch:  2\n",
            "Generate Architecture Samples...\n",
            "--------------------------------\n",
            "Evaluating architectures in controller_sampling_epoch:  1\n",
            "  training architecture:  0\n",
            "  training architecture:  1\n",
            "  training architecture:  2\n",
            "  training architecture:  3\n",
            "  training architecture:  4\n",
            "  training architecture:  5\n",
            "  training architecture:  6\n",
            "  training architecture:  7\n",
            "  training architecture:  8\n",
            "  training architecture:  9\n",
            "Training Controller...\n",
            "Training Controller Model in epoch:  0\n",
            "Training Controller Model in epoch:  1\n",
            "Training Controller Model in epoch:  2\n",
            "Generate Architecture Samples...\n",
            "--------------------------------\n",
            "Evaluating architectures in controller_sampling_epoch:  2\n",
            "  training architecture:  0\n",
            "  training architecture:  1\n",
            "  training architecture:  2\n",
            "  training architecture:  3\n",
            "  training architecture:  4\n",
            "  training architecture:  5\n",
            "  training architecture:  6\n",
            "  training architecture:  7\n",
            "  training architecture:  8\n",
            "  training architecture:  9\n"
          ]
        }
      ],
      "source": [
        "mlpnas_reinforce_5_layers = MLPNAS(max_architecture_length = 5)\n",
        "data_5_layers = mlpnas_reinforce_5_layers.search(REINFORCE=True)"
      ],
      "id": "qou20JXmGgvc"
    },
    {
      "cell_type": "code",
      "execution_count": null,
      "metadata": {
        "colab": {
          "base_uri": "https://localhost:8080/"
        },
        "id": "aCzERehRGqIa",
        "outputId": "75f45a64-3b46-47e1-eda1-6f3b63076766"
      },
      "outputs": [
        {
          "data": {
            "text/plain": [
              "[[[(64, 'elu'), (64, 'elu'), (16, 'relu'), (32, 'relu'), (128, 'elu')],\n",
              "  702.2166351427586],\n",
              " [[(1024, 'tanh'), (64, 'tanh'), (256, 'elu'), (64, 'relu'), (256, 'elu')],\n",
              "  166.65878961226554],\n",
              " [[(32, 'elu'), (32, 'relu'), (256, 'tanh'), (1024, 'elu'), (1024, 'relu')],\n",
              "  437.35448838805314],\n",
              " [[(1024, 'tanh'), (64, 'tanh'), (256, 'elu'), (256, 'tanh'), (256, 'relu')],\n",
              "  180.57269421039382],\n",
              " [[(8, 'relu'), (64, 'relu'), (16, 'tanh'), (64, 'tanh'), (512, 'elu')],\n",
              "  675.6204619960627],\n",
              " [[(32, 'tanh'), (16, 'relu'), (1024, 'relu'), (8, 'elu'), (32, 'elu')],\n",
              "  588.084463751642],\n",
              " [[(32, 'relu'), (32, 'tanh'), (1024, 'elu'), (8, 'relu'), (64, 'tanh')],\n",
              "  456.25991555768996],\n",
              " [[(1024, 'relu'), (1024, 'tanh'), (64, 'elu'), (16, 'tanh'), (8, 'elu')],\n",
              "  150.16571553889662],\n",
              " [[(64, 'relu'), (8, 'elu'), (8, 'elu'), (256, 'tanh'), (8, 'elu')],\n",
              "  716.6711944969138],\n",
              " [[(8, 'tanh'), (512, 'relu'), (256, 'tanh'), (32, 'relu'), (1024, 'tanh')],\n",
              "  492.0019340146682],\n",
              " [[(32, 'relu'), (512, 'relu'), (8, 'relu'), (128, 'tanh'), (16, 'relu')],\n",
              "  373.20865781232715],\n",
              " [[(128, 'relu'), (64, 'relu'), (16, 'relu'), (32, 'tanh'), (16, 'relu')],\n",
              "  446.9351695026271],\n",
              " [[(1024, 'relu'), (512, 'tanh'), (512, 'relu'), (32, 'relu'), (64, 'relu')],\n",
              "  123.20798139272665],\n",
              " [[(8, 'tanh'), (16, 'tanh'), (256, 'tanh'), (32, 'tanh'), (16, 'relu')],\n",
              "  735.8160666377516],\n",
              " [[(1024, 'relu'), (512, 'relu'), (8, 'tanh'), (256, 'relu'), (64, 'relu')],\n",
              "  112.95774161754525],\n",
              " [[(256, 'elu'), (32, 'relu'), (512, 'elu'), (16, 'tanh'), (512, 'elu')],\n",
              "  266.43981085455744],\n",
              " [[(32, 'elu'), (32, 'elu'), (64, 'relu'), (32, 'relu'), (128, 'relu')],\n",
              "  738.8084933124483],\n",
              " [[(512, 'tanh'), (128, 'tanh'), (128, 'tanh'), (512, 'elu'), (256, 'tanh')],\n",
              "  235.15989221504424],\n",
              " [[(1024, 'tanh'), (256, 'elu'), (128, 'tanh'), (8, 'tanh'), (64, 'relu')],\n",
              "  176.78373454709072],\n",
              " [[(256, 'elu'), (1024, 'elu'), (16, 'tanh'), (256, 'relu'), (512, 'relu')],\n",
              "  156.57004748051986],\n",
              " [[(32, 'tanh'), (16, 'elu'), (128, 'tanh'), (16, 'elu'), (256, 'relu')],\n",
              "  551.2946518386016],\n",
              " [[(16, 'relu'), (128, 'elu'), (1024, 'relu'), (8, 'tanh'), (1024, 'relu')],\n",
              "  345.48209797253367],\n",
              " [[(128, 'relu'), (32, 'elu'), (128, 'relu'), (512, 'relu'), (512, 'elu')],\n",
              "  236.87763205054216],\n",
              " [[(64, 'tanh'), (256, 'tanh'), (1024, 'relu'), (64, 'tanh'), (512, 'tanh')],\n",
              "  237.94430099637248],\n",
              " [[(64, 'tanh'), (32, 'elu'), (256, 'tanh'), (16, 'tanh'), (128, 'tanh')],\n",
              "  504.6020126736548],\n",
              " [[(8, 'elu'), (16, 'elu'), (64, 'elu'), (32, 'tanh'), (256, 'elu')],\n",
              "  845.2458277470432],\n",
              " [[(512, 'tanh'), (64, 'elu'), (32, 'tanh'), (32, 'elu'), (32, 'elu')],\n",
              "  295.32846956243156],\n",
              " [[(8, 'relu'), (64, 'tanh'), (128, 'relu'), (8, 'elu'), (512, 'elu')],\n",
              "  735.5602781736525],\n",
              " [[(16, 'tanh'), (32, 'tanh'), (128, 'elu'), (256, 'relu'), (256, 'tanh')],\n",
              "  598.6533891485888],\n",
              " [[(512, 'tanh'), (16, 'elu'), (32, 'relu'), (64, 'elu'), (512, 'elu')],\n",
              "  265.5217512535746]]"
            ]
          },
          "execution_count": 45,
          "metadata": {},
          "output_type": "execute_result"
        }
      ],
      "source": [
        "data_5_layers"
      ],
      "id": "aCzERehRGqIa"
    },
    {
      "cell_type": "code",
      "execution_count": null,
      "metadata": {
        "colab": {
          "base_uri": "https://localhost:8080/"
        },
        "id": "I654dY6bRreM",
        "outputId": "8ec6f4fd-51a9-4ecf-c0ad-27da2403ebef"
      },
      "outputs": [
        {
          "data": {
            "text/plain": [
              "Sequential(\n",
              "  (0): Linear(in_features=3, out_features=1024, bias=True)\n",
              "  (1): ReLU()\n",
              "  (2): Linear(in_features=1024, out_features=512, bias=True)\n",
              "  (3): Tanh()\n",
              "  (4): Linear(in_features=512, out_features=8, bias=True)\n",
              "  (5): Tanh()\n",
              "  (6): Linear(in_features=8, out_features=256, bias=True)\n",
              "  (7): Tanh()\n",
              "  (8): Linear(in_features=256, out_features=64, bias=True)\n",
              "  (9): Tanh()\n",
              "  (10): Linear(in_features=64, out_features=2, bias=True)\n",
              ")"
            ]
          },
          "execution_count": 68,
          "metadata": {},
          "output_type": "execute_result"
        }
      ],
      "source": [
        "encoded_sequence = mlpnas_reinforce_5_layers.encode_sequence([(1024, 'relu'), (512, 'relu'), (8, 'tanh'), (256, 'relu'), (64, 'relu')])\n",
        "mlpnas_best_model_5_layer = mlpnas_reinforce_5_layers.model_generator.create_model(encoded_sequence)\n",
        "mlpnas_best_model_5_layer"
      ],
      "id": "I654dY6bRreM"
    },
    {
      "cell_type": "code",
      "execution_count": null,
      "metadata": {
        "colab": {
          "base_uri": "https://localhost:8080/"
        },
        "id": "WESefhRv1jqq",
        "outputId": "49103d57-22a6-413e-803c-712eb77cee04"
      },
      "outputs": [
        {
          "name": "stdout",
          "output_type": "stream",
          "text": [
            "Starting epoch 1...\n",
            "[epoch 1, batch 200] loss: 0.181\n",
            "[epoch 1, batch 400] loss: 0.089\n",
            "[epoch 1, batch 600] loss: 0.057\n",
            "[epoch 1, batch 800] loss: 0.040\n",
            "[epoch 1, batch 1000] loss: 0.031\n",
            "[epoch 1, batch 1200] loss: 0.028\n",
            "[epoch 1, batch 1400] loss: 0.037\n",
            "[epoch 1, batch 1600] loss: 0.019\n",
            "[epoch 1, batch 1800] loss: 0.014\n",
            "[epoch 1, batch 2000] loss: 0.013\n",
            "[epoch 1, batch 2200] loss: 0.018\n",
            "[epoch 1, batch 2400] loss: 0.013\n",
            "[epoch 1, batch 2600] loss: 0.011\n",
            "[epoch 1, batch 2800] loss: 0.007\n",
            "[epoch 1, batch 3000] loss: 0.010\n",
            "[epoch 1, batch 3200] loss: 0.012\n",
            "[epoch 1, batch 3400] loss: 0.008\n",
            "[epoch 1, batch 3600] loss: 0.009\n",
            "Starting epoch 2...\n",
            "[epoch 2, batch 200] loss: 0.009\n",
            "[epoch 2, batch 400] loss: 0.008\n",
            "[epoch 2, batch 600] loss: 0.009\n",
            "[epoch 2, batch 800] loss: 0.006\n",
            "[epoch 2, batch 1000] loss: 0.006\n",
            "[epoch 2, batch 1200] loss: 0.011\n",
            "[epoch 2, batch 1400] loss: 0.005\n",
            "[epoch 2, batch 1600] loss: 0.006\n",
            "[epoch 2, batch 1800] loss: 0.004\n",
            "[epoch 2, batch 2000] loss: 0.005\n",
            "[epoch 2, batch 2200] loss: 0.007\n",
            "[epoch 2, batch 2400] loss: 0.004\n",
            "[epoch 2, batch 2600] loss: 0.002\n",
            "[epoch 2, batch 2800] loss: 0.002\n",
            "[epoch 2, batch 3000] loss: 0.004\n",
            "[epoch 2, batch 3200] loss: 0.005\n",
            "[epoch 2, batch 3400] loss: 0.005\n",
            "[epoch 2, batch 3600] loss: 0.002\n",
            "Starting epoch 3...\n",
            "[epoch 3, batch 200] loss: 0.008\n",
            "[epoch 3, batch 400] loss: 0.022\n",
            "[epoch 3, batch 600] loss: 0.014\n",
            "[epoch 3, batch 800] loss: 0.002\n",
            "[epoch 3, batch 1000] loss: 0.001\n",
            "[epoch 3, batch 1200] loss: 0.002\n",
            "[epoch 3, batch 1400] loss: 0.002\n",
            "[epoch 3, batch 1600] loss: 0.002\n",
            "[epoch 3, batch 1800] loss: 0.002\n",
            "[epoch 3, batch 2000] loss: 0.003\n",
            "[epoch 3, batch 2200] loss: 0.005\n",
            "[epoch 3, batch 2400] loss: 0.002\n",
            "[epoch 3, batch 2600] loss: 0.001\n",
            "[epoch 3, batch 2800] loss: 0.001\n",
            "[epoch 3, batch 3000] loss: 0.004\n",
            "[epoch 3, batch 3200] loss: 0.002\n",
            "[epoch 3, batch 3400] loss: 0.007\n",
            "[epoch 3, batch 3600] loss: 0.003\n",
            "Finished Training.\n"
          ]
        }
      ],
      "source": [
        "train(mlpnas_best_model_3_layer, train_dataloader_standard, 3)"
      ],
      "id": "WESefhRv1jqq"
    },
    {
      "cell_type": "code",
      "execution_count": null,
      "metadata": {
        "colab": {
          "base_uri": "https://localhost:8080/"
        },
        "id": "k_D7L9FETFNd",
        "outputId": "ed020099-9878-4771-cffb-75a3ffa532d3"
      },
      "outputs": [
        {
          "name": "stdout",
          "output_type": "stream",
          "text": [
            "Starting epoch 1...\n",
            "[epoch 1, batch 200] loss: 0.212\n",
            "[epoch 1, batch 400] loss: 0.095\n",
            "[epoch 1, batch 600] loss: 0.050\n",
            "[epoch 1, batch 800] loss: 0.033\n",
            "[epoch 1, batch 1000] loss: 0.027\n",
            "[epoch 1, batch 1200] loss: 0.019\n",
            "[epoch 1, batch 1400] loss: 0.030\n",
            "[epoch 1, batch 1600] loss: 0.014\n",
            "[epoch 1, batch 1800] loss: 0.013\n",
            "[epoch 1, batch 2000] loss: 0.019\n",
            "[epoch 1, batch 2200] loss: 0.016\n",
            "[epoch 1, batch 2400] loss: 0.013\n",
            "[epoch 1, batch 2600] loss: 0.008\n",
            "[epoch 1, batch 2800] loss: 0.009\n",
            "[epoch 1, batch 3000] loss: 0.014\n",
            "[epoch 1, batch 3200] loss: 0.008\n",
            "[epoch 1, batch 3400] loss: 0.008\n",
            "[epoch 1, batch 3600] loss: 0.006\n",
            "Starting epoch 2...\n",
            "[epoch 2, batch 200] loss: 0.011\n",
            "[epoch 2, batch 400] loss: 0.007\n",
            "[epoch 2, batch 600] loss: 0.008\n",
            "[epoch 2, batch 800] loss: 0.013\n",
            "[epoch 2, batch 1000] loss: 0.007\n",
            "[epoch 2, batch 1200] loss: 0.011\n",
            "[epoch 2, batch 1400] loss: 0.010\n",
            "[epoch 2, batch 1600] loss: 0.005\n",
            "[epoch 2, batch 1800] loss: 0.005\n",
            "[epoch 2, batch 2000] loss: 0.010\n",
            "[epoch 2, batch 2200] loss: 0.012\n",
            "[epoch 2, batch 2400] loss: 0.005\n",
            "[epoch 2, batch 2600] loss: 0.003\n",
            "[epoch 2, batch 2800] loss: 0.004\n",
            "[epoch 2, batch 3000] loss: 0.004\n",
            "[epoch 2, batch 3200] loss: 0.004\n",
            "[epoch 2, batch 3400] loss: 0.009\n",
            "[epoch 2, batch 3600] loss: 0.004\n",
            "Starting epoch 3...\n",
            "[epoch 3, batch 200] loss: 0.008\n",
            "[epoch 3, batch 400] loss: 0.011\n",
            "[epoch 3, batch 600] loss: 0.011\n",
            "[epoch 3, batch 800] loss: 0.003\n",
            "[epoch 3, batch 1000] loss: 0.003\n",
            "[epoch 3, batch 1200] loss: 0.008\n",
            "[epoch 3, batch 1400] loss: 0.005\n",
            "[epoch 3, batch 1600] loss: 0.004\n",
            "[epoch 3, batch 1800] loss: 0.003\n",
            "[epoch 3, batch 2000] loss: 0.004\n",
            "[epoch 3, batch 2200] loss: 0.004\n",
            "[epoch 3, batch 2400] loss: 0.005\n",
            "[epoch 3, batch 2600] loss: 0.002\n",
            "[epoch 3, batch 2800] loss: 0.002\n",
            "[epoch 3, batch 3000] loss: 0.004\n",
            "[epoch 3, batch 3200] loss: 0.007\n",
            "[epoch 3, batch 3400] loss: 0.005\n",
            "[epoch 3, batch 3600] loss: 0.002\n",
            "Finished Training.\n"
          ]
        }
      ],
      "source": [
        "train(mlpnas_best_model_5_layer, train_dataloader_standard, 3)"
      ],
      "id": "k_D7L9FETFNd"
    },
    {
      "cell_type": "code",
      "execution_count": null,
      "metadata": {
        "id": "-_LTbwrzVEUt"
      },
      "outputs": [],
      "source": [
        "y0 = np.array([0.5, 0])\n",
        "delta_t = 0.1\n",
        "tstar = 0.1\n",
        "max_t_prediction = 20\n",
        "\n",
        "validation_standard = predict_standard(standard_model, y0, delta_t, max_t_prediction)\n",
        "validation_nas_3 = predict_standard(mlpnas_best_model_3_layer, y0, delta_t, max_t_prediction)\n",
        "validation_nas_5 = predict_standard(mlpnas_best_model_5_layer, y0, delta_t, max_t_prediction)\n",
        "#validation_dac = predict_dac(dac_model, y0, tstar, max_t_prediction)\n",
        "\n",
        "times = np.arange(0, max_t_prediction, delta_t)\n",
        "true_solution = [solution_simple_ODE(t, y0) for t in times]"
      ],
      "id": "-_LTbwrzVEUt"
    },
    {
      "cell_type": "code",
      "execution_count": null,
      "metadata": {
        "colab": {
          "base_uri": "https://localhost:8080/",
          "height": 487
        },
        "id": "qR3XYHmOVUIJ",
        "outputId": "adceef4f-c861-4ab2-949b-fe6fad36ff83"
      },
      "outputs": [
        {
          "data": {
            "image/png": "[encoded data removed]",
            "text/plain": [
              "<Figure size 576x576 with 1 Axes>"
            ]
          },
          "metadata": {},
          "output_type": "display_data"
        }
      ],
      "source": [
        "fig, ax = generate_figure(figsize=(8,8), xlim=[-1, 1], ylim=[-1, 1])\n",
        "\n",
        "ax = plot_ode_solution(ax, validation_standard, label=\"standard approach\")\n",
        "ax = plot_ode_solution(ax, validation_nas_3, label=\"nas 3 layers\")\n",
        "ax = plot_ode_solution(ax, validation_nas_5, label=\"nas 5 layers\")\n",
        "ax = plot_ode_solution(ax, true_solution, label=\"true solution\")\n",
        "\n",
        "plt.legend()\n",
        "plt.savefig(\"proof_of_concept.pdf\", bbox_inches=\"tight\")\n",
        "plt.show()"
      ],
      "id": "qR3XYHmOVUIJ"
    },
    {
      "cell_type": "code",
      "execution_count": null,
      "metadata": {
        "colab": {
          "base_uri": "https://localhost:8080/"
        },
        "id": "y9YGpjrNWUGL",
        "outputId": "fa682e8f-d814-4c51-ca7b-6883cc5137a6"
      },
      "outputs": [
        {
          "name": "stdout",
          "output_type": "stream",
          "text": [
            "Starting epoch 1...\n",
            "[epoch 1, batch 200] loss: 0.177\n",
            "[epoch 1, batch 400] loss: 0.086\n",
            "[epoch 1, batch 600] loss: 0.055\n",
            "[epoch 1, batch 800] loss: 0.038\n",
            "[epoch 1, batch 1000] loss: 0.038\n",
            "[epoch 1, batch 1200] loss: 0.031\n",
            "[epoch 1, batch 1400] loss: 0.022\n",
            "[epoch 1, batch 1600] loss: 0.019\n",
            "[epoch 1, batch 1800] loss: 0.016\n",
            "[epoch 1, batch 2000] loss: 0.017\n",
            "[epoch 1, batch 2200] loss: 0.012\n",
            "[epoch 1, batch 2400] loss: 0.013\n",
            "[epoch 1, batch 2600] loss: 0.008\n",
            "[epoch 1, batch 2800] loss: 0.007\n",
            "[epoch 1, batch 3000] loss: 0.010\n",
            "[epoch 1, batch 3200] loss: 0.009\n",
            "[epoch 1, batch 3400] loss: 0.007\n",
            "[epoch 1, batch 3600] loss: 0.010\n",
            "Starting epoch 2...\n",
            "[epoch 2, batch 200] loss: 0.008\n",
            "[epoch 2, batch 400] loss: 0.026\n",
            "[epoch 2, batch 600] loss: 0.006\n",
            "[epoch 2, batch 800] loss: 0.003\n",
            "[epoch 2, batch 1000] loss: 0.003\n",
            "[epoch 2, batch 1200] loss: 0.009\n",
            "[epoch 2, batch 1400] loss: 0.006\n",
            "[epoch 2, batch 1600] loss: 0.003\n",
            "[epoch 2, batch 1800] loss: 0.004\n",
            "[epoch 2, batch 2000] loss: 0.008\n",
            "[epoch 2, batch 2200] loss: 0.004\n",
            "[epoch 2, batch 2400] loss: 0.003\n",
            "[epoch 2, batch 2600] loss: 0.003\n",
            "[epoch 2, batch 2800] loss: 0.002\n",
            "[epoch 2, batch 3000] loss: 0.003\n",
            "[epoch 2, batch 3200] loss: 0.006\n",
            "[epoch 2, batch 3400] loss: 0.007\n",
            "[epoch 2, batch 3600] loss: 0.007\n",
            "Finished Training.\n"
          ]
        }
      ],
      "source": [
        "#train with less epoch\n",
        "encoded_sequence = mlpnas_reinforce_3_layers.encode_sequence([(1024, 'relu'), (1024, 'relu'), (64, 'elu')])\n",
        "mlpnas_best_model_3_layer = mlpnas_reinforce_3_layers.model_generator.create_model(encoded_sequence)\n",
        "train(mlpnas_best_model_3_layer, train_dataloader_standard, 2)"
      ],
      "id": "y9YGpjrNWUGL"
    },
    {
      "cell_type": "code",
      "execution_count": null,
      "metadata": {
        "colab": {
          "base_uri": "https://localhost:8080/"
        },
        "id": "N1CCrxfWW5w2",
        "outputId": "7c0d97de-c8b8-498d-c18b-bc4adb7a292d"
      },
      "outputs": [
        {
          "name": "stdout",
          "output_type": "stream",
          "text": [
            "Starting epoch 1...\n",
            "[epoch 1, batch 200] loss: 0.207\n",
            "[epoch 1, batch 400] loss: 0.087\n",
            "[epoch 1, batch 600] loss: 0.047\n",
            "[epoch 1, batch 800] loss: 0.034\n",
            "[epoch 1, batch 1000] loss: 0.025\n",
            "[epoch 1, batch 1200] loss: 0.021\n",
            "[epoch 1, batch 1400] loss: 0.025\n",
            "[epoch 1, batch 1600] loss: 0.022\n",
            "[epoch 1, batch 1800] loss: 0.020\n",
            "[epoch 1, batch 2000] loss: 0.014\n",
            "[epoch 1, batch 2200] loss: 0.016\n",
            "[epoch 1, batch 2400] loss: 0.011\n",
            "[epoch 1, batch 2600] loss: 0.009\n",
            "[epoch 1, batch 2800] loss: 0.006\n",
            "[epoch 1, batch 3000] loss: 0.012\n",
            "[epoch 1, batch 3200] loss: 0.007\n",
            "[epoch 1, batch 3400] loss: 0.009\n",
            "[epoch 1, batch 3600] loss: 0.011\n",
            "Starting epoch 2...\n",
            "[epoch 2, batch 200] loss: 0.009\n",
            "[epoch 2, batch 400] loss: 0.012\n",
            "[epoch 2, batch 600] loss: 0.011\n",
            "[epoch 2, batch 800] loss: 0.006\n",
            "[epoch 2, batch 1000] loss: 0.005\n",
            "[epoch 2, batch 1200] loss: 0.008\n",
            "[epoch 2, batch 1400] loss: 0.011\n",
            "[epoch 2, batch 1600] loss: 0.005\n",
            "[epoch 2, batch 1800] loss: 0.007\n",
            "[epoch 2, batch 2000] loss: 0.012\n",
            "[epoch 2, batch 2200] loss: 0.006\n",
            "[epoch 2, batch 2400] loss: 0.004\n",
            "[epoch 2, batch 2600] loss: 0.004\n",
            "[epoch 2, batch 2800] loss: 0.003\n",
            "[epoch 2, batch 3000] loss: 0.005\n",
            "[epoch 2, batch 3200] loss: 0.005\n",
            "[epoch 2, batch 3400] loss: 0.007\n",
            "[epoch 2, batch 3600] loss: 0.008\n",
            "Finished Training.\n"
          ]
        }
      ],
      "source": [
        "encoded_sequence = mlpnas_reinforce_5_layers.encode_sequence([(1024, 'relu'), (512, 'relu'), (8, 'tanh'), (256, 'relu'), (64, 'relu')])\n",
        "mlpnas_best_model_5_layer = mlpnas_reinforce_5_layers.model_generator.create_model(encoded_sequence)\n",
        "train(mlpnas_best_model_5_layer, train_dataloader_standard, 2)"
      ],
      "id": "N1CCrxfWW5w2"
    },
    {
      "cell_type": "code",
      "execution_count": null,
      "metadata": {
        "colab": {
          "base_uri": "https://localhost:8080/"
        },
        "id": "ebWwht-1XrAc",
        "outputId": "448999ee-afef-4b9b-ce6d-6c8151c76f1c"
      },
      "outputs": [
        {
          "name": "stdout",
          "output_type": "stream",
          "text": [
            "Starting epoch 1...\n",
            "[epoch 1, batch 200] loss: 0.250\n",
            "[epoch 1, batch 400] loss: 0.224\n",
            "[epoch 1, batch 600] loss: 0.232\n",
            "[epoch 1, batch 800] loss: 0.249\n",
            "[epoch 1, batch 1000] loss: 0.228\n",
            "[epoch 1, batch 1200] loss: 0.216\n",
            "[epoch 1, batch 1400] loss: 0.216\n",
            "[epoch 1, batch 1600] loss: 0.188\n",
            "[epoch 1, batch 1800] loss: 0.169\n",
            "[epoch 1, batch 2000] loss: 0.154\n",
            "[epoch 1, batch 2200] loss: 0.155\n",
            "[epoch 1, batch 2400] loss: 0.122\n",
            "[epoch 1, batch 2600] loss: 0.104\n",
            "[epoch 1, batch 2800] loss: 0.082\n",
            "[epoch 1, batch 3000] loss: 0.082\n",
            "[epoch 1, batch 3200] loss: 0.075\n",
            "[epoch 1, batch 3400] loss: 0.067\n",
            "[epoch 1, batch 3600] loss: 0.061\n",
            "Starting epoch 2...\n",
            "[epoch 2, batch 200] loss: 0.052\n",
            "[epoch 2, batch 400] loss: 0.044\n",
            "[epoch 2, batch 600] loss: 0.042\n",
            "[epoch 2, batch 800] loss: 0.040\n",
            "[epoch 2, batch 1000] loss: 0.035\n",
            "[epoch 2, batch 1200] loss: 0.033\n",
            "[epoch 2, batch 1400] loss: 0.033\n",
            "[epoch 2, batch 1600] loss: 0.027\n",
            "[epoch 2, batch 1800] loss: 0.025\n",
            "[epoch 2, batch 2000] loss: 0.025\n",
            "[epoch 2, batch 2200] loss: 0.025\n",
            "[epoch 2, batch 2400] loss: 0.020\n",
            "[epoch 2, batch 2600] loss: 0.018\n",
            "[epoch 2, batch 2800] loss: 0.015\n",
            "[epoch 2, batch 3000] loss: 0.015\n",
            "[epoch 2, batch 3200] loss: 0.015\n",
            "[epoch 2, batch 3400] loss: 0.013\n",
            "[epoch 2, batch 3600] loss: 0.014\n",
            "Finished Training.\n"
          ]
        }
      ],
      "source": [
        "standard_model = MLP_Standard()\n",
        "train(standard_model, train_dataloader_standard, 2)"
      ],
      "id": "ebWwht-1XrAc"
    },
    {
      "cell_type": "code",
      "execution_count": null,
      "metadata": {
        "colab": {
          "base_uri": "https://localhost:8080/",
          "height": 487
        },
        "id": "mrKkz0lWYNrd",
        "outputId": "6681ea81-8eef-45fa-88dc-ab91680a928c"
      },
      "outputs": [
        {
          "data": {
            "image/png": "[encoded data removed]",
            "text/plain": [
              "<Figure size 576x576 with 1 Axes>"
            ]
          },
          "metadata": {},
          "output_type": "display_data"
        }
      ],
      "source": [
        "y0 = np.array([0.5, 0])\n",
        "delta_t = 0.1\n",
        "tstar = 0.1\n",
        "max_t_prediction = 20\n",
        "\n",
        "validation_standard = predict_standard(standard_model, y0, delta_t, max_t_prediction)\n",
        "validation_nas_3 = predict_standard(mlpnas_best_model_3_layer, y0, delta_t, max_t_prediction)\n",
        "validation_nas_5 = predict_standard(mlpnas_best_model_5_layer, y0, delta_t, max_t_prediction)\n",
        "#validation_dac = predict_dac(dac_model, y0, tstar, max_t_prediction)\n",
        "\n",
        "times = np.arange(0, max_t_prediction, delta_t)\n",
        "true_solution = [solution_simple_ODE(t, y0) for t in times]\n",
        "\n",
        "fig, ax = generate_figure(figsize=(8,8), xlim=[-1, 1], ylim=[-1, 1])\n",
        "\n",
        "ax = plot_ode_solution(ax, validation_standard, label=\"standard approach less epoch\")\n",
        "ax = plot_ode_solution(ax, validation_nas_3, label=\"nas 3 layers less epoch\")\n",
        "ax = plot_ode_solution(ax, validation_nas_5, label=\"nas 5 layers less epoch\")\n",
        "ax = plot_ode_solution(ax, true_solution, label=\"true solution\")\n",
        "\n",
        "plt.legend()\n",
        "plt.savefig(\"proof_of_concept.pdf\", bbox_inches=\"tight\")\n",
        "plt.show()"
      ],
      "id": "mrKkz0lWYNrd"
    },
    {
      "cell_type": "code",
      "execution_count": null,
      "metadata": {
        "colab": {
          "base_uri": "https://localhost:8080/"
        },
        "id": "dALAJ1yu0Kz1",
        "outputId": "d3a656ed-a757-4734-bb4f-fd5c94af8f0d"
      },
      "outputs": [
        {
          "name": "stdout",
          "output_type": "stream",
          "text": [
            "Starting epoch 1...\n",
            "[epoch 1, batch 200] loss: 0.181\n",
            "[epoch 1, batch 400] loss: 0.091\n",
            "[epoch 1, batch 600] loss: 0.058\n",
            "[epoch 1, batch 800] loss: 0.041\n",
            "[epoch 1, batch 1000] loss: 0.034\n",
            "[epoch 1, batch 1200] loss: 0.035\n",
            "[epoch 1, batch 1400] loss: 0.029\n",
            "[epoch 1, batch 1600] loss: 0.027\n",
            "[epoch 1, batch 1800] loss: 0.020\n",
            "[epoch 1, batch 2000] loss: 0.019\n",
            "[epoch 1, batch 2200] loss: 0.012\n",
            "[epoch 1, batch 2400] loss: 0.013\n",
            "[epoch 1, batch 2600] loss: 0.010\n",
            "[epoch 1, batch 2800] loss: 0.008\n",
            "[epoch 1, batch 3000] loss: 0.010\n",
            "[epoch 1, batch 3200] loss: 0.010\n",
            "[epoch 1, batch 3400] loss: 0.011\n",
            "[epoch 1, batch 3600] loss: 0.011\n",
            "Starting epoch 2...\n",
            "[epoch 2, batch 200] loss: 0.009\n",
            "[epoch 2, batch 400] loss: 0.008\n",
            "[epoch 2, batch 600] loss: 0.007\n",
            "[epoch 2, batch 800] loss: 0.005\n",
            "[epoch 2, batch 1000] loss: 0.007\n",
            "[epoch 2, batch 1200] loss: 0.006\n",
            "[epoch 2, batch 1400] loss: 0.007\n",
            "[epoch 2, batch 1600] loss: 0.009\n",
            "[epoch 2, batch 1800] loss: 0.006\n",
            "[epoch 2, batch 2000] loss: 0.008\n",
            "[epoch 2, batch 2200] loss: 0.003\n",
            "[epoch 2, batch 2400] loss: 0.003\n",
            "[epoch 2, batch 2600] loss: 0.002\n",
            "[epoch 2, batch 2800] loss: 0.002\n",
            "[epoch 2, batch 3000] loss: 0.004\n",
            "[epoch 2, batch 3200] loss: 0.006\n",
            "[epoch 2, batch 3400] loss: 0.005\n",
            "[epoch 2, batch 3600] loss: 0.003\n",
            "Starting epoch 3...\n",
            "[epoch 3, batch 200] loss: 0.010\n",
            "[epoch 3, batch 400] loss: 0.007\n",
            "[epoch 3, batch 600] loss: 0.010\n",
            "[epoch 3, batch 800] loss: 0.002\n",
            "[epoch 3, batch 1000] loss: 0.001\n",
            "[epoch 3, batch 1200] loss: 0.002\n",
            "[epoch 3, batch 1400] loss: 0.002\n",
            "[epoch 3, batch 1600] loss: 0.004\n",
            "[epoch 3, batch 1800] loss: 0.002\n",
            "[epoch 3, batch 2000] loss: 0.010\n",
            "[epoch 3, batch 2200] loss: 0.008\n",
            "[epoch 3, batch 2400] loss: 0.002\n",
            "[epoch 3, batch 2600] loss: 0.001\n",
            "[epoch 3, batch 2800] loss: 0.001\n",
            "[epoch 3, batch 3000] loss: 0.002\n",
            "[epoch 3, batch 3200] loss: 0.005\n",
            "[epoch 3, batch 3400] loss: 0.003\n",
            "[epoch 3, batch 3600] loss: 0.002\n",
            "Finished Training.\n",
            "Starting epoch 1...\n",
            "[epoch 1, batch 200] loss: 0.203\n",
            "[epoch 1, batch 400] loss: 0.083\n",
            "[epoch 1, batch 600] loss: 0.047\n",
            "[epoch 1, batch 800] loss: 0.031\n",
            "[epoch 1, batch 1000] loss: 0.033\n",
            "[epoch 1, batch 1200] loss: 0.022\n",
            "[epoch 1, batch 1400] loss: 0.025\n",
            "[epoch 1, batch 1600] loss: 0.015\n",
            "[epoch 1, batch 1800] loss: 0.024\n",
            "[epoch 1, batch 2000] loss: 0.018\n",
            "[epoch 1, batch 2200] loss: 0.013\n",
            "[epoch 1, batch 2400] loss: 0.012\n",
            "[epoch 1, batch 2600] loss: 0.009\n",
            "[epoch 1, batch 2800] loss: 0.009\n",
            "[epoch 1, batch 3000] loss: 0.013\n",
            "[epoch 1, batch 3200] loss: 0.009\n",
            "[epoch 1, batch 3400] loss: 0.010\n",
            "[epoch 1, batch 3600] loss: 0.008\n",
            "Starting epoch 2...\n",
            "[epoch 2, batch 200] loss: 0.013\n",
            "[epoch 2, batch 400] loss: 0.009\n",
            "[epoch 2, batch 600] loss: 0.009\n",
            "[epoch 2, batch 800] loss: 0.007\n",
            "[epoch 2, batch 1000] loss: 0.009\n",
            "[epoch 2, batch 1200] loss: 0.006\n",
            "[epoch 2, batch 1400] loss: 0.007\n",
            "[epoch 2, batch 1600] loss: 0.007\n",
            "[epoch 2, batch 1800] loss: 0.007\n",
            "[epoch 2, batch 2000] loss: 0.008\n",
            "[epoch 2, batch 2200] loss: 0.006\n",
            "[epoch 2, batch 2400] loss: 0.005\n",
            "[epoch 2, batch 2600] loss: 0.003\n",
            "[epoch 2, batch 2800] loss: 0.003\n",
            "[epoch 2, batch 3000] loss: 0.006\n",
            "[epoch 2, batch 3200] loss: 0.007\n",
            "[epoch 2, batch 3400] loss: 0.008\n",
            "[epoch 2, batch 3600] loss: 0.004\n",
            "Starting epoch 3...\n",
            "[epoch 3, batch 200] loss: 0.006\n",
            "[epoch 3, batch 400] loss: 0.012\n",
            "[epoch 3, batch 600] loss: 0.007\n",
            "[epoch 3, batch 800] loss: 0.003\n",
            "[epoch 3, batch 1000] loss: 0.003\n",
            "[epoch 3, batch 1200] loss: 0.003\n",
            "[epoch 3, batch 1400] loss: 0.006\n",
            "[epoch 3, batch 1600] loss: 0.004\n",
            "[epoch 3, batch 1800] loss: 0.003\n",
            "[epoch 3, batch 2000] loss: 0.007\n",
            "[epoch 3, batch 2200] loss: 0.005\n",
            "[epoch 3, batch 2400] loss: 0.004\n",
            "[epoch 3, batch 2600] loss: 0.002\n",
            "[epoch 3, batch 2800] loss: 0.002\n",
            "[epoch 3, batch 3000] loss: 0.003\n",
            "[epoch 3, batch 3200] loss: 0.005\n",
            "[epoch 3, batch 3400] loss: 0.004\n",
            "[epoch 3, batch 3600] loss: 0.006\n",
            "Finished Training.\n",
            "Starting epoch 1...\n",
            "[epoch 1, batch 200] loss: 0.248\n",
            "[epoch 1, batch 400] loss: 0.221\n",
            "[epoch 1, batch 600] loss: 0.227\n",
            "[epoch 1, batch 800] loss: 0.238\n",
            "[epoch 1, batch 1000] loss: 0.217\n",
            "[epoch 1, batch 1200] loss: 0.198\n",
            "[epoch 1, batch 1400] loss: 0.197\n",
            "[epoch 1, batch 1600] loss: 0.167\n",
            "[epoch 1, batch 1800] loss: 0.150\n",
            "[epoch 1, batch 2000] loss: 0.138\n",
            "[epoch 1, batch 2200] loss: 0.136\n",
            "[epoch 1, batch 2400] loss: 0.107\n",
            "[epoch 1, batch 2600] loss: 0.092\n",
            "[epoch 1, batch 2800] loss: 0.072\n",
            "[epoch 1, batch 3000] loss: 0.066\n",
            "[epoch 1, batch 3200] loss: 0.060\n",
            "[epoch 1, batch 3400] loss: 0.049\n",
            "[epoch 1, batch 3600] loss: 0.043\n",
            "Starting epoch 2...\n",
            "[epoch 2, batch 200] loss: 0.036\n",
            "[epoch 2, batch 400] loss: 0.031\n",
            "[epoch 2, batch 600] loss: 0.030\n",
            "[epoch 2, batch 800] loss: 0.026\n",
            "[epoch 2, batch 1000] loss: 0.024\n",
            "[epoch 2, batch 1200] loss: 0.021\n",
            "[epoch 2, batch 1400] loss: 0.022\n",
            "[epoch 2, batch 1600] loss: 0.018\n",
            "[epoch 2, batch 1800] loss: 0.016\n",
            "[epoch 2, batch 2000] loss: 0.016\n",
            "[epoch 2, batch 2200] loss: 0.016\n",
            "[epoch 2, batch 2400] loss: 0.013\n",
            "[epoch 2, batch 2600] loss: 0.012\n",
            "[epoch 2, batch 2800] loss: 0.010\n",
            "[epoch 2, batch 3000] loss: 0.010\n",
            "[epoch 2, batch 3200] loss: 0.010\n",
            "[epoch 2, batch 3400] loss: 0.009\n",
            "[epoch 2, batch 3600] loss: 0.008\n",
            "Starting epoch 3...\n",
            "[epoch 3, batch 200] loss: 0.008\n",
            "[epoch 3, batch 400] loss: 0.008\n",
            "[epoch 3, batch 600] loss: 0.008\n",
            "[epoch 3, batch 800] loss: 0.007\n",
            "[epoch 3, batch 1000] loss: 0.006\n",
            "[epoch 3, batch 1200] loss: 0.006\n",
            "[epoch 3, batch 1400] loss: 0.007\n",
            "[epoch 3, batch 1600] loss: 0.006\n",
            "[epoch 3, batch 1800] loss: 0.005\n",
            "[epoch 3, batch 2000] loss: 0.005\n",
            "[epoch 3, batch 2200] loss: 0.005\n",
            "[epoch 3, batch 2400] loss: 0.004\n",
            "[epoch 3, batch 2600] loss: 0.004\n",
            "[epoch 3, batch 2800] loss: 0.004\n",
            "[epoch 3, batch 3000] loss: 0.004\n",
            "[epoch 3, batch 3200] loss: 0.004\n",
            "[epoch 3, batch 3400] loss: 0.003\n",
            "[epoch 3, batch 3600] loss: 0.004\n",
            "Finished Training.\n"
          ]
        }
      ],
      "source": [
        "encoded_sequence = mlpnas_reinforce_3_layers.encode_sequence([(1024, 'relu'), (1024, 'relu'), (64, 'elu')])\n",
        "mlpnas_best_model_3_layer = mlpnas_reinforce_3_layers.model_generator.create_model(encoded_sequence)\n",
        "train(mlpnas_best_model_3_layer, train_dataloader_standard, 3)\n",
        "encoded_sequence = mlpnas_reinforce_5_layers.encode_sequence([(1024, 'relu'), (512, 'relu'), (8, 'tanh'), (256, 'relu'), (64, 'relu')])\n",
        "mlpnas_best_model_5_layer = mlpnas_reinforce_5_layers.model_generator.create_model(encoded_sequence)\n",
        "train(mlpnas_best_model_5_layer, train_dataloader_standard, 3)\n",
        "standard_model = MLP_Standard()\n",
        "train(standard_model, train_dataloader_standard, 3)"
      ],
      "id": "dALAJ1yu0Kz1"
    },
    {
      "cell_type": "code",
      "execution_count": null,
      "metadata": {
        "colab": {
          "base_uri": "https://localhost:8080/",
          "height": 487
        },
        "id": "pGIw_mg80dB-",
        "outputId": "50fe913c-9152-4c02-ced1-86781245f9f9"
      },
      "outputs": [
        {
          "data": {
            "image/png": "[encoded data removed]",
            "text/plain": [
              "<Figure size 576x576 with 1 Axes>"
            ]
          },
          "metadata": {},
          "output_type": "display_data"
        }
      ],
      "source": [
        "y0 = np.array([0.5, 0])\n",
        "delta_t = 0.1\n",
        "tstar = 0.1\n",
        "max_t_prediction = 20\n",
        "\n",
        "validation_standard = predict_standard(standard_model, y0, delta_t, max_t_prediction)\n",
        "validation_nas_3 = predict_standard(mlpnas_best_model_3_layer, y0, delta_t, max_t_prediction)\n",
        "validation_nas_5 = predict_standard(mlpnas_best_model_5_layer, y0, delta_t, max_t_prediction)\n",
        "#validation_dac = predict_dac(dac_model, y0, tstar, max_t_prediction)\n",
        "\n",
        "times = np.arange(0, max_t_prediction, delta_t)\n",
        "true_solution = [solution_simple_ODE(t, y0) for t in times]\n",
        "\n",
        "fig, ax = generate_figure(figsize=(8,8), xlim=[-1, 1], ylim=[-1, 1])\n",
        "\n",
        "ax = plot_ode_solution(ax, validation_standard, label=\"standard approach less epoch\")\n",
        "ax = plot_ode_solution(ax, validation_nas_3, label=\"nas 3 layers less epoch\")\n",
        "ax = plot_ode_solution(ax, validation_nas_5, label=\"nas 5 layers less epoch\")\n",
        "ax = plot_ode_solution(ax, true_solution, label=\"true solution\")\n",
        "\n",
        "plt.legend()\n",
        "plt.savefig(\"proof_of_concept.pdf\", bbox_inches=\"tight\")\n",
        "plt.show()"
      ],
      "id": "pGIw_mg80dB-"
    },
    {
      "cell_type": "code",
      "execution_count": null,
      "metadata": {
        "colab": {
          "base_uri": "https://localhost:8080/"
        },
        "id": "4xPo7yBF0hU9",
        "outputId": "3a59aafb-a020-4d90-bc90-f2cbaa339e46"
      },
      "outputs": [
        {
          "name": "stdout",
          "output_type": "stream",
          "text": [
            "nas REINFORCE 3 layers euclidean distance:  52.26485578580248\n",
            "nas REINFORCE 5 layers euclidean distance:  38.32308038292433\n",
            "standard approach euclidean distance:  160.23484745969884\n"
          ]
        }
      ],
      "source": [
        "print(\"nas REINFORCE 3 layers euclidean distance: \",compute_euclidean_distance(true_solution,validation_nas_3))\n",
        "print(\"nas REINFORCE 5 layers euclidean distance: \",compute_euclidean_distance(true_solution,validation_nas_5))\n",
        "print(\"standard approach euclidean distance: \",compute_euclidean_distance(true_solution,validation_standard))"
      ],
      "id": "4xPo7yBF0hU9"
    },
    {
      "cell_type": "code",
      "execution_count": null,
      "metadata": {
        "colab": {
          "base_uri": "https://localhost:8080/"
        },
        "id": "i9k8FHQfYmu1",
        "outputId": "839160b7-229a-4fae-cea8-b0e546bc7d09"
      },
      "outputs": [
        {
          "name": "stdout",
          "output_type": "stream",
          "text": [
            "training architecture:  0\n",
            "batch 200] loss: 0.251\n",
            "batch 400] loss: 0.229\n",
            "batch 600] loss: 0.240\n",
            "batch 800] loss: 0.244\n",
            "batch 1000] loss: 0.195\n",
            "batch 1200] loss: 0.189\n",
            "batch 1400] loss: 0.176\n",
            "batch 1600] loss: 0.136\n",
            "batch 1800] loss: 0.115\n",
            "batch 2000] loss: 0.103\n",
            "batch 2200] loss: 0.099\n",
            "batch 2400] loss: 0.073\n",
            "batch 2600] loss: 0.067\n",
            "batch 2800] loss: 0.055\n",
            "batch 3000] loss: 0.062\n",
            "batch 3200] loss: 0.064\n",
            "batch 3400] loss: 0.058\n",
            "batch 3600] loss: 0.059\n",
            "training loss:  8.214782922528684\n",
            "training architecture:  1\n",
            "batch 200] loss: 0.248\n",
            "batch 400] loss: 0.205\n",
            "batch 600] loss: 0.187\n",
            "batch 800] loss: 0.166\n",
            "batch 1000] loss: 0.121\n",
            "batch 1200] loss: 0.072\n",
            "batch 1400] loss: 0.043\n",
            "batch 1600] loss: 0.021\n",
            "batch 1800] loss: 0.017\n",
            "batch 2000] loss: 0.017\n",
            "batch 2200] loss: 0.014\n",
            "batch 2400] loss: 0.010\n",
            "batch 2600] loss: 0.009\n",
            "batch 2800] loss: 0.007\n",
            "batch 3000] loss: 0.008\n",
            "batch 3200] loss: 0.008\n",
            "batch 3400] loss: 0.006\n",
            "batch 3600] loss: 0.005\n",
            "training loss:  0.9022649559774436\n",
            "training architecture:  2\n",
            "batch 200] loss: 0.250\n",
            "batch 400] loss: 0.176\n",
            "batch 600] loss: 0.112\n",
            "batch 800] loss: 0.103\n",
            "batch 1000] loss: 0.065\n",
            "batch 1200] loss: 0.044\n",
            "batch 1400] loss: 0.044\n",
            "batch 1600] loss: 0.028\n",
            "batch 1800] loss: 0.024\n",
            "batch 2000] loss: 0.036\n",
            "batch 2200] loss: 0.030\n",
            "batch 2400] loss: 0.012\n",
            "batch 2600] loss: 0.010\n",
            "batch 2800] loss: 0.010\n",
            "batch 3000] loss: 0.010\n",
            "batch 3200] loss: 0.017\n",
            "batch 3400] loss: 0.014\n",
            "batch 3600] loss: 0.015\n",
            "training loss:  1.711987989663612\n",
            "training architecture:  3\n",
            "batch 200] loss: 0.240\n",
            "batch 400] loss: 0.196\n",
            "batch 600] loss: 0.174\n",
            "batch 800] loss: 0.150\n",
            "batch 1000] loss: 0.108\n",
            "batch 1200] loss: 0.072\n",
            "batch 1400] loss: 0.050\n",
            "batch 1600] loss: 0.028\n",
            "batch 1800] loss: 0.021\n",
            "batch 2000] loss: 0.017\n",
            "batch 2200] loss: 0.014\n",
            "batch 2400] loss: 0.013\n",
            "batch 2600] loss: 0.008\n",
            "batch 2800] loss: 0.007\n",
            "batch 3000] loss: 0.009\n",
            "batch 3200] loss: 0.011\n",
            "batch 3400] loss: 0.008\n",
            "batch 3600] loss: 0.007\n",
            "training loss:  0.5827937278372701\n",
            "training architecture:  4\n",
            "batch 200] loss: 0.249\n",
            "batch 400] loss: 0.214\n",
            "batch 600] loss: 0.197\n",
            "batch 800] loss: 0.185\n",
            "batch 1000] loss: 0.151\n",
            "batch 1200] loss: 0.133\n",
            "batch 1400] loss: 0.090\n",
            "batch 1600] loss: 0.046\n",
            "batch 1800] loss: 0.032\n",
            "batch 2000] loss: 0.029\n",
            "batch 2200] loss: 0.023\n",
            "batch 2400] loss: 0.017\n",
            "batch 2600] loss: 0.015\n",
            "batch 2800] loss: 0.012\n",
            "batch 3000] loss: 0.016\n",
            "batch 3200] loss: 0.015\n",
            "batch 3400] loss: 0.015\n",
            "batch 3600] loss: 0.015\n",
            "training loss:  1.680369951413013\n",
            "training architecture:  5\n",
            "batch 200] loss: 0.250\n",
            "batch 400] loss: 0.220\n",
            "batch 600] loss: 0.216\n",
            "batch 800] loss: 0.200\n",
            "batch 1000] loss: 0.160\n",
            "batch 1200] loss: 0.140\n",
            "batch 1400] loss: 0.140\n",
            "batch 1600] loss: 0.127\n",
            "batch 1800] loss: 0.121\n",
            "batch 2000] loss: 0.114\n",
            "batch 2200] loss: 0.121\n",
            "batch 2400] loss: 0.100\n",
            "batch 2600] loss: 0.089\n",
            "batch 2800] loss: 0.071\n",
            "batch 3000] loss: 0.069\n",
            "batch 3200] loss: 0.064\n",
            "batch 3400] loss: 0.059\n",
            "batch 3600] loss: 0.053\n",
            "training loss:  7.3321287125581875\n",
            "training architecture:  6\n",
            "batch 200] loss: 0.250\n",
            "batch 400] loss: 0.228\n",
            "batch 600] loss: 0.239\n",
            "batch 800] loss: 0.256\n",
            "batch 1000] loss: 0.239\n",
            "batch 1200] loss: 0.225\n",
            "batch 1400] loss: 0.220\n",
            "batch 1600] loss: 0.193\n",
            "batch 1800] loss: 0.174\n",
            "batch 2000] loss: 0.174\n",
            "batch 2200] loss: 0.182\n",
            "batch 2400] loss: 0.146\n",
            "batch 2600] loss: 0.133\n",
            "batch 2800] loss: 0.115\n",
            "batch 3000] loss: 0.113\n",
            "batch 3200] loss: 0.119\n",
            "batch 3400] loss: 0.106\n",
            "batch 3600] loss: 0.108\n",
            "training loss:  16.137762169586495\n",
            "training architecture:  7\n",
            "batch 200] loss: 0.249\n",
            "batch 400] loss: 0.195\n",
            "batch 600] loss: 0.156\n",
            "batch 800] loss: 0.119\n",
            "batch 1000] loss: 0.089\n",
            "batch 1200] loss: 0.069\n",
            "batch 1400] loss: 0.064\n",
            "batch 1600] loss: 0.051\n",
            "batch 1800] loss: 0.047\n",
            "batch 2000] loss: 0.040\n",
            "batch 2200] loss: 0.039\n",
            "batch 2400] loss: 0.034\n",
            "batch 2600] loss: 0.031\n",
            "batch 2800] loss: 0.025\n",
            "batch 3000] loss: 0.025\n",
            "batch 3200] loss: 0.026\n",
            "batch 3400] loss: 0.027\n",
            "batch 3600] loss: 0.024\n",
            "training loss:  3.536510478472337\n",
            "training architecture:  8\n",
            "batch 200] loss: 0.247\n",
            "batch 400] loss: 0.217\n",
            "batch 600] loss: 0.221\n",
            "batch 800] loss: 0.229\n",
            "batch 1000] loss: 0.208\n",
            "batch 1200] loss: 0.196\n",
            "batch 1400] loss: 0.199\n",
            "batch 1600] loss: 0.179\n",
            "batch 1800] loss: 0.166\n",
            "batch 2000] loss: 0.161\n",
            "batch 2200] loss: 0.172\n",
            "batch 2400] loss: 0.148\n",
            "batch 2600] loss: 0.138\n",
            "batch 2800] loss: 0.118\n",
            "batch 3000] loss: 0.125\n",
            "batch 3200] loss: 0.128\n",
            "batch 3400] loss: 0.121\n",
            "batch 3600] loss: 0.121\n",
            "training loss:  18.06865124288015\n",
            "training architecture:  9\n",
            "batch 200] loss: 0.251\n",
            "batch 400] loss: 0.220\n",
            "batch 600] loss: 0.202\n",
            "batch 800] loss: 0.204\n",
            "batch 1000] loss: 0.160\n",
            "batch 1200] loss: 0.117\n",
            "batch 1400] loss: 0.098\n",
            "batch 1600] loss: 0.049\n",
            "batch 1800] loss: 0.042\n",
            "batch 2000] loss: 0.039\n",
            "batch 2200] loss: 0.033\n",
            "batch 2400] loss: 0.015\n",
            "batch 2600] loss: 0.012\n",
            "batch 2800] loss: 0.011\n",
            "batch 3000] loss: 0.017\n",
            "batch 3200] loss: 0.013\n",
            "batch 3400] loss: 0.013\n",
            "batch 3600] loss: 0.011\n",
            "training loss:  1.1451890676398762\n"
          ]
        }
      ],
      "source": [
        "#compare random search with REINFORCE search and true solution\n",
        "mlpnas_reinforce_3_layers = MLPNAS(max_architecture_length = 3)\n",
        "samples = mlpnas_reinforce_3_layers.model_generator.random_sample_architecture()\n",
        "model_train_log,architecture_history = mlpnas_reinforce_3_layers.model_generator.low_fidelity_evaluation(train_dataloader_standard,samples)"
      ],
      "id": "i9k8FHQfYmu1"
    },
    {
      "cell_type": "code",
      "execution_count": null,
      "metadata": {
        "colab": {
          "base_uri": "https://localhost:8080/"
        },
        "id": "WCyLap_gjJxt",
        "outputId": "05dd58e9-c1c9-4224-af1c-0d5c5a518833"
      },
      "outputs": [
        {
          "name": "stdout",
          "output_type": "stream",
          "text": [
            "Starting epoch 1...\n",
            "[epoch 1, batch 200] loss: 0.249\n",
            "[epoch 1, batch 400] loss: 0.217\n",
            "[epoch 1, batch 600] loss: 0.202\n",
            "[epoch 1, batch 800] loss: 0.217\n",
            "[epoch 1, batch 1000] loss: 0.189\n",
            "[epoch 1, batch 1200] loss: 0.153\n",
            "[epoch 1, batch 1400] loss: 0.153\n",
            "[epoch 1, batch 1600] loss: 0.112\n",
            "[epoch 1, batch 1800] loss: 0.096\n",
            "[epoch 1, batch 2000] loss: 0.079\n",
            "[epoch 1, batch 2200] loss: 0.081\n",
            "[epoch 1, batch 2400] loss: 0.044\n",
            "[epoch 1, batch 2600] loss: 0.035\n",
            "[epoch 1, batch 2800] loss: 0.027\n",
            "[epoch 1, batch 3000] loss: 0.033\n",
            "[epoch 1, batch 3200] loss: 0.025\n",
            "[epoch 1, batch 3400] loss: 0.018\n",
            "[epoch 1, batch 3600] loss: 0.020\n",
            "Starting epoch 2...\n",
            "[epoch 2, batch 200] loss: 0.012\n",
            "[epoch 2, batch 400] loss: 0.016\n",
            "[epoch 2, batch 600] loss: 0.013\n",
            "[epoch 2, batch 800] loss: 0.013\n",
            "[epoch 2, batch 1000] loss: 0.008\n",
            "[epoch 2, batch 1200] loss: 0.009\n",
            "[epoch 2, batch 1400] loss: 0.010\n",
            "[epoch 2, batch 1600] loss: 0.006\n",
            "[epoch 2, batch 1800] loss: 0.009\n",
            "[epoch 2, batch 2000] loss: 0.010\n",
            "[epoch 2, batch 2200] loss: 0.010\n",
            "[epoch 2, batch 2400] loss: 0.004\n",
            "[epoch 2, batch 2600] loss: 0.004\n",
            "[epoch 2, batch 2800] loss: 0.003\n",
            "[epoch 2, batch 3000] loss: 0.005\n",
            "[epoch 2, batch 3200] loss: 0.008\n",
            "[epoch 2, batch 3400] loss: 0.007\n",
            "[epoch 2, batch 3600] loss: 0.005\n",
            "Finished Training.\n"
          ]
        }
      ],
      "source": [
        "encoded_sequence = mlpnas_reinforce_3_layers.encode_sequence([(64, 'elu'), (256, 'relu'), (512, 'relu'), (128, 'relu'), (128, 'tanh'), (1024, 'elu'), (8, 'elu'), (8, 'tanh'), (64, 'relu'), (256, 'elu')])\n",
        "mlpnas_best_model_random_search = mlpnas_reinforce_3_layers.model_generator.create_model(encoded_sequence)\n",
        "train(mlpnas_best_model_random_search, train_dataloader_standard, 2)"
      ],
      "id": "WCyLap_gjJxt"
    },
    {
      "cell_type": "code",
      "execution_count": null,
      "metadata": {
        "colab": {
          "base_uri": "https://localhost:8080/",
          "height": 487
        },
        "id": "ZgGpgkIbj7vF",
        "outputId": "8929642b-f7f3-44d4-98ea-6402a83b8a1c"
      },
      "outputs": [
        {
          "data": {
            "image/png": "[encoded data removed]",
            "text/plain": [
              "<Figure size 576x576 with 1 Axes>"
            ]
          },
          "metadata": {},
          "output_type": "display_data"
        }
      ],
      "source": [
        "y0 = np.array([0.5, 0])\n",
        "delta_t = 0.1\n",
        "tstar = 0.1\n",
        "max_t_prediction = 20\n",
        "\n",
        "validation_standard = predict_standard(standard_model, y0, delta_t, max_t_prediction)\n",
        "validation_nas_3 = predict_standard(mlpnas_best_model_3_layer, y0, delta_t, max_t_prediction)\n",
        "validation_nas_5 = predict_standard(mlpnas_best_model_random_search, y0, delta_t, max_t_prediction)\n",
        "#validation_dac = predict_dac(dac_model, y0, tstar, max_t_prediction)\n",
        "\n",
        "times = np.arange(0, max_t_prediction, delta_t)\n",
        "true_solution = [solution_simple_ODE(t, y0) for t in times]\n",
        "\n",
        "fig, ax = generate_figure(figsize=(8,8), xlim=[-1, 1], ylim=[-1, 1])\n",
        "\n",
        "ax = plot_ode_solution(ax, validation_standard, label=\"standard approach \")\n",
        "ax = plot_ode_solution(ax, validation_nas_3, label=\"nas REINFORCE generated layers\")\n",
        "ax = plot_ode_solution(ax, validation_nas_5, label=\"nas random search\")\n",
        "ax = plot_ode_solution(ax, true_solution, label=\"true solution\")\n",
        "\n",
        "plt.legend()\n",
        "plt.savefig(\"proof_of_concept.pdf\", bbox_inches=\"tight\")\n",
        "plt.show()"
      ],
      "id": "ZgGpgkIbj7vF"
    },
    {
      "cell_type": "code",
      "execution_count": 167,
      "metadata": {
        "id": "P2VPnTfxxqLF"
      },
      "outputs": [],
      "source": [
        "def compute_euclidean_distance(target,output):\n",
        "  euclidean_distance = 0\n",
        "  for i in range(len(target)):\n",
        "    euclidean_distance += (target[i][0]-output[i][0])**2 + (target[i][1]-output[i][1])**2\n",
        "  return (euclidean_distance)**0.5"
      ],
      "id": "P2VPnTfxxqLF"
    },
    {
      "cell_type": "code",
      "execution_count": null,
      "metadata": {
        "colab": {
          "base_uri": "https://localhost:8080/"
        },
        "id": "9SrRVSphy6ag",
        "outputId": "61149cc3-0a26-4d8f-dc9b-835e0cb8178c"
      },
      "outputs": [
        {
          "name": "stdout",
          "output_type": "stream",
          "text": [
            "nas REINFORCE euclidean distance:  45.92026582895431\n",
            "nas random search euclidean distance:  101.55929987775104\n",
            "standard approach euclidean distance:  131.36369901850185\n"
          ]
        }
      ],
      "source": [
        "print(\"nas REINFORCE euclidean distance: \",compute_euclidean_distance(true_solution,validation_nas_3))\n",
        "print(\"nas random search euclidean distance: \",compute_euclidean_distance(true_solution,validation_nas_5))\n",
        "print(\"standard approach euclidean distance: \",compute_euclidean_distance(true_solution,validation_standard))"
      ],
      "id": "9SrRVSphy6ag"
    },
    {
      "cell_type": "code",
      "source": [
        "x = 166\n",
        "x**0.5"
      ],
      "metadata": {
        "colab": {
          "base_uri": "https://localhost:8080/"
        },
        "id": "qBnaA3_IPMJj",
        "outputId": "0499b82d-1159-43d0-eb1f-7020ab5b0b47"
      },
      "id": "qBnaA3_IPMJj",
      "execution_count": 4,
      "outputs": [
        {
          "output_type": "execute_result",
          "data": {
            "text/plain": [
              "12.884098726725126"
            ]
          },
          "metadata": {},
          "execution_count": 4
        }
      ]
    },
    {
      "cell_type": "markdown",
      "metadata": {
        "id": "bWcqhQMetL5q"
      },
      "source": [
        "# NAS Experiments with DAC approach"
      ],
      "id": "bWcqhQMetL5q"
    },
    {
      "cell_type": "code",
      "execution_count": null,
      "metadata": {
        "id": "Q7oVYAqztaS0"
      },
      "outputs": [],
      "source": [
        "training_data_dac = PINN_ODE_Dataset(file_dac)\n",
        "train_dataloader_dac = DataLoader(training_data_dac, batch_size=64, shuffle=True)"
      ],
      "id": "Q7oVYAqztaS0"
    },
    {
      "cell_type": "code",
      "execution_count": null,
      "metadata": {
        "colab": {
          "base_uri": "https://localhost:8080/"
        },
        "id": "HPux9lrZtvYk",
        "outputId": "14a67e60-efef-4cd2-dd97-9f834c503d56"
      },
      "outputs": [
        {
          "data": {
            "text/plain": [
              "Sequential(\n",
              "  (0): Linear(in_features=2, out_features=1024, bias=True)\n",
              "  (1): ReLU()\n",
              "  (2): Linear(in_features=1024, out_features=1024, bias=True)\n",
              "  (3): Tanh()\n",
              "  (4): Linear(in_features=1024, out_features=64, bias=True)\n",
              "  (5): Tanh()\n",
              "  (6): Linear(in_features=64, out_features=2, bias=True)\n",
              ")"
            ]
          },
          "execution_count": 114,
          "metadata": {},
          "output_type": "execute_result"
        }
      ],
      "source": [
        "dac_mlpnas_reinforce_3_layers = MLPNAS(max_architecture_length = 3)\n",
        "encoded_sequence = dac_mlpnas_reinforce_3_layers.encode_sequence([(1024, 'relu'), (1024, 'relu'), (64, 'elu')])\n",
        "mlpnas_best_model_3_layer_dac = mlpnas_reinforce_3_layers.model_generator.create_model(encoded_sequence,2)\n",
        "mlpnas_best_model_3_layer_dac"
      ],
      "id": "HPux9lrZtvYk"
    },
    {
      "cell_type": "code",
      "execution_count": 119,
      "metadata": {
        "colab": {
          "base_uri": "https://localhost:8080/"
        },
        "id": "Qek7bsK9ux3C",
        "outputId": "94ff0722-baae-420b-bea4-d068f0092fa6"
      },
      "outputs": [
        {
          "output_type": "execute_result",
          "data": {
            "text/plain": [
              "Sequential(\n",
              "  (0): Linear(in_features=2, out_features=1024, bias=True)\n",
              "  (1): ReLU()\n",
              "  (2): Linear(in_features=1024, out_features=512, bias=True)\n",
              "  (3): Tanh()\n",
              "  (4): Linear(in_features=512, out_features=8, bias=True)\n",
              "  (5): Tanh()\n",
              "  (6): Linear(in_features=8, out_features=256, bias=True)\n",
              "  (7): Tanh()\n",
              "  (8): Linear(in_features=256, out_features=64, bias=True)\n",
              "  (9): Tanh()\n",
              "  (10): Linear(in_features=64, out_features=2, bias=True)\n",
              ")"
            ]
          },
          "metadata": {},
          "execution_count": 119
        }
      ],
      "source": [
        "dac_mlpnas_reinforce_5_layers = MLPNAS(max_architecture_length = 5)\n",
        "encoded_sequence = dac_mlpnas_reinforce_5_layers.encode_sequence([(1024, 'relu'), (512, 'relu'), (8, 'tanh'), (256, 'relu'), (64, 'relu')])\n",
        "mlpnas_best_model_5_layer_dac = dac_mlpnas_reinforce_5_layers.model_generator.create_model(encoded_sequence,2)\n",
        "mlpnas_best_model_5_layer_dac"
      ],
      "id": "Qek7bsK9ux3C"
    },
    {
      "cell_type": "code",
      "execution_count": null,
      "metadata": {
        "colab": {
          "background_save": true,
          "base_uri": "https://localhost:8080/"
        },
        "id": "7b6btrwawMLY",
        "outputId": "b0dcc82a-2523-4707-d054-1c323635d149"
      },
      "outputs": [
        {
          "name": "stdout",
          "output_type": "stream",
          "text": [
            "Starting epoch 1...\n",
            "[epoch 1, batch 200] loss: 0.005\n",
            "[epoch 1, batch 400] loss: 0.000\n",
            "[epoch 1, batch 600] loss: 0.000\n",
            "[epoch 1, batch 800] loss: 0.000\n",
            "[epoch 1, batch 1000] loss: 0.000\n",
            "[epoch 1, batch 1200] loss: 0.000\n",
            "[epoch 1, batch 1400] loss: 0.000\n",
            "[epoch 1, batch 1600] loss: 0.000\n",
            "[epoch 1, batch 1800] loss: 0.000\n",
            "[epoch 1, batch 2000] loss: 0.000\n",
            "[epoch 1, batch 2200] loss: 0.000\n",
            "[epoch 1, batch 2400] loss: 0.000\n",
            "[epoch 1, batch 2600] loss: 0.000\n",
            "[epoch 1, batch 2800] loss: 0.000\n",
            "[epoch 1, batch 3000] loss: 0.000\n",
            "[epoch 1, batch 3200] loss: 0.000\n",
            "[epoch 1, batch 3400] loss: 0.000\n",
            "[epoch 1, batch 3600] loss: 0.000\n",
            "Starting epoch 2...\n",
            "[epoch 2, batch 200] loss: 0.000\n",
            "[epoch 2, batch 400] loss: 0.000\n",
            "[epoch 2, batch 600] loss: 0.000\n",
            "[epoch 2, batch 800] loss: 0.000\n",
            "[epoch 2, batch 1000] loss: 0.000\n",
            "[epoch 2, batch 1200] loss: 0.000\n",
            "[epoch 2, batch 1400] loss: 0.000\n",
            "[epoch 2, batch 1600] loss: 0.000\n",
            "[epoch 2, batch 1800] loss: 0.000\n",
            "[epoch 2, batch 2000] loss: 0.000\n",
            "[epoch 2, batch 2200] loss: 0.000\n",
            "[epoch 2, batch 2400] loss: 0.000\n",
            "[epoch 2, batch 2600] loss: 0.000\n",
            "[epoch 2, batch 2800] loss: 0.000\n",
            "[epoch 2, batch 3000] loss: 0.000\n",
            "[epoch 2, batch 3200] loss: 0.000\n",
            "[epoch 2, batch 3400] loss: 0.000\n",
            "[epoch 2, batch 3600] loss: 0.000\n",
            "Starting epoch 3...\n",
            "[epoch 3, batch 200] loss: 0.000\n",
            "[epoch 3, batch 400] loss: 0.000\n",
            "[epoch 3, batch 600] loss: 0.000\n",
            "[epoch 3, batch 800] loss: 0.000\n",
            "[epoch 3, batch 1000] loss: 0.000\n",
            "[epoch 3, batch 1200] loss: 0.000\n",
            "[epoch 3, batch 1400] loss: 0.000\n",
            "[epoch 3, batch 1600] loss: 0.000\n",
            "[epoch 3, batch 1800] loss: 0.000\n",
            "[epoch 3, batch 2000] loss: 0.000\n",
            "[epoch 3, batch 2200] loss: 0.000\n",
            "[epoch 3, batch 2400] loss: 0.000\n",
            "[epoch 3, batch 2600] loss: 0.000\n",
            "[epoch 3, batch 2800] loss: 0.000\n",
            "[epoch 3, batch 3000] loss: 0.000\n",
            "[epoch 3, batch 3200] loss: 0.000\n",
            "[epoch 3, batch 3400] loss: 0.000\n",
            "[epoch 3, batch 3600] loss: 0.000\n",
            "Finished Training.\n"
          ]
        }
      ],
      "source": [
        "train(mlpnas_best_model_3_layer_dac, train_dataloader_dac, 3)"
      ],
      "id": "7b6btrwawMLY"
    },
    {
      "cell_type": "code",
      "execution_count": 120,
      "metadata": {
        "colab": {
          "base_uri": "https://localhost:8080/"
        },
        "id": "uElu4peQwlFS",
        "outputId": "1fd352ae-9ee5-4958-e630-90c397cf925c"
      },
      "outputs": [
        {
          "output_type": "stream",
          "name": "stdout",
          "text": [
            "Starting epoch 1...\n",
            "[epoch 1, batch 200] loss: 0.020\n",
            "[epoch 1, batch 400] loss: 0.000\n",
            "[epoch 1, batch 600] loss: 0.000\n",
            "[epoch 1, batch 800] loss: 0.000\n",
            "[epoch 1, batch 1000] loss: 0.000\n",
            "[epoch 1, batch 1200] loss: 0.000\n",
            "[epoch 1, batch 1400] loss: 0.000\n",
            "[epoch 1, batch 1600] loss: 0.000\n",
            "[epoch 1, batch 1800] loss: 0.000\n",
            "[epoch 1, batch 2000] loss: 0.000\n",
            "[epoch 1, batch 2200] loss: 0.000\n",
            "[epoch 1, batch 2400] loss: 0.000\n",
            "[epoch 1, batch 2600] loss: 0.000\n",
            "[epoch 1, batch 2800] loss: 0.000\n",
            "[epoch 1, batch 3000] loss: 0.000\n",
            "[epoch 1, batch 3200] loss: 0.000\n",
            "[epoch 1, batch 3400] loss: 0.000\n",
            "[epoch 1, batch 3600] loss: 0.000\n",
            "Starting epoch 2...\n",
            "[epoch 2, batch 200] loss: 0.000\n",
            "[epoch 2, batch 400] loss: 0.000\n",
            "[epoch 2, batch 600] loss: 0.000\n",
            "[epoch 2, batch 800] loss: 0.000\n",
            "[epoch 2, batch 1000] loss: 0.000\n",
            "[epoch 2, batch 1200] loss: 0.000\n",
            "[epoch 2, batch 1400] loss: 0.000\n",
            "[epoch 2, batch 1600] loss: 0.000\n",
            "[epoch 2, batch 1800] loss: 0.000\n",
            "[epoch 2, batch 2000] loss: 0.000\n",
            "[epoch 2, batch 2200] loss: 0.000\n",
            "[epoch 2, batch 2400] loss: 0.000\n",
            "[epoch 2, batch 2600] loss: 0.000\n",
            "[epoch 2, batch 2800] loss: 0.000\n",
            "[epoch 2, batch 3000] loss: 0.000\n",
            "[epoch 2, batch 3200] loss: 0.000\n",
            "[epoch 2, batch 3400] loss: 0.000\n",
            "[epoch 2, batch 3600] loss: 0.000\n",
            "Starting epoch 3...\n",
            "[epoch 3, batch 200] loss: 0.000\n",
            "[epoch 3, batch 400] loss: 0.000\n",
            "[epoch 3, batch 600] loss: 0.000\n",
            "[epoch 3, batch 800] loss: 0.000\n",
            "[epoch 3, batch 1000] loss: 0.000\n",
            "[epoch 3, batch 1200] loss: 0.000\n",
            "[epoch 3, batch 1400] loss: 0.000\n",
            "[epoch 3, batch 1600] loss: 0.000\n",
            "[epoch 3, batch 1800] loss: 0.000\n",
            "[epoch 3, batch 2000] loss: 0.000\n",
            "[epoch 3, batch 2200] loss: 0.000\n",
            "[epoch 3, batch 2400] loss: 0.000\n",
            "[epoch 3, batch 2600] loss: 0.000\n",
            "[epoch 3, batch 2800] loss: 0.000\n",
            "[epoch 3, batch 3000] loss: 0.000\n",
            "[epoch 3, batch 3200] loss: 0.000\n",
            "[epoch 3, batch 3400] loss: 0.000\n",
            "[epoch 3, batch 3600] loss: 0.000\n",
            "Finished Training.\n"
          ]
        }
      ],
      "source": [
        "train(mlpnas_best_model_5_layer_dac, train_dataloader_dac, 3)"
      ],
      "id": "uElu4peQwlFS"
    },
    {
      "cell_type": "code",
      "source": [
        "dac_model = MLP_DAC()\n",
        "train(dac_model, train_dataloader_dac, 3)"
      ],
      "metadata": {
        "colab": {
          "base_uri": "https://localhost:8080/"
        },
        "id": "t-KY8F7Uycmj",
        "outputId": "87625803-d0de-4d7a-96e0-a8aea88e5b8b"
      },
      "id": "t-KY8F7Uycmj",
      "execution_count": 128,
      "outputs": [
        {
          "output_type": "stream",
          "name": "stdout",
          "text": [
            "Starting epoch 1...\n",
            "[epoch 1, batch 200] loss: 0.202\n",
            "[epoch 1, batch 400] loss: 0.045\n",
            "[epoch 1, batch 600] loss: 0.001\n",
            "[epoch 1, batch 800] loss: 0.000\n",
            "[epoch 1, batch 1000] loss: 0.000\n",
            "[epoch 1, batch 1200] loss: 0.000\n",
            "[epoch 1, batch 1400] loss: 0.000\n",
            "[epoch 1, batch 1600] loss: 0.000\n",
            "[epoch 1, batch 1800] loss: 0.000\n",
            "[epoch 1, batch 2000] loss: 0.000\n",
            "[epoch 1, batch 2200] loss: 0.000\n",
            "[epoch 1, batch 2400] loss: 0.000\n",
            "[epoch 1, batch 2600] loss: 0.000\n",
            "[epoch 1, batch 2800] loss: 0.000\n",
            "[epoch 1, batch 3000] loss: 0.000\n",
            "[epoch 1, batch 3200] loss: 0.000\n",
            "[epoch 1, batch 3400] loss: 0.000\n",
            "[epoch 1, batch 3600] loss: 0.000\n",
            "Starting epoch 2...\n",
            "[epoch 2, batch 200] loss: 0.000\n",
            "[epoch 2, batch 400] loss: 0.000\n",
            "[epoch 2, batch 600] loss: 0.000\n",
            "[epoch 2, batch 800] loss: 0.000\n",
            "[epoch 2, batch 1000] loss: 0.000\n",
            "[epoch 2, batch 1200] loss: 0.000\n",
            "[epoch 2, batch 1400] loss: 0.000\n",
            "[epoch 2, batch 1600] loss: 0.000\n",
            "[epoch 2, batch 1800] loss: 0.000\n",
            "[epoch 2, batch 2000] loss: 0.000\n",
            "[epoch 2, batch 2200] loss: 0.000\n",
            "[epoch 2, batch 2400] loss: 0.000\n",
            "[epoch 2, batch 2600] loss: 0.000\n",
            "[epoch 2, batch 2800] loss: 0.000\n",
            "[epoch 2, batch 3000] loss: 0.000\n",
            "[epoch 2, batch 3200] loss: 0.000\n",
            "[epoch 2, batch 3400] loss: 0.000\n",
            "[epoch 2, batch 3600] loss: 0.000\n",
            "Starting epoch 3...\n",
            "[epoch 3, batch 200] loss: 0.000\n",
            "[epoch 3, batch 400] loss: 0.000\n",
            "[epoch 3, batch 600] loss: 0.000\n",
            "[epoch 3, batch 800] loss: 0.000\n",
            "[epoch 3, batch 1000] loss: 0.000\n",
            "[epoch 3, batch 1200] loss: 0.000\n",
            "[epoch 3, batch 1400] loss: 0.000\n",
            "[epoch 3, batch 1600] loss: 0.000\n",
            "[epoch 3, batch 1800] loss: 0.000\n",
            "[epoch 3, batch 2000] loss: 0.000\n",
            "[epoch 3, batch 2200] loss: 0.000\n",
            "[epoch 3, batch 2400] loss: 0.000\n",
            "[epoch 3, batch 2600] loss: 0.000\n",
            "[epoch 3, batch 2800] loss: 0.000\n",
            "[epoch 3, batch 3000] loss: 0.000\n",
            "[epoch 3, batch 3200] loss: 0.000\n",
            "[epoch 3, batch 3400] loss: 0.000\n",
            "[epoch 3, batch 3600] loss: 0.000\n",
            "Finished Training.\n"
          ]
        }
      ]
    },
    {
      "cell_type": "code",
      "source": [
        "y0 = np.array([0.5, 0])\n",
        "delta_t = 0.1\n",
        "tstar = 0.1\n",
        "max_t_prediction = 20\n",
        "\n",
        "validation_dac = predict_dac(dac_model, y0, tstar, max_t_prediction)\n",
        "validation_nas_3_dac = predict_dac(mlpnas_best_model_3_layer_dac, y0, tstar, max_t_prediction)\n",
        "validation_nas_5_dac = predict_dac(mlpnas_best_model_5_layer_dac, y0, tstar, max_t_prediction)\n",
        "#validation_dac = predict_dac(dac_model, y0, tstar, max_t_prediction)\n",
        "\n",
        "times = np.arange(0, max_t_prediction, delta_t)\n",
        "true_solution = [solution_simple_ODE(t, y0) for t in times]\n",
        "\n",
        "fig, ax = generate_figure(figsize=(8,8), xlim=[-1, 1], ylim=[-1, 1])\n",
        "\n",
        "ax = plot_ode_solution(ax, validation_dac, label=\"dac approach\")\n",
        "ax = plot_ode_solution(ax, validation_nas_3_dac, label=\"nas 3 layers dac\")\n",
        "ax = plot_ode_solution(ax, validation_nas_5_dac, label=\"nas 5 layers dac\")\n",
        "ax = plot_ode_solution(ax, true_solution, label=\"true solution\")\n",
        "\n",
        "plt.legend()\n",
        "plt.savefig(\"proof_of_concept.pdf\", bbox_inches=\"tight\")\n",
        "plt.show()"
      ],
      "metadata": {
        "colab": {
          "base_uri": "https://localhost:8080/",
          "height": 487
        },
        "id": "R8KQ0tbxzD4b",
        "outputId": "e0988a42-211d-4831-9ef7-320cf8709c04"
      },
      "id": "R8KQ0tbxzD4b",
      "execution_count": 130,
      "outputs": [
        {
          "output_type": "display_data",
          "data": {
            "text/plain": [
              "<Figure size 576x576 with 1 Axes>"
            ],
            "image/png": "[encoded data removed]"
          },
          "metadata": {
            "needs_background": "light"
          }
        }
      ]
    },
    {
      "cell_type": "code",
      "source": [
        "print(\"nas REINFORCE 3 layer euclidean distance: \",compute_euclidean_distance(true_solution,validation_nas_3_dac))\n",
        "print(\"nas REINFORCE 3 layer euclidean distance: \",compute_euclidean_distance(true_solution,validation_nas_5_dac))\n",
        "print(\"DAC approach euclidean distance: \",compute_euclidean_distance(true_solution,validation_dac))"
      ],
      "metadata": {
        "colab": {
          "base_uri": "https://localhost:8080/"
        },
        "id": "1FSV328IzqYP",
        "outputId": "90cbce97-c972-454c-888d-1c2d08caf533"
      },
      "id": "1FSV328IzqYP",
      "execution_count": 132,
      "outputs": [
        {
          "output_type": "stream",
          "name": "stdout",
          "text": [
            "nas REINFORCE 3 layer euclidean distance:  88.55172295573541\n",
            "nas REINFORCE 3 layer euclidean distance:  99.57598349354936\n",
            "DAC approach euclidean distance:  105.40198504164438\n"
          ]
        }
      ]
    },
    {
      "cell_type": "code",
      "source": [
        "#train with less epoch\n",
        "mlpnas_best_model_3_layer_dac = mlpnas_reinforce_3_layers.model_generator.create_model(encoded_sequence,2)\n",
        "#mlpnas_best_model_3_layer_dac\n",
        "mlpnas_best_model_5_layer_dac = mlpnas_reinforce_5_layers.model_generator.create_model(encoded_sequence,2)\n",
        "dac_model = MLP_DAC()\n",
        "train(mlpnas_best_model_3_layer_dac, train_dataloader_dac, 3)\n",
        "train(mlpnas_best_model_5_layer_dac, train_dataloader_dac, 3)\n",
        "train(dac_model, train_dataloader_dac, 3)"
      ],
      "metadata": {
        "colab": {
          "base_uri": "https://localhost:8080/"
        },
        "id": "uOY_64Tf1bDb",
        "outputId": "4b5c668c-7f35-49f2-f6a0-7f5293bc00c9"
      },
      "id": "uOY_64Tf1bDb",
      "execution_count": 139,
      "outputs": [
        {
          "output_type": "stream",
          "name": "stdout",
          "text": [
            "Starting epoch 1...\n",
            "[epoch 1, batch 200] loss: 0.017\n",
            "[epoch 1, batch 400] loss: 0.000\n",
            "[epoch 1, batch 600] loss: 0.000\n",
            "[epoch 1, batch 800] loss: 0.000\n",
            "[epoch 1, batch 1000] loss: 0.000\n",
            "[epoch 1, batch 1200] loss: 0.000\n",
            "[epoch 1, batch 1400] loss: 0.000\n",
            "[epoch 1, batch 1600] loss: 0.000\n",
            "[epoch 1, batch 1800] loss: 0.000\n",
            "[epoch 1, batch 2000] loss: 0.000\n",
            "[epoch 1, batch 2200] loss: 0.000\n",
            "[epoch 1, batch 2400] loss: 0.000\n",
            "[epoch 1, batch 2600] loss: 0.000\n",
            "[epoch 1, batch 2800] loss: 0.000\n",
            "[epoch 1, batch 3000] loss: 0.000\n",
            "[epoch 1, batch 3200] loss: 0.000\n",
            "[epoch 1, batch 3400] loss: 0.000\n",
            "[epoch 1, batch 3600] loss: 0.000\n",
            "Starting epoch 2...\n",
            "[epoch 2, batch 200] loss: 0.000\n",
            "[epoch 2, batch 400] loss: 0.000\n",
            "[epoch 2, batch 600] loss: 0.000\n",
            "[epoch 2, batch 800] loss: 0.000\n",
            "[epoch 2, batch 1000] loss: 0.000\n",
            "[epoch 2, batch 1200] loss: 0.000\n",
            "[epoch 2, batch 1400] loss: 0.000\n",
            "[epoch 2, batch 1600] loss: 0.000\n",
            "[epoch 2, batch 1800] loss: 0.000\n",
            "[epoch 2, batch 2000] loss: 0.000\n",
            "[epoch 2, batch 2200] loss: 0.000\n",
            "[epoch 2, batch 2400] loss: 0.000\n",
            "[epoch 2, batch 2600] loss: 0.000\n",
            "[epoch 2, batch 2800] loss: 0.000\n",
            "[epoch 2, batch 3000] loss: 0.000\n",
            "[epoch 2, batch 3200] loss: 0.000\n",
            "[epoch 2, batch 3400] loss: 0.000\n",
            "[epoch 2, batch 3600] loss: 0.000\n",
            "Starting epoch 3...\n",
            "[epoch 3, batch 200] loss: 0.000\n",
            "[epoch 3, batch 400] loss: 0.000\n",
            "[epoch 3, batch 600] loss: 0.000\n",
            "[epoch 3, batch 800] loss: 0.000\n",
            "[epoch 3, batch 1000] loss: 0.000\n",
            "[epoch 3, batch 1200] loss: 0.000\n",
            "[epoch 3, batch 1400] loss: 0.000\n",
            "[epoch 3, batch 1600] loss: 0.000\n",
            "[epoch 3, batch 1800] loss: 0.000\n",
            "[epoch 3, batch 2000] loss: 0.000\n",
            "[epoch 3, batch 2200] loss: 0.000\n",
            "[epoch 3, batch 2400] loss: 0.000\n",
            "[epoch 3, batch 2600] loss: 0.000\n",
            "[epoch 3, batch 2800] loss: 0.000\n",
            "[epoch 3, batch 3000] loss: 0.000\n",
            "[epoch 3, batch 3200] loss: 0.000\n",
            "[epoch 3, batch 3400] loss: 0.000\n",
            "[epoch 3, batch 3600] loss: 0.000\n",
            "Finished Training.\n",
            "Starting epoch 1...\n",
            "[epoch 1, batch 200] loss: 0.018\n",
            "[epoch 1, batch 400] loss: 0.000\n",
            "[epoch 1, batch 600] loss: 0.000\n",
            "[epoch 1, batch 800] loss: 0.000\n",
            "[epoch 1, batch 1000] loss: 0.000\n",
            "[epoch 1, batch 1200] loss: 0.000\n",
            "[epoch 1, batch 1400] loss: 0.000\n",
            "[epoch 1, batch 1600] loss: 0.000\n",
            "[epoch 1, batch 1800] loss: 0.000\n",
            "[epoch 1, batch 2000] loss: 0.000\n",
            "[epoch 1, batch 2200] loss: 0.000\n",
            "[epoch 1, batch 2400] loss: 0.000\n",
            "[epoch 1, batch 2600] loss: 0.000\n",
            "[epoch 1, batch 2800] loss: 0.000\n",
            "[epoch 1, batch 3000] loss: 0.000\n",
            "[epoch 1, batch 3200] loss: 0.000\n",
            "[epoch 1, batch 3400] loss: 0.000\n",
            "[epoch 1, batch 3600] loss: 0.000\n",
            "Starting epoch 2...\n",
            "[epoch 2, batch 200] loss: 0.000\n",
            "[epoch 2, batch 400] loss: 0.000\n",
            "[epoch 2, batch 600] loss: 0.000\n",
            "[epoch 2, batch 800] loss: 0.000\n",
            "[epoch 2, batch 1000] loss: 0.000\n",
            "[epoch 2, batch 1200] loss: 0.000\n",
            "[epoch 2, batch 1400] loss: 0.000\n",
            "[epoch 2, batch 1600] loss: 0.000\n",
            "[epoch 2, batch 1800] loss: 0.000\n",
            "[epoch 2, batch 2000] loss: 0.000\n",
            "[epoch 2, batch 2200] loss: 0.000\n",
            "[epoch 2, batch 2400] loss: 0.000\n",
            "[epoch 2, batch 2600] loss: 0.000\n",
            "[epoch 2, batch 2800] loss: 0.000\n",
            "[epoch 2, batch 3000] loss: 0.000\n",
            "[epoch 2, batch 3200] loss: 0.000\n",
            "[epoch 2, batch 3400] loss: 0.000\n",
            "[epoch 2, batch 3600] loss: 0.000\n",
            "Starting epoch 3...\n",
            "[epoch 3, batch 200] loss: 0.000\n",
            "[epoch 3, batch 400] loss: 0.000\n",
            "[epoch 3, batch 600] loss: 0.000\n",
            "[epoch 3, batch 800] loss: 0.000\n",
            "[epoch 3, batch 1000] loss: 0.000\n",
            "[epoch 3, batch 1200] loss: 0.000\n",
            "[epoch 3, batch 1400] loss: 0.000\n",
            "[epoch 3, batch 1600] loss: 0.000\n",
            "[epoch 3, batch 1800] loss: 0.000\n",
            "[epoch 3, batch 2000] loss: 0.000\n",
            "[epoch 3, batch 2200] loss: 0.000\n",
            "[epoch 3, batch 2400] loss: 0.000\n",
            "[epoch 3, batch 2600] loss: 0.000\n",
            "[epoch 3, batch 2800] loss: 0.000\n",
            "[epoch 3, batch 3000] loss: 0.000\n",
            "[epoch 3, batch 3200] loss: 0.000\n",
            "[epoch 3, batch 3400] loss: 0.000\n",
            "[epoch 3, batch 3600] loss: 0.000\n",
            "Finished Training.\n",
            "Starting epoch 1...\n",
            "[epoch 1, batch 200] loss: 0.192\n",
            "[epoch 1, batch 400] loss: 0.045\n",
            "[epoch 1, batch 600] loss: 0.002\n",
            "[epoch 1, batch 800] loss: 0.000\n",
            "[epoch 1, batch 1000] loss: 0.000\n",
            "[epoch 1, batch 1200] loss: 0.000\n",
            "[epoch 1, batch 1400] loss: 0.000\n",
            "[epoch 1, batch 1600] loss: 0.000\n",
            "[epoch 1, batch 1800] loss: 0.000\n",
            "[epoch 1, batch 2000] loss: 0.000\n",
            "[epoch 1, batch 2200] loss: 0.000\n",
            "[epoch 1, batch 2400] loss: 0.000\n",
            "[epoch 1, batch 2600] loss: 0.000\n",
            "[epoch 1, batch 2800] loss: 0.000\n",
            "[epoch 1, batch 3000] loss: 0.000\n",
            "[epoch 1, batch 3200] loss: 0.000\n",
            "[epoch 1, batch 3400] loss: 0.000\n",
            "[epoch 1, batch 3600] loss: 0.000\n",
            "Starting epoch 2...\n",
            "[epoch 2, batch 200] loss: 0.000\n",
            "[epoch 2, batch 400] loss: 0.000\n",
            "[epoch 2, batch 600] loss: 0.000\n",
            "[epoch 2, batch 800] loss: 0.000\n",
            "[epoch 2, batch 1000] loss: 0.000\n",
            "[epoch 2, batch 1200] loss: 0.000\n",
            "[epoch 2, batch 1400] loss: 0.000\n",
            "[epoch 2, batch 1600] loss: 0.000\n",
            "[epoch 2, batch 1800] loss: 0.000\n",
            "[epoch 2, batch 2000] loss: 0.000\n",
            "[epoch 2, batch 2200] loss: 0.000\n",
            "[epoch 2, batch 2400] loss: 0.000\n",
            "[epoch 2, batch 2600] loss: 0.000\n",
            "[epoch 2, batch 2800] loss: 0.000\n",
            "[epoch 2, batch 3000] loss: 0.000\n",
            "[epoch 2, batch 3200] loss: 0.000\n",
            "[epoch 2, batch 3400] loss: 0.000\n",
            "[epoch 2, batch 3600] loss: 0.000\n",
            "Starting epoch 3...\n",
            "[epoch 3, batch 200] loss: 0.000\n",
            "[epoch 3, batch 400] loss: 0.000\n",
            "[epoch 3, batch 600] loss: 0.000\n",
            "[epoch 3, batch 800] loss: 0.000\n",
            "[epoch 3, batch 1000] loss: 0.000\n",
            "[epoch 3, batch 1200] loss: 0.000\n",
            "[epoch 3, batch 1400] loss: 0.000\n",
            "[epoch 3, batch 1600] loss: 0.000\n",
            "[epoch 3, batch 1800] loss: 0.000\n",
            "[epoch 3, batch 2000] loss: 0.000\n",
            "[epoch 3, batch 2200] loss: 0.000\n",
            "[epoch 3, batch 2400] loss: 0.000\n",
            "[epoch 3, batch 2600] loss: 0.000\n",
            "[epoch 3, batch 2800] loss: 0.000\n",
            "[epoch 3, batch 3000] loss: 0.000\n",
            "[epoch 3, batch 3200] loss: 0.000\n",
            "[epoch 3, batch 3400] loss: 0.000\n",
            "[epoch 3, batch 3600] loss: 0.000\n",
            "Finished Training.\n"
          ]
        }
      ]
    },
    {
      "cell_type": "code",
      "source": [
        "y0 = np.array([0.5, 0])\n",
        "delta_t = 0.1\n",
        "tstar = 0.1\n",
        "max_t_prediction = 20\n",
        "\n",
        "validation_dac = predict_dac(dac_model, y0, tstar, max_t_prediction)\n",
        "validation_nas_3_dac = predict_dac(mlpnas_best_model_3_layer_dac, y0, tstar, max_t_prediction)\n",
        "validation_nas_5_dac = predict_dac(mlpnas_best_model_5_layer_dac, y0, tstar, max_t_prediction)\n",
        "#validation_dac = predict_dac(dac_model, y0, tstar, max_t_prediction)\n",
        "\n",
        "times = np.arange(0, max_t_prediction, delta_t)\n",
        "true_solution = [solution_simple_ODE(t, y0) for t in times]\n",
        "\n",
        "fig, ax = generate_figure(figsize=(8,8), xlim=[-1, 1], ylim=[-1, 1])\n",
        "\n",
        "ax = plot_ode_solution(ax, validation_dac, label=\"dac approach\")\n",
        "ax = plot_ode_solution(ax, validation_nas_3_dac, label=\"nas 3 layers dac\")\n",
        "ax = plot_ode_solution(ax, validation_nas_5_dac, label=\"nas 5 layers dac\")\n",
        "ax = plot_ode_solution(ax, true_solution, label=\"true solution\")\n",
        "\n",
        "plt.legend()\n",
        "plt.savefig(\"proof_of_concept.pdf\", bbox_inches=\"tight\")\n",
        "plt.show()"
      ],
      "metadata": {
        "colab": {
          "base_uri": "https://localhost:8080/",
          "height": 487
        },
        "id": "Yb7WnEHg20RC",
        "outputId": "ed4c28cf-b735-4242-cc0a-2418244eafe8"
      },
      "id": "Yb7WnEHg20RC",
      "execution_count": 140,
      "outputs": [
        {
          "output_type": "display_data",
          "data": {
            "text/plain": [
              "<Figure size 576x576 with 1 Axes>"
            ],
            "image/png": "[encoded data removed]"
          },
          "metadata": {
            "needs_background": "light"
          }
        }
      ]
    },
    {
      "cell_type": "code",
      "source": [
        "print(\"nas REINFORCE 3 layer euclidean distance: \",compute_euclidean_distance(true_solution,validation_nas_3_dac))\n",
        "print(\"nas REINFORCE 5 layer euclidean distance: \",compute_euclidean_distance(true_solution,validation_nas_5_dac))\n",
        "print(\"DAC approach euclidean distance: \",compute_euclidean_distance(true_solution,validation_dac))"
      ],
      "metadata": {
        "colab": {
          "base_uri": "https://localhost:8080/"
        },
        "id": "XOZDpu4W28sm",
        "outputId": "c3863ac9-cb70-4fd5-ec50-3c5c650a4786"
      },
      "id": "XOZDpu4W28sm",
      "execution_count": 141,
      "outputs": [
        {
          "output_type": "stream",
          "name": "stdout",
          "text": [
            "nas REINFORCE 3 layer euclidean distance:  116.00354476127225\n",
            "nas REINFORCE 3 layer euclidean distance:  97.15994681051136\n",
            "DAC approach euclidean distance:  98.09656461583111\n"
          ]
        }
      ]
    },
    {
      "cell_type": "code",
      "source": [
        "#train with more epoch\n",
        "mlpnas_best_model_3_layer_dac = mlpnas_reinforce_3_layers.model_generator.create_model(encoded_sequence,2)\n",
        "#mlpnas_best_model_3_layer_dac\n",
        "mlpnas_best_model_5_layer_dac = mlpnas_reinforce_5_layers.model_generator.create_model(encoded_sequence,2)\n",
        "dac_model = MLP_DAC()\n",
        "train(mlpnas_best_model_3_layer_dac, train_dataloader_dac, 5)\n",
        "train(mlpnas_best_model_5_layer_dac, train_dataloader_dac, 5)\n",
        "train(dac_model, train_dataloader_dac, 5)"
      ],
      "metadata": {
        "colab": {
          "base_uri": "https://localhost:8080/"
        },
        "id": "gkq8HfFi5AaC",
        "outputId": "b716c8b2-373c-4f6f-d591-afe11a81cda1"
      },
      "id": "gkq8HfFi5AaC",
      "execution_count": 142,
      "outputs": [
        {
          "output_type": "stream",
          "name": "stdout",
          "text": [
            "Starting epoch 1...\n",
            "[epoch 1, batch 200] loss: 0.017\n",
            "[epoch 1, batch 400] loss: 0.000\n",
            "[epoch 1, batch 600] loss: 0.000\n",
            "[epoch 1, batch 800] loss: 0.000\n",
            "[epoch 1, batch 1000] loss: 0.000\n",
            "[epoch 1, batch 1200] loss: 0.000\n",
            "[epoch 1, batch 1400] loss: 0.000\n",
            "[epoch 1, batch 1600] loss: 0.000\n",
            "[epoch 1, batch 1800] loss: 0.000\n",
            "[epoch 1, batch 2000] loss: 0.000\n",
            "[epoch 1, batch 2200] loss: 0.000\n",
            "[epoch 1, batch 2400] loss: 0.000\n",
            "[epoch 1, batch 2600] loss: 0.000\n",
            "[epoch 1, batch 2800] loss: 0.000\n",
            "[epoch 1, batch 3000] loss: 0.000\n",
            "[epoch 1, batch 3200] loss: 0.000\n",
            "[epoch 1, batch 3400] loss: 0.000\n",
            "[epoch 1, batch 3600] loss: 0.000\n",
            "Starting epoch 2...\n",
            "[epoch 2, batch 200] loss: 0.000\n",
            "[epoch 2, batch 400] loss: 0.000\n",
            "[epoch 2, batch 600] loss: 0.000\n",
            "[epoch 2, batch 800] loss: 0.000\n",
            "[epoch 2, batch 1000] loss: 0.000\n",
            "[epoch 2, batch 1200] loss: 0.000\n",
            "[epoch 2, batch 1400] loss: 0.000\n",
            "[epoch 2, batch 1600] loss: 0.000\n",
            "[epoch 2, batch 1800] loss: 0.000\n",
            "[epoch 2, batch 2000] loss: 0.000\n",
            "[epoch 2, batch 2200] loss: 0.000\n",
            "[epoch 2, batch 2400] loss: 0.000\n",
            "[epoch 2, batch 2600] loss: 0.000\n",
            "[epoch 2, batch 2800] loss: 0.000\n",
            "[epoch 2, batch 3000] loss: 0.000\n",
            "[epoch 2, batch 3200] loss: 0.000\n",
            "[epoch 2, batch 3400] loss: 0.000\n",
            "[epoch 2, batch 3600] loss: 0.000\n",
            "Starting epoch 3...\n",
            "[epoch 3, batch 200] loss: 0.000\n",
            "[epoch 3, batch 400] loss: 0.000\n",
            "[epoch 3, batch 600] loss: 0.000\n",
            "[epoch 3, batch 800] loss: 0.000\n",
            "[epoch 3, batch 1000] loss: 0.000\n",
            "[epoch 3, batch 1200] loss: 0.000\n",
            "[epoch 3, batch 1400] loss: 0.000\n",
            "[epoch 3, batch 1600] loss: 0.000\n",
            "[epoch 3, batch 1800] loss: 0.000\n",
            "[epoch 3, batch 2000] loss: 0.000\n",
            "[epoch 3, batch 2200] loss: 0.000\n",
            "[epoch 3, batch 2400] loss: 0.000\n",
            "[epoch 3, batch 2600] loss: 0.000\n",
            "[epoch 3, batch 2800] loss: 0.000\n",
            "[epoch 3, batch 3000] loss: 0.000\n",
            "[epoch 3, batch 3200] loss: 0.000\n",
            "[epoch 3, batch 3400] loss: 0.000\n",
            "[epoch 3, batch 3600] loss: 0.000\n",
            "Starting epoch 4...\n",
            "[epoch 4, batch 200] loss: 0.000\n",
            "[epoch 4, batch 400] loss: 0.000\n",
            "[epoch 4, batch 600] loss: 0.000\n",
            "[epoch 4, batch 800] loss: 0.000\n",
            "[epoch 4, batch 1000] loss: 0.000\n",
            "[epoch 4, batch 1200] loss: 0.000\n",
            "[epoch 4, batch 1400] loss: 0.000\n",
            "[epoch 4, batch 1600] loss: 0.000\n",
            "[epoch 4, batch 1800] loss: 0.000\n",
            "[epoch 4, batch 2000] loss: 0.000\n",
            "[epoch 4, batch 2200] loss: 0.000\n",
            "[epoch 4, batch 2400] loss: 0.000\n",
            "[epoch 4, batch 2600] loss: 0.000\n",
            "[epoch 4, batch 2800] loss: 0.000\n",
            "[epoch 4, batch 3000] loss: 0.000\n",
            "[epoch 4, batch 3200] loss: 0.000\n",
            "[epoch 4, batch 3400] loss: 0.000\n",
            "[epoch 4, batch 3600] loss: 0.000\n",
            "Starting epoch 5...\n",
            "[epoch 5, batch 200] loss: 0.000\n",
            "[epoch 5, batch 400] loss: 0.000\n",
            "[epoch 5, batch 600] loss: 0.000\n",
            "[epoch 5, batch 800] loss: 0.000\n",
            "[epoch 5, batch 1000] loss: 0.000\n",
            "[epoch 5, batch 1200] loss: 0.000\n",
            "[epoch 5, batch 1400] loss: 0.000\n",
            "[epoch 5, batch 1600] loss: 0.000\n",
            "[epoch 5, batch 1800] loss: 0.000\n",
            "[epoch 5, batch 2000] loss: 0.000\n",
            "[epoch 5, batch 2200] loss: 0.000\n",
            "[epoch 5, batch 2400] loss: 0.000\n",
            "[epoch 5, batch 2600] loss: 0.000\n",
            "[epoch 5, batch 2800] loss: 0.000\n",
            "[epoch 5, batch 3000] loss: 0.000\n",
            "[epoch 5, batch 3200] loss: 0.000\n",
            "[epoch 5, batch 3400] loss: 0.000\n",
            "[epoch 5, batch 3600] loss: 0.000\n",
            "Finished Training.\n",
            "Starting epoch 1...\n",
            "[epoch 1, batch 200] loss: 0.015\n",
            "[epoch 1, batch 400] loss: 0.000\n",
            "[epoch 1, batch 600] loss: 0.000\n",
            "[epoch 1, batch 800] loss: 0.000\n",
            "[epoch 1, batch 1000] loss: 0.000\n",
            "[epoch 1, batch 1200] loss: 0.000\n",
            "[epoch 1, batch 1400] loss: 0.000\n",
            "[epoch 1, batch 1600] loss: 0.000\n",
            "[epoch 1, batch 1800] loss: 0.000\n",
            "[epoch 1, batch 2000] loss: 0.000\n",
            "[epoch 1, batch 2200] loss: 0.000\n",
            "[epoch 1, batch 2400] loss: 0.000\n",
            "[epoch 1, batch 2600] loss: 0.000\n",
            "[epoch 1, batch 2800] loss: 0.000\n",
            "[epoch 1, batch 3000] loss: 0.000\n",
            "[epoch 1, batch 3200] loss: 0.000\n",
            "[epoch 1, batch 3400] loss: 0.000\n",
            "[epoch 1, batch 3600] loss: 0.000\n",
            "Starting epoch 2...\n",
            "[epoch 2, batch 200] loss: 0.000\n",
            "[epoch 2, batch 400] loss: 0.000\n",
            "[epoch 2, batch 600] loss: 0.000\n",
            "[epoch 2, batch 800] loss: 0.000\n",
            "[epoch 2, batch 1000] loss: 0.000\n",
            "[epoch 2, batch 1200] loss: 0.000\n",
            "[epoch 2, batch 1400] loss: 0.000\n",
            "[epoch 2, batch 1600] loss: 0.000\n",
            "[epoch 2, batch 1800] loss: 0.000\n",
            "[epoch 2, batch 2000] loss: 0.000\n",
            "[epoch 2, batch 2200] loss: 0.000\n",
            "[epoch 2, batch 2400] loss: 0.000\n",
            "[epoch 2, batch 2600] loss: 0.000\n",
            "[epoch 2, batch 2800] loss: 0.000\n",
            "[epoch 2, batch 3000] loss: 0.000\n",
            "[epoch 2, batch 3200] loss: 0.000\n",
            "[epoch 2, batch 3400] loss: 0.000\n",
            "[epoch 2, batch 3600] loss: 0.000\n",
            "Starting epoch 3...\n",
            "[epoch 3, batch 200] loss: 0.000\n",
            "[epoch 3, batch 400] loss: 0.000\n",
            "[epoch 3, batch 600] loss: 0.000\n",
            "[epoch 3, batch 800] loss: 0.000\n",
            "[epoch 3, batch 1000] loss: 0.000\n",
            "[epoch 3, batch 1200] loss: 0.000\n",
            "[epoch 3, batch 1400] loss: 0.000\n",
            "[epoch 3, batch 1600] loss: 0.000\n",
            "[epoch 3, batch 1800] loss: 0.000\n",
            "[epoch 3, batch 2000] loss: 0.000\n",
            "[epoch 3, batch 2200] loss: 0.000\n",
            "[epoch 3, batch 2400] loss: 0.000\n",
            "[epoch 3, batch 2600] loss: 0.000\n",
            "[epoch 3, batch 2800] loss: 0.000\n",
            "[epoch 3, batch 3000] loss: 0.000\n",
            "[epoch 3, batch 3200] loss: 0.000\n",
            "[epoch 3, batch 3400] loss: 0.000\n",
            "[epoch 3, batch 3600] loss: 0.000\n",
            "Starting epoch 4...\n",
            "[epoch 4, batch 200] loss: 0.000\n",
            "[epoch 4, batch 400] loss: 0.000\n",
            "[epoch 4, batch 600] loss: 0.000\n",
            "[epoch 4, batch 800] loss: 0.000\n",
            "[epoch 4, batch 1000] loss: 0.000\n",
            "[epoch 4, batch 1200] loss: 0.000\n",
            "[epoch 4, batch 1400] loss: 0.000\n",
            "[epoch 4, batch 1600] loss: 0.000\n",
            "[epoch 4, batch 1800] loss: 0.000\n",
            "[epoch 4, batch 2000] loss: 0.000\n",
            "[epoch 4, batch 2200] loss: 0.000\n",
            "[epoch 4, batch 2400] loss: 0.000\n",
            "[epoch 4, batch 2600] loss: 0.000\n",
            "[epoch 4, batch 2800] loss: 0.000\n",
            "[epoch 4, batch 3000] loss: 0.000\n",
            "[epoch 4, batch 3200] loss: 0.000\n",
            "[epoch 4, batch 3400] loss: 0.000\n",
            "[epoch 4, batch 3600] loss: 0.000\n",
            "Starting epoch 5...\n",
            "[epoch 5, batch 200] loss: 0.000\n",
            "[epoch 5, batch 400] loss: 0.000\n",
            "[epoch 5, batch 600] loss: 0.000\n",
            "[epoch 5, batch 800] loss: 0.000\n",
            "[epoch 5, batch 1000] loss: 0.000\n",
            "[epoch 5, batch 1200] loss: 0.000\n",
            "[epoch 5, batch 1400] loss: 0.000\n",
            "[epoch 5, batch 1600] loss: 0.000\n",
            "[epoch 5, batch 1800] loss: 0.000\n",
            "[epoch 5, batch 2000] loss: 0.000\n",
            "[epoch 5, batch 2200] loss: 0.000\n",
            "[epoch 5, batch 2400] loss: 0.000\n",
            "[epoch 5, batch 2600] loss: 0.000\n",
            "[epoch 5, batch 2800] loss: 0.000\n",
            "[epoch 5, batch 3000] loss: 0.000\n",
            "[epoch 5, batch 3200] loss: 0.000\n",
            "[epoch 5, batch 3400] loss: 0.000\n",
            "[epoch 5, batch 3600] loss: 0.000\n",
            "Finished Training.\n",
            "Starting epoch 1...\n",
            "[epoch 1, batch 200] loss: 0.181\n",
            "[epoch 1, batch 400] loss: 0.029\n",
            "[epoch 1, batch 600] loss: 0.002\n",
            "[epoch 1, batch 800] loss: 0.001\n",
            "[epoch 1, batch 1000] loss: 0.001\n",
            "[epoch 1, batch 1200] loss: 0.000\n",
            "[epoch 1, batch 1400] loss: 0.000\n",
            "[epoch 1, batch 1600] loss: 0.000\n",
            "[epoch 1, batch 1800] loss: 0.000\n",
            "[epoch 1, batch 2000] loss: 0.000\n",
            "[epoch 1, batch 2200] loss: 0.000\n",
            "[epoch 1, batch 2400] loss: 0.000\n",
            "[epoch 1, batch 2600] loss: 0.000\n",
            "[epoch 1, batch 2800] loss: 0.000\n",
            "[epoch 1, batch 3000] loss: 0.000\n",
            "[epoch 1, batch 3200] loss: 0.000\n",
            "[epoch 1, batch 3400] loss: 0.000\n",
            "[epoch 1, batch 3600] loss: 0.000\n",
            "Starting epoch 2...\n",
            "[epoch 2, batch 200] loss: 0.000\n",
            "[epoch 2, batch 400] loss: 0.000\n",
            "[epoch 2, batch 600] loss: 0.000\n",
            "[epoch 2, batch 800] loss: 0.000\n",
            "[epoch 2, batch 1000] loss: 0.000\n",
            "[epoch 2, batch 1200] loss: 0.000\n",
            "[epoch 2, batch 1400] loss: 0.000\n",
            "[epoch 2, batch 1600] loss: 0.000\n",
            "[epoch 2, batch 1800] loss: 0.000\n",
            "[epoch 2, batch 2000] loss: 0.000\n",
            "[epoch 2, batch 2200] loss: 0.000\n",
            "[epoch 2, batch 2400] loss: 0.000\n",
            "[epoch 2, batch 2600] loss: 0.000\n",
            "[epoch 2, batch 2800] loss: 0.000\n",
            "[epoch 2, batch 3000] loss: 0.000\n",
            "[epoch 2, batch 3200] loss: 0.000\n",
            "[epoch 2, batch 3400] loss: 0.000\n",
            "[epoch 2, batch 3600] loss: 0.000\n",
            "Starting epoch 3...\n",
            "[epoch 3, batch 200] loss: 0.000\n",
            "[epoch 3, batch 400] loss: 0.000\n",
            "[epoch 3, batch 600] loss: 0.000\n",
            "[epoch 3, batch 800] loss: 0.000\n",
            "[epoch 3, batch 1000] loss: 0.000\n",
            "[epoch 3, batch 1200] loss: 0.000\n",
            "[epoch 3, batch 1400] loss: 0.000\n",
            "[epoch 3, batch 1600] loss: 0.000\n",
            "[epoch 3, batch 1800] loss: 0.000\n",
            "[epoch 3, batch 2000] loss: 0.000\n",
            "[epoch 3, batch 2200] loss: 0.000\n",
            "[epoch 3, batch 2400] loss: 0.000\n",
            "[epoch 3, batch 2600] loss: 0.000\n",
            "[epoch 3, batch 2800] loss: 0.000\n",
            "[epoch 3, batch 3000] loss: 0.000\n",
            "[epoch 3, batch 3200] loss: 0.000\n",
            "[epoch 3, batch 3400] loss: 0.000\n",
            "[epoch 3, batch 3600] loss: 0.000\n",
            "Starting epoch 4...\n",
            "[epoch 4, batch 200] loss: 0.000\n",
            "[epoch 4, batch 400] loss: 0.000\n",
            "[epoch 4, batch 600] loss: 0.000\n",
            "[epoch 4, batch 800] loss: 0.000\n",
            "[epoch 4, batch 1000] loss: 0.000\n",
            "[epoch 4, batch 1200] loss: 0.000\n",
            "[epoch 4, batch 1400] loss: 0.000\n",
            "[epoch 4, batch 1600] loss: 0.000\n",
            "[epoch 4, batch 1800] loss: 0.000\n",
            "[epoch 4, batch 2000] loss: 0.000\n",
            "[epoch 4, batch 2200] loss: 0.000\n",
            "[epoch 4, batch 2400] loss: 0.000\n",
            "[epoch 4, batch 2600] loss: 0.000\n",
            "[epoch 4, batch 2800] loss: 0.000\n",
            "[epoch 4, batch 3000] loss: 0.000\n",
            "[epoch 4, batch 3200] loss: 0.000\n",
            "[epoch 4, batch 3400] loss: 0.000\n",
            "[epoch 4, batch 3600] loss: 0.000\n",
            "Starting epoch 5...\n",
            "[epoch 5, batch 200] loss: 0.000\n",
            "[epoch 5, batch 400] loss: 0.000\n",
            "[epoch 5, batch 600] loss: 0.000\n",
            "[epoch 5, batch 800] loss: 0.000\n",
            "[epoch 5, batch 1000] loss: 0.000\n",
            "[epoch 5, batch 1200] loss: 0.000\n",
            "[epoch 5, batch 1400] loss: 0.000\n",
            "[epoch 5, batch 1600] loss: 0.000\n",
            "[epoch 5, batch 1800] loss: 0.000\n",
            "[epoch 5, batch 2000] loss: 0.000\n",
            "[epoch 5, batch 2200] loss: 0.000\n",
            "[epoch 5, batch 2400] loss: 0.000\n",
            "[epoch 5, batch 2600] loss: 0.000\n",
            "[epoch 5, batch 2800] loss: 0.000\n",
            "[epoch 5, batch 3000] loss: 0.000\n",
            "[epoch 5, batch 3200] loss: 0.000\n",
            "[epoch 5, batch 3400] loss: 0.000\n",
            "[epoch 5, batch 3600] loss: 0.000\n",
            "Finished Training.\n"
          ]
        }
      ]
    },
    {
      "cell_type": "code",
      "source": [
        "y0 = np.array([0.5, 0])\n",
        "delta_t = 0.1\n",
        "tstar = 0.1\n",
        "max_t_prediction = 20\n",
        "\n",
        "validation_dac = predict_dac(dac_model, y0, tstar, max_t_prediction)\n",
        "validation_nas_3_dac = predict_dac(mlpnas_best_model_3_layer_dac, y0, tstar, max_t_prediction)\n",
        "validation_nas_5_dac = predict_dac(mlpnas_best_model_5_layer_dac, y0, tstar, max_t_prediction)\n",
        "#validation_dac = predict_dac(dac_model, y0, tstar, max_t_prediction)\n",
        "\n",
        "times = np.arange(0, max_t_prediction, delta_t)\n",
        "true_solution = [solution_simple_ODE(t, y0) for t in times]\n",
        "\n",
        "fig, ax = generate_figure(figsize=(8,8), xlim=[-1, 1], ylim=[-1, 1])\n",
        "\n",
        "ax = plot_ode_solution(ax, validation_dac, label=\"dac approach\")\n",
        "ax = plot_ode_solution(ax, validation_nas_3_dac, label=\"nas 3 layers dac\")\n",
        "ax = plot_ode_solution(ax, validation_nas_5_dac, label=\"nas 5 layers dac\")\n",
        "ax = plot_ode_solution(ax, true_solution, label=\"true solution\")\n",
        "\n",
        "plt.legend()\n",
        "plt.savefig(\"proof_of_concept.pdf\", bbox_inches=\"tight\")\n",
        "plt.show()"
      ],
      "metadata": {
        "colab": {
          "base_uri": "https://localhost:8080/",
          "height": 487
        },
        "id": "MRTwtwau5IFd",
        "outputId": "833f0765-ca01-40a9-8909-a54ff73e1710"
      },
      "id": "MRTwtwau5IFd",
      "execution_count": 143,
      "outputs": [
        {
          "output_type": "display_data",
          "data": {
            "text/plain": [
              "<Figure size 576x576 with 1 Axes>"
            ],
            "image/png": "[encoded data removed]"
          },
          "metadata": {
            "needs_background": "light"
          }
        }
      ]
    },
    {
      "cell_type": "code",
      "source": [
        "print(\"nas REINFORCE 3 layer euclidean distance: \",compute_euclidean_distance(true_solution,validation_nas_3_dac))\n",
        "print(\"nas REINFORCE 3 layer euclidean distance: \",compute_euclidean_distance(true_solution,validation_nas_5_dac))\n",
        "print(\"DAC approach euclidean distance: \",compute_euclidean_distance(true_solution,validation_dac))"
      ],
      "metadata": {
        "colab": {
          "base_uri": "https://localhost:8080/"
        },
        "id": "ahiN5T005IoD",
        "outputId": "b247ed88-97b0-4ec0-fd4d-b20435b065d4"
      },
      "id": "ahiN5T005IoD",
      "execution_count": 144,
      "outputs": [
        {
          "output_type": "stream",
          "name": "stdout",
          "text": [
            "nas REINFORCE 3 layer euclidean distance:  136.91923915508926\n",
            "nas REINFORCE 3 layer euclidean distance:  115.7078102811512\n",
            "DAC approach euclidean distance:  107.31335300287824\n"
          ]
        }
      ]
    },
    {
      "cell_type": "markdown",
      "source": [
        "# Separate NAS experiments for DAC approach"
      ],
      "metadata": {
        "id": "xp9DwSxS_8dD"
      },
      "id": "xp9DwSxS_8dD"
    },
    {
      "cell_type": "code",
      "source": [
        "dac_mlpnas_reinforce_2_layers = MLPNAS(max_architecture_length = 2)\n",
        "dac_data_2_layers = dac_mlpnas_reinforce_2_layers.search(2,train_dataloader_dac,REINFORCE=True)"
      ],
      "metadata": {
        "colab": {
          "base_uri": "https://localhost:8080/"
        },
        "id": "yqkWrjJ9AdDf",
        "outputId": "312798ea-1758-4535-d254-f5f9ecefc6b8"
      },
      "id": "yqkWrjJ9AdDf",
      "execution_count": 156,
      "outputs": [
        {
          "output_type": "stream",
          "name": "stdout",
          "text": [
            "Generate Architecture Samples...\n",
            "--------------------------------\n",
            "Evaluating architectures in controller_sampling_epoch:  0\n",
            "  training architecture:  0\n",
            "  training architecture:  1\n",
            "  training architecture:  2\n",
            "  training architecture:  3\n",
            "  training architecture:  4\n",
            "  training architecture:  5\n",
            "  training architecture:  6\n",
            "  training architecture:  7\n",
            "  training architecture:  8\n",
            "  training architecture:  9\n",
            "Training Controller...\n",
            "Training Controller Model in epoch:  0\n",
            "Training Controller Model in epoch:  1\n",
            "Training Controller Model in epoch:  2\n",
            "Generate Architecture Samples...\n",
            "--------------------------------\n",
            "Evaluating architectures in controller_sampling_epoch:  1\n",
            "  training architecture:  0\n",
            "  training architecture:  1\n",
            "  training architecture:  2\n",
            "  training architecture:  3\n",
            "  training architecture:  4\n",
            "  training architecture:  5\n",
            "  training architecture:  6\n",
            "  training architecture:  7\n",
            "  training architecture:  8\n",
            "  training architecture:  9\n",
            "Training Controller...\n",
            "Training Controller Model in epoch:  0\n",
            "Training Controller Model in epoch:  1\n",
            "Training Controller Model in epoch:  2\n",
            "Generate Architecture Samples...\n",
            "--------------------------------\n",
            "Evaluating architectures in controller_sampling_epoch:  2\n",
            "  training architecture:  0\n",
            "  training architecture:  1\n",
            "  training architecture:  2\n",
            "  training architecture:  3\n",
            "  training architecture:  4\n",
            "  training architecture:  5\n",
            "  training architecture:  6\n",
            "  training architecture:  7\n",
            "  training architecture:  8\n",
            "  training architecture:  9\n"
          ]
        }
      ]
    },
    {
      "cell_type": "code",
      "source": [
        "dac_data_2_layers"
      ],
      "metadata": {
        "colab": {
          "base_uri": "https://localhost:8080/"
        },
        "id": "hFsXyk8wG14w",
        "outputId": "ef0ad313-fc98-4011-c9cb-866cef4377fd"
      },
      "id": "hFsXyk8wG14w",
      "execution_count": 157,
      "outputs": [
        {
          "output_type": "execute_result",
          "data": {
            "text/plain": [
              "[[[(256, 'elu'), (128, 'tanh')], 4.442688869226913],\n",
              " [[(256, 'relu'), (16, 'relu')], 17.165647318599895],\n",
              " [[(16, 'tanh'), (16, 'tanh')], 81.096304804174],\n",
              " [[(1024, 'tanh'), (512, 'elu')], 1.5486917788248036],\n",
              " [[(512, 'relu'), (1024, 'tanh')], 1.3160453287637779],\n",
              " [[(8, 'tanh'), (128, 'relu')], 54.704112643477856],\n",
              " [[(16, 'elu'), (16, 'elu')], 109.36557800650189],\n",
              " [[(8, 'elu'), (8, 'tanh')], 307.67000257538166],\n",
              " [[(64, 'relu'), (8, 'elu')], 90.74250568296702],\n",
              " [[(64, 'elu'), (64, 'relu')], 16.705154576204222],\n",
              " [[(1024, 'relu'), (16, 'elu')], 5.412687841001798],\n",
              " [[(16, 'relu'), (8, 'relu')], 304.23591638565995],\n",
              " [[(32, 'tanh'), (128, 'elu')], 13.521228280915238],\n",
              " [[(128, 'elu'), (128, 'tanh')], 4.880534216066735],\n",
              " [[(512, 'tanh'), (1024, 'relu')], 0.9892724314866541],\n",
              " [[(32, 'elu'), (128, 'relu')], 17.832929291867913],\n",
              " [[(64, 'elu'), (8, 'elu')], 78.70698342795367],\n",
              " [[(128, 'tanh'), (32, 'tanh')], 13.78391338630172],\n",
              " [[(1024, 'tanh'), (512, 'relu')], 1.2501352979298872],\n",
              " [[(32, 'relu'), (32, 'relu')], 51.525809214261244],\n",
              " [[(128, 'tanh'), (64, 'elu')], 7.388065517778159],\n",
              " [[(16, 'relu'), (512, 'elu')], 12.56346156854488],\n",
              " [[(32, 'elu'), (64, 'tanh')], 28.744597152704955],\n",
              " [[(32, 'tanh'), (1024, 'elu')], 3.8242842580257275],\n",
              " [[(32, 'relu'), (256, 'relu')], 20.80180866002229],\n",
              " [[(128, 'tanh'), (128, 'elu')], 5.135926198061497],\n",
              " [[(64, 'tanh'), (32, 'elu')], 36.440309676370816],\n",
              " [[(512, 'relu'), (16, 'relu')], 8.733708235898803],\n",
              " [[(16, 'relu'), (128, 'tanh')], 41.754182830278296],\n",
              " [[(256, 'tanh'), (32, 'tanh')], 10.127354105141421]]"
            ]
          },
          "metadata": {},
          "execution_count": 157
        }
      ]
    },
    {
      "cell_type": "code",
      "source": [
        "dac_mlpnas_reinforce_3_layers = MLPNAS(max_architecture_length = 3)\n",
        "dac_data_3_layers = dac_mlpnas_reinforce_3_layers.search(2,train_dataloader_dac,REINFORCE=True)"
      ],
      "metadata": {
        "colab": {
          "base_uri": "https://localhost:8080/"
        },
        "id": "g3vE9-r8HT4F",
        "outputId": "540c4c74-0aa6-4cab-a38d-4b634db0141e"
      },
      "id": "g3vE9-r8HT4F",
      "execution_count": 158,
      "outputs": [
        {
          "output_type": "stream",
          "name": "stdout",
          "text": [
            "Generate Architecture Samples...\n",
            "--------------------------------\n",
            "Evaluating architectures in controller_sampling_epoch:  0\n",
            "  training architecture:  0\n",
            "  training architecture:  1\n",
            "  training architecture:  2\n",
            "  training architecture:  3\n",
            "  training architecture:  4\n",
            "  training architecture:  5\n",
            "  training architecture:  6\n",
            "  training architecture:  7\n",
            "  training architecture:  8\n",
            "  training architecture:  9\n",
            "Training Controller...\n",
            "Training Controller Model in epoch:  0\n",
            "Training Controller Model in epoch:  1\n",
            "Training Controller Model in epoch:  2\n",
            "Generate Architecture Samples...\n",
            "--------------------------------\n",
            "Evaluating architectures in controller_sampling_epoch:  1\n",
            "  training architecture:  0\n",
            "  training architecture:  1\n",
            "  training architecture:  2\n",
            "  training architecture:  3\n",
            "  training architecture:  4\n",
            "  training architecture:  5\n",
            "  training architecture:  6\n",
            "  training architecture:  7\n",
            "  training architecture:  8\n",
            "  training architecture:  9\n",
            "Training Controller...\n",
            "Training Controller Model in epoch:  0\n",
            "Training Controller Model in epoch:  1\n",
            "Training Controller Model in epoch:  2\n",
            "Generate Architecture Samples...\n",
            "--------------------------------\n",
            "Evaluating architectures in controller_sampling_epoch:  2\n",
            "  training architecture:  0\n",
            "  training architecture:  1\n",
            "  training architecture:  2\n",
            "  training architecture:  3\n",
            "  training architecture:  4\n",
            "  training architecture:  5\n",
            "  training architecture:  6\n",
            "  training architecture:  7\n",
            "  training architecture:  8\n",
            "  training architecture:  9\n"
          ]
        }
      ]
    },
    {
      "cell_type": "code",
      "source": [
        "dac_data_3_layers "
      ],
      "metadata": {
        "colab": {
          "base_uri": "https://localhost:8080/"
        },
        "id": "LcVY8vn3LLUo",
        "outputId": "cc9c2dd6-7d3a-4244-ac7b-bffb0142a98b"
      },
      "id": "LcVY8vn3LLUo",
      "execution_count": 162,
      "outputs": [
        {
          "output_type": "execute_result",
          "data": {
            "text/plain": [
              "[[[(8, 'elu'), (16, 'tanh'), (64, 'relu')], 68.23276567927678],\n",
              " [[(256, 'relu'), (512, 'tanh'), (512, 'tanh')], 1.4743688730544022],\n",
              " [[(128, 'tanh'), (256, 'tanh'), (8, 'tanh')], 9.624785134652484],\n",
              " [[(256, 'elu'), (256, 'relu'), (16, 'relu')], 4.902567106001243],\n",
              " [[(256, 'relu'), (16, 'elu'), (32, 'elu')], 16.99728873399772],\n",
              " [[(128, 'tanh'), (1024, 'relu'), (8, 'relu')], 3.7067501061937946],\n",
              " [[(512, 'elu'), (256, 'tanh'), (8, 'tanh')], 5.548453970631272],\n",
              " [[(8, 'relu'), (1024, 'tanh'), (32, 'elu')], 30.95633492936031],\n",
              " [[(512, 'relu'), (256, 'tanh'), (64, 'tanh')], 2.6084088442009943],\n",
              " [[(16, 'tanh'), (256, 'tanh'), (8, 'elu')], 31.06868634064449],\n",
              " [[(16, 'tanh'), (64, 'elu'), (1024, 'tanh')], 6.945144684004845],\n",
              " [[(32, 'relu'), (16, 'elu'), (128, 'relu')], 37.751500790436694],\n",
              " [[(512, 'tanh'), (32, 'elu'), (1024, 'tanh')], 3.749224063802842],\n",
              " [[(32, 'elu'), (16, 'tanh'), (32, 'elu')], 69.65271024935646],\n",
              " [[(1024, 'relu'), (32, 'tanh'), (8, 'relu')], 9.082431817736051],\n",
              " [[(64, 'relu'), (64, 'tanh'), (32, 'relu')], 25.77820678155149],\n",
              " [[(8, 'tanh'), (512, 'relu'), (1024, 'elu')], 2.549080080938438],\n",
              " [[(32, 'tanh'), (128, 'relu'), (16, 'relu')], 23.187813858443405],\n",
              " [[(128, 'tanh'), (16, 'elu'), (32, 'elu')], 21.4868671818258],\n",
              " [[(1024, 'elu'), (512, 'tanh'), (16, 'tanh')], 1.6580139449657736],\n",
              " [[(512, 'elu'), (512, 'relu'), (32, 'elu')], 1.464546624604509],\n",
              " [[(64, 'elu'), (512, 'elu'), (8, 'elu')], 17.678102982947166],\n",
              " [[(16, 'tanh'), (256, 'tanh'), (32, 'elu')], 14.812364513498324],\n",
              " [[(32, 'elu'), (32, 'elu'), (64, 'relu')], 30.719109774479875],\n",
              " [[(64, 'elu'), (32, 'tanh'), (64, 'elu')], 21.20538977416436],\n",
              " [[(32, 'elu'), (16, 'tanh'), (16, 'relu')], 89.27265674050432],\n",
              " [[(256, 'tanh'), (16, 'tanh'), (1024, 'elu')], 5.8482597356562565],\n",
              " [[(8, 'relu'), (256, 'elu'), (1024, 'relu')], 5.53139908042408],\n",
              " [[(64, 'elu'), (16, 'elu'), (512, 'elu')], 14.225324048180482],\n",
              " [[(256, 'tanh'), (128, 'relu'), (8, 'tanh')], 7.207334428378999]]"
            ]
          },
          "metadata": {},
          "execution_count": 162
        }
      ]
    },
    {
      "cell_type": "code",
      "source": [
        "encoded_sequence = dac_mlpnas_reinforce_2_layers.encode_sequence([(512, 'tanh'), (1024, 'relu')])\n",
        "dac_mlpnas_best_model_2_layer = dac_mlpnas_reinforce_2_layers.model_generator.create_model(encoded_sequence,2)\n",
        "dac_mlpnas_best_model_2_layer"
      ],
      "metadata": {
        "colab": {
          "base_uri": "https://localhost:8080/"
        },
        "id": "p7csytHDKilX",
        "outputId": "7c7b29e5-1f51-4524-90f1-356a15397fa2"
      },
      "id": "p7csytHDKilX",
      "execution_count": 161,
      "outputs": [
        {
          "output_type": "execute_result",
          "data": {
            "text/plain": [
              "Sequential(\n",
              "  (0): Linear(in_features=2, out_features=512, bias=True)\n",
              "  (1): Tanh()\n",
              "  (2): Linear(in_features=512, out_features=1024, bias=True)\n",
              "  (3): Tanh()\n",
              "  (4): Linear(in_features=1024, out_features=2, bias=True)\n",
              ")"
            ]
          },
          "metadata": {},
          "execution_count": 161
        }
      ]
    },
    {
      "cell_type": "code",
      "source": [
        "encoded_sequence = dac_mlpnas_reinforce_3_layers.encode_sequence([(256, 'relu'), (512, 'tanh'), (512, 'tanh')])\n",
        "dac_mlpnas_best_model_3_layer = dac_mlpnas_reinforce_3_layers.model_generator.create_model(encoded_sequence,2)\n",
        "dac_mlpnas_best_model_3_layer"
      ],
      "metadata": {
        "colab": {
          "base_uri": "https://localhost:8080/"
        },
        "id": "Vl2xhQLPLFIR",
        "outputId": "10b31a6b-2564-4bfa-e367-061c606f22fc"
      },
      "id": "Vl2xhQLPLFIR",
      "execution_count": 163,
      "outputs": [
        {
          "output_type": "execute_result",
          "data": {
            "text/plain": [
              "Sequential(\n",
              "  (0): Linear(in_features=2, out_features=256, bias=True)\n",
              "  (1): ReLU()\n",
              "  (2): Linear(in_features=256, out_features=512, bias=True)\n",
              "  (3): Tanh()\n",
              "  (4): Linear(in_features=512, out_features=512, bias=True)\n",
              "  (5): Tanh()\n",
              "  (6): Linear(in_features=512, out_features=2, bias=True)\n",
              ")"
            ]
          },
          "metadata": {},
          "execution_count": 163
        }
      ]
    },
    {
      "cell_type": "code",
      "source": [
        "train(dac_mlpnas_best_model_2_layer, train_dataloader_dac, 3)"
      ],
      "metadata": {
        "colab": {
          "base_uri": "https://localhost:8080/"
        },
        "id": "AV28ojXZLy6u",
        "outputId": "17d801fd-7419-4d26-fa95-51fc28704a20"
      },
      "id": "AV28ojXZLy6u",
      "execution_count": 164,
      "outputs": [
        {
          "output_type": "stream",
          "name": "stdout",
          "text": [
            "Starting epoch 1...\n",
            "[epoch 1, batch 200] loss: 0.004\n",
            "[epoch 1, batch 400] loss: 0.000\n",
            "[epoch 1, batch 600] loss: 0.000\n",
            "[epoch 1, batch 800] loss: 0.000\n",
            "[epoch 1, batch 1000] loss: 0.000\n",
            "[epoch 1, batch 1200] loss: 0.000\n",
            "[epoch 1, batch 1400] loss: 0.000\n",
            "[epoch 1, batch 1600] loss: 0.000\n",
            "[epoch 1, batch 1800] loss: 0.000\n",
            "[epoch 1, batch 2000] loss: 0.000\n",
            "[epoch 1, batch 2200] loss: 0.000\n",
            "[epoch 1, batch 2400] loss: 0.000\n",
            "[epoch 1, batch 2600] loss: 0.000\n",
            "[epoch 1, batch 2800] loss: 0.000\n",
            "[epoch 1, batch 3000] loss: 0.000\n",
            "[epoch 1, batch 3200] loss: 0.000\n",
            "[epoch 1, batch 3400] loss: 0.000\n",
            "[epoch 1, batch 3600] loss: 0.000\n",
            "Starting epoch 2...\n",
            "[epoch 2, batch 200] loss: 0.000\n",
            "[epoch 2, batch 400] loss: 0.000\n",
            "[epoch 2, batch 600] loss: 0.000\n",
            "[epoch 2, batch 800] loss: 0.000\n",
            "[epoch 2, batch 1000] loss: 0.000\n",
            "[epoch 2, batch 1200] loss: 0.000\n",
            "[epoch 2, batch 1400] loss: 0.000\n",
            "[epoch 2, batch 1600] loss: 0.000\n",
            "[epoch 2, batch 1800] loss: 0.000\n",
            "[epoch 2, batch 2000] loss: 0.000\n",
            "[epoch 2, batch 2200] loss: 0.000\n",
            "[epoch 2, batch 2400] loss: 0.000\n",
            "[epoch 2, batch 2600] loss: 0.000\n",
            "[epoch 2, batch 2800] loss: 0.000\n",
            "[epoch 2, batch 3000] loss: 0.000\n",
            "[epoch 2, batch 3200] loss: 0.000\n",
            "[epoch 2, batch 3400] loss: 0.000\n",
            "[epoch 2, batch 3600] loss: 0.000\n",
            "Starting epoch 3...\n",
            "[epoch 3, batch 200] loss: 0.000\n",
            "[epoch 3, batch 400] loss: 0.000\n",
            "[epoch 3, batch 600] loss: 0.000\n",
            "[epoch 3, batch 800] loss: 0.000\n",
            "[epoch 3, batch 1000] loss: 0.000\n",
            "[epoch 3, batch 1200] loss: 0.000\n",
            "[epoch 3, batch 1400] loss: 0.000\n",
            "[epoch 3, batch 1600] loss: 0.000\n",
            "[epoch 3, batch 1800] loss: 0.000\n",
            "[epoch 3, batch 2000] loss: 0.000\n",
            "[epoch 3, batch 2200] loss: 0.000\n",
            "[epoch 3, batch 2400] loss: 0.000\n",
            "[epoch 3, batch 2600] loss: 0.000\n",
            "[epoch 3, batch 2800] loss: 0.000\n",
            "[epoch 3, batch 3000] loss: 0.000\n",
            "[epoch 3, batch 3200] loss: 0.000\n",
            "[epoch 3, batch 3400] loss: 0.000\n",
            "[epoch 3, batch 3600] loss: 0.000\n",
            "Finished Training.\n"
          ]
        }
      ]
    },
    {
      "cell_type": "code",
      "source": [
        "train(dac_mlpnas_best_model_3_layer, train_dataloader_dac, 3)"
      ],
      "metadata": {
        "colab": {
          "base_uri": "https://localhost:8080/"
        },
        "id": "d9CNmr46L7j1",
        "outputId": "482cc7ef-02a4-4cd2-fe9c-c4f922d24c43"
      },
      "id": "d9CNmr46L7j1",
      "execution_count": 165,
      "outputs": [
        {
          "output_type": "stream",
          "name": "stdout",
          "text": [
            "Starting epoch 1...\n",
            "[epoch 1, batch 200] loss: 0.008\n",
            "[epoch 1, batch 400] loss: 0.000\n",
            "[epoch 1, batch 600] loss: 0.000\n",
            "[epoch 1, batch 800] loss: 0.000\n",
            "[epoch 1, batch 1000] loss: 0.000\n",
            "[epoch 1, batch 1200] loss: 0.000\n",
            "[epoch 1, batch 1400] loss: 0.000\n",
            "[epoch 1, batch 1600] loss: 0.000\n",
            "[epoch 1, batch 1800] loss: 0.000\n",
            "[epoch 1, batch 2000] loss: 0.000\n",
            "[epoch 1, batch 2200] loss: 0.000\n",
            "[epoch 1, batch 2400] loss: 0.000\n",
            "[epoch 1, batch 2600] loss: 0.000\n",
            "[epoch 1, batch 2800] loss: 0.000\n",
            "[epoch 1, batch 3000] loss: 0.000\n",
            "[epoch 1, batch 3200] loss: 0.000\n",
            "[epoch 1, batch 3400] loss: 0.000\n",
            "[epoch 1, batch 3600] loss: 0.000\n",
            "Starting epoch 2...\n",
            "[epoch 2, batch 200] loss: 0.000\n",
            "[epoch 2, batch 400] loss: 0.000\n",
            "[epoch 2, batch 600] loss: 0.000\n",
            "[epoch 2, batch 800] loss: 0.000\n",
            "[epoch 2, batch 1000] loss: 0.000\n",
            "[epoch 2, batch 1200] loss: 0.000\n",
            "[epoch 2, batch 1400] loss: 0.000\n",
            "[epoch 2, batch 1600] loss: 0.000\n",
            "[epoch 2, batch 1800] loss: 0.000\n",
            "[epoch 2, batch 2000] loss: 0.000\n",
            "[epoch 2, batch 2200] loss: 0.000\n",
            "[epoch 2, batch 2400] loss: 0.000\n",
            "[epoch 2, batch 2600] loss: 0.000\n",
            "[epoch 2, batch 2800] loss: 0.000\n",
            "[epoch 2, batch 3000] loss: 0.000\n",
            "[epoch 2, batch 3200] loss: 0.000\n",
            "[epoch 2, batch 3400] loss: 0.000\n",
            "[epoch 2, batch 3600] loss: 0.000\n",
            "Starting epoch 3...\n",
            "[epoch 3, batch 200] loss: 0.000\n",
            "[epoch 3, batch 400] loss: 0.000\n",
            "[epoch 3, batch 600] loss: 0.000\n",
            "[epoch 3, batch 800] loss: 0.000\n",
            "[epoch 3, batch 1000] loss: 0.000\n",
            "[epoch 3, batch 1200] loss: 0.000\n",
            "[epoch 3, batch 1400] loss: 0.000\n",
            "[epoch 3, batch 1600] loss: 0.000\n",
            "[epoch 3, batch 1800] loss: 0.000\n",
            "[epoch 3, batch 2000] loss: 0.000\n",
            "[epoch 3, batch 2200] loss: 0.000\n",
            "[epoch 3, batch 2400] loss: 0.000\n",
            "[epoch 3, batch 2600] loss: 0.000\n",
            "[epoch 3, batch 2800] loss: 0.000\n",
            "[epoch 3, batch 3000] loss: 0.000\n",
            "[epoch 3, batch 3200] loss: 0.000\n",
            "[epoch 3, batch 3400] loss: 0.000\n",
            "[epoch 3, batch 3600] loss: 0.000\n",
            "Finished Training.\n"
          ]
        }
      ]
    },
    {
      "cell_type": "code",
      "source": [
        "dac_model = MLP_DAC()\n",
        "train(dac_model, train_dataloader_dac, 3)"
      ],
      "metadata": {
        "colab": {
          "base_uri": "https://localhost:8080/"
        },
        "id": "XfUSpQ5PL8qr",
        "outputId": "d97d5cbd-6d55-4cf2-cb6b-280ad362514d"
      },
      "id": "XfUSpQ5PL8qr",
      "execution_count": 166,
      "outputs": [
        {
          "output_type": "stream",
          "name": "stdout",
          "text": [
            "Starting epoch 1...\n",
            "[epoch 1, batch 200] loss: 0.193\n",
            "[epoch 1, batch 400] loss: 0.043\n",
            "[epoch 1, batch 600] loss: 0.003\n",
            "[epoch 1, batch 800] loss: 0.001\n",
            "[epoch 1, batch 1000] loss: 0.000\n",
            "[epoch 1, batch 1200] loss: 0.000\n",
            "[epoch 1, batch 1400] loss: 0.000\n",
            "[epoch 1, batch 1600] loss: 0.000\n",
            "[epoch 1, batch 1800] loss: 0.000\n",
            "[epoch 1, batch 2000] loss: 0.000\n",
            "[epoch 1, batch 2200] loss: 0.000\n",
            "[epoch 1, batch 2400] loss: 0.000\n",
            "[epoch 1, batch 2600] loss: 0.000\n",
            "[epoch 1, batch 2800] loss: 0.000\n",
            "[epoch 1, batch 3000] loss: 0.000\n",
            "[epoch 1, batch 3200] loss: 0.000\n",
            "[epoch 1, batch 3400] loss: 0.000\n",
            "[epoch 1, batch 3600] loss: 0.000\n",
            "Starting epoch 2...\n",
            "[epoch 2, batch 200] loss: 0.000\n",
            "[epoch 2, batch 400] loss: 0.000\n",
            "[epoch 2, batch 600] loss: 0.000\n",
            "[epoch 2, batch 800] loss: 0.000\n",
            "[epoch 2, batch 1000] loss: 0.000\n",
            "[epoch 2, batch 1200] loss: 0.000\n",
            "[epoch 2, batch 1400] loss: 0.000\n",
            "[epoch 2, batch 1600] loss: 0.000\n",
            "[epoch 2, batch 1800] loss: 0.000\n",
            "[epoch 2, batch 2000] loss: 0.000\n",
            "[epoch 2, batch 2200] loss: 0.000\n",
            "[epoch 2, batch 2400] loss: 0.000\n",
            "[epoch 2, batch 2600] loss: 0.000\n",
            "[epoch 2, batch 2800] loss: 0.000\n",
            "[epoch 2, batch 3000] loss: 0.000\n",
            "[epoch 2, batch 3200] loss: 0.000\n",
            "[epoch 2, batch 3400] loss: 0.000\n",
            "[epoch 2, batch 3600] loss: 0.000\n",
            "Starting epoch 3...\n",
            "[epoch 3, batch 200] loss: 0.000\n",
            "[epoch 3, batch 400] loss: 0.000\n",
            "[epoch 3, batch 600] loss: 0.000\n",
            "[epoch 3, batch 800] loss: 0.000\n",
            "[epoch 3, batch 1000] loss: 0.000\n",
            "[epoch 3, batch 1200] loss: 0.000\n",
            "[epoch 3, batch 1400] loss: 0.000\n",
            "[epoch 3, batch 1600] loss: 0.000\n",
            "[epoch 3, batch 1800] loss: 0.000\n",
            "[epoch 3, batch 2000] loss: 0.000\n",
            "[epoch 3, batch 2200] loss: 0.000\n",
            "[epoch 3, batch 2400] loss: 0.000\n",
            "[epoch 3, batch 2600] loss: 0.000\n",
            "[epoch 3, batch 2800] loss: 0.000\n",
            "[epoch 3, batch 3000] loss: 0.000\n",
            "[epoch 3, batch 3200] loss: 0.000\n",
            "[epoch 3, batch 3400] loss: 0.000\n",
            "[epoch 3, batch 3600] loss: 0.000\n",
            "Finished Training.\n"
          ]
        }
      ]
    },
    {
      "cell_type": "code",
      "source": [
        "y0 = np.array([0.5, 0])\n",
        "delta_t = 0.1\n",
        "tstar = 0.1\n",
        "max_t_prediction = 20\n",
        "\n",
        "validation_dac = predict_dac(dac_model, y0, tstar, max_t_prediction)\n",
        "validation_nas_2_dac = predict_dac(dac_mlpnas_best_model_2_layer, y0, tstar, max_t_prediction)\n",
        "validation_nas_3_dac = predict_dac(dac_mlpnas_best_model_3_layer, y0, tstar, max_t_prediction)\n",
        "#validation_dac = predict_dac(dac_model, y0, tstar, max_t_prediction)\n",
        "\n",
        "times = np.arange(0, max_t_prediction, delta_t)\n",
        "true_solution = [solution_simple_ODE(t, y0) for t in times]\n",
        "\n",
        "fig, ax = generate_figure(figsize=(8,8), xlim=[-1, 1], ylim=[-1, 1])\n",
        "\n",
        "ax = plot_ode_solution(ax, validation_dac, label=\"dac approach\")\n",
        "ax = plot_ode_solution(ax, validation_nas_2_dac, label=\"nas 2 layers dac\")\n",
        "ax = plot_ode_solution(ax, validation_nas_3_dac, label=\"nas 3 layers dac\")\n",
        "ax = plot_ode_solution(ax, true_solution, label=\"true solution\")\n",
        "\n",
        "plt.legend()\n",
        "plt.savefig(\"proof_of_concept.pdf\", bbox_inches=\"tight\")\n",
        "plt.show()"
      ],
      "metadata": {
        "colab": {
          "base_uri": "https://localhost:8080/",
          "height": 487
        },
        "id": "zQ6cOA7DNm3E",
        "outputId": "4fa1779e-0c97-47bb-e113-3599b1de9942"
      },
      "id": "zQ6cOA7DNm3E",
      "execution_count": 168,
      "outputs": [
        {
          "output_type": "display_data",
          "data": {
            "text/plain": [
              "<Figure size 576x576 with 1 Axes>"
            ],
            "image/png": "[encoded data removed]"
          },
          "metadata": {
            "needs_background": "light"
          }
        }
      ]
    },
    {
      "cell_type": "code",
      "source": [
        "print(\"nas REINFORCE 2 layer euclidean distance: \",compute_euclidean_distance(true_solution,validation_nas_2_dac))\n",
        "print(\"nas REINFORCE 3 layer euclidean distance: \",compute_euclidean_distance(true_solution,validation_nas_3_dac))\n",
        "print(\"DAC approach euclidean distance: \",compute_euclidean_distance(true_solution,validation_dac))"
      ],
      "metadata": {
        "colab": {
          "base_uri": "https://localhost:8080/"
        },
        "id": "hu-MRE9HNyQy",
        "outputId": "d21ac3f9-e52d-4706-955e-ce3c73ee5a4f"
      },
      "id": "hu-MRE9HNyQy",
      "execution_count": 169,
      "outputs": [
        {
          "output_type": "stream",
          "name": "stdout",
          "text": [
            "nas REINFORCE 2 layer euclidean distance:  9.677396543077247\n",
            "nas REINFORCE 3 layer euclidean distance:  9.147656333958198\n",
            "DAC approach euclidean distance:  10.739230446920697\n"
          ]
        }
      ]
    },
    {
      "cell_type": "code",
      "source": [
        "encoded_sequence = dac_mlpnas_reinforce_2_layers.encode_sequence([(512, 'tanh'), (1024, 'relu')])\n",
        "dac_mlpnas_best_model_2_layer = dac_mlpnas_reinforce_2_layers.model_generator.create_model(encoded_sequence,2)\n",
        "encoded_sequence = dac_mlpnas_reinforce_3_layers.encode_sequence([(256, 'relu'), (512, 'tanh'), (512, 'tanh')])\n",
        "dac_mlpnas_best_model_3_layer = dac_mlpnas_reinforce_3_layers.model_generator.create_model(encoded_sequence,2)\n",
        "dac_model = MLP_DAC()"
      ],
      "metadata": {
        "id": "d421DGXKOFNB"
      },
      "id": "d421DGXKOFNB",
      "execution_count": 195,
      "outputs": []
    },
    {
      "cell_type": "code",
      "source": [
        "train(dac_mlpnas_best_model_2_layer, train_dataloader_dac, 3)\n",
        "train(dac_mlpnas_best_model_3_layer, train_dataloader_dac, 3)\n",
        "train(dac_model, train_dataloader_dac, 3)"
      ],
      "metadata": {
        "colab": {
          "base_uri": "https://localhost:8080/"
        },
        "id": "vOzvfbs4OXYj",
        "outputId": "cd838775-ea0d-49b1-f3e6-26f105178214"
      },
      "id": "vOzvfbs4OXYj",
      "execution_count": 196,
      "outputs": [
        {
          "output_type": "stream",
          "name": "stdout",
          "text": [
            "Starting epoch 1...\n",
            "[epoch 1, batch 200] loss: 0.007\n",
            "[epoch 1, batch 400] loss: 0.000\n",
            "[epoch 1, batch 600] loss: 0.000\n",
            "[epoch 1, batch 800] loss: 0.000\n",
            "[epoch 1, batch 1000] loss: 0.000\n",
            "[epoch 1, batch 1200] loss: 0.000\n",
            "[epoch 1, batch 1400] loss: 0.000\n",
            "[epoch 1, batch 1600] loss: 0.000\n",
            "[epoch 1, batch 1800] loss: 0.000\n",
            "[epoch 1, batch 2000] loss: 0.000\n",
            "[epoch 1, batch 2200] loss: 0.000\n",
            "[epoch 1, batch 2400] loss: 0.000\n",
            "[epoch 1, batch 2600] loss: 0.000\n",
            "[epoch 1, batch 2800] loss: 0.000\n",
            "[epoch 1, batch 3000] loss: 0.000\n",
            "[epoch 1, batch 3200] loss: 0.000\n",
            "[epoch 1, batch 3400] loss: 0.000\n",
            "[epoch 1, batch 3600] loss: 0.000\n",
            "Starting epoch 2...\n",
            "[epoch 2, batch 200] loss: 0.000\n",
            "[epoch 2, batch 400] loss: 0.000\n",
            "[epoch 2, batch 600] loss: 0.000\n",
            "[epoch 2, batch 800] loss: 0.000\n",
            "[epoch 2, batch 1000] loss: 0.000\n",
            "[epoch 2, batch 1200] loss: 0.000\n",
            "[epoch 2, batch 1400] loss: 0.000\n",
            "[epoch 2, batch 1600] loss: 0.000\n",
            "[epoch 2, batch 1800] loss: 0.000\n",
            "[epoch 2, batch 2000] loss: 0.000\n",
            "[epoch 2, batch 2200] loss: 0.000\n",
            "[epoch 2, batch 2400] loss: 0.000\n",
            "[epoch 2, batch 2600] loss: 0.000\n",
            "[epoch 2, batch 2800] loss: 0.000\n",
            "[epoch 2, batch 3000] loss: 0.000\n",
            "[epoch 2, batch 3200] loss: 0.000\n",
            "[epoch 2, batch 3400] loss: 0.000\n",
            "[epoch 2, batch 3600] loss: 0.000\n",
            "Starting epoch 3...\n",
            "[epoch 3, batch 200] loss: 0.000\n",
            "[epoch 3, batch 400] loss: 0.000\n",
            "[epoch 3, batch 600] loss: 0.000\n",
            "[epoch 3, batch 800] loss: 0.000\n",
            "[epoch 3, batch 1000] loss: 0.000\n",
            "[epoch 3, batch 1200] loss: 0.000\n",
            "[epoch 3, batch 1400] loss: 0.000\n",
            "[epoch 3, batch 1600] loss: 0.000\n",
            "[epoch 3, batch 1800] loss: 0.000\n",
            "[epoch 3, batch 2000] loss: 0.000\n",
            "[epoch 3, batch 2200] loss: 0.000\n",
            "[epoch 3, batch 2400] loss: 0.000\n",
            "[epoch 3, batch 2600] loss: 0.000\n",
            "[epoch 3, batch 2800] loss: 0.000\n",
            "[epoch 3, batch 3000] loss: 0.000\n",
            "[epoch 3, batch 3200] loss: 0.000\n",
            "[epoch 3, batch 3400] loss: 0.000\n",
            "[epoch 3, batch 3600] loss: 0.000\n",
            "Finished Training.\n",
            "Starting epoch 1...\n",
            "[epoch 1, batch 200] loss: 0.007\n",
            "[epoch 1, batch 400] loss: 0.000\n",
            "[epoch 1, batch 600] loss: 0.000\n",
            "[epoch 1, batch 800] loss: 0.000\n",
            "[epoch 1, batch 1000] loss: 0.000\n",
            "[epoch 1, batch 1200] loss: 0.000\n",
            "[epoch 1, batch 1400] loss: 0.000\n",
            "[epoch 1, batch 1600] loss: 0.000\n",
            "[epoch 1, batch 1800] loss: 0.000\n",
            "[epoch 1, batch 2000] loss: 0.000\n",
            "[epoch 1, batch 2200] loss: 0.000\n",
            "[epoch 1, batch 2400] loss: 0.000\n",
            "[epoch 1, batch 2600] loss: 0.000\n",
            "[epoch 1, batch 2800] loss: 0.000\n",
            "[epoch 1, batch 3000] loss: 0.000\n",
            "[epoch 1, batch 3200] loss: 0.000\n",
            "[epoch 1, batch 3400] loss: 0.000\n",
            "[epoch 1, batch 3600] loss: 0.000\n",
            "Starting epoch 2...\n",
            "[epoch 2, batch 200] loss: 0.000\n",
            "[epoch 2, batch 400] loss: 0.000\n",
            "[epoch 2, batch 600] loss: 0.000\n",
            "[epoch 2, batch 800] loss: 0.000\n",
            "[epoch 2, batch 1000] loss: 0.000\n",
            "[epoch 2, batch 1200] loss: 0.000\n",
            "[epoch 2, batch 1400] loss: 0.000\n",
            "[epoch 2, batch 1600] loss: 0.000\n",
            "[epoch 2, batch 1800] loss: 0.000\n",
            "[epoch 2, batch 2000] loss: 0.000\n",
            "[epoch 2, batch 2200] loss: 0.000\n",
            "[epoch 2, batch 2400] loss: 0.000\n",
            "[epoch 2, batch 2600] loss: 0.000\n",
            "[epoch 2, batch 2800] loss: 0.000\n",
            "[epoch 2, batch 3000] loss: 0.000\n",
            "[epoch 2, batch 3200] loss: 0.000\n",
            "[epoch 2, batch 3400] loss: 0.000\n",
            "[epoch 2, batch 3600] loss: 0.000\n",
            "Starting epoch 3...\n",
            "[epoch 3, batch 200] loss: 0.000\n",
            "[epoch 3, batch 400] loss: 0.000\n",
            "[epoch 3, batch 600] loss: 0.000\n",
            "[epoch 3, batch 800] loss: 0.000\n",
            "[epoch 3, batch 1000] loss: 0.000\n",
            "[epoch 3, batch 1200] loss: 0.000\n",
            "[epoch 3, batch 1400] loss: 0.000\n",
            "[epoch 3, batch 1600] loss: 0.000\n",
            "[epoch 3, batch 1800] loss: 0.000\n",
            "[epoch 3, batch 2000] loss: 0.000\n",
            "[epoch 3, batch 2200] loss: 0.000\n",
            "[epoch 3, batch 2400] loss: 0.000\n",
            "[epoch 3, batch 2600] loss: 0.000\n",
            "[epoch 3, batch 2800] loss: 0.000\n",
            "[epoch 3, batch 3000] loss: 0.000\n",
            "[epoch 3, batch 3200] loss: 0.000\n",
            "[epoch 3, batch 3400] loss: 0.000\n",
            "[epoch 3, batch 3600] loss: 0.000\n",
            "Finished Training.\n",
            "Starting epoch 1...\n",
            "[epoch 1, batch 200] loss: 0.162\n",
            "[epoch 1, batch 400] loss: 0.021\n",
            "[epoch 1, batch 600] loss: 0.001\n",
            "[epoch 1, batch 800] loss: 0.001\n",
            "[epoch 1, batch 1000] loss: 0.000\n",
            "[epoch 1, batch 1200] loss: 0.000\n",
            "[epoch 1, batch 1400] loss: 0.000\n",
            "[epoch 1, batch 1600] loss: 0.000\n",
            "[epoch 1, batch 1800] loss: 0.000\n",
            "[epoch 1, batch 2000] loss: 0.000\n",
            "[epoch 1, batch 2200] loss: 0.000\n",
            "[epoch 1, batch 2400] loss: 0.000\n",
            "[epoch 1, batch 2600] loss: 0.000\n",
            "[epoch 1, batch 2800] loss: 0.000\n",
            "[epoch 1, batch 3000] loss: 0.000\n",
            "[epoch 1, batch 3200] loss: 0.000\n",
            "[epoch 1, batch 3400] loss: 0.000\n",
            "[epoch 1, batch 3600] loss: 0.000\n",
            "Starting epoch 2...\n",
            "[epoch 2, batch 200] loss: 0.000\n",
            "[epoch 2, batch 400] loss: 0.000\n",
            "[epoch 2, batch 600] loss: 0.000\n",
            "[epoch 2, batch 800] loss: 0.000\n",
            "[epoch 2, batch 1000] loss: 0.000\n",
            "[epoch 2, batch 1200] loss: 0.000\n",
            "[epoch 2, batch 1400] loss: 0.000\n",
            "[epoch 2, batch 1600] loss: 0.000\n",
            "[epoch 2, batch 1800] loss: 0.000\n",
            "[epoch 2, batch 2000] loss: 0.000\n",
            "[epoch 2, batch 2200] loss: 0.000\n",
            "[epoch 2, batch 2400] loss: 0.000\n",
            "[epoch 2, batch 2600] loss: 0.000\n",
            "[epoch 2, batch 2800] loss: 0.000\n",
            "[epoch 2, batch 3000] loss: 0.000\n",
            "[epoch 2, batch 3200] loss: 0.000\n",
            "[epoch 2, batch 3400] loss: 0.000\n",
            "[epoch 2, batch 3600] loss: 0.000\n",
            "Starting epoch 3...\n",
            "[epoch 3, batch 200] loss: 0.000\n",
            "[epoch 3, batch 400] loss: 0.000\n",
            "[epoch 3, batch 600] loss: 0.000\n",
            "[epoch 3, batch 800] loss: 0.000\n",
            "[epoch 3, batch 1000] loss: 0.000\n",
            "[epoch 3, batch 1200] loss: 0.000\n",
            "[epoch 3, batch 1400] loss: 0.000\n",
            "[epoch 3, batch 1600] loss: 0.000\n",
            "[epoch 3, batch 1800] loss: 0.000\n",
            "[epoch 3, batch 2000] loss: 0.000\n",
            "[epoch 3, batch 2200] loss: 0.000\n",
            "[epoch 3, batch 2400] loss: 0.000\n",
            "[epoch 3, batch 2600] loss: 0.000\n",
            "[epoch 3, batch 2800] loss: 0.000\n",
            "[epoch 3, batch 3000] loss: 0.000\n",
            "[epoch 3, batch 3200] loss: 0.000\n",
            "[epoch 3, batch 3400] loss: 0.000\n",
            "[epoch 3, batch 3600] loss: 0.000\n",
            "Finished Training.\n"
          ]
        }
      ]
    },
    {
      "cell_type": "code",
      "source": [
        "y0 = np.array([0.5, 0])\n",
        "delta_t = 0.1\n",
        "tstar = 0.1\n",
        "max_t_prediction = 20\n",
        "\n",
        "validation_dac = predict_dac(dac_model, y0, tstar, max_t_prediction)\n",
        "validation_nas_2_dac = predict_dac(dac_mlpnas_best_model_2_layer, y0, tstar, max_t_prediction)\n",
        "validation_nas_3_dac = predict_dac(dac_mlpnas_best_model_3_layer, y0, tstar, max_t_prediction)\n",
        "#validation_dac = predict_dac(dac_model, y0, tstar, max_t_prediction)\n",
        "\n",
        "times = np.arange(0, max_t_prediction, delta_t)\n",
        "true_solution = [solution_simple_ODE(t, y0) for t in times]\n",
        "\n",
        "fig, ax = generate_figure(figsize=(8,8), xlim=[-1, 1], ylim=[-1, 1])\n",
        "\n",
        "ax = plot_ode_solution(ax, validation_dac, label=\"dac approach\")\n",
        "ax = plot_ode_solution(ax, validation_nas_2_dac, label=\"nas 2 layers dac\")\n",
        "ax = plot_ode_solution(ax, validation_nas_3_dac, label=\"nas 3 layers dac\")\n",
        "ax = plot_ode_solution(ax, true_solution, label=\"true solution\")\n",
        "\n",
        "plt.legend()\n",
        "plt.savefig(\"proof_of_concept.pdf\", bbox_inches=\"tight\")\n",
        "plt.show()"
      ],
      "metadata": {
        "colab": {
          "base_uri": "https://localhost:8080/",
          "height": 487
        },
        "id": "YbJpIWVtO-jm",
        "outputId": "da1ee506-cbfa-4904-a439-b9c997c62e1d"
      },
      "id": "YbJpIWVtO-jm",
      "execution_count": 197,
      "outputs": [
        {
          "output_type": "display_data",
          "data": {
            "text/plain": [
              "<Figure size 576x576 with 1 Axes>"
            ],
            "image/png": "[encoded data removed]"
          },
          "metadata": {
            "needs_background": "light"
          }
        }
      ]
    },
    {
      "cell_type": "code",
      "source": [
        "print(\"nas REINFORCE 2 layer euclidean distance: \",compute_euclidean_distance(true_solution,validation_nas_2_dac))\n",
        "print(\"nas REINFORCE 3 layer euclidean distance: \",compute_euclidean_distance(true_solution,validation_nas_3_dac))\n",
        "print(\"DAC approach euclidean distance: \",compute_euclidean_distance(true_solution,validation_dac))"
      ],
      "metadata": {
        "colab": {
          "base_uri": "https://localhost:8080/"
        },
        "id": "AaIKLm2-PCFs",
        "outputId": "d423b010-e1e8-4bab-e50a-17bf7bbc2001"
      },
      "id": "AaIKLm2-PCFs",
      "execution_count": 198,
      "outputs": [
        {
          "output_type": "stream",
          "name": "stdout",
          "text": [
            "nas REINFORCE 2 layer euclidean distance:  10.144637785115698\n",
            "nas REINFORCE 3 layer euclidean distance:  10.601672479444044\n",
            "DAC approach euclidean distance:  10.089012215359242\n"
          ]
        }
      ]
    },
    {
      "cell_type": "code",
      "source": [
        "encoded_sequence = dac_mlpnas_reinforce_2_layers.encode_sequence([(512, 'tanh'), (1024, 'relu')])\n",
        "dac_mlpnas_best_model_2_layer = dac_mlpnas_reinforce_2_layers.model_generator.create_model(encoded_sequence,2)\n",
        "encoded_sequence = dac_mlpnas_reinforce_3_layers.encode_sequence([(256, 'relu'), (512, 'tanh'), (512, 'tanh')])\n",
        "dac_mlpnas_best_model_3_layer = dac_mlpnas_reinforce_3_layers.model_generator.create_model(encoded_sequence,2)\n",
        "dac_model = MLP_DAC()\n",
        "train(dac_mlpnas_best_model_2_layer, train_dataloader_dac, 3)\n",
        "train(dac_mlpnas_best_model_3_layer, train_dataloader_dac, 3)\n",
        "train(dac_model, train_dataloader_dac, 3)"
      ],
      "metadata": {
        "colab": {
          "base_uri": "https://localhost:8080/"
        },
        "id": "Akz6DxKbPGUw",
        "outputId": "3bf7416f-0b66-4f05-f381-dcf2286f4b2a"
      },
      "id": "Akz6DxKbPGUw",
      "execution_count": 199,
      "outputs": [
        {
          "output_type": "stream",
          "name": "stdout",
          "text": [
            "Starting epoch 1...\n",
            "[epoch 1, batch 200] loss: 0.004\n",
            "[epoch 1, batch 400] loss: 0.000\n",
            "[epoch 1, batch 600] loss: 0.000\n",
            "[epoch 1, batch 800] loss: 0.000\n",
            "[epoch 1, batch 1000] loss: 0.000\n",
            "[epoch 1, batch 1200] loss: 0.000\n",
            "[epoch 1, batch 1400] loss: 0.000\n",
            "[epoch 1, batch 1600] loss: 0.000\n",
            "[epoch 1, batch 1800] loss: 0.000\n",
            "[epoch 1, batch 2000] loss: 0.000\n",
            "[epoch 1, batch 2200] loss: 0.000\n",
            "[epoch 1, batch 2400] loss: 0.000\n",
            "[epoch 1, batch 2600] loss: 0.000\n",
            "[epoch 1, batch 2800] loss: 0.000\n",
            "[epoch 1, batch 3000] loss: 0.000\n",
            "[epoch 1, batch 3200] loss: 0.000\n",
            "[epoch 1, batch 3400] loss: 0.000\n",
            "[epoch 1, batch 3600] loss: 0.000\n",
            "Starting epoch 2...\n",
            "[epoch 2, batch 200] loss: 0.000\n",
            "[epoch 2, batch 400] loss: 0.000\n",
            "[epoch 2, batch 600] loss: 0.000\n",
            "[epoch 2, batch 800] loss: 0.000\n",
            "[epoch 2, batch 1000] loss: 0.000\n",
            "[epoch 2, batch 1200] loss: 0.000\n",
            "[epoch 2, batch 1400] loss: 0.000\n",
            "[epoch 2, batch 1600] loss: 0.000\n",
            "[epoch 2, batch 1800] loss: 0.000\n",
            "[epoch 2, batch 2000] loss: 0.000\n",
            "[epoch 2, batch 2200] loss: 0.000\n",
            "[epoch 2, batch 2400] loss: 0.000\n",
            "[epoch 2, batch 2600] loss: 0.000\n",
            "[epoch 2, batch 2800] loss: 0.000\n",
            "[epoch 2, batch 3000] loss: 0.000\n",
            "[epoch 2, batch 3200] loss: 0.000\n",
            "[epoch 2, batch 3400] loss: 0.000\n",
            "[epoch 2, batch 3600] loss: 0.000\n",
            "Starting epoch 3...\n",
            "[epoch 3, batch 200] loss: 0.000\n",
            "[epoch 3, batch 400] loss: 0.000\n",
            "[epoch 3, batch 600] loss: 0.000\n",
            "[epoch 3, batch 800] loss: 0.000\n",
            "[epoch 3, batch 1000] loss: 0.000\n",
            "[epoch 3, batch 1200] loss: 0.000\n",
            "[epoch 3, batch 1400] loss: 0.000\n",
            "[epoch 3, batch 1600] loss: 0.000\n",
            "[epoch 3, batch 1800] loss: 0.000\n",
            "[epoch 3, batch 2000] loss: 0.000\n",
            "[epoch 3, batch 2200] loss: 0.000\n",
            "[epoch 3, batch 2400] loss: 0.000\n",
            "[epoch 3, batch 2600] loss: 0.000\n",
            "[epoch 3, batch 2800] loss: 0.000\n",
            "[epoch 3, batch 3000] loss: 0.000\n",
            "[epoch 3, batch 3200] loss: 0.000\n",
            "[epoch 3, batch 3400] loss: 0.000\n",
            "[epoch 3, batch 3600] loss: 0.000\n",
            "Finished Training.\n",
            "Starting epoch 1...\n",
            "[epoch 1, batch 200] loss: 0.007\n",
            "[epoch 1, batch 400] loss: 0.000\n",
            "[epoch 1, batch 600] loss: 0.000\n",
            "[epoch 1, batch 800] loss: 0.000\n",
            "[epoch 1, batch 1000] loss: 0.000\n",
            "[epoch 1, batch 1200] loss: 0.000\n",
            "[epoch 1, batch 1400] loss: 0.000\n",
            "[epoch 1, batch 1600] loss: 0.000\n",
            "[epoch 1, batch 1800] loss: 0.000\n",
            "[epoch 1, batch 2000] loss: 0.000\n",
            "[epoch 1, batch 2200] loss: 0.000\n",
            "[epoch 1, batch 2400] loss: 0.000\n",
            "[epoch 1, batch 2600] loss: 0.000\n",
            "[epoch 1, batch 2800] loss: 0.000\n",
            "[epoch 1, batch 3000] loss: 0.000\n",
            "[epoch 1, batch 3200] loss: 0.000\n",
            "[epoch 1, batch 3400] loss: 0.000\n",
            "[epoch 1, batch 3600] loss: 0.000\n",
            "Starting epoch 2...\n",
            "[epoch 2, batch 200] loss: 0.000\n",
            "[epoch 2, batch 400] loss: 0.000\n",
            "[epoch 2, batch 600] loss: 0.000\n",
            "[epoch 2, batch 800] loss: 0.000\n",
            "[epoch 2, batch 1000] loss: 0.000\n",
            "[epoch 2, batch 1200] loss: 0.000\n",
            "[epoch 2, batch 1400] loss: 0.000\n",
            "[epoch 2, batch 1600] loss: 0.000\n",
            "[epoch 2, batch 1800] loss: 0.000\n",
            "[epoch 2, batch 2000] loss: 0.000\n",
            "[epoch 2, batch 2200] loss: 0.000\n",
            "[epoch 2, batch 2400] loss: 0.000\n",
            "[epoch 2, batch 2600] loss: 0.000\n",
            "[epoch 2, batch 2800] loss: 0.000\n",
            "[epoch 2, batch 3000] loss: 0.000\n",
            "[epoch 2, batch 3200] loss: 0.000\n",
            "[epoch 2, batch 3400] loss: 0.000\n",
            "[epoch 2, batch 3600] loss: 0.000\n",
            "Starting epoch 3...\n",
            "[epoch 3, batch 200] loss: 0.000\n",
            "[epoch 3, batch 400] loss: 0.000\n",
            "[epoch 3, batch 600] loss: 0.000\n",
            "[epoch 3, batch 800] loss: 0.000\n",
            "[epoch 3, batch 1000] loss: 0.000\n",
            "[epoch 3, batch 1200] loss: 0.000\n",
            "[epoch 3, batch 1400] loss: 0.000\n",
            "[epoch 3, batch 1600] loss: 0.000\n",
            "[epoch 3, batch 1800] loss: 0.000\n",
            "[epoch 3, batch 2000] loss: 0.000\n",
            "[epoch 3, batch 2200] loss: 0.000\n",
            "[epoch 3, batch 2400] loss: 0.000\n",
            "[epoch 3, batch 2600] loss: 0.000\n",
            "[epoch 3, batch 2800] loss: 0.000\n",
            "[epoch 3, batch 3000] loss: 0.000\n",
            "[epoch 3, batch 3200] loss: 0.000\n",
            "[epoch 3, batch 3400] loss: 0.000\n",
            "[epoch 3, batch 3600] loss: 0.000\n",
            "Finished Training.\n",
            "Starting epoch 1...\n",
            "[epoch 1, batch 200] loss: 0.196\n",
            "[epoch 1, batch 400] loss: 0.042\n",
            "[epoch 1, batch 600] loss: 0.002\n",
            "[epoch 1, batch 800] loss: 0.000\n",
            "[epoch 1, batch 1000] loss: 0.000\n",
            "[epoch 1, batch 1200] loss: 0.000\n",
            "[epoch 1, batch 1400] loss: 0.000\n",
            "[epoch 1, batch 1600] loss: 0.000\n",
            "[epoch 1, batch 1800] loss: 0.000\n",
            "[epoch 1, batch 2000] loss: 0.000\n",
            "[epoch 1, batch 2200] loss: 0.000\n",
            "[epoch 1, batch 2400] loss: 0.000\n",
            "[epoch 1, batch 2600] loss: 0.000\n",
            "[epoch 1, batch 2800] loss: 0.000\n",
            "[epoch 1, batch 3000] loss: 0.000\n",
            "[epoch 1, batch 3200] loss: 0.000\n",
            "[epoch 1, batch 3400] loss: 0.000\n",
            "[epoch 1, batch 3600] loss: 0.000\n",
            "Starting epoch 2...\n",
            "[epoch 2, batch 200] loss: 0.000\n",
            "[epoch 2, batch 400] loss: 0.000\n",
            "[epoch 2, batch 600] loss: 0.000\n",
            "[epoch 2, batch 800] loss: 0.000\n",
            "[epoch 2, batch 1000] loss: 0.000\n",
            "[epoch 2, batch 1200] loss: 0.000\n",
            "[epoch 2, batch 1400] loss: 0.000\n",
            "[epoch 2, batch 1600] loss: 0.000\n",
            "[epoch 2, batch 1800] loss: 0.000\n",
            "[epoch 2, batch 2000] loss: 0.000\n",
            "[epoch 2, batch 2200] loss: 0.000\n",
            "[epoch 2, batch 2400] loss: 0.000\n",
            "[epoch 2, batch 2600] loss: 0.000\n",
            "[epoch 2, batch 2800] loss: 0.000\n",
            "[epoch 2, batch 3000] loss: 0.000\n",
            "[epoch 2, batch 3200] loss: 0.000\n",
            "[epoch 2, batch 3400] loss: 0.000\n",
            "[epoch 2, batch 3600] loss: 0.000\n",
            "Starting epoch 3...\n",
            "[epoch 3, batch 200] loss: 0.000\n",
            "[epoch 3, batch 400] loss: 0.000\n",
            "[epoch 3, batch 600] loss: 0.000\n",
            "[epoch 3, batch 800] loss: 0.000\n",
            "[epoch 3, batch 1000] loss: 0.000\n",
            "[epoch 3, batch 1200] loss: 0.000\n",
            "[epoch 3, batch 1400] loss: 0.000\n",
            "[epoch 3, batch 1600] loss: 0.000\n",
            "[epoch 3, batch 1800] loss: 0.000\n",
            "[epoch 3, batch 2000] loss: 0.000\n",
            "[epoch 3, batch 2200] loss: 0.000\n",
            "[epoch 3, batch 2400] loss: 0.000\n",
            "[epoch 3, batch 2600] loss: 0.000\n",
            "[epoch 3, batch 2800] loss: 0.000\n",
            "[epoch 3, batch 3000] loss: 0.000\n",
            "[epoch 3, batch 3200] loss: 0.000\n",
            "[epoch 3, batch 3400] loss: 0.000\n",
            "[epoch 3, batch 3600] loss: 0.000\n",
            "Finished Training.\n"
          ]
        }
      ]
    },
    {
      "cell_type": "code",
      "source": [
        "y0 = np.array([0.5, 0])\n",
        "delta_t = 0.1\n",
        "tstar = 0.1\n",
        "max_t_prediction = 20\n",
        "\n",
        "validation_dac = predict_dac(dac_model, y0, tstar, max_t_prediction)\n",
        "validation_nas_2_dac = predict_dac(dac_mlpnas_best_model_2_layer, y0, tstar, max_t_prediction)\n",
        "validation_nas_3_dac = predict_dac(dac_mlpnas_best_model_3_layer, y0, tstar, max_t_prediction)\n",
        "#validation_dac = predict_dac(dac_model, y0, tstar, max_t_prediction)\n",
        "\n",
        "times = np.arange(0, max_t_prediction, delta_t)\n",
        "true_solution = [solution_simple_ODE(t, y0) for t in times]\n",
        "\n",
        "fig, ax = generate_figure(figsize=(8,8), xlim=[-1, 1], ylim=[-1, 1])\n",
        "\n",
        "ax = plot_ode_solution(ax, validation_dac, label=\"dac approach\")\n",
        "ax = plot_ode_solution(ax, validation_nas_2_dac, label=\"nas 2 layers dac\")\n",
        "ax = plot_ode_solution(ax, validation_nas_3_dac, label=\"nas 3 layers dac\")\n",
        "ax = plot_ode_solution(ax, true_solution, label=\"true solution\")\n",
        "\n",
        "plt.legend()\n",
        "plt.savefig(\"proof_of_concept.pdf\", bbox_inches=\"tight\")\n",
        "plt.show()"
      ],
      "metadata": {
        "colab": {
          "base_uri": "https://localhost:8080/",
          "height": 487
        },
        "id": "UPvAbzrEU8Zm",
        "outputId": "5763277e-86a9-4cd4-c3eb-fc0eeb3500f1"
      },
      "id": "UPvAbzrEU8Zm",
      "execution_count": 200,
      "outputs": [
        {
          "output_type": "display_data",
          "data": {
            "text/plain": [
              "<Figure size 576x576 with 1 Axes>"
            ],
            "image/png": "[encoded data removed]"
          },
          "metadata": {
            "needs_background": "light"
          }
        }
      ]
    },
    {
      "cell_type": "code",
      "source": [
        "print(\"nas REINFORCE 2 layer euclidean distance: \",compute_euclidean_distance(true_solution,validation_nas_2_dac))\n",
        "print(\"nas REINFORCE 3 layer euclidean distance: \",compute_euclidean_distance(true_solution,validation_nas_3_dac))\n",
        "print(\"DAC approach euclidean distance: \",compute_euclidean_distance(true_solution,validation_dac))"
      ],
      "metadata": {
        "colab": {
          "base_uri": "https://localhost:8080/"
        },
        "id": "4x1L6gUUVAaV",
        "outputId": "9f6276c7-5cfb-4c79-b1d2-ab46889e9d74"
      },
      "id": "4x1L6gUUVAaV",
      "execution_count": 201,
      "outputs": [
        {
          "output_type": "stream",
          "name": "stdout",
          "text": [
            "nas REINFORCE 2 layer euclidean distance:  10.164470482389605\n",
            "nas REINFORCE 3 layer euclidean distance:  10.791767945730015\n",
            "DAC approach euclidean distance:  10.234014734348536\n"
          ]
        }
      ]
    },
    {
      "cell_type": "markdown",
      "metadata": {
        "id": "8cc74a8e"
      },
      "source": [
        "## 5. MLP Definition and Model Training"
      ],
      "id": "8cc74a8e"
    },
    {
      "cell_type": "code",
      "execution_count": null,
      "metadata": {
        "id": "597510c3"
      },
      "outputs": [],
      "source": [
        "class MLP_Standard(nn.Module):\n",
        "    \n",
        "    def __init__(self):\n",
        "        \n",
        "        super().__init__()\n",
        "        self.layers = nn.Sequential(\n",
        "            nn.Linear(3, 50),\n",
        "            nn.ReLU(),\n",
        "            nn.Linear(50, 50),\n",
        "            nn.ReLU(),\n",
        "            nn.Linear(50, 50),\n",
        "            nn.ReLU(),\n",
        "            nn.Linear(50, 2)\n",
        "        )\n",
        "\n",
        "\n",
        "    def forward(self, y0):\n",
        "    \n",
        "        return self.layers(y0)\n",
        "\n",
        "\n",
        "class MLP_DAC(nn.Module):\n",
        "    \n",
        "    def __init__(self):\n",
        "        \n",
        "        super().__init__()\n",
        "        self.layers = nn.Sequential(\n",
        "            nn.Linear(2, 50),\n",
        "            nn.ReLU(),\n",
        "            nn.Linear(50, 50),\n",
        "            nn.ReLU(),\n",
        "            nn.Linear(50, 50),\n",
        "            nn.ReLU(),\n",
        "            nn.Linear(50, 2)\n",
        "        )\n",
        "\n",
        "\n",
        "    def forward(self, y0):\n",
        "    \n",
        "        return self.layers(y0)"
      ],
      "id": "597510c3"
    },
    {
      "cell_type": "code",
      "execution_count": null,
      "metadata": {
        "id": "0cd21f93"
      },
      "outputs": [],
      "source": [
        "standard_model = MLP_Standard()\n",
        "dac_model = MLP_DAC()"
      ],
      "id": "0cd21f93"
    },
    {
      "cell_type": "code",
      "execution_count": null,
      "metadata": {
        "id": "69ba13de"
      },
      "outputs": [],
      "source": [
        "def train(model, train_dataloader, n_epochs):\n",
        "    \n",
        "    loss_function = nn.MSELoss()\n",
        "    optimizer = torch.optim.Adam(model.parameters(), lr=1e-4)\n",
        "    \n",
        "    model.train()\n",
        "    \n",
        "    for epoch in range(n_epochs):\n",
        "    \n",
        "        print(f\"Starting epoch {epoch+1}...\")\n",
        "\n",
        "        # Set running loss value\n",
        "        running_loss = 0.0\n",
        "\n",
        "        # Iterate over the DataLoader for training data\n",
        "        for i, data in enumerate(train_dataloader, 0):\n",
        "\n",
        "            # Get and prepare inputs\n",
        "            inputs, targets = data\n",
        "            inputs, targets = inputs.float(), targets.float()\n",
        "\n",
        "            # Zero the parameter gradient\n",
        "            optimizer.zero_grad()\n",
        "\n",
        "            # forward, backward and optimize\n",
        "            outputs = model(inputs)\n",
        "            loss = loss_function(outputs, targets)\n",
        "            loss.backward()\n",
        "            optimizer.step()\n",
        "\n",
        "            # Print statistics\n",
        "            running_loss += loss.item()\n",
        "            if i % 200 == 199:\n",
        "                print(f\"[epoch {epoch + 1}, batch {i + 1}] loss: {running_loss / 200:.3f}\")\n",
        "                running_loss = 0.0\n",
        "\n",
        "    print(\"Finished Training.\")"
      ],
      "id": "69ba13de"
    },
    {
      "cell_type": "code",
      "execution_count": null,
      "metadata": {
        "colab": {
          "base_uri": "https://localhost:8080/"
        },
        "id": "ebf9aacb",
        "outputId": "1b4bfd59-db78-44e0-ff63-1f5249452bc1"
      },
      "outputs": [
        {
          "name": "stdout",
          "output_type": "stream",
          "text": [
            "Starting epoch 1...\n",
            "[epoch 1, batch 200] loss: 0.252\n",
            "[epoch 1, batch 400] loss: 0.222\n",
            "[epoch 1, batch 600] loss: 0.230\n",
            "[epoch 1, batch 800] loss: 0.238\n",
            "[epoch 1, batch 1000] loss: 0.221\n",
            "[epoch 1, batch 1200] loss: 0.209\n",
            "[epoch 1, batch 1400] loss: 0.212\n",
            "[epoch 1, batch 1600] loss: 0.192\n",
            "[epoch 1, batch 1800] loss: 0.167\n",
            "[epoch 1, batch 2000] loss: 0.157\n",
            "[epoch 1, batch 2200] loss: 0.157\n",
            "[epoch 1, batch 2400] loss: 0.128\n",
            "[epoch 1, batch 2600] loss: 0.109\n",
            "[epoch 1, batch 2800] loss: 0.089\n",
            "[epoch 1, batch 3000] loss: 0.084\n",
            "[epoch 1, batch 3200] loss: 0.083\n",
            "[epoch 1, batch 3400] loss: 0.070\n",
            "[epoch 1, batch 3600] loss: 0.068\n",
            "Starting epoch 2...\n",
            "[epoch 2, batch 200] loss: 0.058\n",
            "[epoch 2, batch 400] loss: 0.048\n",
            "[epoch 2, batch 600] loss: 0.048\n",
            "[epoch 2, batch 800] loss: 0.041\n",
            "[epoch 2, batch 1000] loss: 0.038\n",
            "[epoch 2, batch 1200] loss: 0.033\n",
            "[epoch 2, batch 1400] loss: 0.033\n",
            "[epoch 2, batch 1600] loss: 0.028\n",
            "[epoch 2, batch 1800] loss: 0.025\n",
            "[epoch 2, batch 2000] loss: 0.023\n",
            "[epoch 2, batch 2200] loss: 0.024\n",
            "[epoch 2, batch 2400] loss: 0.020\n",
            "[epoch 2, batch 2600] loss: 0.018\n",
            "[epoch 2, batch 2800] loss: 0.015\n",
            "[epoch 2, batch 3000] loss: 0.014\n",
            "[epoch 2, batch 3200] loss: 0.015\n",
            "[epoch 2, batch 3400] loss: 0.013\n",
            "[epoch 2, batch 3600] loss: 0.013\n",
            "Starting epoch 3...\n",
            "[epoch 3, batch 200] loss: 0.012\n",
            "[epoch 3, batch 400] loss: 0.011\n",
            "[epoch 3, batch 600] loss: 0.011\n",
            "[epoch 3, batch 800] loss: 0.009\n",
            "[epoch 3, batch 1000] loss: 0.009\n",
            "[epoch 3, batch 1200] loss: 0.009\n",
            "[epoch 3, batch 1400] loss: 0.010\n",
            "[epoch 3, batch 1600] loss: 0.008\n",
            "[epoch 3, batch 1800] loss: 0.008\n",
            "[epoch 3, batch 2000] loss: 0.008\n",
            "[epoch 3, batch 2200] loss: 0.008\n",
            "[epoch 3, batch 2400] loss: 0.007\n",
            "[epoch 3, batch 2600] loss: 0.007\n",
            "[epoch 3, batch 2800] loss: 0.005\n",
            "[epoch 3, batch 3000] loss: 0.006\n",
            "[epoch 3, batch 3200] loss: 0.006\n",
            "[epoch 3, batch 3400] loss: 0.005\n",
            "[epoch 3, batch 3600] loss: 0.005\n",
            "Finished Training.\n"
          ]
        }
      ],
      "source": [
        "train(standard_model, train_dataloader_standard, 3)"
      ],
      "id": "ebf9aacb"
    },
    {
      "cell_type": "code",
      "execution_count": null,
      "metadata": {
        "id": "8cde2db9",
        "outputId": "a4df722d-e33b-4677-e6fb-942b70495996"
      },
      "outputs": [
        {
          "name": "stdout",
          "output_type": "stream",
          "text": [
            "Starting epoch 1...\n",
            "[epoch 1, batch 200] loss: 0.188\n",
            "[epoch 1, batch 400] loss: 0.034\n",
            "[epoch 1, batch 600] loss: 0.001\n",
            "[epoch 1, batch 800] loss: 0.000\n",
            "[epoch 1, batch 1000] loss: 0.000\n",
            "[epoch 1, batch 1200] loss: 0.000\n",
            "[epoch 1, batch 1400] loss: 0.000\n",
            "[epoch 1, batch 1600] loss: 0.000\n",
            "[epoch 1, batch 1800] loss: 0.000\n",
            "[epoch 1, batch 2000] loss: 0.000\n",
            "[epoch 1, batch 2200] loss: 0.000\n",
            "[epoch 1, batch 2400] loss: 0.000\n",
            "[epoch 1, batch 2600] loss: 0.000\n",
            "[epoch 1, batch 2800] loss: 0.000\n",
            "[epoch 1, batch 3000] loss: 0.000\n",
            "[epoch 1, batch 3200] loss: 0.000\n",
            "[epoch 1, batch 3400] loss: 0.000\n",
            "[epoch 1, batch 3600] loss: 0.000\n",
            "Starting epoch 2...\n",
            "[epoch 2, batch 200] loss: 0.000\n",
            "[epoch 2, batch 400] loss: 0.000\n",
            "[epoch 2, batch 600] loss: 0.000\n",
            "[epoch 2, batch 800] loss: 0.000\n",
            "[epoch 2, batch 1000] loss: 0.000\n",
            "[epoch 2, batch 1200] loss: 0.000\n",
            "[epoch 2, batch 1400] loss: 0.000\n",
            "[epoch 2, batch 1600] loss: 0.000\n",
            "[epoch 2, batch 1800] loss: 0.000\n",
            "[epoch 2, batch 2000] loss: 0.000\n",
            "[epoch 2, batch 2200] loss: 0.000\n",
            "[epoch 2, batch 2400] loss: 0.000\n",
            "[epoch 2, batch 2600] loss: 0.000\n",
            "[epoch 2, batch 2800] loss: 0.000\n",
            "[epoch 2, batch 3000] loss: 0.000\n",
            "[epoch 2, batch 3200] loss: 0.000\n",
            "[epoch 2, batch 3400] loss: 0.000\n",
            "[epoch 2, batch 3600] loss: 0.000\n",
            "Starting epoch 3...\n",
            "[epoch 3, batch 200] loss: 0.000\n",
            "[epoch 3, batch 400] loss: 0.000\n",
            "[epoch 3, batch 600] loss: 0.000\n",
            "[epoch 3, batch 800] loss: 0.000\n",
            "[epoch 3, batch 1000] loss: 0.000\n",
            "[epoch 3, batch 1200] loss: 0.000\n",
            "[epoch 3, batch 1400] loss: 0.000\n",
            "[epoch 3, batch 1600] loss: 0.000\n",
            "[epoch 3, batch 1800] loss: 0.000\n",
            "[epoch 3, batch 2000] loss: 0.000\n",
            "[epoch 3, batch 2200] loss: 0.000\n",
            "[epoch 3, batch 2400] loss: 0.000\n",
            "[epoch 3, batch 2600] loss: 0.000\n",
            "[epoch 3, batch 2800] loss: 0.000\n",
            "[epoch 3, batch 3000] loss: 0.000\n",
            "[epoch 3, batch 3200] loss: 0.000\n",
            "[epoch 3, batch 3400] loss: 0.000\n",
            "[epoch 3, batch 3600] loss: 0.000\n",
            "Finished Training.\n"
          ]
        }
      ],
      "source": [
        "train(dac_model, train_dataloader_dac, 3)"
      ],
      "id": "8cde2db9"
    },
    {
      "cell_type": "markdown",
      "metadata": {
        "id": "ad9a5ec5"
      },
      "source": [
        "## 6. Model Validation"
      ],
      "id": "ad9a5ec5"
    },
    {
      "cell_type": "code",
      "execution_count": 129,
      "metadata": {
        "id": "080c5a01"
      },
      "outputs": [],
      "source": [
        "def predict_standard(model, y0, delta_t, max_t_prediction):\n",
        "    \n",
        "    model.eval()\n",
        "    \n",
        "    times = np.arange(0, max_t_prediction, delta_t)\n",
        "    \n",
        "    with torch.no_grad():\n",
        "        \n",
        "        yt = [np.array(model(torch.Tensor(np.concatenate(([t], y0))))) for t in times]\n",
        "    \n",
        "    return yt\n",
        "\n",
        "\n",
        "def predict_dac(model, y0, tstar, max_t_prediction):\n",
        "    \n",
        "    model.eval()\n",
        "    # note: ideally tstar is an attribute of the training set or something and does not need to be an argument\n",
        "    \n",
        "    yt = [y0]\n",
        "    n_applications = max_t_prediction // tstar\n",
        "    n_application = 0\n",
        "    \n",
        "    while n_application < n_applications:\n",
        "        \n",
        "        with torch.no_grad():\n",
        "            yt.append(np.array(model(torch.Tensor(yt[-1]))))\n",
        "        \n",
        "        n_application += 1\n",
        "    \n",
        "    return yt"
      ],
      "id": "080c5a01"
    },
    {
      "cell_type": "code",
      "execution_count": null,
      "metadata": {
        "colab": {
          "base_uri": "https://localhost:8080/"
        },
        "id": "530de819",
        "outputId": "8e8371a3-fcb7-4b83-b1e1-87eab631460a"
      },
      "outputs": [
        {
          "data": {
            "text/plain": [
              "0.05"
            ]
          },
          "execution_count": 61,
          "metadata": {},
          "output_type": "execute_result"
        }
      ],
      "source": [
        "tstar"
      ],
      "id": "530de819"
    },
    {
      "cell_type": "code",
      "execution_count": null,
      "metadata": {
        "id": "3f536983",
        "scrolled": true
      },
      "outputs": [],
      "source": [
        "y0 = np.array([0.5, 0])\n",
        "delta_t = 0.1\n",
        "tstar = 0.1\n",
        "max_t_prediction = 20\n",
        "\n",
        "validation_standard = predict_standard(standard_model, y0, delta_t, max_t_prediction)\n",
        "#validation_dac = predict_dac(dac_model, y0, tstar, max_t_prediction)\n",
        "\n",
        "times = np.arange(0, max_t_prediction, delta_t)\n",
        "true_solution = [solution_simple_ODE(t, y0) for t in times]"
      ],
      "id": "3f536983"
    },
    {
      "cell_type": "code",
      "execution_count": null,
      "metadata": {
        "id": "ba8b0bb8",
        "outputId": "2dddede4-d954-4693-db62-ede84088d607"
      },
      "outputs": [
        {
          "data": {
            "image/png": "[encoded data removed]",
            "text/plain": [
              "<Figure size 576x576 with 1 Axes>"
            ]
          },
          "metadata": {},
          "output_type": "display_data"
        }
      ],
      "source": [
        "fig, ax = generate_figure(figsize=(8,8), xlim=[-1, 1], ylim=[-1, 1])\n",
        "\n",
        "ax = plot_ode_solution(ax, validation_standard, label=\"standard approach\")\n",
        "#ax = plot_ode_solution(ax, validation_dac, label=\"dac approach\")\n",
        "ax = plot_ode_solution(ax, true_solution, label=\"true solution\")\n",
        "\n",
        "plt.legend()\n",
        "plt.savefig(\"proof_of_concept.pdf\", bbox_inches=\"tight\")\n",
        "plt.show()"
      ],
      "id": "ba8b0bb8"
    },
    {
      "cell_type": "code",
      "source": [
        "len(validation_standard)"
      ],
      "metadata": {
        "colab": {
          "base_uri": "https://localhost:8080/"
        },
        "id": "WWCdJEic89xH",
        "outputId": "29525091-6401-4e43-9a03-bbfd9d467fed"
      },
      "id": "WWCdJEic89xH",
      "execution_count": 145,
      "outputs": [
        {
          "output_type": "execute_result",
          "data": {
            "text/plain": [
              "200"
            ]
          },
          "metadata": {},
          "execution_count": 145
        }
      ]
    },
    {
      "cell_type": "code",
      "execution_count": null,
      "metadata": {
        "id": "bDbiLi10bdLu"
      },
      "outputs": [],
      "source": [],
      "id": "bDbiLi10bdLu"
    },
    {
      "cell_type": "code",
      "execution_count": null,
      "metadata": {
        "id": "wprjNRSsbdWG"
      },
      "outputs": [],
      "source": [],
      "id": "wprjNRSsbdWG"
    }
  ],
  "metadata": {
    "colab": {
      "provenance": [],
      "toc_visible": true
    },
    "kernelspec": {
      "display_name": "Python 3",
      "language": "python",
      "name": "python3"
    },
    "language_info": {
      "codemirror_mode": {
        "name": "ipython",
        "version": 3
      },
      "file_extension": ".py",
      "mimetype": "text/x-python",
      "name": "python",
      "nbconvert_exporter": "python",
      "pygments_lexer": "ipython3",
      "version": "3.9.5"
    }
  },
  "nbformat": 4,
  "nbformat_minor": 5
}